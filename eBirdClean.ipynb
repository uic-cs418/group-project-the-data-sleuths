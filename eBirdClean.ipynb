{
 "cells": [
  {
   "cell_type": "markdown",
   "id": "b05252f6-aef3-4546-819d-968dd35accf4",
   "metadata": {},
   "source": [
    "# Illinois Bird Diversity"
   ]
  },
  {
   "cell_type": "markdown",
   "id": "822f602d-f370-41ee-bada-4a4dc033a902",
   "metadata": {},
   "source": [
    "### Sections\n",
    "#### 1. Project introduction\n",
    "#### 2. Data cleaning\n",
    "#### 3. Exploratory data analysis\n",
    "#### 4. Vizualizations\n",
    "#### 5. ML analysis\n",
    "#### 6. Reflection"
   ]
  },
  {
   "cell_type": "markdown",
   "id": "ecd466f5-0b88-41ce-aedf-05861b386af6",
   "metadata": {},
   "source": [
    "## Section 1. Project Introduction\n",
    "The project explores the diversity of bird species across various Illinois regions, revealing notable disparities in species richness and diversity levels. Certain areas demonstrate elevated levels of bird diversity compared to others, highlighting regional variations in avian populations."
   ]
  },
  {
   "cell_type": "markdown",
   "id": "f41283fa-f44e-4960-b1bd-ed46c0eb2ac1",
   "metadata": {},
   "source": [
    "## Section 2. Data Cleaning"
   ]
  },
  {
   "cell_type": "code",
<<<<<<< HEAD
   "execution_count": 68,
=======
   "execution_count": 40,
>>>>>>> abeb75099dee86ea4162e81b07d506264f2bda99
   "id": "1a44ee38-bb94-41af-86f6-1c02ddba63f2",
   "metadata": {},
   "outputs": [],
   "source": [
    "import pandas as pd\n",
    "import numpy as np\n",
    "import geopandas as gpd\n",
    "import warnings\n",
    "warnings.filterwarnings(\"ignore\")\n",
    "import eda"
   ]
  },
  {
   "cell_type": "code",
   "execution_count": 41,
   "id": "8533c7ed-0c4f-4145-a35c-aafa7b3b5625",
   "metadata": {},
   "outputs": [],
   "source": [
    "df = pd.read_csv('data/ebd_US-IL_200801_201212_relJan-2024.txt',sep='\\t')"
   ]
  },
  {
   "cell_type": "markdown",
   "id": "970fd878-679a-4b09-a0b5-da28031e918b",
   "metadata": {},
   "source": [
    "### 2.1 Filtering eBird Dataset"
   ]
  },
  {
   "cell_type": "code",
   "execution_count": 42,
   "id": "547f421c-59fa-4b1e-9eaf-881dc3c9d8c9",
   "metadata": {},
   "outputs": [],
   "source": [
    "# Filter columns\n",
    "req_cols = ['CATEGORY', 'COMMON NAME', 'SCIENTIFIC NAME', 'OBSERVATION COUNT', 'EXOTIC CODE', 'LATITUDE', 'LONGITUDE', 'OBSERVATION DATE', 'PROTOCOL TYPE', 'ALL SPECIES REPORTED']\n",
    "df = df[req_cols]"
   ]
  },
  {
   "cell_type": "markdown",
   "id": "9e0b63a3-4759-4b9f-a4fb-c8e4d2db5d53",
   "metadata": {},
   "source": [
    "We will keep only species level observations (removing subspecies and genus level observations). We will also filter out incomplete checklists and incidental observations to manage bias towards specific species."
   ]
  },
  {
   "cell_type": "code",
   "execution_count": 43,
   "id": "20a591d8-bcb4-47b4-8bdc-22a2358fe6ec",
   "metadata": {},
   "outputs": [],
   "source": [
    "df = df[(df['CATEGORY']=='species') & (df['PROTOCOL TYPE']=='Traveling') | (df['PROTOCOL TYPE']=='Stationary') & (df['ALL SPECIES REPORTED']==1)]"
   ]
  },
  {
   "cell_type": "markdown",
   "id": "5d93eae8-b16f-4e5f-bcab-418418f7941f",
   "metadata": {},
   "source": [
    "### 2.2 ebird Dataset Transformation"
   ]
  },
  {
   "cell_type": "code",
   "execution_count": 44,
   "id": "3ff8efc8-bf5c-4292-8527-638e414913bb",
   "metadata": {},
   "outputs": [],
   "source": [
    "# Native column: 1 = is native to chicago, 0 = not native to chicago\n",
    "df['NATIVE'] = df['EXOTIC CODE'].apply(lambda row:0 if row == np.nan else 1)"
   ]
  },
  {
   "cell_type": "code",
   "execution_count": 45,
   "id": "e18901f7-9015-45a4-a6f3-27a7caabc10e",
   "metadata": {},
   "outputs": [],
   "source": [
    "# Assume all 'X' observations have a count of 1 bird\n",
    "df['COUNT'] = df['OBSERVATION COUNT'].apply(lambda row: 1 if row == 'X' else row)"
   ]
  },
  {
   "cell_type": "code",
   "execution_count": 46,
   "id": "f0e32455-bd5b-475d-b318-359218437479",
   "metadata": {},
   "outputs": [
    {
     "data": {
      "text/html": [
       "<div>\n",
       "<style scoped>\n",
       "    .dataframe tbody tr th:only-of-type {\n",
       "        vertical-align: middle;\n",
       "    }\n",
       "\n",
       "    .dataframe tbody tr th {\n",
       "        vertical-align: top;\n",
       "    }\n",
       "\n",
       "    .dataframe thead th {\n",
       "        text-align: right;\n",
       "    }\n",
       "</style>\n",
       "<table border=\"1\" class=\"dataframe\">\n",
       "  <thead>\n",
       "    <tr style=\"text-align: right;\">\n",
       "      <th></th>\n",
       "      <th>COMMON NAME</th>\n",
       "      <th>SCIENTIFIC NAME</th>\n",
       "      <th>NATIVE</th>\n",
       "      <th>COUNT</th>\n",
       "      <th>LATITUDE</th>\n",
       "      <th>LONGITUDE</th>\n",
       "      <th>OBSERVATION DATE</th>\n",
       "    </tr>\n",
       "  </thead>\n",
       "  <tbody>\n",
       "    <tr>\n",
       "      <th>1</th>\n",
       "      <td>American Crow</td>\n",
       "      <td>Corvus brachyrhynchos</td>\n",
       "      <td>1</td>\n",
       "      <td>1</td>\n",
       "      <td>38.850907</td>\n",
       "      <td>-89.256706</td>\n",
       "      <td>2008-01-01</td>\n",
       "    </tr>\n",
       "    <tr>\n",
       "      <th>2</th>\n",
       "      <td>American Goldfinch</td>\n",
       "      <td>Spinus tristis</td>\n",
       "      <td>1</td>\n",
       "      <td>1</td>\n",
       "      <td>38.850907</td>\n",
       "      <td>-89.256706</td>\n",
       "      <td>2008-01-01</td>\n",
       "    </tr>\n",
       "    <tr>\n",
       "      <th>3</th>\n",
       "      <td>American Kestrel</td>\n",
       "      <td>Falco sparverius</td>\n",
       "      <td>1</td>\n",
       "      <td>1</td>\n",
       "      <td>38.850907</td>\n",
       "      <td>-89.256706</td>\n",
       "      <td>2008-01-01</td>\n",
       "    </tr>\n",
       "    <tr>\n",
       "      <th>4</th>\n",
       "      <td>Bald Eagle</td>\n",
       "      <td>Haliaeetus leucocephalus</td>\n",
       "      <td>1</td>\n",
       "      <td>1</td>\n",
       "      <td>38.850907</td>\n",
       "      <td>-89.256706</td>\n",
       "      <td>2008-01-01</td>\n",
       "    </tr>\n",
       "    <tr>\n",
       "      <th>5</th>\n",
       "      <td>Blue Jay</td>\n",
       "      <td>Cyanocitta cristata</td>\n",
       "      <td>1</td>\n",
       "      <td>1</td>\n",
       "      <td>38.850907</td>\n",
       "      <td>-89.256706</td>\n",
       "      <td>2008-01-01</td>\n",
       "    </tr>\n",
       "  </tbody>\n",
       "</table>\n",
       "</div>"
      ],
      "text/plain": [
       "          COMMON NAME           SCIENTIFIC NAME  NATIVE COUNT   LATITUDE  \\\n",
       "1       American Crow     Corvus brachyrhynchos       1     1  38.850907   \n",
       "2  American Goldfinch            Spinus tristis       1     1  38.850907   \n",
       "3    American Kestrel          Falco sparverius       1     1  38.850907   \n",
       "4          Bald Eagle  Haliaeetus leucocephalus       1     1  38.850907   \n",
       "5            Blue Jay       Cyanocitta cristata       1     1  38.850907   \n",
       "\n",
       "   LONGITUDE OBSERVATION DATE  \n",
       "1 -89.256706       2008-01-01  \n",
       "2 -89.256706       2008-01-01  \n",
       "3 -89.256706       2008-01-01  \n",
       "4 -89.256706       2008-01-01  \n",
       "5 -89.256706       2008-01-01  "
      ]
     },
     "execution_count": 46,
     "metadata": {},
     "output_type": "execute_result"
    }
   ],
   "source": [
    "# remove unnecessary columns\n",
    "req_cols = ['COMMON NAME', 'SCIENTIFIC NAME', 'NATIVE', 'COUNT', 'LATITUDE', 'LONGITUDE', 'OBSERVATION DATE']\n",
    "df = filter_columns(df,req_cols)\n",
    "df.head(5)"
   ]
  },
  {
   "cell_type": "code",
   "execution_count": 48,
   "id": "2dbc1c1c-c5b8-42ab-abda-deff571d6bed",
   "metadata": {},
   "outputs": [],
   "source": [
    "df['OBSERVATION DATE'] = pd.to_datetime(df['OBSERVATION DATE'])\n",
    "df['OBSERVATION MONTH'] =  df['OBSERVATION DATE'].apply(lambda x:x.month)\n",
    "df['OBSERVATION DAY'] =  df['OBSERVATION DATE'].apply(lambda x:x.day)\n",
    "df['OBSERVATION YEAR'] =  df['OBSERVATION DATE'].apply(lambda x:x.year)"
   ]
  },
  {
   "cell_type": "markdown",
   "id": "8399ed44-de96-4c08-9a0b-30f56ed29e6e",
   "metadata": {},
   "source": [
    "### 2.3 Aggregate eBird data based on neighborhood"
   ]
  },
  {
   "cell_type": "code",
<<<<<<< HEAD
   "execution_count": null,
=======
   "execution_count": 49,
>>>>>>> abeb75099dee86ea4162e81b07d506264f2bda99
   "id": "81890d20-3813-4c9b-bd1b-5c1ddbceadab",
   "metadata": {},
   "outputs": [],
   "source": [
<<<<<<< HEAD
    "com_areas = gpd.read_file('data/counties/tl_2023_us_county.shp')"
=======
    "com_areas = gpd.read_file('data/ebd/tl_2023_us_county.shp')"
>>>>>>> abeb75099dee86ea4162e81b07d506264f2bda99
   ]
  },
  {
   "cell_type": "code",
   "execution_count": 50,
   "id": "fb0110d0-e66e-45b2-9daf-2e22b312cc48",
   "metadata": {},
   "outputs": [
    {
     "data": {
      "text/html": [
       "<div>\n",
       "<style scoped>\n",
       "    .dataframe tbody tr th:only-of-type {\n",
       "        vertical-align: middle;\n",
       "    }\n",
       "\n",
       "    .dataframe tbody tr th {\n",
       "        vertical-align: top;\n",
       "    }\n",
       "\n",
       "    .dataframe thead th {\n",
       "        text-align: right;\n",
       "    }\n",
       "</style>\n",
       "<table border=\"1\" class=\"dataframe\">\n",
       "  <thead>\n",
       "    <tr style=\"text-align: right;\">\n",
       "      <th></th>\n",
       "      <th>STATEFP</th>\n",
       "      <th>COUNTYFP</th>\n",
       "      <th>COUNTYNS</th>\n",
       "      <th>GEOID</th>\n",
       "      <th>GEOIDFQ</th>\n",
       "      <th>NAME</th>\n",
       "      <th>NAMELSAD</th>\n",
       "      <th>LSAD</th>\n",
       "      <th>CLASSFP</th>\n",
       "      <th>MTFCC</th>\n",
       "      <th>CSAFP</th>\n",
       "      <th>CBSAFP</th>\n",
       "      <th>METDIVFP</th>\n",
       "      <th>FUNCSTAT</th>\n",
       "      <th>ALAND</th>\n",
       "      <th>AWATER</th>\n",
       "      <th>INTPTLAT</th>\n",
       "      <th>INTPTLON</th>\n",
       "      <th>geometry</th>\n",
       "    </tr>\n",
       "  </thead>\n",
       "  <tbody>\n",
       "    <tr>\n",
       "      <th>0</th>\n",
       "      <td>31</td>\n",
       "      <td>039</td>\n",
       "      <td>00835841</td>\n",
       "      <td>31039</td>\n",
       "      <td>0500000US31039</td>\n",
       "      <td>Cuming</td>\n",
       "      <td>Cuming County</td>\n",
       "      <td>06</td>\n",
       "      <td>H1</td>\n",
       "      <td>G4020</td>\n",
       "      <td>None</td>\n",
       "      <td>None</td>\n",
       "      <td>None</td>\n",
       "      <td>A</td>\n",
       "      <td>1477563029</td>\n",
       "      <td>10772508</td>\n",
       "      <td>+41.9158651</td>\n",
       "      <td>-096.7885168</td>\n",
       "      <td>POLYGON ((-96.55515 41.91587, -96.55515 41.914...</td>\n",
       "    </tr>\n",
       "    <tr>\n",
       "      <th>1</th>\n",
       "      <td>53</td>\n",
       "      <td>069</td>\n",
       "      <td>01513275</td>\n",
       "      <td>53069</td>\n",
       "      <td>0500000US53069</td>\n",
       "      <td>Wahkiakum</td>\n",
       "      <td>Wahkiakum County</td>\n",
       "      <td>06</td>\n",
       "      <td>H1</td>\n",
       "      <td>G4020</td>\n",
       "      <td>None</td>\n",
       "      <td>None</td>\n",
       "      <td>None</td>\n",
       "      <td>A</td>\n",
       "      <td>680980771</td>\n",
       "      <td>61564427</td>\n",
       "      <td>+46.2946377</td>\n",
       "      <td>-123.4244583</td>\n",
       "      <td>POLYGON ((-123.72755 46.26449, -123.72755 46.2...</td>\n",
       "    </tr>\n",
       "    <tr>\n",
       "      <th>2</th>\n",
       "      <td>35</td>\n",
       "      <td>011</td>\n",
       "      <td>00933054</td>\n",
       "      <td>35011</td>\n",
       "      <td>0500000US35011</td>\n",
       "      <td>De Baca</td>\n",
       "      <td>De Baca County</td>\n",
       "      <td>06</td>\n",
       "      <td>H1</td>\n",
       "      <td>G4020</td>\n",
       "      <td>None</td>\n",
       "      <td>None</td>\n",
       "      <td>None</td>\n",
       "      <td>A</td>\n",
       "      <td>6016818946</td>\n",
       "      <td>29090018</td>\n",
       "      <td>+34.3592729</td>\n",
       "      <td>-104.3686961</td>\n",
       "      <td>POLYGON ((-104.89337 34.08894, -104.89337 34.0...</td>\n",
       "    </tr>\n",
       "    <tr>\n",
       "      <th>3</th>\n",
       "      <td>31</td>\n",
       "      <td>109</td>\n",
       "      <td>00835876</td>\n",
       "      <td>31109</td>\n",
       "      <td>0500000US31109</td>\n",
       "      <td>Lancaster</td>\n",
       "      <td>Lancaster County</td>\n",
       "      <td>06</td>\n",
       "      <td>H1</td>\n",
       "      <td>G4020</td>\n",
       "      <td>339</td>\n",
       "      <td>30700</td>\n",
       "      <td>None</td>\n",
       "      <td>A</td>\n",
       "      <td>2169269688</td>\n",
       "      <td>22850324</td>\n",
       "      <td>+40.7835474</td>\n",
       "      <td>-096.6886584</td>\n",
       "      <td>POLYGON ((-96.68493 40.52330, -96.69219 40.523...</td>\n",
       "    </tr>\n",
       "    <tr>\n",
       "      <th>4</th>\n",
       "      <td>31</td>\n",
       "      <td>129</td>\n",
       "      <td>00835886</td>\n",
       "      <td>31129</td>\n",
       "      <td>0500000US31129</td>\n",
       "      <td>Nuckolls</td>\n",
       "      <td>Nuckolls County</td>\n",
       "      <td>06</td>\n",
       "      <td>H1</td>\n",
       "      <td>G4020</td>\n",
       "      <td>None</td>\n",
       "      <td>None</td>\n",
       "      <td>None</td>\n",
       "      <td>A</td>\n",
       "      <td>1489645187</td>\n",
       "      <td>1718484</td>\n",
       "      <td>+40.1764918</td>\n",
       "      <td>-098.0468422</td>\n",
       "      <td>POLYGON ((-98.27370 40.11840, -98.27374 40.122...</td>\n",
       "    </tr>\n",
       "  </tbody>\n",
       "</table>\n",
       "</div>"
      ],
      "text/plain": [
       "  STATEFP COUNTYFP  COUNTYNS  GEOID         GEOIDFQ       NAME  \\\n",
       "0      31      039  00835841  31039  0500000US31039     Cuming   \n",
       "1      53      069  01513275  53069  0500000US53069  Wahkiakum   \n",
       "2      35      011  00933054  35011  0500000US35011    De Baca   \n",
       "3      31      109  00835876  31109  0500000US31109  Lancaster   \n",
       "4      31      129  00835886  31129  0500000US31129   Nuckolls   \n",
       "\n",
       "           NAMELSAD LSAD CLASSFP  MTFCC CSAFP CBSAFP METDIVFP FUNCSTAT  \\\n",
       "0     Cuming County   06      H1  G4020  None   None     None        A   \n",
       "1  Wahkiakum County   06      H1  G4020  None   None     None        A   \n",
       "2    De Baca County   06      H1  G4020  None   None     None        A   \n",
       "3  Lancaster County   06      H1  G4020   339  30700     None        A   \n",
       "4   Nuckolls County   06      H1  G4020  None   None     None        A   \n",
       "\n",
       "        ALAND    AWATER     INTPTLAT      INTPTLON  \\\n",
       "0  1477563029  10772508  +41.9158651  -096.7885168   \n",
       "1   680980771  61564427  +46.2946377  -123.4244583   \n",
       "2  6016818946  29090018  +34.3592729  -104.3686961   \n",
       "3  2169269688  22850324  +40.7835474  -096.6886584   \n",
       "4  1489645187   1718484  +40.1764918  -098.0468422   \n",
       "\n",
       "                                            geometry  \n",
       "0  POLYGON ((-96.55515 41.91587, -96.55515 41.914...  \n",
       "1  POLYGON ((-123.72755 46.26449, -123.72755 46.2...  \n",
       "2  POLYGON ((-104.89337 34.08894, -104.89337 34.0...  \n",
       "3  POLYGON ((-96.68493 40.52330, -96.69219 40.523...  \n",
       "4  POLYGON ((-98.27370 40.11840, -98.27374 40.122...  "
      ]
     },
     "execution_count": 50,
     "metadata": {},
     "output_type": "execute_result"
    }
   ],
   "source": [
    "com_areas.head(5)"
   ]
  },
  {
   "cell_type": "code",
   "execution_count": 51,
   "id": "52308051-69d2-4953-bac8-2535c7e0b856",
   "metadata": {},
   "outputs": [
    {
     "data": {
      "text/html": [
       "<div>\n",
       "<style scoped>\n",
       "    .dataframe tbody tr th:only-of-type {\n",
       "        vertical-align: middle;\n",
       "    }\n",
       "\n",
       "    .dataframe tbody tr th {\n",
       "        vertical-align: top;\n",
       "    }\n",
       "\n",
       "    .dataframe thead th {\n",
       "        text-align: right;\n",
       "    }\n",
       "</style>\n",
       "<table border=\"1\" class=\"dataframe\">\n",
       "  <thead>\n",
       "    <tr style=\"text-align: right;\">\n",
       "      <th></th>\n",
       "      <th>COUNTY</th>\n",
       "      <th>geometry</th>\n",
       "    </tr>\n",
       "  </thead>\n",
       "  <tbody>\n",
       "    <tr>\n",
       "      <th>85</th>\n",
       "      <td>Hancock</td>\n",
       "      <td>POLYGON ((-90.90609 40.55086, -90.90610 40.550...</td>\n",
       "    </tr>\n",
       "    <tr>\n",
       "      <th>91</th>\n",
       "      <td>Clay</td>\n",
       "      <td>POLYGON ((-88.69516 38.82641, -88.69514 38.827...</td>\n",
       "    </tr>\n",
       "    <tr>\n",
       "      <th>130</th>\n",
       "      <td>Wabash</td>\n",
       "      <td>POLYGON ((-87.89243 38.28285, -87.89334 38.282...</td>\n",
       "    </tr>\n",
       "    <tr>\n",
       "      <th>147</th>\n",
       "      <td>McLean</td>\n",
       "      <td>POLYGON ((-88.91954 40.28287, -88.91959 40.282...</td>\n",
       "    </tr>\n",
       "    <tr>\n",
       "      <th>157</th>\n",
       "      <td>Bond</td>\n",
       "      <td>POLYGON ((-89.37207 38.74118, -89.37392 38.741...</td>\n",
       "    </tr>\n",
       "  </tbody>\n",
       "</table>\n",
       "</div>"
      ],
      "text/plain": [
       "      COUNTY                                           geometry\n",
       "85   Hancock  POLYGON ((-90.90609 40.55086, -90.90610 40.550...\n",
       "91      Clay  POLYGON ((-88.69516 38.82641, -88.69514 38.827...\n",
       "130   Wabash  POLYGON ((-87.89243 38.28285, -87.89334 38.282...\n",
       "147   McLean  POLYGON ((-88.91954 40.28287, -88.91959 40.282...\n",
       "157     Bond  POLYGON ((-89.37207 38.74118, -89.37392 38.741..."
      ]
     },
     "execution_count": 51,
     "metadata": {},
     "output_type": "execute_result"
    }
   ],
   "source": [
    "com_areas = com_areas[com_areas[\"STATEFP\"] == '17'][[\"NAME\",\"geometry\"]]\n",
    "com_areas = com_areas.rename(columns={'NAME': 'COUNTY'})\n",
    "com_areas.head()"
   ]
  },
  {
   "cell_type": "code",
   "execution_count": 52,
   "id": "8721706a-7b2a-4e02-bc82-d678470dd46f",
   "metadata": {},
   "outputs": [
    {
     "data": {
      "text/html": [
       "<div>\n",
       "<style scoped>\n",
       "    .dataframe tbody tr th:only-of-type {\n",
       "        vertical-align: middle;\n",
       "    }\n",
       "\n",
       "    .dataframe tbody tr th {\n",
       "        vertical-align: top;\n",
       "    }\n",
       "\n",
       "    .dataframe thead th {\n",
       "        text-align: right;\n",
       "    }\n",
       "</style>\n",
       "<table border=\"1\" class=\"dataframe\">\n",
       "  <thead>\n",
       "    <tr style=\"text-align: right;\">\n",
       "      <th></th>\n",
       "      <th>COMMON NAME</th>\n",
       "      <th>SCIENTIFIC NAME</th>\n",
       "      <th>NATIVE</th>\n",
       "      <th>COUNT</th>\n",
       "      <th>LATITUDE</th>\n",
       "      <th>LONGITUDE</th>\n",
       "      <th>OBSERVATION DATE</th>\n",
       "      <th>OBSERVATION MONTH</th>\n",
       "      <th>OBSERVATION DAY</th>\n",
       "      <th>OBSERVATION YEAR</th>\n",
       "      <th>geometry</th>\n",
       "    </tr>\n",
       "  </thead>\n",
       "  <tbody>\n",
       "    <tr>\n",
       "      <th>1</th>\n",
       "      <td>American Crow</td>\n",
       "      <td>Corvus brachyrhynchos</td>\n",
       "      <td>1</td>\n",
       "      <td>1</td>\n",
       "      <td>38.850907</td>\n",
       "      <td>-89.256706</td>\n",
       "      <td>2008-01-01</td>\n",
       "      <td>1</td>\n",
       "      <td>1</td>\n",
       "      <td>2008</td>\n",
       "      <td>POINT (-89.25671 38.85091)</td>\n",
       "    </tr>\n",
       "    <tr>\n",
       "      <th>2</th>\n",
       "      <td>American Goldfinch</td>\n",
       "      <td>Spinus tristis</td>\n",
       "      <td>1</td>\n",
       "      <td>1</td>\n",
       "      <td>38.850907</td>\n",
       "      <td>-89.256706</td>\n",
       "      <td>2008-01-01</td>\n",
       "      <td>1</td>\n",
       "      <td>1</td>\n",
       "      <td>2008</td>\n",
       "      <td>POINT (-89.25671 38.85091)</td>\n",
       "    </tr>\n",
       "    <tr>\n",
       "      <th>3</th>\n",
       "      <td>American Kestrel</td>\n",
       "      <td>Falco sparverius</td>\n",
       "      <td>1</td>\n",
       "      <td>1</td>\n",
       "      <td>38.850907</td>\n",
       "      <td>-89.256706</td>\n",
       "      <td>2008-01-01</td>\n",
       "      <td>1</td>\n",
       "      <td>1</td>\n",
       "      <td>2008</td>\n",
       "      <td>POINT (-89.25671 38.85091)</td>\n",
       "    </tr>\n",
       "    <tr>\n",
       "      <th>4</th>\n",
       "      <td>Bald Eagle</td>\n",
       "      <td>Haliaeetus leucocephalus</td>\n",
       "      <td>1</td>\n",
       "      <td>1</td>\n",
       "      <td>38.850907</td>\n",
       "      <td>-89.256706</td>\n",
       "      <td>2008-01-01</td>\n",
       "      <td>1</td>\n",
       "      <td>1</td>\n",
       "      <td>2008</td>\n",
       "      <td>POINT (-89.25671 38.85091)</td>\n",
       "    </tr>\n",
       "    <tr>\n",
       "      <th>5</th>\n",
       "      <td>Blue Jay</td>\n",
       "      <td>Cyanocitta cristata</td>\n",
       "      <td>1</td>\n",
       "      <td>1</td>\n",
       "      <td>38.850907</td>\n",
       "      <td>-89.256706</td>\n",
       "      <td>2008-01-01</td>\n",
       "      <td>1</td>\n",
       "      <td>1</td>\n",
       "      <td>2008</td>\n",
       "      <td>POINT (-89.25671 38.85091)</td>\n",
       "    </tr>\n",
       "  </tbody>\n",
       "</table>\n",
       "</div>"
      ],
      "text/plain": [
       "          COMMON NAME           SCIENTIFIC NAME  NATIVE COUNT   LATITUDE  \\\n",
       "1       American Crow     Corvus brachyrhynchos       1     1  38.850907   \n",
       "2  American Goldfinch            Spinus tristis       1     1  38.850907   \n",
       "3    American Kestrel          Falco sparverius       1     1  38.850907   \n",
       "4          Bald Eagle  Haliaeetus leucocephalus       1     1  38.850907   \n",
       "5            Blue Jay       Cyanocitta cristata       1     1  38.850907   \n",
       "\n",
       "   LONGITUDE OBSERVATION DATE  OBSERVATION MONTH  OBSERVATION DAY  \\\n",
       "1 -89.256706       2008-01-01                  1                1   \n",
       "2 -89.256706       2008-01-01                  1                1   \n",
       "3 -89.256706       2008-01-01                  1                1   \n",
       "4 -89.256706       2008-01-01                  1                1   \n",
       "5 -89.256706       2008-01-01                  1                1   \n",
       "\n",
       "   OBSERVATION YEAR                    geometry  \n",
       "1              2008  POINT (-89.25671 38.85091)  \n",
       "2              2008  POINT (-89.25671 38.85091)  \n",
       "3              2008  POINT (-89.25671 38.85091)  \n",
       "4              2008  POINT (-89.25671 38.85091)  \n",
       "5              2008  POINT (-89.25671 38.85091)  "
      ]
     },
     "execution_count": 52,
     "metadata": {},
     "output_type": "execute_result"
    }
   ],
   "source": [
    "from shapely.geometry import Point\n",
    "\n",
    "geometry = [Point(xy) for xy in zip(df['LONGITUDE'], df['LATITUDE'])]\n",
    "geo_df = gpd.GeoDataFrame(df, geometry=geometry)\n",
    "geo_df.head()"
   ]
  },
  {
   "cell_type": "code",
   "execution_count": 53,
   "id": "a6aa46cf-f005-4c0d-9db5-b34a8a8e4362",
   "metadata": {},
   "outputs": [
    {
     "data": {
      "text/html": [
       "<div>\n",
       "<style scoped>\n",
       "    .dataframe tbody tr th:only-of-type {\n",
       "        vertical-align: middle;\n",
       "    }\n",
       "\n",
       "    .dataframe tbody tr th {\n",
       "        vertical-align: top;\n",
       "    }\n",
       "\n",
       "    .dataframe thead th {\n",
       "        text-align: right;\n",
       "    }\n",
       "</style>\n",
       "<table border=\"1\" class=\"dataframe\">\n",
       "  <thead>\n",
       "    <tr style=\"text-align: right;\">\n",
       "      <th></th>\n",
       "      <th>COMMON NAME</th>\n",
       "      <th>SCIENTIFIC NAME</th>\n",
       "      <th>NATIVE</th>\n",
       "      <th>COUNT</th>\n",
       "      <th>LATITUDE</th>\n",
       "      <th>LONGITUDE</th>\n",
       "      <th>OBSERVATION DATE</th>\n",
       "      <th>OBSERVATION MONTH</th>\n",
       "      <th>OBSERVATION DAY</th>\n",
       "      <th>OBSERVATION YEAR</th>\n",
       "      <th>geometry</th>\n",
       "      <th>index_right</th>\n",
       "      <th>COUNTY</th>\n",
       "    </tr>\n",
       "  </thead>\n",
       "  <tbody>\n",
       "    <tr>\n",
       "      <th>1</th>\n",
       "      <td>American Crow</td>\n",
       "      <td>Corvus brachyrhynchos</td>\n",
       "      <td>1</td>\n",
       "      <td>1</td>\n",
       "      <td>38.850907</td>\n",
       "      <td>-89.256706</td>\n",
       "      <td>2008-01-01</td>\n",
       "      <td>1</td>\n",
       "      <td>1</td>\n",
       "      <td>2008</td>\n",
       "      <td>POINT (-89.25671 38.85091)</td>\n",
       "      <td>157.0</td>\n",
       "      <td>Bond</td>\n",
       "    </tr>\n",
       "    <tr>\n",
       "      <th>2</th>\n",
       "      <td>American Goldfinch</td>\n",
       "      <td>Spinus tristis</td>\n",
       "      <td>1</td>\n",
       "      <td>1</td>\n",
       "      <td>38.850907</td>\n",
       "      <td>-89.256706</td>\n",
       "      <td>2008-01-01</td>\n",
       "      <td>1</td>\n",
       "      <td>1</td>\n",
       "      <td>2008</td>\n",
       "      <td>POINT (-89.25671 38.85091)</td>\n",
       "      <td>157.0</td>\n",
       "      <td>Bond</td>\n",
       "    </tr>\n",
       "    <tr>\n",
       "      <th>3</th>\n",
       "      <td>American Kestrel</td>\n",
       "      <td>Falco sparverius</td>\n",
       "      <td>1</td>\n",
       "      <td>1</td>\n",
       "      <td>38.850907</td>\n",
       "      <td>-89.256706</td>\n",
       "      <td>2008-01-01</td>\n",
       "      <td>1</td>\n",
       "      <td>1</td>\n",
       "      <td>2008</td>\n",
       "      <td>POINT (-89.25671 38.85091)</td>\n",
       "      <td>157.0</td>\n",
       "      <td>Bond</td>\n",
       "    </tr>\n",
       "    <tr>\n",
       "      <th>4</th>\n",
       "      <td>Bald Eagle</td>\n",
       "      <td>Haliaeetus leucocephalus</td>\n",
       "      <td>1</td>\n",
       "      <td>1</td>\n",
       "      <td>38.850907</td>\n",
       "      <td>-89.256706</td>\n",
       "      <td>2008-01-01</td>\n",
       "      <td>1</td>\n",
       "      <td>1</td>\n",
       "      <td>2008</td>\n",
       "      <td>POINT (-89.25671 38.85091)</td>\n",
       "      <td>157.0</td>\n",
       "      <td>Bond</td>\n",
       "    </tr>\n",
       "    <tr>\n",
       "      <th>5</th>\n",
       "      <td>Blue Jay</td>\n",
       "      <td>Cyanocitta cristata</td>\n",
       "      <td>1</td>\n",
       "      <td>1</td>\n",
       "      <td>38.850907</td>\n",
       "      <td>-89.256706</td>\n",
       "      <td>2008-01-01</td>\n",
       "      <td>1</td>\n",
       "      <td>1</td>\n",
       "      <td>2008</td>\n",
       "      <td>POINT (-89.25671 38.85091)</td>\n",
       "      <td>157.0</td>\n",
       "      <td>Bond</td>\n",
       "    </tr>\n",
       "  </tbody>\n",
       "</table>\n",
       "</div>"
      ],
      "text/plain": [
       "          COMMON NAME           SCIENTIFIC NAME  NATIVE COUNT   LATITUDE  \\\n",
       "1       American Crow     Corvus brachyrhynchos       1     1  38.850907   \n",
       "2  American Goldfinch            Spinus tristis       1     1  38.850907   \n",
       "3    American Kestrel          Falco sparverius       1     1  38.850907   \n",
       "4          Bald Eagle  Haliaeetus leucocephalus       1     1  38.850907   \n",
       "5            Blue Jay       Cyanocitta cristata       1     1  38.850907   \n",
       "\n",
       "   LONGITUDE OBSERVATION DATE  OBSERVATION MONTH  OBSERVATION DAY  \\\n",
       "1 -89.256706       2008-01-01                  1                1   \n",
       "2 -89.256706       2008-01-01                  1                1   \n",
       "3 -89.256706       2008-01-01                  1                1   \n",
       "4 -89.256706       2008-01-01                  1                1   \n",
       "5 -89.256706       2008-01-01                  1                1   \n",
       "\n",
       "   OBSERVATION YEAR                    geometry  index_right COUNTY  \n",
       "1              2008  POINT (-89.25671 38.85091)        157.0   Bond  \n",
       "2              2008  POINT (-89.25671 38.85091)        157.0   Bond  \n",
       "3              2008  POINT (-89.25671 38.85091)        157.0   Bond  \n",
       "4              2008  POINT (-89.25671 38.85091)        157.0   Bond  \n",
       "5              2008  POINT (-89.25671 38.85091)        157.0   Bond  "
      ]
     },
     "execution_count": 53,
     "metadata": {},
     "output_type": "execute_result"
    }
   ],
   "source": [
    "ebird_gdf = gpd.sjoin(geo_df, com_areas, how='left', op='within')\n",
    "ebird_gdf.head()"
   ]
  },
  {
   "cell_type": "code",
   "execution_count": 54,
   "id": "e728d162-de74-4b41-b196-2ea45dc2088f",
   "metadata": {
    "scrolled": true
   },
   "outputs": [],
   "source": [
    "# remove observations outside of Chicago and also remove more unnecessary columns\n",
    "ebird_gdf = ebird_gdf[ebird_gdf['COUNTY'].notna()]\n",
    "ebird_gdf = ebird_gdf.drop(columns=[\"index_right\"])"
   ]
  },
  {
   "cell_type": "code",
   "execution_count": 55,
   "id": "5d478667-7ff1-42b7-a9e1-9d11179d703d",
   "metadata": {},
   "outputs": [],
   "source": [
    "ebird_gdf['COUNT'] = ebird_gdf['COUNT'].astype(int)"
   ]
  },
  {
   "cell_type": "code",
<<<<<<< HEAD
   "execution_count": 58,
   "id": "b108d72d-6977-4981-8228-5894d748b0ce",
   "metadata": {},
   "outputs": [],
   "source": [
    "ebird_gdf.to_csv(\"data/final_data_new.csv\",index=False)"
   ]
  },
  {
   "cell_type": "code",
   "execution_count": 33,
   "id": "58004395-de5d-42e2-bfdb-8154143607eb",
   "metadata": {},
   "outputs": [],
   "source": [
    "import matplotlib.pyplot as plt\n",
    "import matplotlib.patches as mpatche\n",
    "import seaborn as sns\n",
    "import plotly.express as px\n",
    "import altair as alt"
   ]
  },
  {
   "cell_type": "markdown",
   "id": "be7b8dc8-a4f4-4958-a743-381eccf45ee2",
=======
   "execution_count": 56,
   "id": "67cef85a-4c57-417a-8125-e987b8f3b553",
   "metadata": {},
   "outputs": [
    {
     "name": "stdout",
     "output_type": "stream",
     "text": [
      "<class 'geopandas.geodataframe.GeoDataFrame'>\n",
      "Index: 1435448 entries, 1 to 2056230\n",
      "Data columns (total 12 columns):\n",
      " #   Column             Non-Null Count    Dtype         \n",
      "---  ------             --------------    -----         \n",
      " 0   COMMON NAME        1435448 non-null  object        \n",
      " 1   SCIENTIFIC NAME    1435448 non-null  object        \n",
      " 2   NATIVE             1435448 non-null  int64         \n",
      " 3   COUNT              1435448 non-null  int64         \n",
      " 4   LATITUDE           1435448 non-null  float64       \n",
      " 5   LONGITUDE          1435448 non-null  float64       \n",
      " 6   OBSERVATION DATE   1435448 non-null  datetime64[ns]\n",
      " 7   OBSERVATION MONTH  1435448 non-null  int64         \n",
      " 8   OBSERVATION DAY    1435448 non-null  int64         \n",
      " 9   OBSERVATION YEAR   1435448 non-null  int64         \n",
      " 10  geometry           1435448 non-null  geometry      \n",
      " 11  COUNTY             1435448 non-null  object        \n",
      "dtypes: datetime64[ns](1), float64(2), geometry(1), int64(5), object(3)\n",
      "memory usage: 142.4+ MB\n"
     ]
    }
   ],
   "source": [
    "ebird_gdf.info()"
   ]
  },
  {
   "cell_type": "code",
   "execution_count": 57,
   "id": "b108d72d-6977-4981-8228-5894d748b0ce",
>>>>>>> abeb75099dee86ea4162e81b07d506264f2bda99
   "metadata": {},
   "source": [
<<<<<<< HEAD
    "## Section 3: Exploratory Data Analysis\n",
    "\n",
    "- The dataset provides bird observation data in Illinois between 2008 and 2012 at the level of individual observation points defined by latitude and longitude coordinates and attributes such as common name, scientific name, native status, count, observation date.\n"
   ]
  },
  {
   "cell_type": "code",
   "execution_count": 64,
   "id": "854fb12d-020e-4f30-b016-56798807ac53",
   "metadata": {},
   "outputs": [
    {
     "data": {
      "text/html": [
       "<div>\n",
       "<style scoped>\n",
       "    .dataframe tbody tr th:only-of-type {\n",
       "        vertical-align: middle;\n",
       "    }\n",
       "\n",
       "    .dataframe tbody tr th {\n",
       "        vertical-align: top;\n",
       "    }\n",
       "\n",
       "    .dataframe thead th {\n",
       "        text-align: right;\n",
       "    }\n",
       "</style>\n",
       "<table border=\"1\" class=\"dataframe\">\n",
       "  <thead>\n",
       "    <tr style=\"text-align: right;\">\n",
       "      <th></th>\n",
       "      <th>count</th>\n",
       "      <th>unique</th>\n",
       "      <th>top</th>\n",
       "      <th>freq</th>\n",
       "    </tr>\n",
       "  </thead>\n",
       "  <tbody>\n",
       "    <tr>\n",
       "      <th>COMMON NAME</th>\n",
       "      <td>1435448</td>\n",
       "      <td>439</td>\n",
       "      <td>American Robin</td>\n",
       "      <td>48152</td>\n",
       "    </tr>\n",
       "    <tr>\n",
       "      <th>COUNTY</th>\n",
       "      <td>1435448</td>\n",
       "      <td>102</td>\n",
       "      <td>Cook</td>\n",
       "      <td>496127</td>\n",
       "    </tr>\n",
       "  </tbody>\n",
       "</table>\n",
       "</div>"
      ],
      "text/plain": [
       "               count unique             top    freq\n",
       "COMMON NAME  1435448    439  American Robin   48152\n",
       "COUNTY       1435448    102            Cook  496127"
      ]
     },
     "execution_count": 64,
     "metadata": {},
     "output_type": "execute_result"
    }
   ],
   "source": [
    "ebird_gdf[[\"COMMON NAME\",\"COUNTY\"]].describe().transpose()"
   ]
  },
  {
   "cell_type": "code",
   "execution_count": null,
   "id": "814d0a2f-0d26-46ac-b744-ca32d095ebe0",
   "metadata": {},
   "outputs": [],
   "source": [
    "for col in [\"COMMON NAME\",\"COUNTY\"]:\n",
    "    eda.distribution(ebird_gdf,col)\n",
    "\n",
    "monthdf = ebird_gdf.groupby(['OBSERVATION YEAR','OBSERVATION MONTH']).size().reset_index(name='count')\n",
    "avg_monthdf = monthdf.groupby(['OBSERVATION MONTH'])['count'].mean().reset_index(name='count')\n",
    "avg_monthdf = avg_monthdf.sort_values(by='count',ascending=False)\n",
    "avg_monthdf"
=======
    "ebird_gdf.to_csv(\"data/final_data_new.csv\",index=False)"
>>>>>>> abeb75099dee86ea4162e81b07d506264f2bda99
   ]
  },
  {
   "cell_type": "markdown",
<<<<<<< HEAD
   "id": "1ce0be21-c8f8-4606-945f-a3ca239db085",
   "metadata": {},
   "source": [
    "### 3.1 Dataset statistics\n",
    "\n",
    "- American Robin and Northern Cardinal are the most commonly seen birds in Illinois .\n",
    "- Approximately 60% of bird observations are concentrated in only five counties, with Cook County accounting for nearly 35% of these observations.\n",
    "- April, May, and June have higher bird observations due to breeding and migration patterns in the summer."
=======
   "id": "0cfde561-33d6-4fd3-a5b9-944842c1e21c",
   "metadata": {},
   "source": [
    "## Section 4: Vizualizations"
>>>>>>> abeb75099dee86ea4162e81b07d506264f2bda99
   ]
  },
  {
   "cell_type": "code",
<<<<<<< HEAD
   "execution_count": 50,
   "id": "11187003-62bf-4aaa-913b-e92bd3af3df5",
   "metadata": {},
   "outputs": [
    {
     "data": {
      "application/vnd.plotly.v1+json": {
       "config": {
        "plotlyServerURL": "https://plot.ly"
       },
       "data": [
        {
         "hovertemplate": "Observation Year=%{x}<br>Unique Bird Species Observed=%{y}<extra></extra>",
         "legendgroup": "",
         "line": {
          "color": "#636efa",
          "dash": "solid"
         },
         "marker": {
          "color": "orange",
          "symbol": "circle"
         },
         "mode": "markers+lines",
         "name": "",
         "orientation": "v",
         "showlegend": false,
         "type": "scatter",
         "x": [
          2008,
          2009,
          2010,
          2011,
          2012
         ],
         "xaxis": "x",
         "y": [
          333,
          353,
          358,
          375,
          395
         ],
         "yaxis": "y"
        }
       ],
       "layout": {
        "autosize": true,
        "legend": {
         "tracegroupgap": 0
        },
        "template": {
         "data": {
          "bar": [
           {
            "error_x": {
             "color": "#2a3f5f"
            },
            "error_y": {
             "color": "#2a3f5f"
            },
            "marker": {
             "line": {
              "color": "#E5ECF6",
              "width": 0.5
             },
             "pattern": {
              "fillmode": "overlay",
              "size": 10,
              "solidity": 0.2
             }
            },
            "type": "bar"
           }
          ],
          "barpolar": [
           {
            "marker": {
             "line": {
              "color": "#E5ECF6",
              "width": 0.5
             },
             "pattern": {
              "fillmode": "overlay",
              "size": 10,
              "solidity": 0.2
             }
            },
            "type": "barpolar"
           }
          ],
          "carpet": [
           {
            "aaxis": {
             "endlinecolor": "#2a3f5f",
             "gridcolor": "white",
             "linecolor": "white",
             "minorgridcolor": "white",
             "startlinecolor": "#2a3f5f"
            },
            "baxis": {
             "endlinecolor": "#2a3f5f",
             "gridcolor": "white",
             "linecolor": "white",
             "minorgridcolor": "white",
             "startlinecolor": "#2a3f5f"
            },
            "type": "carpet"
           }
          ],
          "choropleth": [
           {
            "colorbar": {
             "outlinewidth": 0,
             "ticks": ""
            },
            "type": "choropleth"
           }
          ],
          "contour": [
           {
            "colorbar": {
             "outlinewidth": 0,
             "ticks": ""
            },
            "colorscale": [
             [
              0,
              "#0d0887"
             ],
             [
              0.1111111111111111,
              "#46039f"
             ],
             [
              0.2222222222222222,
              "#7201a8"
             ],
             [
              0.3333333333333333,
              "#9c179e"
             ],
             [
              0.4444444444444444,
              "#bd3786"
             ],
             [
              0.5555555555555556,
              "#d8576b"
             ],
             [
              0.6666666666666666,
              "#ed7953"
             ],
             [
              0.7777777777777778,
              "#fb9f3a"
             ],
             [
              0.8888888888888888,
              "#fdca26"
             ],
             [
              1,
              "#f0f921"
             ]
            ],
            "type": "contour"
           }
          ],
          "contourcarpet": [
           {
            "colorbar": {
             "outlinewidth": 0,
             "ticks": ""
            },
            "type": "contourcarpet"
           }
          ],
          "heatmap": [
           {
            "colorbar": {
             "outlinewidth": 0,
             "ticks": ""
            },
            "colorscale": [
             [
              0,
              "#0d0887"
             ],
             [
              0.1111111111111111,
              "#46039f"
             ],
             [
              0.2222222222222222,
              "#7201a8"
             ],
             [
              0.3333333333333333,
              "#9c179e"
             ],
             [
              0.4444444444444444,
              "#bd3786"
             ],
             [
              0.5555555555555556,
              "#d8576b"
             ],
             [
              0.6666666666666666,
              "#ed7953"
             ],
             [
              0.7777777777777778,
              "#fb9f3a"
             ],
             [
              0.8888888888888888,
              "#fdca26"
             ],
             [
              1,
              "#f0f921"
             ]
            ],
            "type": "heatmap"
           }
          ],
          "heatmapgl": [
           {
            "colorbar": {
             "outlinewidth": 0,
             "ticks": ""
            },
            "colorscale": [
             [
              0,
              "#0d0887"
             ],
             [
              0.1111111111111111,
              "#46039f"
             ],
             [
              0.2222222222222222,
              "#7201a8"
             ],
             [
              0.3333333333333333,
              "#9c179e"
             ],
             [
              0.4444444444444444,
              "#bd3786"
             ],
             [
              0.5555555555555556,
              "#d8576b"
             ],
             [
              0.6666666666666666,
              "#ed7953"
             ],
             [
              0.7777777777777778,
              "#fb9f3a"
             ],
             [
              0.8888888888888888,
              "#fdca26"
             ],
             [
              1,
              "#f0f921"
             ]
            ],
            "type": "heatmapgl"
           }
          ],
          "histogram": [
           {
            "marker": {
             "pattern": {
              "fillmode": "overlay",
              "size": 10,
              "solidity": 0.2
             }
            },
            "type": "histogram"
           }
          ],
          "histogram2d": [
           {
            "colorbar": {
             "outlinewidth": 0,
             "ticks": ""
            },
            "colorscale": [
             [
              0,
              "#0d0887"
             ],
             [
              0.1111111111111111,
              "#46039f"
             ],
             [
              0.2222222222222222,
              "#7201a8"
             ],
             [
              0.3333333333333333,
              "#9c179e"
             ],
             [
              0.4444444444444444,
              "#bd3786"
             ],
             [
              0.5555555555555556,
              "#d8576b"
             ],
             [
              0.6666666666666666,
              "#ed7953"
             ],
             [
              0.7777777777777778,
              "#fb9f3a"
             ],
             [
              0.8888888888888888,
              "#fdca26"
             ],
             [
              1,
              "#f0f921"
             ]
            ],
            "type": "histogram2d"
           }
          ],
          "histogram2dcontour": [
           {
            "colorbar": {
             "outlinewidth": 0,
             "ticks": ""
            },
            "colorscale": [
             [
              0,
              "#0d0887"
             ],
             [
              0.1111111111111111,
              "#46039f"
             ],
             [
              0.2222222222222222,
              "#7201a8"
             ],
             [
              0.3333333333333333,
              "#9c179e"
             ],
             [
              0.4444444444444444,
              "#bd3786"
             ],
             [
              0.5555555555555556,
              "#d8576b"
             ],
             [
              0.6666666666666666,
              "#ed7953"
             ],
             [
              0.7777777777777778,
              "#fb9f3a"
             ],
             [
              0.8888888888888888,
              "#fdca26"
             ],
             [
              1,
              "#f0f921"
             ]
            ],
            "type": "histogram2dcontour"
           }
          ],
          "mesh3d": [
           {
            "colorbar": {
             "outlinewidth": 0,
             "ticks": ""
            },
            "type": "mesh3d"
           }
          ],
          "parcoords": [
           {
            "line": {
             "colorbar": {
              "outlinewidth": 0,
              "ticks": ""
             }
            },
            "type": "parcoords"
           }
          ],
          "pie": [
           {
            "automargin": true,
            "type": "pie"
           }
          ],
          "scatter": [
           {
            "fillpattern": {
             "fillmode": "overlay",
             "size": 10,
             "solidity": 0.2
            },
            "type": "scatter"
           }
          ],
          "scatter3d": [
           {
            "line": {
             "colorbar": {
              "outlinewidth": 0,
              "ticks": ""
             }
            },
            "marker": {
             "colorbar": {
              "outlinewidth": 0,
              "ticks": ""
             }
            },
            "type": "scatter3d"
           }
          ],
          "scattercarpet": [
           {
            "marker": {
             "colorbar": {
              "outlinewidth": 0,
              "ticks": ""
             }
            },
            "type": "scattercarpet"
           }
          ],
          "scattergeo": [
           {
            "marker": {
             "colorbar": {
              "outlinewidth": 0,
              "ticks": ""
             }
            },
            "type": "scattergeo"
           }
          ],
          "scattergl": [
           {
            "marker": {
             "colorbar": {
              "outlinewidth": 0,
              "ticks": ""
             }
            },
            "type": "scattergl"
           }
          ],
          "scattermapbox": [
           {
            "marker": {
             "colorbar": {
              "outlinewidth": 0,
              "ticks": ""
             }
            },
            "type": "scattermapbox"
           }
          ],
          "scatterpolar": [
           {
            "marker": {
             "colorbar": {
              "outlinewidth": 0,
              "ticks": ""
             }
            },
            "type": "scatterpolar"
           }
          ],
          "scatterpolargl": [
           {
            "marker": {
             "colorbar": {
              "outlinewidth": 0,
              "ticks": ""
             }
            },
            "type": "scatterpolargl"
           }
          ],
          "scatterternary": [
           {
            "marker": {
             "colorbar": {
              "outlinewidth": 0,
              "ticks": ""
             }
            },
            "type": "scatterternary"
           }
          ],
          "surface": [
           {
            "colorbar": {
             "outlinewidth": 0,
             "ticks": ""
            },
            "colorscale": [
             [
              0,
              "#0d0887"
             ],
             [
              0.1111111111111111,
              "#46039f"
             ],
             [
              0.2222222222222222,
              "#7201a8"
             ],
             [
              0.3333333333333333,
              "#9c179e"
             ],
             [
              0.4444444444444444,
              "#bd3786"
             ],
             [
              0.5555555555555556,
              "#d8576b"
             ],
             [
              0.6666666666666666,
              "#ed7953"
             ],
             [
              0.7777777777777778,
              "#fb9f3a"
             ],
             [
              0.8888888888888888,
              "#fdca26"
             ],
             [
              1,
              "#f0f921"
             ]
            ],
            "type": "surface"
           }
          ],
          "table": [
           {
            "cells": {
             "fill": {
              "color": "#EBF0F8"
             },
             "line": {
              "color": "white"
             }
            },
            "header": {
             "fill": {
              "color": "#C8D4E3"
             },
             "line": {
              "color": "white"
             }
            },
            "type": "table"
           }
          ]
         },
         "layout": {
          "annotationdefaults": {
           "arrowcolor": "#2a3f5f",
           "arrowhead": 0,
           "arrowwidth": 1
          },
          "autotypenumbers": "strict",
          "coloraxis": {
           "colorbar": {
            "outlinewidth": 0,
            "ticks": ""
           }
          },
          "colorscale": {
           "diverging": [
            [
             0,
             "#8e0152"
            ],
            [
             0.1,
             "#c51b7d"
            ],
            [
             0.2,
             "#de77ae"
            ],
            [
             0.3,
             "#f1b6da"
            ],
            [
             0.4,
             "#fde0ef"
            ],
            [
             0.5,
             "#f7f7f7"
            ],
            [
             0.6,
             "#e6f5d0"
            ],
            [
             0.7,
             "#b8e186"
            ],
            [
             0.8,
             "#7fbc41"
            ],
            [
             0.9,
             "#4d9221"
            ],
            [
             1,
             "#276419"
            ]
           ],
           "sequential": [
            [
             0,
             "#0d0887"
            ],
            [
             0.1111111111111111,
             "#46039f"
            ],
            [
             0.2222222222222222,
             "#7201a8"
            ],
            [
             0.3333333333333333,
             "#9c179e"
            ],
            [
             0.4444444444444444,
             "#bd3786"
            ],
            [
             0.5555555555555556,
             "#d8576b"
            ],
            [
             0.6666666666666666,
             "#ed7953"
            ],
            [
             0.7777777777777778,
             "#fb9f3a"
            ],
            [
             0.8888888888888888,
             "#fdca26"
            ],
            [
             1,
             "#f0f921"
            ]
           ],
           "sequentialminus": [
            [
             0,
             "#0d0887"
            ],
            [
             0.1111111111111111,
             "#46039f"
            ],
            [
             0.2222222222222222,
             "#7201a8"
            ],
            [
             0.3333333333333333,
             "#9c179e"
            ],
            [
             0.4444444444444444,
             "#bd3786"
            ],
            [
             0.5555555555555556,
             "#d8576b"
            ],
            [
             0.6666666666666666,
             "#ed7953"
            ],
            [
             0.7777777777777778,
             "#fb9f3a"
            ],
            [
             0.8888888888888888,
             "#fdca26"
            ],
            [
             1,
             "#f0f921"
            ]
           ]
          },
          "colorway": [
           "#636efa",
           "#EF553B",
           "#00cc96",
           "#ab63fa",
           "#FFA15A",
           "#19d3f3",
           "#FF6692",
           "#B6E880",
           "#FF97FF",
           "#FECB52"
          ],
          "font": {
           "color": "#2a3f5f"
          },
          "geo": {
           "bgcolor": "white",
           "lakecolor": "white",
           "landcolor": "#E5ECF6",
           "showlakes": true,
           "showland": true,
           "subunitcolor": "white"
          },
          "hoverlabel": {
           "align": "left"
          },
          "hovermode": "closest",
          "mapbox": {
           "style": "light"
          },
          "paper_bgcolor": "white",
          "plot_bgcolor": "#E5ECF6",
          "polar": {
           "angularaxis": {
            "gridcolor": "white",
            "linecolor": "white",
            "ticks": ""
           },
           "bgcolor": "#E5ECF6",
           "radialaxis": {
            "gridcolor": "white",
            "linecolor": "white",
            "ticks": ""
           }
          },
          "scene": {
           "xaxis": {
            "backgroundcolor": "#E5ECF6",
            "gridcolor": "white",
            "gridwidth": 2,
            "linecolor": "white",
            "showbackground": true,
            "ticks": "",
            "zerolinecolor": "white"
           },
           "yaxis": {
            "backgroundcolor": "#E5ECF6",
            "gridcolor": "white",
            "gridwidth": 2,
            "linecolor": "white",
            "showbackground": true,
            "ticks": "",
            "zerolinecolor": "white"
           },
           "zaxis": {
            "backgroundcolor": "#E5ECF6",
            "gridcolor": "white",
            "gridwidth": 2,
            "linecolor": "white",
            "showbackground": true,
            "ticks": "",
            "zerolinecolor": "white"
           }
          },
          "shapedefaults": {
           "line": {
            "color": "#2a3f5f"
           }
          },
          "ternary": {
           "aaxis": {
            "gridcolor": "white",
            "linecolor": "white",
            "ticks": ""
           },
           "baxis": {
            "gridcolor": "white",
            "linecolor": "white",
            "ticks": ""
           },
           "bgcolor": "#E5ECF6",
           "caxis": {
            "gridcolor": "white",
            "linecolor": "white",
            "ticks": ""
           }
          },
          "title": {
           "x": 0.05
          },
          "xaxis": {
           "automargin": true,
           "gridcolor": "white",
           "linecolor": "white",
           "ticks": "",
           "title": {
            "standoff": 15
           },
           "zerolinecolor": "white",
           "zerolinewidth": 2
          },
          "yaxis": {
           "automargin": true,
           "gridcolor": "white",
           "linecolor": "white",
           "ticks": "",
           "title": {
            "standoff": 15
           },
           "zerolinecolor": "white",
           "zerolinewidth": 2
          }
         }
        },
        "title": {
         "text": "Trend of Bird Diversity Over Time"
        },
        "xaxis": {
         "anchor": "y",
         "autorange": true,
         "domain": [
          0,
          1
         ],
         "range": [
          2007.7582777582777,
          2012.2417222417223
         ],
         "ticktext": [
          "2008",
          "2009",
          "2010",
          "2011",
          "2012"
         ],
         "tickvals": [
          2008,
          2009,
          2010,
          2011,
          2012
         ],
         "title": {
          "text": "Observation Year"
         },
         "type": "linear"
        },
        "yaxis": {
         "anchor": "x",
         "autorange": true,
         "domain": [
          0,
          1
         ],
         "range": [
          327.88349514563106,
          400.11650485436894
         ],
         "title": {
          "text": "Unique Bird Species Observed"
         },
         "type": "linear"
        }
       }
      },
      "image/png": "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",
      "text/html": [
       "<div>                            <div id=\"467029f2-acd5-4667-aeea-c4754c5e5140\" class=\"plotly-graph-div\" style=\"height:525px; width:100%;\"></div>            <script type=\"text/javascript\">                require([\"plotly\"], function(Plotly) {                    window.PLOTLYENV=window.PLOTLYENV || {};                                    if (document.getElementById(\"467029f2-acd5-4667-aeea-c4754c5e5140\")) {                    Plotly.newPlot(                        \"467029f2-acd5-4667-aeea-c4754c5e5140\",                        [{\"hovertemplate\":\"Observation Year=%{x}<br>Unique Bird Species Observed=%{y}<extra></extra>\",\"legendgroup\":\"\",\"line\":{\"color\":\"#636efa\",\"dash\":\"solid\"},\"marker\":{\"symbol\":\"circle\",\"color\":\"orange\"},\"mode\":\"markers+lines\",\"name\":\"\",\"orientation\":\"v\",\"showlegend\":false,\"x\":[2008,2009,2010,2011,2012],\"xaxis\":\"x\",\"y\":[333,353,358,375,395],\"yaxis\":\"y\",\"type\":\"scatter\"}],                        {\"template\":{\"data\":{\"histogram2dcontour\":[{\"type\":\"histogram2dcontour\",\"colorbar\":{\"outlinewidth\":0,\"ticks\":\"\"},\"colorscale\":[[0.0,\"#0d0887\"],[0.1111111111111111,\"#46039f\"],[0.2222222222222222,\"#7201a8\"],[0.3333333333333333,\"#9c179e\"],[0.4444444444444444,\"#bd3786\"],[0.5555555555555556,\"#d8576b\"],[0.6666666666666666,\"#ed7953\"],[0.7777777777777778,\"#fb9f3a\"],[0.8888888888888888,\"#fdca26\"],[1.0,\"#f0f921\"]]}],\"choropleth\":[{\"type\":\"choropleth\",\"colorbar\":{\"outlinewidth\":0,\"ticks\":\"\"}}],\"histogram2d\":[{\"type\":\"histogram2d\",\"colorbar\":{\"outlinewidth\":0,\"ticks\":\"\"},\"colorscale\":[[0.0,\"#0d0887\"],[0.1111111111111111,\"#46039f\"],[0.2222222222222222,\"#7201a8\"],[0.3333333333333333,\"#9c179e\"],[0.4444444444444444,\"#bd3786\"],[0.5555555555555556,\"#d8576b\"],[0.6666666666666666,\"#ed7953\"],[0.7777777777777778,\"#fb9f3a\"],[0.8888888888888888,\"#fdca26\"],[1.0,\"#f0f921\"]]}],\"heatmap\":[{\"type\":\"heatmap\",\"colorbar\":{\"outlinewidth\":0,\"ticks\":\"\"},\"colorscale\":[[0.0,\"#0d0887\"],[0.1111111111111111,\"#46039f\"],[0.2222222222222222,\"#7201a8\"],[0.3333333333333333,\"#9c179e\"],[0.4444444444444444,\"#bd3786\"],[0.5555555555555556,\"#d8576b\"],[0.6666666666666666,\"#ed7953\"],[0.7777777777777778,\"#fb9f3a\"],[0.8888888888888888,\"#fdca26\"],[1.0,\"#f0f921\"]]}],\"heatmapgl\":[{\"type\":\"heatmapgl\",\"colorbar\":{\"outlinewidth\":0,\"ticks\":\"\"},\"colorscale\":[[0.0,\"#0d0887\"],[0.1111111111111111,\"#46039f\"],[0.2222222222222222,\"#7201a8\"],[0.3333333333333333,\"#9c179e\"],[0.4444444444444444,\"#bd3786\"],[0.5555555555555556,\"#d8576b\"],[0.6666666666666666,\"#ed7953\"],[0.7777777777777778,\"#fb9f3a\"],[0.8888888888888888,\"#fdca26\"],[1.0,\"#f0f921\"]]}],\"contourcarpet\":[{\"type\":\"contourcarpet\",\"colorbar\":{\"outlinewidth\":0,\"ticks\":\"\"}}],\"contour\":[{\"type\":\"contour\",\"colorbar\":{\"outlinewidth\":0,\"ticks\":\"\"},\"colorscale\":[[0.0,\"#0d0887\"],[0.1111111111111111,\"#46039f\"],[0.2222222222222222,\"#7201a8\"],[0.3333333333333333,\"#9c179e\"],[0.4444444444444444,\"#bd3786\"],[0.5555555555555556,\"#d8576b\"],[0.6666666666666666,\"#ed7953\"],[0.7777777777777778,\"#fb9f3a\"],[0.8888888888888888,\"#fdca26\"],[1.0,\"#f0f921\"]]}],\"surface\":[{\"type\":\"surface\",\"colorbar\":{\"outlinewidth\":0,\"ticks\":\"\"},\"colorscale\":[[0.0,\"#0d0887\"],[0.1111111111111111,\"#46039f\"],[0.2222222222222222,\"#7201a8\"],[0.3333333333333333,\"#9c179e\"],[0.4444444444444444,\"#bd3786\"],[0.5555555555555556,\"#d8576b\"],[0.6666666666666666,\"#ed7953\"],[0.7777777777777778,\"#fb9f3a\"],[0.8888888888888888,\"#fdca26\"],[1.0,\"#f0f921\"]]}],\"mesh3d\":[{\"type\":\"mesh3d\",\"colorbar\":{\"outlinewidth\":0,\"ticks\":\"\"}}],\"scatter\":[{\"fillpattern\":{\"fillmode\":\"overlay\",\"size\":10,\"solidity\":0.2},\"type\":\"scatter\"}],\"parcoords\":[{\"type\":\"parcoords\",\"line\":{\"colorbar\":{\"outlinewidth\":0,\"ticks\":\"\"}}}],\"scatterpolargl\":[{\"type\":\"scatterpolargl\",\"marker\":{\"colorbar\":{\"outlinewidth\":0,\"ticks\":\"\"}}}],\"bar\":[{\"error_x\":{\"color\":\"#2a3f5f\"},\"error_y\":{\"color\":\"#2a3f5f\"},\"marker\":{\"line\":{\"color\":\"#E5ECF6\",\"width\":0.5},\"pattern\":{\"fillmode\":\"overlay\",\"size\":10,\"solidity\":0.2}},\"type\":\"bar\"}],\"scattergeo\":[{\"type\":\"scattergeo\",\"marker\":{\"colorbar\":{\"outlinewidth\":0,\"ticks\":\"\"}}}],\"scatterpolar\":[{\"type\":\"scatterpolar\",\"marker\":{\"colorbar\":{\"outlinewidth\":0,\"ticks\":\"\"}}}],\"histogram\":[{\"marker\":{\"pattern\":{\"fillmode\":\"overlay\",\"size\":10,\"solidity\":0.2}},\"type\":\"histogram\"}],\"scattergl\":[{\"type\":\"scattergl\",\"marker\":{\"colorbar\":{\"outlinewidth\":0,\"ticks\":\"\"}}}],\"scatter3d\":[{\"type\":\"scatter3d\",\"line\":{\"colorbar\":{\"outlinewidth\":0,\"ticks\":\"\"}},\"marker\":{\"colorbar\":{\"outlinewidth\":0,\"ticks\":\"\"}}}],\"scattermapbox\":[{\"type\":\"scattermapbox\",\"marker\":{\"colorbar\":{\"outlinewidth\":0,\"ticks\":\"\"}}}],\"scatterternary\":[{\"type\":\"scatterternary\",\"marker\":{\"colorbar\":{\"outlinewidth\":0,\"ticks\":\"\"}}}],\"scattercarpet\":[{\"type\":\"scattercarpet\",\"marker\":{\"colorbar\":{\"outlinewidth\":0,\"ticks\":\"\"}}}],\"carpet\":[{\"aaxis\":{\"endlinecolor\":\"#2a3f5f\",\"gridcolor\":\"white\",\"linecolor\":\"white\",\"minorgridcolor\":\"white\",\"startlinecolor\":\"#2a3f5f\"},\"baxis\":{\"endlinecolor\":\"#2a3f5f\",\"gridcolor\":\"white\",\"linecolor\":\"white\",\"minorgridcolor\":\"white\",\"startlinecolor\":\"#2a3f5f\"},\"type\":\"carpet\"}],\"table\":[{\"cells\":{\"fill\":{\"color\":\"#EBF0F8\"},\"line\":{\"color\":\"white\"}},\"header\":{\"fill\":{\"color\":\"#C8D4E3\"},\"line\":{\"color\":\"white\"}},\"type\":\"table\"}],\"barpolar\":[{\"marker\":{\"line\":{\"color\":\"#E5ECF6\",\"width\":0.5},\"pattern\":{\"fillmode\":\"overlay\",\"size\":10,\"solidity\":0.2}},\"type\":\"barpolar\"}],\"pie\":[{\"automargin\":true,\"type\":\"pie\"}]},\"layout\":{\"autotypenumbers\":\"strict\",\"colorway\":[\"#636efa\",\"#EF553B\",\"#00cc96\",\"#ab63fa\",\"#FFA15A\",\"#19d3f3\",\"#FF6692\",\"#B6E880\",\"#FF97FF\",\"#FECB52\"],\"font\":{\"color\":\"#2a3f5f\"},\"hovermode\":\"closest\",\"hoverlabel\":{\"align\":\"left\"},\"paper_bgcolor\":\"white\",\"plot_bgcolor\":\"#E5ECF6\",\"polar\":{\"bgcolor\":\"#E5ECF6\",\"angularaxis\":{\"gridcolor\":\"white\",\"linecolor\":\"white\",\"ticks\":\"\"},\"radialaxis\":{\"gridcolor\":\"white\",\"linecolor\":\"white\",\"ticks\":\"\"}},\"ternary\":{\"bgcolor\":\"#E5ECF6\",\"aaxis\":{\"gridcolor\":\"white\",\"linecolor\":\"white\",\"ticks\":\"\"},\"baxis\":{\"gridcolor\":\"white\",\"linecolor\":\"white\",\"ticks\":\"\"},\"caxis\":{\"gridcolor\":\"white\",\"linecolor\":\"white\",\"ticks\":\"\"}},\"coloraxis\":{\"colorbar\":{\"outlinewidth\":0,\"ticks\":\"\"}},\"colorscale\":{\"sequential\":[[0.0,\"#0d0887\"],[0.1111111111111111,\"#46039f\"],[0.2222222222222222,\"#7201a8\"],[0.3333333333333333,\"#9c179e\"],[0.4444444444444444,\"#bd3786\"],[0.5555555555555556,\"#d8576b\"],[0.6666666666666666,\"#ed7953\"],[0.7777777777777778,\"#fb9f3a\"],[0.8888888888888888,\"#fdca26\"],[1.0,\"#f0f921\"]],\"sequentialminus\":[[0.0,\"#0d0887\"],[0.1111111111111111,\"#46039f\"],[0.2222222222222222,\"#7201a8\"],[0.3333333333333333,\"#9c179e\"],[0.4444444444444444,\"#bd3786\"],[0.5555555555555556,\"#d8576b\"],[0.6666666666666666,\"#ed7953\"],[0.7777777777777778,\"#fb9f3a\"],[0.8888888888888888,\"#fdca26\"],[1.0,\"#f0f921\"]],\"diverging\":[[0,\"#8e0152\"],[0.1,\"#c51b7d\"],[0.2,\"#de77ae\"],[0.3,\"#f1b6da\"],[0.4,\"#fde0ef\"],[0.5,\"#f7f7f7\"],[0.6,\"#e6f5d0\"],[0.7,\"#b8e186\"],[0.8,\"#7fbc41\"],[0.9,\"#4d9221\"],[1,\"#276419\"]]},\"xaxis\":{\"gridcolor\":\"white\",\"linecolor\":\"white\",\"ticks\":\"\",\"title\":{\"standoff\":15},\"zerolinecolor\":\"white\",\"automargin\":true,\"zerolinewidth\":2},\"yaxis\":{\"gridcolor\":\"white\",\"linecolor\":\"white\",\"ticks\":\"\",\"title\":{\"standoff\":15},\"zerolinecolor\":\"white\",\"automargin\":true,\"zerolinewidth\":2},\"scene\":{\"xaxis\":{\"backgroundcolor\":\"#E5ECF6\",\"gridcolor\":\"white\",\"linecolor\":\"white\",\"showbackground\":true,\"ticks\":\"\",\"zerolinecolor\":\"white\",\"gridwidth\":2},\"yaxis\":{\"backgroundcolor\":\"#E5ECF6\",\"gridcolor\":\"white\",\"linecolor\":\"white\",\"showbackground\":true,\"ticks\":\"\",\"zerolinecolor\":\"white\",\"gridwidth\":2},\"zaxis\":{\"backgroundcolor\":\"#E5ECF6\",\"gridcolor\":\"white\",\"linecolor\":\"white\",\"showbackground\":true,\"ticks\":\"\",\"zerolinecolor\":\"white\",\"gridwidth\":2}},\"shapedefaults\":{\"line\":{\"color\":\"#2a3f5f\"}},\"annotationdefaults\":{\"arrowcolor\":\"#2a3f5f\",\"arrowhead\":0,\"arrowwidth\":1},\"geo\":{\"bgcolor\":\"white\",\"landcolor\":\"#E5ECF6\",\"subunitcolor\":\"white\",\"showland\":true,\"showlakes\":true,\"lakecolor\":\"white\"},\"title\":{\"x\":0.05},\"mapbox\":{\"style\":\"light\"}}},\"xaxis\":{\"anchor\":\"y\",\"domain\":[0.0,1.0],\"title\":{\"text\":\"Observation Year\"},\"tickvals\":[2008,2009,2010,2011,2012],\"ticktext\":[\"2008\",\"2009\",\"2010\",\"2011\",\"2012\"]},\"yaxis\":{\"anchor\":\"x\",\"domain\":[0.0,1.0],\"title\":{\"text\":\"Unique Bird Species Observed\"}},\"legend\":{\"tracegroupgap\":0},\"title\":{\"text\":\"Trend of Bird Diversity Over Time\"}},                        {\"responsive\": true}                    ).then(function(){\n",
       "                            \n",
       "var gd = document.getElementById('467029f2-acd5-4667-aeea-c4754c5e5140');\n",
       "var x = new MutationObserver(function (mutations, observer) {{\n",
       "        var display = window.getComputedStyle(gd).display;\n",
       "        if (!display || display === 'none') {{\n",
       "            console.log([gd, 'removed!']);\n",
       "            Plotly.purge(gd);\n",
       "            observer.disconnect();\n",
       "        }}\n",
       "}});\n",
       "\n",
       "// Listen for the removal of the full notebook cells\n",
       "var notebookContainer = gd.closest('#notebook-container');\n",
       "if (notebookContainer) {{\n",
       "    x.observe(notebookContainer, {childList: true});\n",
       "}}\n",
       "\n",
       "// Listen for the clearing of the current output cell\n",
       "var outputEl = gd.closest('.output');\n",
       "if (outputEl) {{\n",
       "    x.observe(outputEl, {childList: true});\n",
       "}}\n",
       "\n",
       "                        })                };                });            </script>        </div>"
      ]
     },
     "metadata": {},
     "output_type": "display_data"
    }
   ],
   "source": [
    "import plotly.express as px\n",
    "\n",
    "unique_species_per_year = df.groupby('OBSERVATION YEAR')['SCIENTIFIC NAME'].nunique().reset_index()\n",
    "\n",
    "fig = px.line(unique_species_per_year, x='OBSERVATION YEAR', y='SCIENTIFIC NAME', \n",
    "              title='Trend of Unique Bird Species Observed Over Time', \n",
    "              labels={'OBSERVATION YEAR': 'Observation Year', 'SCIENTIFIC NAME': 'Unique Bird Species Observed'})\n",
    "\n",
    "fig.update_traces(mode='markers+lines', marker=dict(color='orange', symbol='circle'))\n",
    "custom_tickvals = [2008, 2009, 2010, 2011, 2012]\n",
    "custom_ticktext = [str(year) for year in custom_tickvals]\n",
    "fig.update_xaxes(tickvals=custom_tickvals, ticktext=custom_ticktext)\n",
    "\n",
    "fig.show()\n"
   ]
  },
  {
   "cell_type": "markdown",
   "id": "0cfde561-33d6-4fd3-a5b9-944842c1e21c",
=======
   "execution_count": 33,
   "id": "58004395-de5d-42e2-bfdb-8154143607eb",
>>>>>>> abeb75099dee86ea4162e81b07d506264f2bda99
   "metadata": {},
   "source": [
<<<<<<< HEAD
    "## Section 4: Vizualizations"
   ]
  },
  {
   "cell_type": "markdown",
   "id": "40aea55e-22ee-46c0-b088-cf6dbfcdba14",
   "metadata": {},
   "source": [
    "## 4.1 Vizualization : (_Temporal Trends in Bird Diversity Across Illinois: 2008-2012_)\n",
    "\n",
    "(_The graph depicts bird diversity in Illinois from year 2008 to 2012.We can see that the diversity has increased every year with a slight drop in the year 2012.The diversity here is a calculated value called [Shannon index](https://en.wikipedia.org/wiki/Diversity_index)_)"
=======
    "import matplotlib.pyplot as plt\n",
    "import matplotlib.patches as mpatche\n",
    "import seaborn as sns\n",
    "import plotly.express as px\n",
    "import altair as alt"
   ]
  },
  {
   "cell_type": "code",
   "execution_count": 52,
   "id": "4a1acb40-8b20-4a75-8000-04efb355ae79",
   "metadata": {},
   "outputs": [
    {
     "data": {
      "application/vnd.plotly.v1+json": {
       "config": {
        "plotlyServerURL": "https://plot.ly"
       },
       "data": [
        {
         "alignmentgroup": "True",
         "hovertemplate": "Year=%{x}<br>Bird Diversity (Shannon Index) =%{y}<extra></extra>",
         "legendgroup": "",
         "marker": {
          "color": "#636efa",
          "pattern": {
           "shape": ""
          }
         },
         "name": "",
         "offsetgroup": "",
         "orientation": "v",
         "showlegend": false,
         "textposition": "auto",
         "type": "bar",
         "x": [
          2008,
          2009,
          2010,
          2011,
          2012
         ],
         "xaxis": "x",
         "y": [
          6.2317978711318425,
          7.061334254978072,
          7.5473045026147805,
          7.6645586507260655,
          7.595814149259401
         ],
         "yaxis": "y"
        }
       ],
       "layout": {
        "barmode": "relative",
        "height": 600,
        "legend": {
         "tracegroupgap": 0
        },
        "template": {
         "data": {
          "bar": [
           {
            "error_x": {
             "color": "#2a3f5f"
            },
            "error_y": {
             "color": "#2a3f5f"
            },
            "marker": {
             "line": {
              "color": "#E5ECF6",
              "width": 0.5
             },
             "pattern": {
              "fillmode": "overlay",
              "size": 10,
              "solidity": 0.2
             }
            },
            "type": "bar"
           }
          ],
          "barpolar": [
           {
            "marker": {
             "line": {
              "color": "#E5ECF6",
              "width": 0.5
             },
             "pattern": {
              "fillmode": "overlay",
              "size": 10,
              "solidity": 0.2
             }
            },
            "type": "barpolar"
           }
          ],
          "carpet": [
           {
            "aaxis": {
             "endlinecolor": "#2a3f5f",
             "gridcolor": "white",
             "linecolor": "white",
             "minorgridcolor": "white",
             "startlinecolor": "#2a3f5f"
            },
            "baxis": {
             "endlinecolor": "#2a3f5f",
             "gridcolor": "white",
             "linecolor": "white",
             "minorgridcolor": "white",
             "startlinecolor": "#2a3f5f"
            },
            "type": "carpet"
           }
          ],
          "choropleth": [
           {
            "colorbar": {
             "outlinewidth": 0,
             "ticks": ""
            },
            "type": "choropleth"
           }
          ],
          "contour": [
           {
            "colorbar": {
             "outlinewidth": 0,
             "ticks": ""
            },
            "colorscale": [
             [
              0,
              "#0d0887"
             ],
             [
              0.1111111111111111,
              "#46039f"
             ],
             [
              0.2222222222222222,
              "#7201a8"
             ],
             [
              0.3333333333333333,
              "#9c179e"
             ],
             [
              0.4444444444444444,
              "#bd3786"
             ],
             [
              0.5555555555555556,
              "#d8576b"
             ],
             [
              0.6666666666666666,
              "#ed7953"
             ],
             [
              0.7777777777777778,
              "#fb9f3a"
             ],
             [
              0.8888888888888888,
              "#fdca26"
             ],
             [
              1,
              "#f0f921"
             ]
            ],
            "type": "contour"
           }
          ],
          "contourcarpet": [
           {
            "colorbar": {
             "outlinewidth": 0,
             "ticks": ""
            },
            "type": "contourcarpet"
           }
          ],
          "heatmap": [
           {
            "colorbar": {
             "outlinewidth": 0,
             "ticks": ""
            },
            "colorscale": [
             [
              0,
              "#0d0887"
             ],
             [
              0.1111111111111111,
              "#46039f"
             ],
             [
              0.2222222222222222,
              "#7201a8"
             ],
             [
              0.3333333333333333,
              "#9c179e"
             ],
             [
              0.4444444444444444,
              "#bd3786"
             ],
             [
              0.5555555555555556,
              "#d8576b"
             ],
             [
              0.6666666666666666,
              "#ed7953"
             ],
             [
              0.7777777777777778,
              "#fb9f3a"
             ],
             [
              0.8888888888888888,
              "#fdca26"
             ],
             [
              1,
              "#f0f921"
             ]
            ],
            "type": "heatmap"
           }
          ],
          "heatmapgl": [
           {
            "colorbar": {
             "outlinewidth": 0,
             "ticks": ""
            },
            "colorscale": [
             [
              0,
              "#0d0887"
             ],
             [
              0.1111111111111111,
              "#46039f"
             ],
             [
              0.2222222222222222,
              "#7201a8"
             ],
             [
              0.3333333333333333,
              "#9c179e"
             ],
             [
              0.4444444444444444,
              "#bd3786"
             ],
             [
              0.5555555555555556,
              "#d8576b"
             ],
             [
              0.6666666666666666,
              "#ed7953"
             ],
             [
              0.7777777777777778,
              "#fb9f3a"
             ],
             [
              0.8888888888888888,
              "#fdca26"
             ],
             [
              1,
              "#f0f921"
             ]
            ],
            "type": "heatmapgl"
           }
          ],
          "histogram": [
           {
            "marker": {
             "pattern": {
              "fillmode": "overlay",
              "size": 10,
              "solidity": 0.2
             }
            },
            "type": "histogram"
           }
          ],
          "histogram2d": [
           {
            "colorbar": {
             "outlinewidth": 0,
             "ticks": ""
            },
            "colorscale": [
             [
              0,
              "#0d0887"
             ],
             [
              0.1111111111111111,
              "#46039f"
             ],
             [
              0.2222222222222222,
              "#7201a8"
             ],
             [
              0.3333333333333333,
              "#9c179e"
             ],
             [
              0.4444444444444444,
              "#bd3786"
             ],
             [
              0.5555555555555556,
              "#d8576b"
             ],
             [
              0.6666666666666666,
              "#ed7953"
             ],
             [
              0.7777777777777778,
              "#fb9f3a"
             ],
             [
              0.8888888888888888,
              "#fdca26"
             ],
             [
              1,
              "#f0f921"
             ]
            ],
            "type": "histogram2d"
           }
          ],
          "histogram2dcontour": [
           {
            "colorbar": {
             "outlinewidth": 0,
             "ticks": ""
            },
            "colorscale": [
             [
              0,
              "#0d0887"
             ],
             [
              0.1111111111111111,
              "#46039f"
             ],
             [
              0.2222222222222222,
              "#7201a8"
             ],
             [
              0.3333333333333333,
              "#9c179e"
             ],
             [
              0.4444444444444444,
              "#bd3786"
             ],
             [
              0.5555555555555556,
              "#d8576b"
             ],
             [
              0.6666666666666666,
              "#ed7953"
             ],
             [
              0.7777777777777778,
              "#fb9f3a"
             ],
             [
              0.8888888888888888,
              "#fdca26"
             ],
             [
              1,
              "#f0f921"
             ]
            ],
            "type": "histogram2dcontour"
           }
          ],
          "mesh3d": [
           {
            "colorbar": {
             "outlinewidth": 0,
             "ticks": ""
            },
            "type": "mesh3d"
           }
          ],
          "parcoords": [
           {
            "line": {
             "colorbar": {
              "outlinewidth": 0,
              "ticks": ""
             }
            },
            "type": "parcoords"
           }
          ],
          "pie": [
           {
            "automargin": true,
            "type": "pie"
           }
          ],
          "scatter": [
           {
            "fillpattern": {
             "fillmode": "overlay",
             "size": 10,
             "solidity": 0.2
            },
            "type": "scatter"
           }
          ],
          "scatter3d": [
           {
            "line": {
             "colorbar": {
              "outlinewidth": 0,
              "ticks": ""
             }
            },
            "marker": {
             "colorbar": {
              "outlinewidth": 0,
              "ticks": ""
             }
            },
            "type": "scatter3d"
           }
          ],
          "scattercarpet": [
           {
            "marker": {
             "colorbar": {
              "outlinewidth": 0,
              "ticks": ""
             }
            },
            "type": "scattercarpet"
           }
          ],
          "scattergeo": [
           {
            "marker": {
             "colorbar": {
              "outlinewidth": 0,
              "ticks": ""
             }
            },
            "type": "scattergeo"
           }
          ],
          "scattergl": [
           {
            "marker": {
             "colorbar": {
              "outlinewidth": 0,
              "ticks": ""
             }
            },
            "type": "scattergl"
           }
          ],
          "scattermapbox": [
           {
            "marker": {
             "colorbar": {
              "outlinewidth": 0,
              "ticks": ""
             }
            },
            "type": "scattermapbox"
           }
          ],
          "scatterpolar": [
           {
            "marker": {
             "colorbar": {
              "outlinewidth": 0,
              "ticks": ""
             }
            },
            "type": "scatterpolar"
           }
          ],
          "scatterpolargl": [
           {
            "marker": {
             "colorbar": {
              "outlinewidth": 0,
              "ticks": ""
             }
            },
            "type": "scatterpolargl"
           }
          ],
          "scatterternary": [
           {
            "marker": {
             "colorbar": {
              "outlinewidth": 0,
              "ticks": ""
             }
            },
            "type": "scatterternary"
           }
          ],
          "surface": [
           {
            "colorbar": {
             "outlinewidth": 0,
             "ticks": ""
            },
            "colorscale": [
             [
              0,
              "#0d0887"
             ],
             [
              0.1111111111111111,
              "#46039f"
             ],
             [
              0.2222222222222222,
              "#7201a8"
             ],
             [
              0.3333333333333333,
              "#9c179e"
             ],
             [
              0.4444444444444444,
              "#bd3786"
             ],
             [
              0.5555555555555556,
              "#d8576b"
             ],
             [
              0.6666666666666666,
              "#ed7953"
             ],
             [
              0.7777777777777778,
              "#fb9f3a"
             ],
             [
              0.8888888888888888,
              "#fdca26"
             ],
             [
              1,
              "#f0f921"
             ]
            ],
            "type": "surface"
           }
          ],
          "table": [
           {
            "cells": {
             "fill": {
              "color": "#EBF0F8"
             },
             "line": {
              "color": "white"
             }
            },
            "header": {
             "fill": {
              "color": "#C8D4E3"
             },
             "line": {
              "color": "white"
             }
            },
            "type": "table"
           }
          ]
         },
         "layout": {
          "annotationdefaults": {
           "arrowcolor": "#2a3f5f",
           "arrowhead": 0,
           "arrowwidth": 1
          },
          "autotypenumbers": "strict",
          "coloraxis": {
           "colorbar": {
            "outlinewidth": 0,
            "ticks": ""
           }
          },
          "colorscale": {
           "diverging": [
            [
             0,
             "#8e0152"
            ],
            [
             0.1,
             "#c51b7d"
            ],
            [
             0.2,
             "#de77ae"
            ],
            [
             0.3,
             "#f1b6da"
            ],
            [
             0.4,
             "#fde0ef"
            ],
            [
             0.5,
             "#f7f7f7"
            ],
            [
             0.6,
             "#e6f5d0"
            ],
            [
             0.7,
             "#b8e186"
            ],
            [
             0.8,
             "#7fbc41"
            ],
            [
             0.9,
             "#4d9221"
            ],
            [
             1,
             "#276419"
            ]
           ],
           "sequential": [
            [
             0,
             "#0d0887"
            ],
            [
             0.1111111111111111,
             "#46039f"
            ],
            [
             0.2222222222222222,
             "#7201a8"
            ],
            [
             0.3333333333333333,
             "#9c179e"
            ],
            [
             0.4444444444444444,
             "#bd3786"
            ],
            [
             0.5555555555555556,
             "#d8576b"
            ],
            [
             0.6666666666666666,
             "#ed7953"
            ],
            [
             0.7777777777777778,
             "#fb9f3a"
            ],
            [
             0.8888888888888888,
             "#fdca26"
            ],
            [
             1,
             "#f0f921"
            ]
           ],
           "sequentialminus": [
            [
             0,
             "#0d0887"
            ],
            [
             0.1111111111111111,
             "#46039f"
            ],
            [
             0.2222222222222222,
             "#7201a8"
            ],
            [
             0.3333333333333333,
             "#9c179e"
            ],
            [
             0.4444444444444444,
             "#bd3786"
            ],
            [
             0.5555555555555556,
             "#d8576b"
            ],
            [
             0.6666666666666666,
             "#ed7953"
            ],
            [
             0.7777777777777778,
             "#fb9f3a"
            ],
            [
             0.8888888888888888,
             "#fdca26"
            ],
            [
             1,
             "#f0f921"
            ]
           ]
          },
          "colorway": [
           "#636efa",
           "#EF553B",
           "#00cc96",
           "#ab63fa",
           "#FFA15A",
           "#19d3f3",
           "#FF6692",
           "#B6E880",
           "#FF97FF",
           "#FECB52"
          ],
          "font": {
           "color": "#2a3f5f"
          },
          "geo": {
           "bgcolor": "white",
           "lakecolor": "white",
           "landcolor": "#E5ECF6",
           "showlakes": true,
           "showland": true,
           "subunitcolor": "white"
          },
          "hoverlabel": {
           "align": "left"
          },
          "hovermode": "closest",
          "mapbox": {
           "style": "light"
          },
          "paper_bgcolor": "white",
          "plot_bgcolor": "#E5ECF6",
          "polar": {
           "angularaxis": {
            "gridcolor": "white",
            "linecolor": "white",
            "ticks": ""
           },
           "bgcolor": "#E5ECF6",
           "radialaxis": {
            "gridcolor": "white",
            "linecolor": "white",
            "ticks": ""
           }
          },
          "scene": {
           "xaxis": {
            "backgroundcolor": "#E5ECF6",
            "gridcolor": "white",
            "gridwidth": 2,
            "linecolor": "white",
            "showbackground": true,
            "ticks": "",
            "zerolinecolor": "white"
           },
           "yaxis": {
            "backgroundcolor": "#E5ECF6",
            "gridcolor": "white",
            "gridwidth": 2,
            "linecolor": "white",
            "showbackground": true,
            "ticks": "",
            "zerolinecolor": "white"
           },
           "zaxis": {
            "backgroundcolor": "#E5ECF6",
            "gridcolor": "white",
            "gridwidth": 2,
            "linecolor": "white",
            "showbackground": true,
            "ticks": "",
            "zerolinecolor": "white"
           }
          },
          "shapedefaults": {
           "line": {
            "color": "#2a3f5f"
           }
          },
          "ternary": {
           "aaxis": {
            "gridcolor": "white",
            "linecolor": "white",
            "ticks": ""
           },
           "baxis": {
            "gridcolor": "white",
            "linecolor": "white",
            "ticks": ""
           },
           "bgcolor": "#E5ECF6",
           "caxis": {
            "gridcolor": "white",
            "linecolor": "white",
            "ticks": ""
           }
          },
          "title": {
           "x": 0.05
          },
          "xaxis": {
           "automargin": true,
           "gridcolor": "white",
           "linecolor": "white",
           "ticks": "",
           "title": {
            "standoff": 15
           },
           "zerolinecolor": "white",
           "zerolinewidth": 2
          },
          "yaxis": {
           "automargin": true,
           "gridcolor": "white",
           "linecolor": "white",
           "ticks": "",
           "title": {
            "standoff": 15
           },
           "zerolinecolor": "white",
           "zerolinewidth": 2
          }
         }
        },
        "title": {
         "text": "Bar Plot of Year vs.Bird Diversity"
        },
        "width": 800,
        "xaxis": {
         "anchor": "y",
         "autorange": true,
         "domain": [
          0,
          1
         ],
         "range": [
          2007.5,
          2012.5
         ],
         "title": {
          "text": "Year"
         },
         "type": "linear"
        },
        "yaxis": {
         "anchor": "x",
         "domain": [
          0,
          1
         ],
         "dtick": 0.2,
         "range": [
          6,
          8
         ],
         "title": {
          "text": "Bird Diversity (Shannon Index) "
         },
         "type": "linear"
        }
       }
      },
      "image/png": "iVBORw0KGgoAAAANSUhEUgAABF4AAAJYCAYAAABbzSLYAAAAAXNSR0IArs4c6QAAIABJREFUeF7s3QmcT/X+x/HPzBhrTPadiKLluiRFV0QlZQmNaLGmRISILCFLyRpZChGKKBJR/lGukKtoUySVbNlpmMGYmf/je9zf3BkzY87M+Z3z+55zXr/H4/+4t5nz/X4/3+fn6H9/b2cJS0pKShI+CCCAAAIIIIAAAggggAACCCCAAAJBFwgjeAm6KRMigAACCCCAAAIIIIAAAggggAAChgDBCycCAggggAACCCCAAAIIIIAAAgggYJMAwYtNsEyLAAIIIIAAAggggAACCCCAAAIIELxwDiCAAAIIIIAAAggggAACCCCAAAI2CRC82ATLtAgggAACCCCAAAIIIIAAAggggADBC+cAAggggAACCCCAAAIIIIAAAgggYJMAwYtNsEyLAAIIIIAAAggggAACCCCAAAIIELxwDiCAAAIIIIAAAggggAACCCCAAAI2CRC82ATLtAgggAACCCCAAAIIIIAAAggggADBC+cAAggggAACCCCAAAIIIIAAAgggYJMAwYtNsEyLAAIIIIAAAggggAACCCCAAAIIELxwDiCAAAIIIIAAAggggAACCCCAAAI2CRC82ATLtAgggAACCCCAAAIIIIAAAggggADBC+cAAggggAACCCCAAAIIIIAAAgggYJMAwYtNsEyLAAIIIIAAAggggAACCCCAAAIIELxwDiCAAAIIIIAAAggggAACCCCAAAI2CRC82ATLtAgggAACCCCAAAIIIIAAAggggADBC+cAAggggAACCCCAAAIIIIAAAgggYJMAwYtNsEyLAAIIIIAAAggggAACCCCAAAIIELxwDiCAAAIIIIAAAggggAACCCCAAAI2CRC82ATLtAgggAACCCCAAAIIIIAAAggggADBC+cAAggggAACCCCAAAIIIIAAAgggYJMAwYtNsEyLAAIIIIAAAggggAACCCCAAAIIELxwDiCAAAIIIIAAAggggAACCCCAAAI2CRC82ATLtAgggAACCCCAAAIIIIAAAggggADBC+cAAggggAACCCCAAAIIIIAAAgggYJMAwYtNsEyLAAIIIIAAAggggAACCCCAAAIIELxwDiCAAAIIIIAAAggggAACCCCAAAI2CRC82ATLtAgggAACCCCAAAIIIIAAAggggADBC+cAAggggAACCCCAAAIIIIAAAgggYJMAwYtNsEyLAAIIIIAAAggggAACCCCAAAIIELxwDiCAAAIIIIAAAggggAACCCCAAAI2CRC82ATLtAgggAACCCCAAAIIIIAAAggggADBC+cAAggggAACCCCAAAIIIIAAAgggYJMAwYtNsEyLAAIIIIAAAggggAACCCCAAAIIELxoeg4c+OuYfPrFf+S26jfIjddfo12VX3+3S77d8aucORsn5UoXk5b336ldjV4oKDbunCQmJslV+fJY2s6y1RvkwoV4ebh5A0vzpDc4KSlJzsaek4iICMmTO2fQ5w/GhBcTEuTcuQuSMzKH5MwZGYwpmQMBBBBAAAEEEEAAAQQQMCXgi+BlycovZNi4ualA8ubJLUULR0mTu2tLl0ebSGRkDlNgVg9Kr5biRQvKvfVulfbRjaRk8cLGEpu/3iFP9B0rA3s+Jo+2vDtLy/554LAsWbFe6tWuJjWrXZ+lsWYOnjHvI5ny1tLkQ8uULCqfLhybZuiYqQtl3pJPpfeT0fLEIw+k+f3bSz6VV6culK7tmkmPTi3NLO36Y/bsPSjN2g9Ms49CV+eX+nWqGw7Filyd/PsG0b3l8NGT8p9VMyRf3tzZ3v/9j/WXmDOxsuHDKVecI736VH+LFSkotWveKA82ukNKlSiSao79h45Ko7b95KbrK8h7bwzNdo12DlyxZpMMGP2m8We9V5eHjKU2bv1RvvrmJ3m01d1SomghO5dnbgQQQAABBBBAAAEEEPCxgC+Cl8UffS7DJ7wtt1WvKtddW1YSEhLk9N9n5fNN34q6oqBF47oysn9nR06DQC23/rOKVK5QWmLOxsn2H3aL+vKqApiF0140/tNK8PKf7TulY+9X5PnubY0wJ5ifuHMXpOZ9T0r5MsVl8oieUqlCaTl1+oxcHXVVmmVOno6Re9v0M4zXLZlo7CvwOXLslNz1UC9RgcPqd161fEVHMPdo51y//n5AmnccZPjdeXs1SUxMlNi487Lp6x+NgEUZrVk0TnJERBhlDHpllpw4FSMTh3eX3LmyfzWJ2eAlUJ8KW1Rwp2o7fvJvUVc4qT6qz4LXB0n1myonMx07cVqGvPqWXFO2hPTv3tZOvmzP/dW2n+TtxZ/KvfVqGn/e1Wfa28tl6pxlRlikQiM+CCCAAAIIIIAAAggggIAdAr4KXka/0EWaN7oj2fHgX8fknjZ9RV39snX1DDt808wZCF5S1qJug3h+xBvGrUWBv5HXNXj5/c9D0qTdC/J0u+byTKcWmZotWr5ORkycJ03uqS1jBj2VfPzAl2fK8k83ytghT8v9DW/LdB6vHBAINh68718yasATydtStwE91GWoqCtOls8ZZQRaVj/qFqCwsDBjmqwGL5fXp0KXd5Z+JpNmvm/8eflg1nApV7q41RLTjE9Zc9Anv2xCghe7hZkfAQQQQAABBBBAAAEElICvgxcFcGP9DsZVF/9eNjn5S+rYaYuMv+E/ePiYcbWB+tv/e+rVlI4PN5bCBQsknznqVhp1lcKrQ54SdSuDGhNzNlaG9GonRQv/73aRlKdaesGL+v0vv+2XFp0GG7dzzBrXL8MrXg4dOSET31gsm7/ZYdSmrpxRYc0dt95kLPP9T3tk1GsL5Mddvxt1Vyxfyvh5jZsrG8dd6ZPZ3Lv27JNh4+caa6Sc+9knWkmVSuXSnVqFStFdhhr7mz9lkFHH9h93y2PPjDJqnzOxf7L7F5u+NW5N+mHn78Zct9eoKn2fbmNcHRL4qLDm/ZXr5cBfRw17VUe1G66Vzo88INdfWzb5OPVMkzXrv5YhvR6XvfsPy+ebtot6bk776PukVvUqaWpdvW6LfLRmk7Rp3sC40iPl54effzOujkh5tcTaDdtk4fK1suvXP41DrylbUhrWrWGMv9KVKRkFL2qOnkMmi5p35byXpUK5ksa86lxUdU966Rnjn8+dvyC9h041HFs3u0uWfvxv+WHnb5L/qrwyvG9H45iffvlDJs/+QDZs+cEISeredrPx33Pnisz0VqMr1afmnj5vubz+1jKpcfN1Mn/KpVum4uMvSs8hU4w+qNvGsmp5OuasvP7WUuPWH9Wr6yqWMa5KebTlPRIREW6ssWPXH/L6nGWGb9nSxWTl/22S3b/tl9o1b5JHWjSUnb/+KW8uWCnf7tgtMWfijHOmTs0b5ZGWl24j+nn3Xpk8e6m0blZf7qpT3TiHZr6z0rjS7B83XCtXF7h0xVZ0k3qizp1cuXLKq4O7Snj4peAq8Bn12nzZf+iYTBjWXdvn2Vzpzzi/QwABBBBAAAEEEEAAAecFfB28BJ770C66UapbJOo+2EPOnY+XajdeKwWuyic7dv1ufEFTtyO8M21w8m0gDz813Ag41M/VfwY+Kb84X97SjIIX9VyWxo/2N26Hemti/3SDlz8PHJFWT7xo3PKhgpYC+fPJ+s3fGf8cuIJGhT/q9hRVrwqUiv/32RXqS2ifp1pneIaZmVvt8blh09LMPbRPe7m5asUM51Y1tX/2Zalauby8O3WwPNJ9pPFFOOWVHXMWrZZxM94z5mhU/1ZR9ahj1Ofz9yclP/ckcKWMutVFPXfk0JHjRhCkAoaP5o5KfkbOxDeXyKx3Pza+VKvfBz4jnu+U7oOAA4FDwD/lZtRtNEtX/VvenTbECBdW/t9m6T/qDWPN2jVvMB5a+833u40+qNuESl/2DJSUc2UUbKhQS4VRZUoWkWVvjUweon6mgqodX1x6RpF6mPFtDzxt3JKkAg8VvqmP6rV6fkvgNjP1s0CgELhNKHDMlf41k1nwosYGnjuzbc1MyZUzUgK3n6ngSd1+lhVLdRtT9JNDU4VoH6/9yiixU5v75bmul87ZDVu+l679JxjnUOC8UD9vem8deeqxpsZVWOqjgssCV+U1HvysgrlXBj5pHHP5FWQq4FPBSyBYVcGV+nR59AFZt3G70WMVgKr5Ap/A828a3FFdpox69kqM/A4BBBBAAAEEEEAAAQQQSBbwVfCiro5QV6IkJCbK4aMnjC9mKjRZMHWwROa49EwN9VFf7CpXLJMcsKi3yjw7ZLLxhSxlWBAIXq4tX8p4YOdNVSoaVySUKFowwzenZBS8qFs41BfBwJfN9G41en7EDFFfSl8d0lUeaHi7Uau6GuLBjoON//75+xONZ6Vk5xkvZudW4Yvad/eOLaRb++am/yj1fWm6cSWECkxUkJDyS3Xg4azqS7X6sht4Xoy68mDwmNnGc2rU82rU57c/D0nxIgVTPWhWfYlWVx+pAEhdBaI+geBFhSP9nn5Ybr/lBsmVM6cRFKT3PBo1pm23EUZIkzI8UWHKrY27iurxR2+PNuYOHJcyYFPhw3sfrTNuZSsYlT9Dl0AooeoKXKFz4tTfxpUe6vPZ4glSstj/HvSaUfCijlVBR7uHGhlXNakH55YuWURadhpi3K705ti+yVdBqauOHnhsgBEMZfZwXTPBS59h04zb4hZNf9EI3C4PXrJiqW5DU7ejqeCw2b11jKufVJ3qtitlsn7pa1KkUFRy8KLmVg9qvu+uWkbwdiH+ory/8gtRD3x+qV8nafXApbdrqT+zn234xhirrg5K789TRrcabfvhF3m8x2hpVL+WTBjWLbmX6uqjuYs/SWVr+g8AByKAAAIIIIAAAggggIBvBXwVvKi/8Q98KT5/Id64ckN91C0v6kqIsqWKJZ8I6ovb738eNG4rUF+M1a0q6jaQqaN7Sf06/zSOCwQv29fMNP2K2kDwogKCW6tVkeMnT4t68Ke6zUZ9GV/9zhjjy+LlXxTVl+dqDTunCgACxU6b+6FMnfuhTHu5t3GbTFaDl6zMnd3gRd3GdHfrPkbJlz9QV32ZVV9qVaB0X/1ayT04ExsndZp2T3VbS+CXhw4flz/2/SXqwa67f98vsxeuko5tGkvfrg8bhwSCl4XThhhXfpj5BIKenp1byVOPNzWGBK5uGfTs48YtLeqjvpSrL+cBbzNzB45JGbwEAhZ1LqorL1TgoK5kGT2gixEUqU9GwYu6fWjGmOdSLa2ummnZeUi654jVZ7ykXEjdaqRuOQpcZZVe8GLGUv0Zu7lBR+N2sY8XvCJh8r/beqa9/aERpsyZOMC4NSxwxYvqr+pzyk8gQFE9e7r9g6lC1MBxWQle1HNmHnh8QKrgR+3xzhY9k8/dy29Byso5wLEIIIAAAggggAACCCDgLwFfBS+XP1xXXZ0y652PjS+R6ku1+nKtPupvyoePn5t8G0fKU0LdYqBuNVAfFbyoKzCy8mDeQPBy+Wmmwp+X+nVMfmDp5V8U1ZUt97bpa9w2oW6fSPn5v39/Lb1efN2oX+0jq8FLVubObvCi6lWvoFZfpgc884g8/tC9yVtQb5xSLhl9VBih3oqkPnv+OCD9R72Z6naTwLiUV8YEgpcP54yUyhXKmPpTHbi6Ra332XsTjOd7qFd6q15sXP568pUyH3z8b3lx7FvGnOpZIrf843q5647qcledfyY/ryajBTO6okSFEOs2bpNnh0wx5ly1YIwxRUbBy+VXY6hjA+dB57b3p7mtLJjBi7qV7cNPvkx+Zk96wYsZy5RhXEZe6oHM6sHMgeDlxd7t5OHmDVIdHng+kvrhpWfa/MN4PlDTe+9Ifg5LVoIXNc/CD9fKyEnzDUflGbgtcWDPR41nz/BBAAEEEEAAAQQQQAABBMwK+Dp4UUjqb7dr3f+04fXVymnyn+0/G1+21Rc49daef1StKKVLFJW1X35jfBELVvCi/tb+X7VuNp5HUaZUMeM/U34u/6IYeL5Ey/vvNK7OSflRV+M8M/A142oPNW9Wg5eszG0leFmy8gsZNm6u8eruwCt91T4Ctzn16NTSuNrn8o/qhXrzkXpt9R3NLz1kVoUs6nXMZUoVlb9jzkr0k8NS3ZKUneBFzfvSxHny3vJ18vZrL0ip4oWNt15d/kYmdZzqj7o1bMv2n5PLTe+2tcv3ktmtPCpAUwFK4Ja2rAQvgUDocl9VQzCDl2btBxq3M339yZtGsJFe8GLGMnDeKbfopvXT/XeWutpFvT3pSsGLGqjeUKau+lIPVA689lpdWTVv8kDjQcVZDV7UA3/V1VYqhPu/ReONZxSpW+Q2rZgqUfnzmf33K8chgAACCCCAAAIIIIAAArzVSJ0D6hke6svad2tny/gZi40366jbONTtHIFP4NaJYAUvl199c/m5ePkXxcCXW3VlzNxJA1IdHvjbefU8CnUlRCB4UQ8mVc9SyeyTlbntCF4Ct0rNHv988i026dW87stt0mPw5ORXbgeOCTyY2OoVL2o+9UalNl2HGw/gLVe6mPH65MDtLunVFH8xwXgujAp61BfzlM9WSe/4zIKXwPNTAg/yzUrwEggn1Fumnnzs0q1SgU+wgpfAnwP1rJ4Frw8yps8oeMnMUl1xdkujJ43n/gTmyuhczSx4CYxTQaq6Ck09rFnVqm4/UreOXSl4CVhfvvbQcXOMtx+pq14mvLHYeH6Qeo4QHwQQQAABBBBAAAEEEEAgKwK+v+IlcJVA4PW4gYfAzp7wvNxe49JzNtQzUF6dulDeWfpZ0K54yWrwoupQDxxVD/5VD3lVD3sN1BZ4XfMn775qPKdGvVpXvf0o5e1TmZ0UZue2I3hRrxF+st844wv4nEkDUj2jwwjEduwx3i6zeMUXxi1g3Ts8KN06PJi8JfXQXtW3YAQvatLAFR3qiolLz915NdVrhVet3WK8XjzlA5nVuTF68gJJeSuKeuCvCgLUw2ADV/JcKXhRr4FWV+6oz9bV6q1JubJ0q1HgljF1brw/c3jyc4cCD2C28jpp9RyaVWu/Mh52rEzee2OoVPzvK68zCl7MWAYeVDxjTB/jFqGUHxVkqatd1CvcrxS8qN/dXKViqocmqz8n6pwOvIEoveDl3WVrRb0eOhBYXv5nJBAcBX6uTNUDoPkggAACCCCAAAIIIIAAAlkR8FXwol4VXKlCGUlKSpTTf581XgEdeJvMB7NekiqVyhm3majbTdQDP5veo96ycumZL+o5EuoTqite1NqBgEIFAuqtQvny5Db+Vl/d7tKmeQMZ0rudUaMKK+q17GX8p7pdSt3GFBERYRyT0cfs3HYEL6qmHoNeM94apUKDh5rUk3x588jOX/fKJ5//R6rfXNl4TXHg4bHqi/+D990hJYoVlq3f/iwbtvxgbCtYwUvgCiI1Z3oPc1VXSKkePNj4X0b4oIINdYWFegV54OHIauyN9TsYdaUMygLBizq/6tVWD2lOMl4Rve/gUeOBveozrG8HiW5y6dabrFzxoo7vM2yqfPrFViPEUg9aVq/lVq/CVp+svE5a1Xfn7f+Q2LjzxgOgA6/LVvOoq1PU/IHPlYKXzCx37PpDWj91KWxS5+dNVSrI0eOnRL0CW52TgbDjSsGLCt3Ua9VbN61vBCNnY+Pkw083GlciBa6iSi942fbDbnm8xyjjdqKODzcWFS7deN01qV4hHQgkzVyVk5V/8XIsAggggAACCCCAAAII+EfAH8HLf6+UuLyt6ku+utKl8yP3J7/RSF3dMnTsHOPhoYGPeiuOCmXUA2BfH/2s3FXHwsN1/1uLekCuelBuRp+vvvlJOj/3avIDcwPHqed/DHx5VvJzLNTP1XNdenZqmerNSuqLqHoGibpqQH3U66fVW4Ou9DEzd+CLsnoeS9d2zbL0J0XdtqFu30jvah9128mc91bLWwtXp9qbetCsWqfZvXcYa6lXD6tXEAc+6kvzQ03qy9Q5y6RD6/ukX7c2xq8Cr+dO+fpvs8WqUK5Os+7G4V98MMl4BXnKj7odTdUReJaI+p2qc0ivdqm+tAeClxXzXk6+OkQ9HLhZh0u36KT8qKDjuopljF6qczLwuTx4ORt7Tmrd3zXNq44Dx6vaew99PdWzZ9TDYVd+tlni4y9m+jrp9OpTxqWKFzGuSGmuAq+i/3vdtVo3ELzcc2dNmfTSpWfwpKznSpbqOBXmvTLl3eRzNTBWnbP9n3nEuOIlEAymfGV44Dj14NvX5yxLfkuZ+rkK53p1aZX8INyM/jypwEz1MvCGs5Shl5pn8uwP5I35K2TskKeN5wzxQQABBBBAAAEEEEAAAQSyKuCL4CWrKOr4I8dOGX/zXrhQgTRfNLMzXzDHqDfgqC+KKqxQX/hz5YzMcHq1D3W7iwoPzLwCNytzB3NPgblUreoV0SpAUF/481/20GF13N9nYmX/wSOSJ3cuKV+mhKl9BbtWVefxk38b/6euJClcMCokdWS0L9X3k6dj5JqyJa54fgTbxcp86nw+ePi45MmVU4oWuVpyRERkaTr1QNzDR09Kvry5pViRgum+Vjq9CVUv1Z+nq/LlSX7dvDpOhbDqTWIxZ+Jk4/Ippl8Zn6WiORgBBBBAAAEEEEAAAQQ8L0Dw4vkWs0EEEMiOgHpDkrp66Ol2zY1b9vgggAACCCCAAAIIIIAAAtkRIHjJjhpjEEDA8wKBB/9+9t54KVm8sOf3ywYRQAABBBBAAAEEEEDAHgGCF3tcmRUBBFwscOFCvPFcnAL588nddW9x8U4oHQEEEEAAAQQQQAABBEItQPAS6g6wPgIIIIAAAggggAACCCCAAAIIeFaA4MWzrWVjCCCAAAIIIIAAAggggAACCCAQagGCl1B3gPURQAABBBBAAAEEEEAAAQQQQMCzAgQvnm0tG0MAAQQQQAABBBBAAAEEEEAAgVALELyEugOsjwACCCCAAAIIIIAAAggggAACnhUgePFsa9kYAggggAACCCCAAAIIIIAAAgiEWoDgJdQdYH0EEEAAAQQQQAABBBBAAAEEEPCsAMGLZ1vLxhBAAAEEEEAAAQQQQAABBBBAINQCBC+h7gDrI4AAAggggAACCCCAAAIIIICAZwUIXjzbWjaGAAIIIIAAAggggAACCCCAAAKhFiB4CXUHWB8BBBBAAAEEEEAAAQQQQAABBDwrQPDi2dayMQQQQAABBBBAAAEEEEAAAQQQCLUAwUuoO8D6CCCAAAIIIIAAAggggAACCCDgWQGCF8+2lo0hgAACCCCAAAIIIIAAAggggECoBQheQt0B1kcAAQQQQAABBBBAAAEEEEAAAc8KELx4trVsDAEEEEAAAQQQQAABBBBAAAEEQi1A8BLqDrA+AggggAACCCCAAAIIIIAAAgh4VoDgxbOtZWMIIIAAAggggAACCCCAAAIIIBBqAYKXUHeA9RFAAAEEEEAAAQQQQAABBBBAwLMCBC+ebS0bQwABBBBAAAEEEEAAAQQQQACBUAsQvIS6A6yPAAIIIIAAAggggAACCCCAAAKeFSB48Wxr2RgCCCCAAAIIIIAAAggggAACCIRagOAl1B1gfQQQQAABBBBAAAEEEEAAAQQQ8KwAwYtnW8vGEEAAAQQQQAABBBBAAAEEEEAg1AIEL6HuAOsjgAACCCCAAAIIIIAAAggggIBnBQhePNtaNoYAAggggAACCCCAAAIIIIAAAqEWIHgJdQdYHwEEEEAAAQQQQAABBBBAAAEEPCtA8OLZ1rIxBBBAAAEEEEAAAQQQQAABBBAItQDBS6g7wPoIIIAAAggggAACCCCAAAIIIOBZAYIXz7aWjSGAAAIIIIAAAggggAACCCCAQKgFCF5C3QHWRwABBBBAAAEEEEAAAQQQQAABzwoQvHi2tWwMAQQQQAABBBBAAAEEEEAAAQRCLUDwEuoOsD4CCCCAAAIIIIAAAggggAACCHhWgODFs61lYwgggAACCCCAAAIIIIAAAgggEGoBgpdQd4D1EUAAAQQQQAABBBBAAAEEEEDAswIEL55tLRtDAAEEEEAAAQQQQAABBBBAAIFQCxC8hLoDrI8AAggggAACCCCAAAIIIIAAAp4VIHjxbGvZGAIIIIAAAggggAACCCCAAAIIhFqA4CXUHWB9BBBAAAEEEEAAAQQQQAABBBDwrADBi2dby8YQQAABBBBAAAEEEEAAAQQQQCDUAgQvJjsQG3dO4uMTJKpAPpMjOAwBBBBAAAEEEEAAAQQQQAABBPwuQPCSyRlw+OhJGTlpnny17WfjyCqVysnAno9K1crl/X7usH8EEEAAAQQQQAABBBBAAAEEEMhEgOAlE6DnR8yQU3+fkamje0lYeJgMH/+2HD1+UmaMeY6TCwEEEEAAAQQQQAABBBBAAAEEELiiAMFLJifIY8+MkvJlisuoAU8YRy5bvUGmvLVU1i2ZyKmFAAIIIIAAAggggAACCCCAAAIIELxYOQfWfblNegyeLA3r1pAWjevK2GmLpFOb++WhJvWsTMtYBBBAAAEEEEAAAQQQQAABBBDwgQBXvGTS5AN/HZMufcfKdRXLysatP0ruXJEyZ+IAqVShtA9OD7aIAAIIIIAAAggggAACCCCAAAJWBAheMtF7+KnhUq/OP6Vb++YScyZWho6bKxu2fC+bV06VHBERcvB4nBV/xiKAAAIIIIAAAggggAACCCCgtUCpwnm0rk/34ghertChs7HnpNb9XWXKyJ7S4F81jCN37PpDWj81TD6cM1IqVyhD8KL7GU59CCCAAAIIIIAAAggggAAClgQIXizxCcFLJn6N2vaTCuVKyJjBXSVv7lwyaeb78vmm7fLR26O54sXaucdoBBBAAAEEEEAAAQQQQAABFwgQvFhrEsFLJn4/794r0+ctl7UbtknePLmlZrXrjduObq5a0RjJrUbWTkBGI4AAAggggAACCCCAAAII6C1A8GKtPwQvJv3UbUcXLyZIVIF8qUYQvJgE5DAEEEAAAQQQQAABBBBAAAFXChC8WGsbwYs1P654sejHcAQQQACb8YtpAAAgAElEQVQBBBBAAAEEEEAAAb0FCF6s9YfgxZofwYtFP4YjgAACCCCAAAIIIIAAAgjoLUDwYq0/BC/W/AheLPoxHAEEEEAAAQQQQAABBBBAQG8Bghdr/SF4seZH8GLRj+EIIIAAAggggAACCCCAAAJ6CxC8WOsPwYs1P4IXi34MRwABBBBAAAEEEEAAAQQQ0FuA4MVafwherPkRvFj0YzgCCCCAAAIIIIAAAggggIDeAgQv1vpD8GLNj+DFoh/DEUAAAQQQQAABBBBAAAEE9BYgeLHWH4IXa34ELxb9GI4AAggggAACCCCAAAIIIKC3AMGLtf4QvFjzI3ix6MdwBBBAAAEEEEAAAQQQQAABvQUIXqz1h+DFmh/Bi0U/hiOAAAIIIIAAAggggAACCOgtQPBirT8EL9b8CF4s+jEcAQQQQAABBBBAAAEEEEBAbwGCF2v9IXix5kfwYtGP4QgggAACCCCAAAIIIIAAAnoLELxY6w/BizU/gheLfgxHAAEEEEAAAQQQQAABBBDQW4DgxVp/CF6s+RG8WPRjOAIIIIAAAggggAACCCCAgN4CBC/W+kPwYs2P4MWiH8MRQAABBBBAAAEEEEAAAQT0FiB4sdYfghdrfgQvFv0YjgACCCCAAAIIIIAAAgggoLcAwYu1/hC8WPMjeLHox3AEEEAAAQQQQAABBBBAAAG9BQherPWH4MWaH8GLRT+GI4AAAggggAACCCCAAAII6C1A8GKtPwQv1vwIXiz6MRwBBBBAAAEEEEAAAQQQQEBvAYIXa/0heLHmR/Bi0Y/hCCCAAAIIIIAAAggggAACegsQvFjrD8GLNT+CF4t+DEcAAQQQQAABBBBAAAEEENBbgODFWn8IXqz5EbxY9GM4AggggAACCCCAAAIIIICA3gIEL9b6Q/BizY/gxaIfwxFAAAEEEEAAAQQQQAABBPQWIHix1h+CF2t+BC8W/RiOAAIIIIAAAggggAACCCCgtwDBi7X+ELxY8yN4sejHcAQQQAABBBBAAAEEEEAAAb0FCF6s9YfgxZofwYtFP4YjgAACCCCAAAIIIIAAAgjoLUDwYq0/BC/W/AheLPoxHAEEEEAAAQQQQAABBBBAQG8Bghdr/SF4seZH8GLRj+EIIIAAAggggAACCCCAAAJ6CxC8WOsPwYs1P4IXi34MRwABBBBAAAEEEEAAAQQQ0FuA4MVafwherPkRvFj0YzgCCCCAAAIIIIAAAggggIDeAgQv1vpD8GLNj+DFoh/DEUAAAQQQQAABBBBAAAEE9BYgeLHWH4IXk36xceckPj5BogrkSzXi4PE4kzNwGAIIIIAAAggggAACCCCAAALuEyB4sdYz3wUvA1+eKcs/3ZhGbWif9tK62V1pfn746EkZOWmefLXtZ+N3VSqVk4E9H5Wqlcsb/0zwYu0EZDQCCCCAAAIIIIAAAggggIDeAgQv1vrju+Dl2InTcjb2XLJa3Lnz0uqJF2XCsO7SqP6taTSfHzFDTv19RqaO7iVh4WEyfPzbcvT4SZkx5jmCF2vnHqMRQAABBBBAAAEEEEAAAQRcIEDwYq1JvgteLueas2i1LFq+Tj5e8IrkiIhIo/nYM6OkfJniMmrAE8bvlq3eIFPeWirrlkwkeLF27jEaAQQQQAABBBBAAAEEEEDABQIEL9aa5Ovg5XTMWbm79XMysn8naVS/VrqS677cJj0GT5aGdWtIi8Z1Zey0RdKpzf3yUJN6BC/Wzj1GI4AAAggggAACCCCAAAIIuECA4MVak3wdvEya+b6s3/ytfDBrhISHh6UreeCvY9Kl71i5rmJZ2bj1R8mdK1LmTBwglSqUNo6PibtorQOMRgABBBBAAAEEEEAAAQQQQEBjgfx5cmhcnf6l+TZ4+evoCWkY3Uemvdxb6tWulmGnHn5quNSr80/p1r65xJyJlaHj5sqGLd/L5pVTjVuTYmLj9e8yFSKAAAIIIIAAAggggAACCCCQTYH8eSOzOZJhSsC3wcuwcXNl12/7ZOG0IRmeCeohvLXu7ypTRvaUBv+qYRy3Y9cf0vqpYfLhnJFSuUIZ3mrEnyMEEEAAAQQQQAABBBBAAAFPC3CrkbX2+jJ4+e3PQ9K03QvGLUO1qldJJTh38SeydsM2mT9loPHzRm37SYVyJWTM4K6SN3cuUbcnfb5pu3z09mjjihdeJ23tBGQ0AggggAACCCCAAAIIIICA3gIEL9b648vgpc+wqfL3mViZNa5fGj318NzFK76QratnGL/7efdemT5vuRHG5M2TW2pWu9647ejmqhWN3xO8WDsBGY0AAggggAACCCCAAAIIIKC3AMGLtf74MnjJDpm67ejixQSJKpAv1XCCl+xoMgYBBBBAAAEEEEAAAQQQQMAtAgQv1jpF8GLNjyteLPoxHAEEEEAAAQQQQAABBBBAQG8Bghdr/SF4seZH8GLRj+EIIIAAAggggAACCCCAAAJ6CxC8WOsPwYs1P4IXi34MRwABBBBAAAEEEEAAAQQQ0FuA4MVafwherPkRvFj0YzgCCCCAAAIIIIAAAggggIDeAgQv1vpD8GLNj+DFoh/DEUAAAQQQQAABBBBAAAEE9BYgeLHWH4IXa34ELxb9GI4AAggggAACCCCAAAIIIKC3AMGLtf4QvFjzI3ix6MdwBBBAAAEEEEAAAQQQQAABvQUIXqz1h+DFmh/Bi0U/hiOAAAIIIIAAAggggAACCOgtQPBirT8EL9b8CF4s+jEcAQQQQAABBBBAAAEEEEBAbwGCF2v9IXix5kfwYtGP4QgggAACCCCAAAIIIIAAAnoLELxY6w/BizU/gheLfgxHAAEEEEAAAQQQQAABBBDQW4DgxVp/CF6s+RG8WPRjOAIIIIAAAggggAACCCCAgN4CBC/W+kPwYs2P4MWiH8MRQAABBBBAAAEEEEAAAQT0FiB4sdYfghdrfgQvFv0YjgACCCCAAAIIIIAAAgggoLcAwYu1/hC8WPMjeLHox3AEEEAAAQQQQAABBBBAAAG9BQherPWH4MWaH8GLRT+GI4AAAggggAACCCCAAAII6C1A8GKtPwQv1vwIXiz6MRwBBBBAAAEEEEAAAQQQQEBvAYIXa/0heLHmR/Bi0Y/hCCCAAAIIIIAAAggggAACegsQvFjrD8GLNT+CF4t+DEcAAQQQQAABBBBAAAEEENBbgODFWn8IXqz5EbxY9GM4AggggAACCCCAAAIIIICA3gIEL9b6Q/BizY/gxaIfwxFAAAEEEEAAAQQQQAABBPQWIHix1h+CF2t+BC8W/RiOAAIIIIAAAggggAACCCCgtwDBi7X+ELxY8yN4sejHcAQQQAABBBDwr0BYmH/3zs6dEUhKcmYdVkHA6wIEL9Y6TPBizY/gxaIfwxFAAAEEEEDAnwJhkiR794VL/EV/7p9d2y8QHi5SrEiS5Mtn/1qsgIDXBQherHWY4MWaH8GLRT+GI4AAAggggIA/BVTgMndehOzbz2Uv/jwD7N91wauT5PFHE6VIYS57sV+bFbwuQPBircMEL9b8CF4s+jEcAQQQQAABBPwpQPDiz747uWuCFye1WcvrAgQv1jpM8GLNj+DFoh/DEUAAAQQQQMCfAgQv/uy7k7smeHFSm7W8LkDwYq3DBC/W/AheLPoxHAEEEEAAAQT8KUDw4s++O7lrghcntVnL6wIEL9Y6TPBizY/gxaIfwxFAAAEEEEDAnwIEL/7su5O7JnhxUpu1vC5A8GKtwwQv1vwIXiz6MRwBBBBAAAEE/ClA8OLPvju5a4IXJ7VZy+sCBC/WOkzwYs2P4MWiH8MRQAABBBBAwJ8CBC/+7LuTuyZ4cVKbtbwuQPBircMEL1nwi4+/KEeOn5KihaIkZ85IY+TB43FZmIFDEUAAAQQQQAABBJQAwQvngd0CBC92CzO/nwQIXqx123fBy8CXZ8ryTzemURvap720bnZXupq//3lIXhw7R7b98Ivx+yG920mb5g0IXqyde4xGAAEEEEAAAR8LELz4uPkObZ3gxSFolvGFAMGLtTb7Lng5duK0nI09l6wWd+68tHriRZkwrLs0qn9rGs3DR09Kg+je0rjBbfJIi4ZStfI1cu78eSkYlZ/gxdq5x2gEEEAAAQQQ8LEAwYuPm+/Q1gleHIJmGV8IELxYa7PvgpfLueYsWi2Llq+Tjxe8IjkiItJovjp1oaz4v03y+QeT0v09txpZOwEZjQACCCCAAAL+FCB48Wffndw1wYuT2qzldQGCF2sd9nXwcjrmrNzd+jkZ2b+TNKpfK13JZu0HSp7cuaRk8cJy6PBxqVq5vHRt30xKFC1kHE/wYu0EZDQCCCCAAAII+FOA4MWffXdy1wQvTmqzltcFCF6sddjXwcukme/L+s3fygezRkh4eFi6kjfW7yC3Va8qLRrXlZw5c8jMdz6W2LhzsnzOKImMzCExcRetdYDRCCCAAAIIIICADwXizifJ9JlJsm9/+v8bzIckbDnIAip46dxBpHSJ8CDPzHQI+E8gf54c/tt0EHfs2+Dlr6MnpGF0H5n2cm+pV7tahqQqeJk8oqc0rFvDOEY9aLdJuxdk6ewRcv21ZSUmNj6I7WAqBBBAAAEEEEDAHwJG8DJLCF780e6Q7NIIXtqr4EW/cO9iYpJIUkhYWNQvAmFhEhEuEqyzP3/eS2/15ZM9Ad8GL8PGzZVdv+2ThdOGXFHuoS5D5YGGt0vHNo2N4/b8cUCadRgki2YMlZurVOBWo+ydd4xCAAEEEEAAAZ8LcKuRz08AB7av861G+w+Ey8pVYZKY6AAES/hS4KYbk6TuvxIkLEjRC7caWTuNfBm8/PbnIWna7gWZM3GA1KpeJZXg3MWfyNoN22T+lIHGz99atEqMB/DOGCpX5csjE99YImu//EbWLBoveXLnJHixdv4xGgEEEEAAAQR8KkDw4tPGO7htnYOXvX+GyZx5EQQvDp4Pfluq9m2Jcl8jghdd+u7L4KXPsKny95lYmTWuX5o+jJ22SBav+EK2rp5h/O7ChXgZ+MosWb1ui/HPxYsWlEnDn5F/3HCt8c88XFeXU5k6EEAAAQQQQMBNAgQvbuqWO2sleHFn36g6OAIEL8FxDNYsvgxesoOngpqzZ+OkRLFCEhb2vzvlCF6yo8kYBBBAAAEEEPC7AMGL388A+/dP8GK/MSvoK0DwoldvCF4s9oPgxSIgwxFAAAEEEEDAlwIEL75su6ObJnhxlJvFNBMgeNGrIQQvFvtB8GIRkOEIIIAAAggg4EsBghdftt3RTRO8OMrNYpoJELzo1RCCF4v9IHixCMhwBBBAAAEEEPClAMGLL9vu6KYJXhzlZjHNBAhe9GoIwYvFfhC8WARkOAIIIIAAAgj4UoDgxZdtd3TTBC+OcrOYZgIEL3o1hODFYj8IXiwCMhwBBBBAAAEEfClA8OLLtju6aYIXR7lZTDMBghe9GkLwYrEfBC8WARmOAAII+FxAvSgvKcnnCGzfVgFdzzGCF1vbzuQiQvDCaeBnAYIXvbpP8GKxHwQvFgEZjgACCPhYIEmSZOfOcPn6mwgfK7B1uwVq3pIgVaokSpiE2b1UluYneMkSFwdnQ4DgJRtoDPGMAMGLXq0keLHYD4IXi4AMRwABBHwu8O334bL0w3CfK7B9OwVatUiUf9ycQPBiJzJzaylA8KJlWyjKIQGCF4egTS5D8GISKqPDCF4sAjIcAQQQ8LkAwYvPTwAHtk/w4gAyS2gpQPCiZVsoyiEBgheHoE0uQ/BiEorgxSIUwxFAAAEE0hUgeOHEsFuA4MVuYebXVYDgRdfOUJcTAgQvTiibX4PgxbxVukdyxYtFQIYjgAACPhcgePH5CeDA9gleHEBmCS0FCF60bAtFOSRA8OIQtMllCF5MQmV0GMGLRUCGI4AAAj4XIHjx+QngwPYJXhxAZgktBQhetGwLRTkkQPDiELTJZRwNXg4dOSG/7Nknv/y2T37e/afEx8dLlUrlpFKFMlK5YhmpWK6kybL1OYzgRZ9eUAkCCCDgRgGCFzd2zV01E7y4q19UGzwBgpfgWTKT+wQIXvTqmSPBy99nYmXK7A/k3WVrjd3XuPk6KVuqqERERMihI8flux17JDbunDS4o7oM7PmYlCxeWC+lK1RD8OKaVlEoAgggoKUAwYuWbfFUUQQvnmonm8mCAMFLFrA41HMCBC96tdT24GX95u9k8JhZkjdPbnmmYwtp8K8aki9v7lQK8fEXZdPXO2TG/I/k+5/2yKBnH5dHWjTUSyqDagheXNEmikQAAQS0FSB40bY1nimM4MUzrWQjWRQgeMkiGId7SoDgRa922h689Bj0mnEFS+8nW0ue3DmvuPuEhERZtHytzF64StYtmaiXFMGLK/pBkQgggIDbBAhe3NYx99VL8OK+nlFxcAQIXoLjyCzuFCB40atvtgcv3/20R6rdcG2Wdp2dMVlaIIgHc8VLEDGZCgEEEPChAMGLD5vu8JYJXhwGZzltBAhetGkFhYRAgOAlBOhXWNL24CXl2idPx0jBqPzplnM65qxxC1KOiAi9hDKphuDFVe2iWAQQQEA7AYIX7VriuYIIXjzXUjZkUoDgxSQUh3lSgOBFr7Y6Grz0GTZValWvKm2aN0il8PPuvdJ94CRZ9tZIicqfTy8hghdX9YNiEUAAAbcJELy4rWPuq5fgxX09o+LgCBC8BMeRWdwpQPCiV98cDV7eWfqZjJ68QFref6cM7vW45MoZKctWb5DBY2ZL+TLFZensEZI715WfA6MXnwhXvOjWEepBAAEE3CVA8OKufrmxWoIXN3aNmoMhQPASDEXmcKsAwYtenXM0eFFb3/z1Duk5ZIpULFdSKlUoLR9+8qU0b3SHEcSoNx+57UPw4raOUS8CCCCglwDBi1798GI1BC9e7Cp7MiNA8GJGiWO8KkDwoldnHQ9e1Pb/s32ndOz9iiGhXhutXh/t1g/Bi1s7R90IIICAHgIEL3r0wctVELx4ubvs7UoCBC+cH34WIHjRq/uOBy+r1m6RfiOmS5mSReXG66+RT7/YKs91bS0dWjeW8PAwvXRMVEPwYgKJQxBAAAEEMhQgeOHksFuA4MVuYebXVYDgRdfOUJcTAgQvTiibX8PR4GXa28tl6pxl0uCO6jJywBPGg3QXLV8nIybOk7q33SxTRj4rkZE5zFevwZEELxo0gRIQQAABFwsQvLi4eS4pneDFJY2izKALELwEnZQJXSRA8KJXsxwNXnoOmSzVbqgkHR9OfXXLdz/tkWcGTpKV81/hrUZ6nR9UgwACCCBgswDBi83ATC8EL5wEfhUgePFr59m3EiB40es8cDR4OXbitBQpFJWuwPGTf0tUgXySIyJCL6FMquGKF1e1i2IRQAAB7QQIXrRriecKInjxXEvZkEkBgheTUBzmSQGCF73a6mjworZ+8nSMfL5xuxz465g0uKOG8ZyXj9d+JYULFpDba9ygl46JagheTCBxCAIIIIBAhgIEL5wcdgsQvNgtzPy6ChC86NoZ6nJCgODFCWXzazgavBw6ckKatR8osXHnjApfGfikNL23joyfsVg+/GSDfP7BJK54Md87jkQAAQQQ8IAAwYsHmqj5FgheNG8Q5dkmQPBiGy0Tu0CA4EWvJjkavEyb+6Gs27hdXhvRQ4aPnytN76ljBC87dv0hrZ8aJp+8+6qULVVML6FMquGKF1e1i2IRQAAB7QQIXrRriecKInjxXEvZkEkBgheTUBzmSQGCF73a6mjw0iC6t3R5tIm0fbChPNlvXHLwcvrvs1KnWXdZNGOo3Fylgl5CBC+u6gfFIoAAAm4TIHhxW8fcVy/Bi/t6RsXBESB4CY4js7hTgOBFr745Gry07TZCatxUWfp1a5MqeNn67U7p0OsVWb/0tQwfvqsX2/+q4YoXXTtDXQgggIA7BAhe3NEnN1dJ8OLm7lG7FQGCFyt6jHW7AMGLXh10NHiZ9e7H8sb8FTKyf2d5b/k64zajSteUlv6j3pCoAlfJwmlD9NIxUQ3BiwkkDkEAAQQQyFCA4IWTw24Bghe7hZlfVwGCF107Q11OCBC8OKFsfg1Hg5eLCQkyYNSbsnrdllQVlilZVKa93Euuvaa0+cqzeeTAl2fK8k83phk9tE97ad3srivOOvHNJaLCo80rp0mBq/IaxxK8ZLMRDEMAAQQQMAQIXjgR7BYgeLFbmPl1FSB40bUz1OWEAMGLE8rm13A0eAmU9eOu32Xn7j/lzNk4KVemuNS+5UbJkzun+aotHHnsxGk5G3vprUrqE3fuvLR64kWZMKy7NKp/a4YzL1u9QQaPmW38nuDFQgMYigACCCCQSoDghRPCbgGCF7uFmV9XAYIXXTtDXU4IELw4oWx+jZAEL+bLs//IOYtWy6Ll6+TjBa9k+Cpr9Qyabi9Mkpf6dZS+L00neLG/LayAAAII+EaA4MU3rQ7ZRgleQkbPwiEWIHgJcQNYPqQCBC8h5U+zuO3Bi3qWyy+/7Te1675Pt3HsyhdV0OmYs3J36+dkZP9O0qh+rXRr3Lv/sDzUZahMeukZKV6koDTvOIjgxVQ3OQgBBBBAwIwAwYsZJY6xIkDwYkWPsW4WIHhxc/eo3aoAwYtVweCOtz14GTN1oagrRtRHhRixceekauXyqXbx8+69Uujq/LL6nVflqnx5grvDK8w2aeb7sn7zt/LBrBESHh6W5kj1muvWTw2T9q3vk0daNJRffz+QJniJibvoWL0shAACCCDgLYGkJJHNW5NkyVJv7Yvd6CUQ3SpJbq8ZJuFhaf+3TigrjTufJNNnJsm+/XrVFUoT1g6ugApeOncQKV0iPLgTB2G2nbsTZeacMElMDMJkTIFAOgJ1aidKy6ZhEhEenPM/f54cOFsQsD14SVlb94GTpFzp4tK/e9tUJasAZMv2n+Wd1wenG4BY2F+GQ/86ekIaRveRaS/3lnq1q6V73Kdf/Ef6DJsm7aIbifqfBCdOx8iKNZvk4eYNJLpJPSNAiomNt6M85kQAAQQQ8IGAEbx8rYIXvnj6oN0h22J0q0S5/RZNg5dZQvASsjPD+wsbwUt7Fbzo9+/Ynb+q4CWc4MX7p2HIdmgEL00keMFL3siQ7cULCzsavDSI7i2Pt7pXOrZpnMpu15590rLzEFm1YIyUL1PcEddh4+bKrt/2XfEV1nv+OCBrv9yWXI96MO87Sz+Tpx5vKg80vN14CxNvNXKkXSyCAAIIeFaAW40821ptNsatRtq0gkIcFuBWI4fBWU4rAW410qod4mjw8tgzo+TEqb9l5bxXUl3ZEnhj0OI3hsmN119ju9Bvfx6Spu1ekDkTB0it6lVSrTd38SeydsM2mT9lYJo60rvViODF9naxAAIIIOBpAYIXT7dXi80RvGjRBooIgQDBSwjQWVIbAYIXbVphFOJo8KJu0xkw+k2549ab5K47qkup4kVkxy9/yMJlnxnFrFk03pGH6/YZNlX+PhMrs8b1S9ONsdMWyeIVX8jW1TMIXvQ6V6kGAQQQ8KQAwYsn26rVpghetGoHxTgoQPDiIDZLaSdA8KJXSxwNXtTWF3/0uYyd/p7xkN3A56brK8iwvh3SPHRXL6r0q+GKFzd0iRoRQAABfQUIXvTtjVcqI3jxSifZR1YFCF6yKsbxXhIgeNGrm44HL2r7FxMS5OBfx+R0TKzxiuZiRa7WSyUL1RC8ZAGLQxFAAAEE0ggQvHBS2C1A8GK3MPPrKkDwomtnqMsJAYIXJ5TNrxGS4CUxMUnizp1PU2W+vLnNV67JkQQvmjSCMhBAAAGXChC8uLRxLiqb4MVFzaLUoAoQvASVk8lcJkDwolfDHA1ejhw7JW/M/0jWrN8qJ07FpJHYtGKqROXPp5dQJtUQvLiqXRSLAAIIaCdA8KJdSzxXEMGL51rKhkwKELyYhOIwTwoQvOjVVkeDl9GTFxivY+7esYWULlFEcuSISKVx7501JTIyh15CBC+u6gfFIoAAAm4TIHhxW8fcVy/Bi/t6RsXBESB4CY4js7hTgOBFr745GrzUfbCHRDetLz07t9JLwUI1XPFiAY+hCCCAAAJC8MJJYLcAwYvdwsyvqwDBi66doS4nBAhenFA2v4ajwUvX/uOlbKliMujZx81XqPmRBC+aN4jyEEAAAc0FCF40b5AHyiN48UAT2UK2BAhessXGII8IELzo1UhHg5eNW3+UXi++LqvfGSNFCkXpJZHNaghesgnHMAQQQAABQ4DghRPBbgGCF7uFmV9XAYIXXTtDXU4IELw4oWx+DUeDl74vTZfV67ZkWB0P1zXfOI5EAAEEEPCGAMGLN/qo8y4IXnTuDrXZKUDwYqcuc+suQPCiV4ccDV7Wbtgm+w4eyVCgbYuGkitnpF5CmVTDFS+uahfFIoAAAtoJELxo1xLPFUTw4rmWsiGTAgQvJqE4zJMCBC96tdXR4EWvrQenGoKX4DgyCwIIIOBXAYIXv3beuX0TvDhnzUp6CRC86NUPqnFWgODFWe/MVrM9eDl5Oka2fb9bGtatkWEt585fkPWbv5UG/7pFIi97xXRmGwj17wleQt0B1kcAAQTcLUDw4u7+uaF6ghc3dIka7RAgeLFDlTndIkDwolenbA9etv2wW556frx8uXxKhjs/fPSkNH70eeEZL3qdHFSDAAIIIGC/AMGL/cZ+X4Hgxe9ngH/3T/Di396zcxGCF73OAkeCl8d7jDK1a4IXU0wchAACCCDgIQGCFw81U9OtELxo2hjKsl2A4MV2YhbQWIDgRa/mOBa8PN+9bYY7j4mJlenzlnPFi17nBtUggAACCDggQPDiALLPlyB48fkJ4OPtE7z4uPlsnSteNDsHbA9edv76p7w6daG8NbF/hls/cSpGnu4/QWZPeF6uypdHM6Irl8MzXlzVLopFAAEEtBMgeNGuJZ4riODFcy1lQyYFCF5MQnGYJwW44kWvttoevOi13eBXQ/ASfFNmRAABBPwkQPDip5Xl/JsAACAASURBVG6HZq8EL6FxZ9XQCxC8hL4HVBA6AYKX0NmntzLBi8V+ELxYBGQ4Aggg4HMBghefnwAObJ/gxQFkltBSgOBFy7ZQlEMCBC8OQZtchuDFJFRGhxG8WARkOAIIIOBzAYIXn58ADmyf4MUBZJbQUoDgRcu2UJRDAgQvDkGbXIbgxSQUwYtFKIYjgAACCKQrQPDCiWG3AMGL3cLMr6sAwYuunaEuJwQIXpxQNr8GwYt5q3SP5IoXi4AMRwABBHwuQPDi8xPAge0TvDiAzBJaChC8aNkWinJIgODFIWiTyxC8mITK6DCCF4uADEcAAQR8LkDw4vMTwIHtE7w4gMwSWgoQvGjZFopySIDgxSFok8uEJHj5/c9Dsv/QsTQl1q55g+SIiDBZuh6HEbzo0QeqQAABBNwqQPDi1s65p26CF/f0ikqDK0DwElxPZnOXAMGLXv1yNHj5cdfv8tywabL/0NF0FTatmCpR+fPpJZRJNQQvrmoXxSKAAALaCRC8aNcSzxVE8OK5lrIhkwIELyahOMyTAgQverXV0eClx6DX5Jff9stLz3eSksUKS2SO1Fe3FC9aSMLDw/QSInhxVT8oFgEEEHCbAMGL2zrmvnoJXtzXMyoOjgDBS3AcmcWdAgQvevXN0eClQXRviW5aX55u11wvBQvVcMWLBTyGIoAAAggIwQsngd0CBC92CzO/rgIEL7p2hrqcECB4cULZ/BqOBi/9R70h8fEJMmFYN/MVan4kwYvmDaI8BBBAQHMBghfNG+SB8ghePNBEtpAtAYKXbLExyCMCBC96NdLR4GX95u+k2wsT5fXRz0qJooXSSFxXsaxERITrJZRJNQQvrmoXxSKAAALaCRC8aNcSzxVE8OK5lrIhkwIELyahOMyTAgQverXV0eBFPeNl3cbtGQrwcF29Tg6qQQABBBCwX4DgxX5jv69A8OL3M8C/+yd48W/v2bkIwYteZ4Gjwcve/Yfl75izGQpUva48r5PW6/ygGgQQQAABmwUIXmwGZnoheOEk8KsAwYtfO8++lQDBi17ngaPBi15bD0413GoUHEdmQQABBPwqQPDi1847t2+CF+esWUkvAYIXvfpBNc4KELw4653Zao4HL3v2HpSZ76yUn3b9IWdi46Ri+VLSsvGdct9dtVz3KmmFS/CS2SnG7xFAAAEEriRA8ML5YbcAwYvdwsyvqwDBi66doS4nBAhenFA2v4ajwcsPO3+XNl2HG9XVrnmjFIrKL5u/2SEnTsVIl0ebSK8uD5mv3MEjLyYkyNHjp6XQ1fklV87IVCsTvDjYCJZCAAEEPChA8OLBpmq2JYIXzRpCOY4JELw4Rs1CGgoQvOjVFEeDl+4DJ8mvvx+QD+eMkjy5cxoSSUlJMvHNJTJ74SrZuPx1uTrqKluFBr48U5Z/ujHNGkP7tJfWze5K83N1dc6kme8n/7xR/VtlaJ8OElUgn/Ezghdb28XkCCCAgOcFCF483+KQb5DgJeQtoIAQCRC8hAieZbUQIHjRog3JRTgavNR9sIe0i25kXN2S8nPgr2Nyb5u+Mn/KIKlxc2VbhY6dOC1nY88lrxF37ry0euJFmTCsu6hQ5fLPkpVfSNlSxaTaDZVk38Ej0rnPGOnc9gHp8PB9BC+2dorJEUAAAX8IELz4o8+h3CXBSyj1WTuUAgQvodRn7VALELyEugOp13c0eHnsmVGSN08ueXNs31RVrFizSQaMflNWzHtZKpYr6ajQnEWrZdHydfLxgldMvVFpyKtvyYFDR+Wtif0JXhztFIshgAAC3hQgePFmX3XaFcGLTt2gFicFCF6c1GYt3QQIXvTqiKPBi7p6ZNi4ufJAw9uNZ7wUjMovW7/dKR+t2SiliheRRTNelLCwMMeETseclbtbPycj+3eSRvVrZbpu/MUEadS2rzzQsLY817U1wUumYhyAAAIIIJCZAMFLZkL83qoAwYtVQca7VYDgxa2do+5gCBC8BEMxeHM4Gryo57nMevfjVM9MUVtpcEd1GdyrnRQvWjB4OzMxk3p2y/rN38oHs0aYeqPS0HFzZNXaLfLx/FekWJGrjRVi4i6aWIlDEEAAAQQQSCuQlCSyeWuSLFmKDgL2CUS3SpLba4ZJuIN/uWVmN3Hnk2T6zCTZt9+5v3QzUxfHeEdABS+dO4iULhGu3aZ27k6UmXPCJDFRu9IoyCMCdWonSsumYRIRHpzzP3+eHB6RCc02HA1eAluMO3fBuF3n3IULUrJYYSlcsIDju//r6AlpGN1Hpr3cW+rVrpbp+tPmfihT534oi2YMlZurVEg+PiY2PtOxHIAAAggggEB6Akbw8rUKXvjiyRlin0B0q0S5/RZNg5dZQvBiX+t9P7MRvLRXwYt+/47d+asKXsIJXnx/ltoHYAQvTSR4wUve1G/3ta9yb84ckuAlMTFJ1ENtL//ky5vbMWV1y9Ou3/bJwmlDrrimqnX8jPdk8Yov5O3XBsgN112T6njeauRYy1gIAQQQ8KQAtxp5sq1abYpbjbRqB8U4KMCtRg5is5R2AtxqpFdLHA1ejhw7JW/M/0jWrN8qJ07FpJHYtGKqROW/9JpmOz+//XlImrZ7QeZMHCC1qldJtdTcxZ/I2g3bZP6UgcbPB4+ZLctWb5AZY56TiuX/9+BfdVtUjogIXidtZ6OYGwEEEPCBAMGLD5oc4i0SvIS4ASwfMgGCl5DRs7AGAgQvGjQhRQmOBi+jJy+Qd5Z+Jt07tpDSJYpIjhwRqTTuvbOmREbaf+9Yn2FT5e8zsTJrXL803Rg7bZFxdcvW1TOM3zVq20/2Hzqa5rhVC8ZI+TLFCV70Op+pBgEEEHCdAMGL61rmuoIJXlzXMgoOkgDBS5AgmcaVAgQverXN0eCl7oM9JLppfenZuZVeChaq4VYjC3gMRQABBBAQghdOArsFCF7sFmZ+XQUIXnTtDHU5IUDw4oSy+TUcDV669h8vZUsVk0HPPm6+Qs2PJHjRvEGUhwACCGguQPCieYM8UB7BiweayBayJUDwki02BnlEgOBFr0Y6Grxs3Pqj9HrxdVn9zhgpUihKL4lsVkPwkk04hiGAAAIIGAIEL5wIdgsQvNgtzPy6ChC86NoZ6nJCgODFCWXzazgavPR9abqsXrclw+qceriueZ7MjyR4ydyIIxBAAAEEMhYgeOHssFuA4MVuYebXVYDgRdfOUJcTAgQvTiibX8PR4EW9LWjfwSMZVte2RUPJldNd7wcneDF/snEkAggggEBaAYIXzgq7BQhe7BZmfl0FCF507Qx1OSFA8OKEsvk1HA1ezJflniMJXtzTKypFAAEEdBQgeNGxK96qieDFW/1kN+YFCF7MW3Gk9wQIXvTqaUiCl8TEJIk7dz6NRL68ufXSMVENwYsJJA5BAAEEEMhQgOCFk8NuAYIXu4WZX1cBghddO0NdTggQvDihbH4NR4OXI8dOyRvzP5I167fKiVMxaarkGS/mG8eRCCCAAALeECB48UYfdd4FwYvO3aE2OwUIXuzUZW7dBQhe9OqQo8HL6MkL5J2ln0n3ji2kdIkikiNHRCqNe++sKZGROfQSyqQarnhxVbsoFgEEENBOgOBFu5Z4riCCF8+1lA2ZFCB4MQnFYZ4UIHjRq62OBi91H+wh0U3rS8/OrfRSsFANwYsFPIYigAACCPA6ac4B2wUIXmwnZgFNBQheNG0MZTkiQPDiCLPpRRwNXrr2Hy9lSxWTQc8+brpA3Q8keNG9Q9SHAAII6C3AFS9698cL1RG8eKGL7CE7AgQv2VFjjFcECF706qSjwcvGrT9Krxdfl9XvjJEihaL0kshmNQQv2YRjGAIIIICAIUDwwolgtwDBi93CzK+rAMGLrp2hLicECF6cUDa/hqPBS9+XpsvqdVsyrI6H65pvHEcigAACCHhDgODFG33UeRcELzp3h9rsFCB4sVOXuXUXIHjRq0OOBi9rN2yTfQePZCjQtkVDyZUzUi+hTKrhihdXtYtiEUAAAe0ECF60a4nnCiJ48VxL2ZBJAYIXk1Ac5kkBghe92upo8KLX1oNTDcFLcByZBQEEEPCrAMGLXzvv3L4JXpyzZiW9BAhe9OoH1TgrQPDirHdmqzkevBw7cVp+3v2nxMadS1Nbg3/VkMjLXjGd2QZC/XuCl1B3gPURQAABdwsQvLi7f26onuDFDV2iRjsECF7sUGVOtwgQvOjVKUeDl+9/2iNtu43IUIBnvOh1clANAggggID9AgQv9hv7fQWCF7+fAf7dP8GLf3vPzkUIXvQ6CxwNXnoOmSwH/zouQ3q3k0e6jZBlb42U4kULypBXZ0tSYpJMGfWsXjomquGKFxNIHIIAAgggkKEAwQsnh90CBC92CzO/rgIEL7p2hrqcECB4cULZ/BqOBi/3P9ZfHmt1r7RuVl+qNews788cLlUrl5ftP+6Wx54ZJZ+/P0mKFbnafPUaHEnwokETKAEBBBBwsQDBi4ub55LSCV5c0ijKDLoAwUvQSZnQRQIEL3o1y9HgpVHbftK+9X3ySIuGov57tw4PSvNGd8je/YdFhTILXh8k1W+qrJdQJtUQvLiqXRSLAAIIaCdA8KJdSzxXEMGL51rKhkwKELyYhOIwTwoQvOjVVkeDl069x0ipEkVkZP/OMnzC27Jp64/Sv3tb+WzDN7L8042y5ePpclW+PHoJEby4qh8UiwACCLhNgODFbR1zX70EL+7rGRUHR4DgJTiOzOJOAYIXvfrmaPCyau0W+WPfIeNKlyPHTkmrJ4bIiVMxhkjfrg9LxzaN9dIxUQ1XvJhA4hAEEEAAgQwFCF44OewWIHixW5j5dRUgeNG1M9TlhADBixPK5tdwNHi5vKyLCQnyy559UrZUMcl/VV7zVWt0JMGLRs2gFAQQQMCFAgQvLmyay0omeHFZwyg3aAIEL0GjZCIXChC86NW0kAYvelFkrxqCl+y5MQoBBBBA4JIAwQtngt0CBC92CzO/rgIEL7p2hrqcECB4cULZ/BqOBi/nzl+Q9Zu/lc83fSu/7z2UpsrZE57nGS/me8eRCHhLICzMW/thN/oJJCXpVxPBi5Y98VpRBC9e6yj7MStA8GJWiuO8KEDwoldXHQ1e5ixaLeNmvCc1br5OypUuJpE5cqTS6P/MI5Ind069hDKphiteXNUuitVU4PjxcPn3xjCJjSN80bRFri+rUMEkuadBglz2/3a02BdXvGjRBk8XQfDi6fayuSsIELxwevhZgOBFr+47GryoV0jXql5VRjzfSS8FC9UQvFjAYygC/xU4eixM5r0TLqdPE7xwUtgjUK5sknR8PEEiUuf99iyWxVkJXrIIxuFZFiB4yTIZAzwiQPDikUayjWwJELxki822QY4GL227jZDbqleVXl0esm1DTk9M8OK0OOt5UYDgxYtd1WtPBC969YNqnBUgeHHWm9X0ESB40acXVOK8AMGL8+ZXWtHR4OXdZWvl7cWfyEdvj5ZcOSP1kshmNQQv2YRjGAIpBAheOB3sFiB4sVuY+XUWIHjRuTvUZqcAwYudusytuwDBi14dsj14mfnOSvlh52/GruPjE+TfX30n/7jhWilaOCqNxCsDn5S8eXLrJZRJNQQvrmoXxWoqQPCiaWM8VBbBi4eayVayLEDwkmUyBnhEgODFI41kG9kSIHjJFpttg2wPXqbPWy7f/3QpeMnsM37o0wQvmSHxewQ8KEDw4sGmarYlghfNGkI5jgoQvDjKzWIaCRC8aNQMSnFcgODFcfIrLmh78KLXdoNfDVe8BN+UGf0nQPDiv547vWOCF6fFWU8nAYIXnbpBLU4KELw4qc1augkQvOjVEUeCl4SERGPXERHhybtPTEyS7376VU6ePiO3/OM6icqfTy8Zk9UQvJiE4jAEriBA8MLpYbcAwYvdwsyvswDBi87doTY7BQhe7NRlbt0FCF706pDtwUtSUpI0bN1HInPkkE/efVXCwsLkYkKCRHcZKr/8tt/QKHR1fpk5rp9UqVROLx0RqftgDzlxKiZNXcvnjJJKFUoLwYt2LaMgFwoQvLiwaS4rmeDFZQ2j3KAKELwElZPJXCRA8OKiZlFq0AUIXoJOamlC24MXFa606DRYJgzrJo3q1zKKXf7pRhn48kzp3uFBI2wZN+M9iSpwlSycNsTSZuwYvO/gEVFX5wQ+P/3yh/R9abqsWzJRihctSPBiBzpz+k6A4MV3LXd8wwQvjpOzoEYCBC8aNYNSHBUgeHGUm8U0EyB40ashtgcv6zZulx6DXpONy1+Xq6OuMnbffeAk+Xn3Xvm/ReON249Wrd0i/UZMl/VLX5MihdK+7Ugnsq79x0vRwgVlxPOdjLK44kWn7lCLWwUIXtzaOffUTfDinl5RafAFCF6Cb8qM7hAgeHFHn6jSHgGCF3tcszur7cHLBx//W14c+5bs+GJuco23Nu4qDevWEPX6aPX588ARafzo87JoxlC5uUqF7O7F9nFbv90pHXq9Iv+3aJyUKlGE4MV2cRbwiwDBi186Hbp9EryEzp6VQy9A8BL6HlBBaAQIXkLjzqp6CBC86NGHQBW2By+BK14+e2+8lCxeWP48cFgaP9pf+nVrIx1a32fUsWPXH9L6qWHy4ZyRUrlCGb2E/luNelZNm64vSY1/XCf9u7dNrjEm7qKW9VIUAm4SOHAoUWbOFTl9OsxNZVOriwRU8NKtS5jkyqnXOZaUJLJ5a5IsWeoiTEp1nUB0qyS5vWaYhIfpdf7HnU+S6TOTZN9+vepyXYMpOEMBFbx07iBSusT/XvChC9fO3Ykyc06YJF56BwkfBIIuUKd2orRsGiYR4cE5//PnyRH0Gv00oe3By5Fjp+Suh3pJ03vrSOe298vMBSvl47VfydolE6RE0UKG9aLl62TExHmpbkfSrQmfbfhGnh0yJc3tUDGx8bqVSj0IuE7gwF9JBC+u65q7CjaClydEz+DlaxW88MXTXWeUu6qNbpUot9+iafAySwhe3HU6uapaI3hpr4IX/f4du/NXFbyEE7y46oxyV7FG8NJEghe85I10F4Bm1doevKj9zl64Sia8sTh5648/dK8MeOYR45/jzl2Qe9s8J8WLFpL3Zw7XjOdSOeotTM3aD5TGDW6THp1apqqRZ7xo2TKKcpkAtxq5rGEuLJdbjVzYNEoOmgC3GgWNkolcJsCtRi5rGOUGVYBbjYLKaXkyR4IXVeU33/8iO3b9LrWqV0312uhde/bJR59uNH5er3Y1yxuyY4Klq/4tL095Vz5bPF6i8ucjeLEDmTl9LUDw4uv2O7J5ghdHmFlEUwGCF00bQ1m2CxC82E7MAhoLELzo1RzHghe9tm2+mvMX4uXu1n2kXXQj6fJokzQDueLFvCVHIpCRAMEL54bdAgQvdgszv84CBC86d4fa7BQgeLFTl7l1FyB40atDtgcviz/6XJrcU1vy5sltaucJCYky/4M1yQ/eNTUohAcRvIQQn6U9I0Dw4plWarsRghdtW0NhDggQvDiAzBJaChC8aNkWinJIgODFIWiTy9gevPQY9JocOnJCRg14Qq6/tuwVy/rr6AnjIbs/794r65ZMNLmF0B5G8BJaf1b3hgDBizf6qPMuCF507g612S1A8GK3MPPrKkDwomtnqMsJAYIXJ5TNr2F78HLo8HEZPXmBqNdKqzcbNb2njlS/qVLyFTDx8Rdl5559smrtVzJvyady0/UVZFjfDlK1cnnzuwjhkQQvIcRnac8IELx4ppXaboTgRdvWUJgDAgQvDiCzhJYCBC9atoWiHBIgeHEI2uQytgcvgTrWfblNxs14T/buP2z8SN16lDtXpJw4FWP8c6Gr80u3Dg9KdNP6kiMiwmT5oT+M4CX0PaAC9wsQvLi/h7rvgOBF9w5Rn50CBC926jK3zgIELzp3h9rsFiB4sVs4a/M7FrwEyjobe072/HFAfv3jgKgH11auUEauvaaUFIzKn7XKNTma4EWTRlCGqwUIXlzdPlcUT/DiijZRpE0CBC82wTKt9gIEL9q3iAJtFCB4sRE3G1M7Hrxko0athxC8aN0einOJAMGLSxrl4jIJXlzcPEq3LEDwYpmQCVwqQPDi0sZRdlAECF6Cwhi0SQheLFISvFgEZDgCIkLwwmlgtwDBi93CzK+zAMGLzt2hNjsFCF7s1GVu3QUIXvTqEMGLxX4QvFgEZDgCBC+cAw4IELw4gMwS2goQvGjbGgqzWYDgxWZgptdagOBFr/YQvFjsB8GLRUCGI0DwwjnggADBiwPILKGtAMGLtq2hMJsFCF5sBmZ6rQUIXvRqD8GLxX4QvFgEZDgCBC+cAw4IELw4gMwS2goQvGjbGgqzWYDgxWZgptdagOBFr/YQvFjsB8GLRUCGI0DwwjnggADBiwPILKGtAMGLtq2hMJsFCF5sBmZ6rQUIXvRqj6PBy4DRb0qRQlHSuml9KVe6uF4S2ayG4CWbcAxDIIUAD9fldLBbgODFbmHm11mA4EXn7lCbnQIEL3bqMrfuAgQvenXI0eBl4YdrZcIbSyQ27pzUr/NPeaTF3VL7lhslPDxML5UsVEPwkgUsDkUgAwGCF04NuwUIXuwWZn6dBQhedO4OtdkpQPBipy5z6y5A8KJXhxwNXtTW485dkDXrt8r899fIz7v3SvkyxaVddCNpcndtuSpfHr10TFRD8GICiUMQyESA4IVTxG4Bghe7hZlfZwGCF527Q212ChC82KnL3LoLELzo1SHHg5eU2//+pz3y6rRFsv3H3caPVQCjbkOqUK6kXkpXqIbgxTWtolCNBQheNG6OR0ojePFII9lGtgQIXrLFxiAPCBC8eKCJbCHbAgQv2aazZWBIgpeEhET5attPsujDtbJu43ZjY43q15INW743bkNq3OA2Gffi07ZsONiTErwEW5T5/ChA8OLHrju7Z4IXZ71ZTS8Bghe9+kE1zgkQvDhnzUr6CRC86NUTR4OXU6fPyPI1G+XdpZ/J/kNHpUzJotIu+l5pck8dicqfT86dvyCr122RNeu/lumv9NZLKoNqCF5c0SaK1FyA4EXzBnmgPIIXDzSRLWRbgOAl23QMdLkAwYvLG0j5lgQIXizxBX2wo8FLj0GvGVe4eOXBuqobBC9BPyeZ0IcCBC8+bLrDWyZ4cRic5bQSIHjRqh0U46AAwYuD2CylnQDBi14tcTR4Wbthm1xfqaxxpYtXPgQvXukk+wilAMFLKPX9sTbBiz/6zC7TFyB44czwqwDBi187z76VAMGLXueBo8HLsHFzpXLF0vJoy3tSKezas0+eHjBBPpj1khSMyq+XUCbVELy4ql0Uq6kAwYumjfFQWQQvHmomW8myAMFLlskY4BEBghePNJJtZEuA4CVbbLYNcjR4Ubca3XD9NfJ0u+apNnT0+Cmp36qXvD9zuFStXN62zdoxMcGLHarM6TcBghe/ddz5/RK8OG/OivoIELzo0wsqcVaA4MVZb1bTS4DgRa9+OBK8/Lx7r8THXzReHa1eFR3dpF6ywsWEBOOBuu8uWytff/Km5MmdUy+hTKoheHFVuyhWUwGCF00b46GyCF481Ey2kmUBgpcskzHAIwIELx5pJNvIlgDBS7bYbBvkSPBS98EecuJUTIabKHR1fun8yAPSofV9tm3UrokJXuySZV4/CRC8+KnbodkrwUto3FlVDwGCFz36QBXOCxC8OG/OivoIELzo0wtViSPBy54/Dkj8xQQZ9doCqVShtDzc7K5khcjIHFKhbEkJDw/TS8ZkNQQvJqE4DIErCBC8cHrYLUDwYrcw8+ssQPCic3eozU4Bghc7dZlbdwGCF7065EjwEthybNx5iYgIl1w5I/VSsFANwYsFPIYi8F8BghdOBbsFCF7sFmZ+nQUIXnTuDrXZKUDwYqcuc+suQPCiV4dsD1727D0oK9ZskvatG8n2H3+V/QePZCjwcPMGrgtlCF70OqGpxp0CBC/u7JubqiZ4cVO3qDXYAgQvwRZlPrcIELy4pVPUaYcAwYsdqtmf0/bgZf3m76TbCxNl1YIx8tqsD+TTL/6TYbWbVkyVqPz5sr+bEIwkeAkBOkt6ToDgxXMt1W5DBC/atYSCHBQgeHEQm6W0EiB40aodFOOwAMGLw+CZLGd78JKQkCjnL8QbbysKC3Pnc1yuZEjwotcJTTXuFCB4cWff3FQ1wYubukWtwRYgeAm2KPO5RYDgxS2dok47BAhe7FDN/py2By+Zlaae+6IesBuZIyKzQ7X8PcGLlm2hKJcJELy4rGEuLJfgxYVNo+SgCRC8BI2SiVwmQPDisoZRblAFCF6Cyml5MkeDF/Wsl7eXfCqzxvWTq6OuknEz3pM5i1Ybm5j2cm+pV7ua5Q05PQHBi9PirOdFAYIXL3ZVrz0RvOjVD6pxVoDgxVlvVtNHgOBFn15QifMCBC/Om19pRUeDl679x0tUgatkzKCn5Jff9kuLToOl5f13yumYM3L4yEl5742heumYqIbgxQQShyCQiQDBC6eI3QIEL3YLM7/OAgQvOneH2uwUIHixU5e5dRcgeNGrQ44GL43a9pPObe+X1s3ukrmLP5Gx0xbJ1tVvyJmzcXLXQ73k38smS+GCBfQSyqQaghdXtYtiNRUgeNG0MR4qi+DFQ81kK1kWIHjJMhkDPCJA8OKRRrKNbAkQvGSLzbZBjgYvDz81XO6pV1OeeOQBebLfOIk7d0HmTxkop2POSp2m3Y0rXm66voJtm7184sTEJDly/KTky5Nb8l+V94rrxsadk/j4BIkqkPqtSwQvjrWLhTwsQPDi4eZqsjWCF00aQRkhESB4CQk7i2ogQPCiQRMoIWQCBC8ho093YUeDl8mzP5A35q+QBxreLh+v/UqG9e0g0U3qyxebvpXuAyc5dsVLzJlYGTV5gahnzqhPo/q3yoRh3dMFOnz0pIycNE++2vaz8fsqlcrJwJ6PStXK5Y1/JnjR64SmGncKELy4s29uqprgxU3dotZgaSYTswAAIABJREFUCxC8BFuU+dwiQPDilk5Rpx0CBC92qGZ/TkeDl7Ox52T4+Lmy+ZsdUq/2P43gJUdEhDzUZahEhIc78owXdZVL66eGGet1attY6t5WzbjVqViRq9NVfH7EDDn19xmZOrqXhIWHyfDxb8vR4ydlxpjnCF6yf94xEoFUAgQvnBB2CxC82C3M/DoLELzo3B1qs1OA4MVOXebWXYDgRa8OORq8zH9/jRw7cVp6PxkdMoV1G7dLj0GvyaoFY6R8meKZ1vHYM6OM40YNeMI4dtnqDTLlraWybslEgpdM9TgAAXMCBC/mnDgq+wIEL9m3Y6T7BQhe3N9DdpA9AYKX7LkxyhsCBC969dHR4CVw9cibY/uGTGHM1IXy/sr1ct9dteTXPw5I0cJR0rntA1LthmvTrWndl9ukx+DJ0rBuDWnRuK7xQOBObe6Xh5rUI3gJWRdZ2GsCBC9e66h++yF40a8nVOScAMGLc9aspJcAwYte/aAaZwUIXpz1zmw1R4OXRcvXyfgZi2XzyqnGLUah+PQcMll2/bpPOjx8nxQvUlA++fw/xvNmVs57WSqUK5mmpAN/HZMufcfKdRXLysatP0ruXJEyZ+IAqVShtHFsTNzFUGyDNRHwlMCBQ4kyc67I6dNhntoXm9FHQAUv3bqESa6cep1jSUkim7cmyZKl+lhRifcEolslye01wyQ8TK/zP+58kkyfmST79utVl/fOAP/uSAUvnTuIlC4Rrh3Czt2JMnNOmCQmalcaBXlEoE7tRGnZNMx4xEYwPvnz5AjGNL6dw9HgZc/eg9Km60vSsU1juavOP9Ogq3AjIiI4J0ZGHVXBS+kSRaV/97bGIQkJiVK/1bPydPsH5ZEWDdMMU29iqlfnn9KtfXNRD+UdOm6ubNjyfXJ4FBMb79uTh40jECyBA38lEbwEC5N50hUwgpcnRM/g5WsVvPDFk1PXPoHoVoly+y2aBi+zhODFvtb7fmYjeGmvghf9/h2781cVvIQTvPj+LLUPwAhemkjwgpe8kfYV64OZHQ1e1LNV1DNWMvr8f3v3HWdFdf9//LM0qaIgTVTE3gjGWNAEg/BTIILYACFKEQsBQVEMCiIgRRGUJrIKCoJEWgClqxRFESuWiAUIIiAK0nvb/T3OmN0vK8veu3fuOfO5M6/7T4LMnPM5z8/Zy+57Z+YumTFcSpfK+XHNye6BueJmxeq12Q/HNcFLjQbtpH3rG6VVk3o5pjMPA778b21lWJ+OUvsvl3h/9/V3P3gP550+uo+cXfUUPtUo2Q1ivEgKcKtRJNvudNHcauSUm8mUCXCrkbKGUI4zAW41ckbNRAoFuNVIV1OcBi9r1v0iO3buPqbA+edUsX4L0hfLV0nzdr3FPGfm8ovPk+nz3pOeA8fIlJG9vI+IHjNprsxf/JmMG9bVq7Nus4el6mkVpf9jbaV40eNk8MgpsnDJMnnjlX5erXyctK4NTTWpKUDwkpp9S6WqCV5SqVvUmmwBgpdkizJeqggQvKRKp6jThgDBiw3VxMd0GrwkXmZyzxw9YY4MTJ+YPWifLm28B+eal3l47qQZi+TjOenen79ZsUZGjH3dC2OKFysql1Y/17vtqNr5Z3h/T/CS3N4wWjQFCF6i2XeXqyZ4canNXNoECF60dYR6XAkQvLiSZh6NAgQvurriPHj5cNk33kcym6tf2t5xg/z1yupeCFL2hOO9Z7+4eu3bf0A2bd4mFcuXlcKFYj/o19x2dOjQYSl9fM5boQheXHWMecIsQPAS5u7qWBvBi44+UEUwAgQvwbgza/ACBC/B94AKghMgeAnOPreZnQYvWc9HqVDuRNm5a6883qmFNLzuKvnXtPnSd8g4+XTei1L0uCK6hGJUQ/CSUu2iWKUCBC9KGxOisgheQtRMlpJvAYKXfJNxQkgECF5C0kiWkZAAwUtCbNZOchq8dH/6Zdm+c5cMeaKD3PvPZ6ThtVd5wcvqHzdIgxaPyhtj+sqZp//2Mc2p8iJ4SZVOUadmAYIXzd0JR20EL+HoI6tITIDgJTE3zkp9AYKX1O8hK0hcgOAlcTsbZzoNXmre2EE63dNYbv7b1XLPwwOzg5ct23aK+busB9zaWKitMQlebMkybpQECF6i1O1g1krwEow7s+oQIHjR0QeqcC9A8OLenBn1CBC86OmFqcRp8HJX5wFS9sTjpX+3e3MELzPf+kC69H1Bls58XkqVLK5LKEY1BC8p1S6KVSpA8KK0MSEqi+AlRM1kKfkWIHjJNxknhESA4CUkjWQZCQkQvCTEZu0kp8HLW+9+Ig88/pw0v6mOfPjZN1LrqoulzAnHy4ARE+TGen+Rvo/cZW2htgYmeLEly7hREiB4iVK3g1krwUsw7syqQ4DgRUcfqMK9AMGLe3Nm1CNA8KKnF6YSp8GLmdB8VLP5yOY9e/dlS1xfp4Z0e+AOKV0q5ycG6aLKvRqCl1ToEjVqFyB40d6h1K+P4CX1e8gKEhcgeEncjjNTW4DgJbX7R/X+BAhe/Pkl+2znwYtZwIEDB2Xdz7964cspFcvJCaVLJntdzsYjeHFGzUQhFiB4CXFzlSyN4EVJIygjEAGCl0DYmVSBAMGLgiZQQmACBC+B0ec6sdPg5ZF+L8rxJUvILddfLeeeeaouiQSrIXhJEI7TEDhCgOCF7WBbgODFtjDjaxYgeNHcHWqzKUDwYlOXsbULELzo6pDT4GXi6wtkYPok70qXP150ttzWqLbUqfknKVa0iC6VfFRD8JIPLA5F4BgCBC9sDdsCBC+2hRlfswDBi+buUJtNAYIXm7qMrV2A4EVXh5wGL2bpBw8dlvc++lKmznpXFry/TIoXKypNG13jfcT0GadV0qUTRzUEL3EgcQgCMQQIXtgitgUIXmwLM75mAYIXzd2hNpsCBC82dRlbuwDBi64OOQ9ejlz+xl+3yeQZC+X5V173/vOSGcNT7gG7BC+6NjTVpKYAwUtq9i2VqiZ4SaVuUWuyBQheki3KeKkiQPCSKp2iThsCBC82VBMfM7Dg5evvfpDpcxfLv6bN96r/82UXyZDeHVPutiOCl8Q3H2cikCVA8MJesC1A8GJbmPE1CxC8aO4OtdkUIHixqcvY2gUIXnR1yGnwsn3Hbpmz8EMxz3r5/r/rvNuM7rj1WrmxXk05rXJ5XTJxVkPwEicUhyGQhwDBC9vDtgDBi21hxtcsQPCiuTvUZlOA4MWmLmNrFyB40dUhp8FLh25DvOe6XHnphdKk4TVyzVUXS+HChXSJ5LMagpd8gnE4ArkIELywLWwLELzYFmZ8zQIEL5q7Q202BQhebOoytnYBghddHXIavLy9+FM554xT5LTKFXQp+KiG4MUHHqci8D8Bghe2gm0BghfbwoyvWYDgRXN3qM2mAMGLTV3G1i5A8KKrQ06DF11LT041BC/JcWSUaAsQvES7/y5WT/DiQpk5tAoQvGjtDHXZFiB4sS3M+JoFCF50dcd68PLZV99L/+dek8G9O8gb896XL79ZdUyBAd3bes99SaUXwUsqdYtatQoQvGjtTHjqIngJTy9ZSf4FCF7yb8YZ4RAgeAlHH1lFYgIEL4m52TrLQfCyQgaMmCDP9mwvM958X7765r/HXEv/x+4leLHVacZFQLEAwYvi5oSkNIKXkDSSZSQkQPCSEBsnhUCA4CUETWQJCQsQvCRMZ+VE68GLlaoVDcoVL4qaQSkpK0DwkrKtS5nCCV5SplUUakGA4MUCKkOmhADBS0q0iSItCRC8WIJNcFjnwcv2nbvlm+/XSJEiheWCc6pI0eOKJFi6jtMIXnT0gSpSW4DgJbX7lwrVE7ykQpeo0ZYAwYstWcbVLkDwor1D1GdTgODFpm7+x3YWvPy4fqM82HO4fLNiTY4q69a6THr/s42UKJ5az3bJWgTBS/43HWcg8HsBghf2hG0BghfbwoyvWYDgRXN3qM2mAMGLTV3G1i5A8KKrQ06Cl1VrfpJW9z/prbxF47pywTmny8GDh2T5ijUyfPQ0uejcqvLigM5S+vgSunTiqIbgJQ4kDkEghgDBC1vEtgDBi21hxtcsQPCiuTvUZlOA4MWmLmNrFyB40dUhJ8FL+66D5cvlq2T88O5yWuXyOQS++na13Na2l7RvfZO0a9lIl04c1RC8xIHEIQgQvLAHAhYgeAm4AUwfqADBS6D8TB6gAMFLgPhMHbgAwUvgLchRgPXgZc/efXJZ/bbS46FW0qRhrVxX32/oq/LOB1/IvNcG6NKJoxqClziQOAQBghf2QMACBC8BN4DpAxUgeAmUn8kDFCB4CRCfqQMXIHgJvAVugxfzbJf6f/+nzBz7pFQ9rVKuq3978adyf/dh8p+FoyUtLU2XUIxqCF5Sql0Uq1SAW42UNiZEZRG8hKiZLCXfAgQv+SbjhJAIELyEpJEsIyEBgpeE2KydZP2KF3OLUbN2veX915+TE0qXzHUhn375vbTo2E8+nDVCSpYoZm2xNgYmeLGhyphREyB4iVrH3a+X4MW9OTPqESB40dMLKnErQPDi1pvZdAkQvOjqh/Xg5bOvVsgdHfrK9NF9pGTx3EOV5d+vkY7dh8qSGcOldKnUesAuwYuuDU01qSlA8JKafUulqgleUqlb1JpsAYKXZIsyXqoIELykSqeo04YAwYsN1cTHdBa8xFMiwUs8ShyDQPgECF7C11NtKyJ40dYR6nEpQPDiUpu5NAkQvGjqBrW4FiB4cS2e93zWg5ct23bK0k+Xx7Xqa6/+kxQuXCiuY7UcxBUvWjpBHaksQPCSyt1LjdoJXlKjT1RpR4DgxY4ro+oXIHjR3yMqtCdA8GLPNpGRrQcviRSVSucQvKRSt6hVqwDBi9bOhKcugpfw9JKV5F+A4CX/ZpwRDgGCl3D0kVUkJkDwkpibrbMIXnzKErz4BOR0BESE4IVtYFuA4MW2MONrFiB40dwdarMpQPBiU5extQsQvOjqUKSDl4yMTNm4eauUKFZUSpUsHrMzBw8eko2bt0m5MqWlSJHC3vEELzHZOACBmAIELzGJOMCnAMGLT0BOT2kBgpeUbh/F+xAgePGBx6kpL0DwoquFkQxedu7aI32Hvioz3lzidaNurcvk2Z7tj9mZ1T9ukMcHjJbPvvreO6Z7pxZyW6PaBC+69jLVpLAAwUsKNy9FSid4SZFGUaYVAYIXK6wMmgICBC8p0CRKtCZA8GKNNqGBIxe8mKtcmtzbUwoWKCB3NqsvNa+oLrt275XyJ52QK+Avm7ZK7cadpH7tK6T5TXXk/LNPl33798uJpUsRvCS05TgJgaMFCF7YFbYFCF5sCzO+ZgGCF83doTabAgQvNnUZW7sAwYuuDkUueFnw/jLp0G2IzH61v1Q5pULMbjw9/DWZ8dYSWfjvwVKoYMGjjudWo5iEHIBATAGCl5hEHOBTgODFJyCnp7QAwUtKt4/ifQgQvPjA49SUFyB40dVC68HL9h27Zf+Bg3GtulzZ0pKWlhbXsYke1H/4azJl5jtS75rLZeUP68XM2abZ9VL9gjNzHfKGll2lWNHjpFKFsrLhl81y/tlVpG3LG6RiuTLe8QQviXaC8xD4PwGCF3aDbQGCF9vCjK9ZgOBFc3eozaYAwYtNXcbWLkDwoqtD1oMXc3WJucoknteSGcOldKkS8Rya8DEduw+V71aulVZN60mFk06UuQs/klnzl8rMsU9K1dMqHTXuhbVayRV/PF9uql9TihQpJCPHz5I9e/fJ66P7SuHChWTn3kMJ18KJCCDwm8D6DRkycozI9u12g1e8oytggpd2d6fJcUV07bHMTJEPPs6UyVOj2xtWbl+g8S2ZUuPSNClg+Zdb+V3J3v2ZMmJkpqxdp+vrMr/r4Hi9AiZ4adNKpHLFAuqK/HZFhowcnSYZGepKo6CQCFx1ZYbc3DDNe8RGMl6lihVKxjCRHcN68PLVt6tly9YdHvD4qW/Jzt17pe0dN+QAfyZ9olQsX0aGP9lJChc6+naeZHbHBC+VK5aTLu2becMePpwhtW65X/7R8kbvGS6/f5ngZWjvjlKn5iXeX5kH7TZo8ahMfam3nHvmqbJzT3xX8yRzDYyFQNgE1v+cSfAStqYqW48XvNwlOoOXT0zwwg+eyrZMqMppfEuG1PiT0uBllBC8hGq36VqMF7y0NMGLvvfYb1ea4KUAwYuuLROqarzgpYEkL3gp/tun+vJKTMB68HJkWea2nZuvv1paNamXo9qFS5bJfV2HyIezRkjJEsUSW0mcZz2TPklWrF4r6f0fyg5eajRoJ+1b33hUXeaAW+/uIdfXqSGtb6vvHb/qh/VyQ6tuMiG9h1Q7ryq3GsXpzmEI5CXArUbsD9sC3GpkW5jxNQtwq5Hm7lCbTQFuNbKpy9jaBbjVSFeHnAYv5tOBal7xB+nVuXUOhf98t1qa3ttLJox4XKqdf4ZVoS+Wr5Lm7XrLiwM6y+UXnyfT570nPQeOkSkje3nPbxkzaa7MX/yZjBvW1avj5QmzZfSEOV7QYkKhQS9MlvnvfSpvTnhGihUtQvBitVsMHhUBgpeodDq4dRK8BGfPzMELELwE3wMqCEaA4CUYd2bVIUDwoqMPWVU4DV66PTVKps99T8YN6+Y9zLZgwQKyd98B6THgZe85K29NGCgnVzzJupAJUgamT8yep0+XNt4zXMxrwPMTZNKMRfLxnHTvzwcOHJSuT42SOQs+9P5codyJMrjXffKH/z2Ml4frWm8XE0RAgOAlAk0OeIkELwE3gOkDFSB4CZSfyQMUIHgJEJ+pAxcgeAm8BTkKcBq8bNq8TZq27SW/bNoqxYsV9T7O+ZsVa7yCmjaqLY93auFMZ9/+A2LqqVi+bFzPldmxa4/s3r3XexbNkZ+8RPDirGVMFGIBgpcQN1fJ0ghelDSCMgIRIHgJhJ1JFQgQvChoAiUEJkDwEhh9rhM7DV5MBeYKl2lzFsvX362WLdt2yskVykqtqy6Wv1xezfpHSdugJ3ixocqYURMgeIlax92vl+DFvTkz6hEgeNHTCypxK0Dw4tab2XQJELzo6ofT4OWx/i/Jxl+3es9XCcuL4CUsnWQdQQoQvASpH425CV6i0WdWmbsAwQs7I6oCBC9R7TzrNgIEL7r2gdPgpfvTL8vanzbKmMGP6FLwUQ3Biw88TkXgfwIEL2wF2wIEL7aFGV+zAMGL5u5Qm00BghebuoytXYDgRVeHnAYvC95fJh26DZElM4ZL6VIldEkkWA3BS4JwnIbAEQIEL2wH2wIEL7aFGV+zAMGL5u5Qm00BghebuoytXYDgRVeHnAYvi5Z8Lg/3TpfL/3ieXHXpRUdJNG7wVylSpLAuoRjVELykVLsoVqkAwYvSxoSoLIKXEDWTpeRbgOAl32ScEBIBgpeQNJJlJCRA8JIQm7WTnAYvDzz+nLz17ifHXEwqXglD8GJtbzJwhAQIXiLU7ICWSvASEDzTqhAgeFHRBooIQIDgJQB0plQjQPCiphVeIU6DF11LT041BC/JcWSUaAsQvES7/y5WT/DiQpk5tAoQvGjtDHXZFiB4sS3M+JoFCF50dYfgxWc/CF58AnI6AiJC8MI2sC1A8GJbmPE1CxC8aO4OtdkUIHixqcvY2gUIXnR1yHrwsmrNTzLjzSXSskldWfaflbLup43HFGjaqLYcxzNedO0QqkHAgQDBiwPkiE9B8BLxDRDx5RO8RHwDRHj5BC8Rbj5L5+Okle0B68HLOx98Ie0eHSSzX+0vQ0b9W+Yt+uiYBDzjRdnuoBwEHAkQvDiCjvA0BC8Rbj5LF4IXNkFUBQheotp51m0EuOJF1z6wHrwcPpwh+w8clGJFi0haWpqu1SehGm41SgIiQ0RegOAl8lvAOgDBi3ViJlAsQPCiuDmUZlWA4MUqL4MrFyB40dUg68HLsZa7Z+9++eCTryWtQJr86Q/nSOlSJXTJxFkNwUucUByGQB4CBC9sD9sCBC+2hRlfswDBi+buUJtNAYIXm7qMrV2A4EVXh5wEL9t37paZby2RAwcOSd1al8m+AwelYYtHsyXKnFBKxg9/TE6rXEGXThzVELzEgcQhCMQQIHhhi9gWIHixLcz4mgUIXjR3h9psChC82NRlbO0CBC+6OuQkeGn1wFPy8effeis3IcuZp1eWQ4cOS7f7b5ddu/dKl74vyMUXniXP9myvSyeOaghe4kDiEAQIXtgDAQsQvATcAKYPVIDgJVB+Jg9QgOAlQHymDlyA4CXwFuQowHrw8tPPv8q1t3WWHg+2lIbX/Vn6DX1Vps5+V14Z8qhcWv1cr5hJbyyUXs++Il8vGqNLJ45qCF7iQOIQBAhe2AMBCxC8BNwApg9UgOAlUH4mD1CA4CVAfKYOXIDgJfAWuA1evv7uB2lyb095Z+oQOalMafnPd6ul6b29ZM74/tm3Fn247Bu5s1N/+Wh2upQoXlSXUIxqCF5Sql0Uq1SAW42UNiZEZRG8hKiZLCXfAgQv+SbjhJAIELyEpJEsIyEBgpeE2KydZP2Kl8++WiF3dOibHaqs/nGDNGjxqLw1YaCcXPEkb2FfLl8lzdr1Fj5O2lqfGRgB1QIEL6rbE4riCF5C0UYWkaAAwUuCcJyW8gIELynfQhbgQ4DgxQeehVOdBS9vjOkrxYsVlbU/bZLWnZ6SV5/rJhXLlfGW9M2KNdLhsaEELxYazJAIpIIAwUsqdCm1ayR4Se3+Ub0/AYIXf36cnboCBC+p2zsq9y9A8OLfMJkjOAte4imaK17iUeIYBMInQPASvp5qWxHBi7aOUI9LAYIXl9rMpUmA4EVTN6jFtQDBi2vxvOezHrxs2bZTln66PK5VX3v1n6Rw4UJxHavlIJ7xoqUT1JHKAgQvqdy91Kid4CU1+kSVdgQIXuy4Mqp+AYIX/T2iQnsCBC/2bBMZ2XrwkkhRqXQOwUsqdYtatQoQvGjtTHjqIngJTy9ZSf4FCF7yb8YZ4RAgeAlHH1lFYgIEL4m52TqL4MWnLMGLT0BOR0BECF7YBrYFCF5sCzO+ZgGCF83doTabAgQvNnUZW7sAwYuuDhG8+OwHwYtPQE5HgOCFPeBAgODFATJTqBUgeFHbGgqzLEDwYhmY4VULELzoag/Bi89+ELz4BOR0BAhe2AMOBAheHCAzhVoBghe1raEwywIEL5aBGV61AMGLrvYQvPjsB8GLT0BOR4DghT3gQIDgxQEyU6gVIHhR2xoKsyxA8GIZmOFVCxC86GoPwYvPfhC8+ATkdAQIXtgDDgQIXhwgM4VaAYIXta2hMMsCBC+WgRletQDBi672ELz47AfBi09ATkeA4IU94ECA4MUBMlOoFSB4UdsaCrMsQPBiGZjhVQsQvOhqD8GLz34QvPgE5HQECF7YAw4ECF4cIDOFWgGCF7WtoTDLAgQvloEZXrUAwYuu9hC8+OwHwYtPQE5HgOCFPeBAgODFATJTqBUgeFHbGgqzLEDwYhmY4VULELzoag/Bi89+ELz4BOR0BAhe2AMOBAheHCAzhVoBghe1raEwywIEL5aBGV61AMGLrvYQvPjsB8GLT0BOR4DghT3gQIDgxQEyU6gVIHhR2xoKsyxA8GIZmOFVCxC86GpPpIOXjIxM2bh5q5QoVlRKlSyeUGcIXhJi4yQEcghs+jVNxo4vINu3pyGDgBUBghcrrAyaIgIELynSKMpMugDBS9JJGTCFBAhedDUrksHLzl17pO/QV2XGm0u8btStdZk827N9zM4MenGyjPrXLPlg5vNy/P+CGoKXmGwcgEBMAYKXmEQc4FOA4MUnIKentADBS0q3j+J9CBC8+MDj1JQXIHjR1cLIBS/mKpcm9/aUggUKyJ3N6kvNK6rLrt17pfxJJ+TZmWlzFstj/V/yjiF40bWJqSb1BQheUr+H2ldA8KK9Q9RnU4DgxaYuY2sWIHjR3B1qsy1A8GJbOH/jRy54WfD+MunQbYjMfrW/VDmlQlxaH3/+rbR7dLA88XBr6fzECIKXuNQ4CIH4BQhe4rfiyMQECF4Sc+OscAgQvISjj6wi/wIEL/k344zwCBC86Opl5IKX/sNfkykz35F611wuK39YL+XKlpY2za6X6hecmWtn1qz7RW69u4cMfuI+qXDSidKodTeCF117mGpCIEDwEoImKl8CwYvyBlGeVQGCF6u8DK5YgOBFcXMozboAwYt14nxNELngpWP3ofLdyrXSqmk9L0iZu/AjmTV/qcwc+6RUPa1SDrztO3Z7tyW1bFJPmt9UR1auXn9U8LJz76F8gXMwAggcLbB+Q4aMHCM8XJfNYU3ABC/t7k6T44roeoBzZqbIBx9nyuSp1pbOwAhI41sypcalaVIgTdf+37s/U0aMzJS163TVxZYJj4AJXtq0EqlcsYC6RX27IkNGjk6TjAx1pVFQSASuujJDbm6Y5j1iIxmvUsUKJWOYyI4RyeClcsVy0qV9M6/phw9nSK1b7pd/tLzRC1eOfM1b9JE82PN5adG4rphvCbZs3+k9kLdpo9rSuMFf5fyzq8jOPQcju3lYOALJElj/cybBS7IwGSdXAS94uUt0Bi+fmOCFHzzZuvYEGt+SITX+pDR4GSUEL/ZaH/mRveClpQle9L3HfrvSBC8FCF4iv0vtAXjBSwNJXvBSvLC9YiMwcuSCl2fSJ8mK1Wslvf9D2cFLjQbtpH3rG6VVk3o5Wr7qh/Uy/73Psv/br1u2y/ipb8u9dzSU6+vUkDNPryx8qlEEvkpYonUBbjWyThz5CbjVKPJbINIA3GoU6fZHevHcahTp9kd+8dxqpGsLRC54+WL5Kmnerre8OKCzXH7xeTJ93nvSc+AYmTKyl3cFy5hJc2X+4s9k3LCuR3Uqt1uNCF50bWiqSU0BgpfU7FsqVU3wkkrdotZkCxC8JFuU8VJFgOAlVTpFnTYECF5sqCY+ZuSCF0M1esIcGZg+MVutT5c2clP9mt6fBzw/QSbNWCQfz0kneEl8X3EmAvkSIHjJFxctr5sPAAAgAElEQVQHJyBA8JIAGqeERoDgJTStZCH5FCB4yScYh4dKgOBFVzsjGbyYFuzbf0A2bd4mFcuXlcKFCibcFa54SZiOExHIFiB4YTPYFiB4sS3M+JoFCF40d4fabAoQvNjUZWztAgQvujoU2eAlWW0geEmWJONEWYDgJcrdd7N2ghc3zsyiU4DgRWdfqMq+AMGLfWNm0CtA8KKrNwQvPvtB8OITkNMREBGCF7aBbQGCF9vCjK9ZgOBFc3eozaYAwYtNXcbWLkDwoqtDBC8++0Hw4hOQ0xEgeGEPOBAgeHGAzBRqBQhe1LaGwiwLELxYBmZ41QIEL7raQ/Disx8ELz4BOR0Bghf2gAMBghcHyEyhVoDgRW1rKMyyAMGLZWCGVy1A8KKrPQQvPvtB8OITkNMRIHhhDzgQIHhxgMwUagUIXtS2hsIsCxC8WAZmeNUCBC+62kPw4rMfBC8+ATkdAYIX9oADAYIXB8hMoVaA4EVtayjMsgDBi2VghlctQPCiqz0ELz77QfDiE5DTESB4YQ84ECB4cYDMFGoFCF7UtobCLAsQvFgGZnjVAgQvutpD8OKzHwQvPgE5HQGCF/aAAwGCFwfITKFWgOBFbWsozLIAwYtlYIZXLUDwoqs9BC8++0Hw4hOQ0xEgeGEPOBAgeHGAzBRqBQhe1LaGwiwLELxYBmZ41QIEL7raQ/Disx8ELz4BOR0Bghf2gAMBghcHyEyhVoDgRW1rKMyyAMGLZWCGVy1A8KKrPQQvPvtB8OITkNMRIHhhDzgQIHhxgMwUagUIXtS2hsIsCxC8WAZmeNUCBC+62kPw4rMfBC8+ATkdAYIX9oADAYIXB8hMoVaA4EVtayjMsgDBi2VghlctQPCiqz0ELz77QfDiE5DTESB4YQ84ECB4cYDMFGoFCF7UtobCLAsQvFgGZnjVAgQvutpD8OKzHwQvPgE5HQGCF/aAAwGCFwfITKFWgOBFbWsozLIAwYtlYIZXLUDwoqs9BC8++0Hw4hOQ0xEgeGEPOBAgeHGAzBRqBQhe1LaGwiwLELxYBmZ41QIEL7raQ/Disx8ELz4BOR0Bghf2gAMBghcHyEyhVoDgRW1rKMyyAMGLZWCGVy1A8KKrPQQvPvtB8OITkNMRIHhhDzgQIHhxgMwUagUIXtS2hsIsCxC8WAZmeNUCBC+62kPw4rMfBC8+ATkdAYIX9oADAYIXB8hMoVaA4EVtayjMsgDBi2VghlctQPCiqz0ELz77QfDiE5DTESB4YQ84ECB4cYDMFGoFCF7UtobCLAsQvFgGZnjVAgQvutpD8OKzHwQvPgE5HQGCF/aAAwGCFwfITKFWgOBFbWsozLIAwYtlYIZXLUDwoqs9BC8++0Hw4hOQ0xEgeGEPOBAgeHGAzBRqBQhe1LaGwiwLELxYBmZ41QIEL7raQ/Disx8ELz4BOR0Bghf2gAMBghcHyEyhVoDgRW1rKMyyAMGLZWCGVy1A8KKrPQQvPvtB8OITkNMRIHhhDzgQIHhxgMwUagUIXtS2hsIsCxC8WAZmeNUCBC+62kPw4rMfBC8+ATkdAYIX9oADAYIXB8hMoVaA4EVtayjMsgDBi2VghlctQPCiqz0ELz77QfDiE5DTESB4YQ84ECB4cYDMFGoFCF7UtobCLAsQvFgGZnjVAgQvutpD8OKzHwQvPgE5HQGCF/aAAwGCFwfITKFWgOBFbWsozLIAwYtlYIZXLUDwoqs9BC8++0Hw4hOQ0xEgeGEPOBAgeHGAzBRqBQhe1LaGwiwLELxYBmZ41QIEL7raQ/Disx8ELz4BOR0Bghf2gAMBghcHyEyhVoDgRW1rKMyyAMGLZWCGVy1A8KKrPQQvPvtB8OITkNMRIHhhDzgQIHhxgMwUagUIXtS2hsIsCxC8WAZmeNUCBC+62kPw4rMfyQ1e0kTSfBbE6QjkJZCZqdJn069pMnZ8Adm+nS8AlQ0KQVEELyFoIktIWIDgJWE6TkxxAYKXFG8g5fsSIHjxxZf0kwlefJImM3j5+ts02b6tgM+KOB2BYwikiVQ9PUMqVdAXvhC8sGttCxC82BZmfM0CBC+au0NtNgUIXmzqMrZ2AYIXXR2KdPCSkZEpGzdvlRLFikqpksWP2ZlDhw/Lps3bpcwJpeS4IoVzHJfM4GX23IKy9CN+46/rSyQ81RQqKNKyxWGpcirBS3i6ykriFSB4iVeK48IoQPASxq6ypngECF7iUeKYsAoQvOjqbCSDl5279kjfoa/KjDeXeN2oW+syebZn+1w7M3L8TBk8ckr235ljezzYSkofX8L7bwQvujY01RxbgOCF3RFlAYKXKHeftRO8sAeiKkDwEtXOs24jQPCiax9ELngxV7k0ubenFCxQQO5sVl9qXlFddu3eK+VPOiHXzkyeuUhOPbm8VL/gLFn700Zp82B/adPsemnVtB7Bi669TDUxBAhe2CJRFiB4iXL3WTvBC3sgqgIEL1HtPOsmeNG3ByIXvCx4f5l06DZEZr/aX6qcUiHfHen+9MuyfsMmeXlQF4KXfOtxQpACBC9B6jN30AIEL0F3gPmDFCB4CVKfuYMUIHgJUp+5gxbgipegO5Bz/sgFL/2HvyZTZr4j9a65XFb+sF7KlS3tXcFS/YIzY3bm4KHDUrdZZ7m+zpXyUNsmBC8xxThAkwDBi6ZuUItrAYIX1+LMp0mA4EVTN6jFpQDBi0tt5tImQPCiqyORC146dh8q361c690qVOGkE2Xuwo9k1vylMnPsk1L1tEp5dqfHwNEye/6HMmvcU9m3Ju3ceygpHTW3QE15PVM++JCH6yYFlEGOEjDBS5vWmXLeWfo+OWv9hgwZOUb4OGn2rTUBE7y0uztNjiui6z3WfML7Bx9nyuSp1pbOwAhI41sypcalaVIgTdf+37s/U0aMzJS163TVxZYJj4AJXtq0EqlcUd/3Pt+uyJCRo9MkIyM83qxEl8BVV2bIzQ3TvEdsJONVqlihZAwT2TEiGbxUrlhOurRv5jX98OEMqXXL/fKPljdK85vqHHMjPD9mugwfM10mpPeQaudVzT5u556DSdk85k13yhsEL0nBZJBcBX4LXjLkvDOT8+abTOb1P2cSvCQTlLGOEvCCl7tEZ/DyiQle+MGTbWtPoPEtGVLjT0qDl1FC8GKv9ZEf2QteWprgRd977LcrTfBSgOAl8rvUHoAXvDSQ5AUvxXN+uq+9ysM5cuSCl2fSJ8mK1Wslvf9D2cFLjQbtpH3rG6VVk98emHvky1yJ8kz6RJk0Y5G8MuQRueCc03P8PZ9qFM4vjDCuiluNwthV1hSvALcaxSvFcWEU4FajMHaVNcUjwK1G8ShxTFgFuNVIV2cjF7x8sXyVNG/XW14c0Fkuv/g8mT7vPek5cIxMGdlLzj+7ioyZNFfmL/5Mxg3r6nXqsf4vybQ5i72g5owq/3crUoVyJ0qhggX5OGld+5lq8hAgeGF7RFmA4CXK3WftBC/sgagKELxEtfOs2wgQvOjaB5ELXgz/6AlzZGD6xOxO9OnSRm6qX9P784DnJ3hXt3w8J937c91mD8u6DZuO6lrWpyJxxYuuDU01xxYgeGF3RFmA4CXK3WftBC/sgagKELxEtfOsm+BF3x6IZPBi2rBv/wHZtHmbVCxfVgqbn0gTfBG8JAjHac4FCF6ckzOhIgGCF0XNoBTnAgQvzsmZUIkAwYuSRlBGIAJc8RII+zEnjWzwkqw2ELwkS5JxbAsQvNgWZnzNAgQvmrtDbbYFCF5sCzO+VgGCF62doS4XAgQvLpTjn4PgJX6rXI8kePEJyOnOBAhenFEzkUIBgheFTaEkZwIEL86omUiZAMGLsoZQjlMBghen3DEnI3iJSZT3AQQvPgE53ZkAwYszaiZSKEDworAplORMgODFGTUTKRMgeFHWEMpxKkDw4pQ75mQELzGJCF58EnG6EgGCFyWNoIxABAheAmFnUiUCBC9KGkEZzgUIXpyTM6EiAYIXRc0QEYIXn/3gihefgJzuTIDgxRk1EykUIHhR2BRKciZA8OKMmomUCRC8KGsI5TgVIHhxyh1zMoKXmER5H0Dw4hOQ050JELw4o2YihQIELwqbQknOBAhenFEzkTIBghdlDaEcpwIEL065Y05G8BKTiODFJxGnKxEgeFHSCMoIRIDgJRB2JlUiQPCipBGU4VyA4MU5ORMqEiB4UdQMbjXy3wyuePFvyAhuBAhe3Dgzi04BghedfaEqNwIEL26cmUWfAMGLvp5QkTsBghd31vHMxBUv8SjlcQzBi09ATncmQPDijJqJFAoQvChsCiU5EyB4cUbNRMoECF6UNYRynAoQvDjljjkZwUtMorwPIHjxCcjpzgQIXpxRM5FCAYIXhU2hJGcCBC/OqJlImQDBi7KGUI5TAYIXp9wxJyN4iUlE8OKTiNOVCBC8KGkEZQQiQPASCDuTKhEgeFHSCMpwLkDw4pycCRUJELwoagbPePHfDK548W/ICG4ECF7cODOLTgGCF519oSo3AgQvbpyZRZ8AwYu+nlCROwGCF3fW8czEFS/xKOVxDMGLT0BOdyZA8OKMmokUChC8KGwKJTkTIHhxRs1EygQIXpQ1hHKcChC8OOWOORnBS0yivA8gePEJyOnOBAhenFEzkUIBgheFTaEkZwIEL86omUiZAMGLsoZQjlMBghen3DEnI3iJSUTw4pOI05UIELwoaQRlBCJA8BIIO5MqESB4UdIIynAuQPDinJwJFQkQvChqBs948d8Mrnjxb8gIbgQIXtw4M4tOAYIXnX2hKjcCBC9unJlFnwDBi76eUJE7AYIXd9bxzMQVL/Eo5XEMwYtPQE53JkDw4oyaiRQKELwobAolORMgeHFGzUTKBAhelDWEcpwKELw45Y45GcFLTKK8DyB48QnI6c4ECF6cUTORQgGCF4VNoSRnAgQvzqiZSJkAwYuyhlCOUwGCF6fcMScjeIlJRPDik4jTlQgQvChpBGUEIkDwEgg7kyoRIHhR0gjKcC5A8OKcnAkVCRC8KGoGz3jx3wyuePFvyAhuBAhe3Dgzi04BghedfaEqNwIEL26cmUWfAMGLvp5QkTsBghd31vHMxBUv8SjlcQzBi09ATncmQPDijJqJFAoQvChsCiU5EyB4cUbNRMoECF6UNYRynAoQvDjljjkZwUtMorwPIHjxCcjpzgQIXpxRM5FCAYIXhU2hJGcCBC/OqJlImQDBi7KGUI5TAYIXp9wxJyN4iUlE8OKTiNOVCBC8KGkEZQQiQPASCDuTKhEgeFHSCMpwLkDw4pycCRUJELwoagbPePHfDK548W/ICG4ECF7cODOLTgGCF519oSo3AgQvbpyZRZ8AwYu+nlCROwGCF3fW8czEFS/xKOVxDMGLT0BOdyZA8OKMmokUChC8KGwKJTkTIHhxRs1EygQIXpQ1hHKcChC8OOWOORnBS0yivA8gePEJyOnOBAhenFEzkUIBgheFTaEkZwIEL86omUiZAMGLsoZQjlMBghen3DEnI3iJSUTw4pOI05UIELwoaQRlBCJA8BIIO5MqESB4UdIIynAuQPDinJwJFQkQvChqBs948d8Mrnjxb8gIbgQIXtw4M4tOAYIXnX2hKjcCBC9unJlFnwDBi76eUJE7AYIXd9bxzMQVL/Eo5XEMwYtPQE53JkDw4oyaiRQKELwobAolORMgeHFGzUTKBAhelDWEcpwKELw45Y45GcFLTKK8DyB48QnI6c4ECF6cUTORQgGCF4VNoSRnAgQvzqiZSJkAwYuyhlCOUwGCF6fcMScjeIlJRPDik4jTlQgQvChpBGUEIkDwEgg7kyoRIHhR0gjKcC5A8OKcnAkVCRC8KGoGz3jJXzMOHjwkGzdvk3JlSkuRIoW9k7niJX+GHB2cAMFLcPbMHLwAwUvwPaCC4AQIXoKzZ+ZgBQhegvVn9mAFCF6C9f/97FzxEkc/Vv+4QR4fMFo+++p77+junVrIbY1qE7zEYcchegQIXvT0gkrcCxC8uDdnRj0CBC96ekElbgUIXtx6M5suAYIXXf0geInRj182bZXajTtJ/dpXSPOb6sj5Z58u+/bvlxNLlyJ40bWXqSaGAMELWyTKAgQvUe4+ayd4YQ9EVYDgJaqdZ91GgOBF1z4geInRj6eHvyYz3loiC/89WAoVLHjU0dxqpGtDU82xBQhe2B1RFiB4iXL3WTvBC3sgqgIEL1HtPOsmeNG3BwheYvTkhpZdpVjR46RShbKy4ZfNcv7ZVaRtyxukYrkyXPGibz9TUR4CBC9sjygLELxEufusneCFPRBVAYKXqHaedRO86NsDBC8xenJhrVZyxR/Pl5vq15QiRQrJyPGzZM/effL66L5SuHAhHq6rb09T0TEECF7YGlEWIHiJcvdZO8ELeyCqAgQvUe086yZ40bcHCF7iCF6G9u4odWpe4h1pHrTboMWjMvWl3nLumafq6ygVIYAAAggggAACCCCAAAIIIICAGgGClxituPXuHnJ9nRrS+rb63pGrflgvN7TqJhPSe0i186qqaSSFIIAAAggggAACCCCAAAIIIICAPgGClxg9eXnCbBk9YY4XtJQsUUwGvTBZ5r/3qbw54RkpVrSIvo5SEQIIIIAAAggggAACCCCAAAIIqBEgeInRigMHDkrXp0bJnAUfekdWKHeiDO51n/zhgjPVNDEMhWRkZMqWbTu85+aULlUi1yXt3LVHDh0+nP1R3kceZM7fuHmrnFSmdK6fPmXO27xlh9c/XghoEzD7c9Pm7VLmhFJyXJHCR5UXa3+b96mt23dJ+ZNOkLS0tBznZ51bulRJwmJtjaceT2D7zt2yf/9Bb//m9sprf5vjzR7PzMyUggUL5PtrhxYgEKRArPd+U9uvW7ZLieLFjvn+bcbI7VM3zbnm6+JwRsYx/z7ItTM3Anv3HZCt23ZIxfJlpUCBnN+7GJ1Y7/157e9Y/66gj0AQAgQvcarv2LVHdu/eKxXLlznqB5s4h+CwYwh88MnX0rH7MO+hxeZ12cXnSed/NJWLzv3tVi7z37v0eUEWvL/M+7MJvYb16eiFLOb1zgdfSOcnRmSf3+OhVtKkYS3v78w3JE8OHS9vvvOx9+dSJYvLfa1vlr/VuYJ+IKBCYOT4mTJ45JTsWurWukx6PNhKSh//WwCZ1/4233SMGPuGDB89zTvWBDfP9XtAqv8vGH7/4//II31fkC3bdnp/3/ymOvJoh9tz/QZHBQZFRErA/EDZomM/WbPuF2/dZ1Y5We7+ewNpeN1V3p9j7e+sY3o+M8Y7vlfn1jn88vraiRQ0i1UpEOu9/8f1v0jbLs9mf33c/Ler5fEHW0ph86T8/71+XL9R6v/9n/LWhIFycsWTjlrnjDeXyKCRk2XB5EEqDSgqugIdug3J/r7efO9yY72a8lDbJnG/95sDc9vfsf5dia44K9cgQPCioQsRr2HpZ8tl06/b5Oorq8u+fQfkiUGveL/BHPFUJ09m1L9myeQZi2TcsG7eb3z+8cggqXpaJen9zzvFpOVX39RR7rvzJvn7zf9PFi35XO7vPkzmvTZATqlUTqbMfEf6D3/N+7N5Y582Z7H0Gzpe3pk6WIoXKxpxeZavQWDyzEVy6snlpfoFZ8nanzZKmwf7S5tm10urpvVi7u9l/1kht9/XV8YN6yrVzjtDhr40VWbN/0DenvisdwXZX2++3/tB9p7bG8i6Db/KTXc+Jn26tPE+pY0XAkELbPx1m0yfu1huqPtnKVGsqIyb8qaMnjhX3p021Huvz2t/m9+Ozlv0kfQZPM4LFm9t8NccwUusfxuCXjvzI5DXe7/Ruefhgd4t7n0fuVt+3rhZmtzbSx7v1CI7mGzWrrd8uXyVB/n74MWENnd3HijrNmzyrvQleGG/aRN47uVpcl2ty+S0yuVl6afLpX3XwTJhxONS7fwzYr7357W/Y/27os2BeqIlQPASrX6nxGpNgv1Ivxfli/kveZfHmgccm6sAzA+Q5mW+2X6w5/Pyn4Wj5d2lX0q7RwfJsjdHSpH/3aLxt9u7eCHM32++Vp4fM11en/e+vPFKP+8WDvNmXf/vXeTNCQOlci6/HUoJIIoMtUD3p1+W9Rs2ycuDunhXu+S1v59JnyTfrFwjowY+7JmYbziuufUBmTKyl2z4ZbN0eGyoLJkxPPv2PRNCmq+B4f0eCLUhi0tNAfNDYt1mD3tB4iXVzpG89vf5Z1eRPXv3y45du2XQi5Ol6HFFcgQvsb52UlOIqsMscOR7v7lN4qqG7eXV57rJHy8621t23yHj5OeNW2RY3/uz3+9NIGMCmN8HL+ZqX/Ob/wXvLZNR/5pJ8BLmjROStdVu3Elua1Rb7rm9Ycz3/vzs79//uxISLpaRogIELynauDCXbUKXlavXez88mtdl9dt6v6U34Yt5Lf/+B2l8T0/vB8p5iz6WMRPnyOxX+2eTmMsXTz+1knfJovkh8+/t+3i3JZk38zkLP/SudHmq6z1hJmRtKSpw8NBhqduss1xf50pv/06asSjP/W1usTuxdEnpdv8d2Su+sFYref7JTlKgQAFp2+UZWTrzee8WO/P617T5MmH6fC+I5IWANgFzReJj/V+SxdOHeVco5rW//3pl9ezynxg0Vg4fPpwjeIn1taNt7dQTbYHfv/dnfYLmon8PlnJlf3v2kbkizPwiKet7I/Pfftm0VcwPrMe61cg8n3DAiAkEL9HeXupXb243Nb80Nd+7mPf2eN/749nfv/93RT0GBYZagOAl1O1NvcVlXe1ifoN/5aUXevf4X3RN6+w3Y7OirG9I3p74jMyav1TmLvwoxzci5g27ZPFi0rNzK+9WjS59073fjP53zU/eNylDe3eUOjUvST0cKg69QI+Bo2X2/A9l1rinvAeNmtvs8trf5lL0c888Lfu+6Kyg0uz9v1xeTRrc8YicXfUUadroGtm+c4+8Nu1tOXw4g+Al9Dsp9Ra4YvU6ad6uj7RsXNe7ddS88trf19epkWfwEutrJ/WEqDjMAr9/78+6ze7IKxZNmJg+9vUcIQrBS5h3RTTWtnvPPrn9vj5SskRxGTP4Ee8h6fG+98cKXnL7dyUaqqxSqwDBi9bORLAu8yBQ82bb48GW0uSGa7IFzBUvfR+5S67766Xef8vPFS/mEvQvlq+Sl5/t4oU4YyfPk4HpE2X66D7eD6S8ENAiYG6LGz5muvfR9dXO++3B0rF+a29CRnNlQNeOt2cvI+uKF/NbI/NbJPMAR/O/lSudJMu/+0FOrVyeW420NJ06PIH1P/8qd3To6z1Yvd8jd2d/OlGs/Z3FxxUvbKRUFsjtvT/rF0zvTB2S/UECXPGSyl2m9twEzC9H7+8+1LuFbuzQrnJC6ZLeYfG+9+cVvBzr3xU6gUCQAgQvQeozd7ZA1nNbcnvwp3nGS71rLpe7ml/vHZ/bM14+f2uU91HU5mWeEdCi8XXeM16a3ttLLvnDOdKlfTPv78xDe6vVbu09oK5po9p0AIHABcyefCZ9oheyvDLkEbngnNOza8p6TsWx9rd5BsZ3q36UFwd09s458hkv5hkYR77Mp4OZEPOR+5rLHbdeF/i6KQABI2BuK23d6Smp/ZdLpHunFjk+9jbe/Z1b8BLrawd9BIIWyOu9P7dnvPQeNFY2/ro1+xkvpn6ueAm6i8yfqID5tNiOjw2VvXv3ywtPP5Qdupjx4n3vP1bwkte/K4nWy3kIJEOA4CUZiozhS8Dcs9z1yZHeD4Tmm++sl3l2hXkei/mNvfl0IvOpRsWLHed9vGLWpxqZW4guq3+vF6w0z+VTjXo9+4q8/e4nMn54dzn15HLy1rufSqcez/FwXV8d4+RkCphnWph7kNP7PyRnVKmUPbT5JIoDBw7lub//71NfunmfBDBk1BSZPX+p96lG5lNfNm/dIceXKiGbt26XYS9NlXeXfuF9whef6JXMDjJWogLfrVorN7fpLua2oQ5tbvaeS2Re5n3+xNKljvhki9z3t7ltLiMjQ/oMGSeHDh2Wng+1koIFC3p7P9a/DYnWzHkIJEsgr/d+88ECd3UeIMeXLOFd8ZvbpxqZ58KY/16v+T+959yZj5PO+qhpc4Wv+Zowt6qaj5Oe968BklYgLUewmax1MA4C+RUw78+3te0l5iG5g3rd5316l3mZfwMqlS8T870/r/0d69+V/NbK8QgkU4DgJZmajJWQgPlt5cTXFxx1btbVL+b+T3PZofmh0bwuOreq9xsf8wwM81rw/jIxD9TNej32wB3S7MY63h+3bd8lg0dO8Z4FY15VTqkgrZrUkwbXXplQrZyEQLIFzBVa5qn7v3+Zb6TNfs1rf5tvPp4bPU3Sx77hnW4ClRcHPJT9KRhm75vg0rxqXlFNenW+0/toUV4IaBAwv6007+2/fzW87irvAeix9vekNxaKCdePfPX+551y89+ujvlvg4b1U0O0BWK996/+cYP3i6asfx9urPcXL1zMurrXXMFormTMepnbTs2Dqc3L/Ma/UetuOYCzvq6irc7qNQhkXan1+1qy9nCs9/689nesf1c0rJ8aoitA8BLd3qfcys2ltwcPHsq+3/nIBZjffP68aYuUL3tC9jclR/591kfPVSxXJuXWTcEIxNrf+/YfkC1bd0jF8mW93/ZnvcxvlczVLua/Z/0mFE0EUk3gWPs7nnXE+tqJZwyOQSBIAfNDqrkioETxokGWwdwIOBfw897vvFgmRCAOAYKXOJA4BAEEEEAAAQQQQAABBBBAAAEEEEhEgOAlETXOQQABBBBAAAEEEEAAAQQQQAABBOIQIHiJA4lDEEAAAQQQQAABBBBAAAEEEEAAgUQECF4SUeMcBBBAAAEEEEAAAQQQQAABBBBAIA4Bgpc4kDgEAQQQQAABBBBAAAEEEEAAAQQQSESA4CURNc5BAAEEEEAAAQQQQAABBBBAAAEE4hAgeIkDiUMQQAABBBBAAAEEEEAAAQQQQACBRAQIXiNbPNoAAAkfSURBVBJR4xwEEEAAAQQQQAABBBBAAAEEEEAgDgGClziQOAQBBBBAAAEEEEAAAQQQQAABBBBIRIDgJRE1zkEAAQQQQAABBBBAAAEEEEAAAQTiECB4iQOJQxBAAAEEEEAAAQQQQAABBBBAAIFEBAheElHjHAQQQAABBBBAAAEEEEAAAQQQQCAOAYKXOJA4BAEEEEAAAQQQQAABBBBAAAEEEEhEgOAlETXOQQABBBBAAAEEEEAAAQQQQAABBOIQIHiJA4lDEEAAAQQQQAABBBBAAAEEEEAAgUQECF4SUeMcBBBAAAEEEEhYYPuO3fLpl9/JWVUry2mVK+QY59ct2+XL5avkwnOrSoVyJyY8BycigAACCCCAAAJaBAhetHSCOhBAAAEEEIiIwMFDh+WWNt3l0OHD8vrovlK4cKHslXfoNkQ+/3qlzH61v5QqWTwiIiwTAQQQQAABBMIsQPAS5u6yNgQQQAABBJQKfPbV93JHh37yUNsmcudtf/OqXPD+MjHBy+An7pNrr75UaeWUhQACCCCAAAII5E+A4CV/XhyNAAIIIIAAAkkS6P70yzJ19rvy9sRnpPTxJaRBi0fl/LOryPB+D3gzrFn3iwwcMUGWfvaNFD2usNS84g/S+R+3SZkTSnl//2DP5+Xr71bLug2bvP/258urSae7G2ffojTx9QXy4bJvpX2rRjJ+2nz575qfpGObm+WSauckaQUMgwACCCCAAAIIxBYgeIltxBEIIIAAAgggYEFgy7adUrfZw3LlpRfI6adUlJdem+2FMJUqlJWNv26Ta259wAtJmjSsJVu275RR42fKheeeLun9H/Kq6dh9qFx84VlySqXysnXbDnlu9DQ596zTZNTAh72/f/aFSd6Y5mXGMc+MaXrDNXLZxedZWA1DIoAAAggggAACuQsQvLAzEEAAAQQQQCAwAXPFi7nyxby6tG8mLRrX9f7/gOcnyKQZi+SdqYOleLGi3n+b8PoC6T1orLw7baiUPfH47Jr3HzgoW7fvlHGT35Qxk+bKl/NfloIFC3jBy2vTF8irz3WTc888NbA1MjECCCCAAAIIRFuA4CXa/Wf1CCCAAAIIBCqQkZEpTe7tKVu27ZA3JwyUQgULevW0euAp+fjzb71bj7JeO3ft8W4rmvxiT7ngnNNl3qKPJH3sG/L9f9flWMPnb43yHthrgpd5iz6Wea8NCHSNTI4AAggggAAC0RYgeIl2/1k9AggggAACgQuYZ7X8uP4XmTKyV3YtTe/tJQUKFpB2LRsdVV/1C8+Sr775r9zz8EC5sd5fvNuHTjm5vMx/71PpOXCMELwE3lIKQAABBBBAAIEjBAhe2A4IIIAAAgggEKhAbsFLt6dGyQeffi2zxvWXYkWLZNeXmZkpaWlpMnjkFBk5fqZ8/vZLUrjQb1fJTJuzWB7r/xLBS6DdZHIEEEAAAQQQ+L0AwQt7AgEEEEAAAQQCFcgtePlmxRq59e4ecnWN6tK2xQ1SskQx+XbljzJ6whzv4blfLF8l7R4dJA//4za59OJzZfl3P8iwl6eKeWAvV7wE2k4mRwABBBBAAIHfCRC8sCUQQAABBBBAIFCB3IIXU9DiD7+UPoPHec91yXrVvKKaDOrVQQoXLihd+42UWfOXen9lPk7afMLRgveXZQcvg16cLHMXfsQzXgLtLpMjgAACCCCAAMELewABBBBAAAEEVAts37lbdu3eK+XKlJYiRQrnqHX7jt2yfecuqVyxnPdJRrwQQAABBBBAAAFtAgQv2jpCPQgggAACCCCAAAIIIIAAAgggEBoBgpfQtJKFIIAAAggggAACCCCAAAIIIICANgGCF20doR4EEEAAAQQQQAABBBBAAAEEEAiNAMFLaFrJQhBAAAEEEEAAAQQQQAABBBBAQJsAwYu2jlAPAggggAACCCCAAAIIIIAAAgiERoDgJTStZCEIIIAAAggggAACCCCAAAIIIKBNgOBFW0eoBwEEEEAAAQQQQAABBBBAAAEEQiNA8BKaVrIQBBBAAAEEEEAAAQQQQAABBBDQJkDwoq0j1IMAAggggAACCCCAAAIIIIAAAqERIHgJTStZCAIIIIAAAggggAACCCCAAAIIaBMgeNHWEepBAAEEEEAAAQQQQAABBBBAAIHQCBC8hKaVLAQBBBBAAAEEEEAAAQQQQAABBLQJELxo6wj1IIAAAggggAACCCCAAAIIIIBAaAQIXkLTShaCAAIIIIAAAggggAACCCCAAALaBAhetHWEehBAAAEEEEAAAQQQQAABBBBAIDQCBC+haSULQQABBBBAAAEEEEAAAQQQQAABbQIEL9o6Qj0IIIAAAggggAACCCCAAAIIIBAaAYKX0LSShSCAAAIIIIAAAggggAACCCCAgDYBghdtHaEeBBBAAAEEEEAAAQQQQAABBBAIjQDBS2hayUIQQAABBBBAAAEEEEAAAQQQQECbAMGLto5QDwIIIIAAAggggAACCCCAAAIIhEaA4CU0rWQhCCCAAAIIIIAAAggggAACCCCgTYDgRVtHqAcBBBBAAAEEEEAAAQQQQAABBEIjQPASmlayEAQQQAABBBBAAAEEEEAAAQQQ0CZA8KKtI9SDAAIIIIAAAggggAACCCCAAAKhESB4CU0rWQgCCCCAAAIIIIAAAggggAACCGgTIHjR1hHqQQABBBBAAAEEEEAAAQQQQACB0AgQvISmlSwEAQQQQAABBBBAAAEEEEAAAQS0CRC8aOsI9SCAAAIIIIAAAggggAACCCCAQGgECF5C00oWggACCCCAAAIIIIAAAggggAAC2gQIXrR1hHoQQAABBBBAAAEEEEAAAQQQQCA0AgQvoWklC0EAAQQQQAABBBBAAAEEEEAAAW0CBC/aOkI9CCCAAAIIIIAAAggggAACCCAQGgGCl9C0koUggAACCCCAAAIIIIAAAggggIA2AYIXbR2hHgQQQAABBBBAAAEEEEAAAQQQCI0AwUtoWslCEEAAAQQQQAABBBBAAAEEEEBAmwDBi7aOUA8CCCCAAAIIIIAAAggggAACCIRGgOAlNK1kIQgggAACCCCAAAIIIIAAAgggoE2A4EVbR6gHAQQQQAABBBBAAAEEEEAAAQRCI/D/AfOrXAM1S4OuAAAAAElFTkSuQmCC",
      "text/html": [
       "<div>                            <div id=\"5e834aa2-037b-4043-bdba-d7327ad5b7fb\" class=\"plotly-graph-div\" style=\"height:600px; width:800px;\"></div>            <script type=\"text/javascript\">                require([\"plotly\"], function(Plotly) {                    window.PLOTLYENV=window.PLOTLYENV || {};                                    if (document.getElementById(\"5e834aa2-037b-4043-bdba-d7327ad5b7fb\")) {                    Plotly.newPlot(                        \"5e834aa2-037b-4043-bdba-d7327ad5b7fb\",                        [{\"alignmentgroup\":\"True\",\"hovertemplate\":\"Year=%{x}<br>Bird Diversity (Shannon Index) =%{y}<extra></extra>\",\"legendgroup\":\"\",\"marker\":{\"color\":\"#636efa\",\"pattern\":{\"shape\":\"\"}},\"name\":\"\",\"offsetgroup\":\"\",\"orientation\":\"v\",\"showlegend\":false,\"textposition\":\"auto\",\"x\":[2008,2009,2010,2011,2012],\"xaxis\":\"x\",\"y\":[6.2317978711318425,7.061334254978072,7.5473045026147805,7.6645586507260655,7.595814149259401],\"yaxis\":\"y\",\"type\":\"bar\"}],                        {\"template\":{\"data\":{\"histogram2dcontour\":[{\"type\":\"histogram2dcontour\",\"colorbar\":{\"outlinewidth\":0,\"ticks\":\"\"},\"colorscale\":[[0.0,\"#0d0887\"],[0.1111111111111111,\"#46039f\"],[0.2222222222222222,\"#7201a8\"],[0.3333333333333333,\"#9c179e\"],[0.4444444444444444,\"#bd3786\"],[0.5555555555555556,\"#d8576b\"],[0.6666666666666666,\"#ed7953\"],[0.7777777777777778,\"#fb9f3a\"],[0.8888888888888888,\"#fdca26\"],[1.0,\"#f0f921\"]]}],\"choropleth\":[{\"type\":\"choropleth\",\"colorbar\":{\"outlinewidth\":0,\"ticks\":\"\"}}],\"histogram2d\":[{\"type\":\"histogram2d\",\"colorbar\":{\"outlinewidth\":0,\"ticks\":\"\"},\"colorscale\":[[0.0,\"#0d0887\"],[0.1111111111111111,\"#46039f\"],[0.2222222222222222,\"#7201a8\"],[0.3333333333333333,\"#9c179e\"],[0.4444444444444444,\"#bd3786\"],[0.5555555555555556,\"#d8576b\"],[0.6666666666666666,\"#ed7953\"],[0.7777777777777778,\"#fb9f3a\"],[0.8888888888888888,\"#fdca26\"],[1.0,\"#f0f921\"]]}],\"heatmap\":[{\"type\":\"heatmap\",\"colorbar\":{\"outlinewidth\":0,\"ticks\":\"\"},\"colorscale\":[[0.0,\"#0d0887\"],[0.1111111111111111,\"#46039f\"],[0.2222222222222222,\"#7201a8\"],[0.3333333333333333,\"#9c179e\"],[0.4444444444444444,\"#bd3786\"],[0.5555555555555556,\"#d8576b\"],[0.6666666666666666,\"#ed7953\"],[0.7777777777777778,\"#fb9f3a\"],[0.8888888888888888,\"#fdca26\"],[1.0,\"#f0f921\"]]}],\"heatmapgl\":[{\"type\":\"heatmapgl\",\"colorbar\":{\"outlinewidth\":0,\"ticks\":\"\"},\"colorscale\":[[0.0,\"#0d0887\"],[0.1111111111111111,\"#46039f\"],[0.2222222222222222,\"#7201a8\"],[0.3333333333333333,\"#9c179e\"],[0.4444444444444444,\"#bd3786\"],[0.5555555555555556,\"#d8576b\"],[0.6666666666666666,\"#ed7953\"],[0.7777777777777778,\"#fb9f3a\"],[0.8888888888888888,\"#fdca26\"],[1.0,\"#f0f921\"]]}],\"contourcarpet\":[{\"type\":\"contourcarpet\",\"colorbar\":{\"outlinewidth\":0,\"ticks\":\"\"}}],\"contour\":[{\"type\":\"contour\",\"colorbar\":{\"outlinewidth\":0,\"ticks\":\"\"},\"colorscale\":[[0.0,\"#0d0887\"],[0.1111111111111111,\"#46039f\"],[0.2222222222222222,\"#7201a8\"],[0.3333333333333333,\"#9c179e\"],[0.4444444444444444,\"#bd3786\"],[0.5555555555555556,\"#d8576b\"],[0.6666666666666666,\"#ed7953\"],[0.7777777777777778,\"#fb9f3a\"],[0.8888888888888888,\"#fdca26\"],[1.0,\"#f0f921\"]]}],\"surface\":[{\"type\":\"surface\",\"colorbar\":{\"outlinewidth\":0,\"ticks\":\"\"},\"colorscale\":[[0.0,\"#0d0887\"],[0.1111111111111111,\"#46039f\"],[0.2222222222222222,\"#7201a8\"],[0.3333333333333333,\"#9c179e\"],[0.4444444444444444,\"#bd3786\"],[0.5555555555555556,\"#d8576b\"],[0.6666666666666666,\"#ed7953\"],[0.7777777777777778,\"#fb9f3a\"],[0.8888888888888888,\"#fdca26\"],[1.0,\"#f0f921\"]]}],\"mesh3d\":[{\"type\":\"mesh3d\",\"colorbar\":{\"outlinewidth\":0,\"ticks\":\"\"}}],\"scatter\":[{\"fillpattern\":{\"fillmode\":\"overlay\",\"size\":10,\"solidity\":0.2},\"type\":\"scatter\"}],\"parcoords\":[{\"type\":\"parcoords\",\"line\":{\"colorbar\":{\"outlinewidth\":0,\"ticks\":\"\"}}}],\"scatterpolargl\":[{\"type\":\"scatterpolargl\",\"marker\":{\"colorbar\":{\"outlinewidth\":0,\"ticks\":\"\"}}}],\"bar\":[{\"error_x\":{\"color\":\"#2a3f5f\"},\"error_y\":{\"color\":\"#2a3f5f\"},\"marker\":{\"line\":{\"color\":\"#E5ECF6\",\"width\":0.5},\"pattern\":{\"fillmode\":\"overlay\",\"size\":10,\"solidity\":0.2}},\"type\":\"bar\"}],\"scattergeo\":[{\"type\":\"scattergeo\",\"marker\":{\"colorbar\":{\"outlinewidth\":0,\"ticks\":\"\"}}}],\"scatterpolar\":[{\"type\":\"scatterpolar\",\"marker\":{\"colorbar\":{\"outlinewidth\":0,\"ticks\":\"\"}}}],\"histogram\":[{\"marker\":{\"pattern\":{\"fillmode\":\"overlay\",\"size\":10,\"solidity\":0.2}},\"type\":\"histogram\"}],\"scattergl\":[{\"type\":\"scattergl\",\"marker\":{\"colorbar\":{\"outlinewidth\":0,\"ticks\":\"\"}}}],\"scatter3d\":[{\"type\":\"scatter3d\",\"line\":{\"colorbar\":{\"outlinewidth\":0,\"ticks\":\"\"}},\"marker\":{\"colorbar\":{\"outlinewidth\":0,\"ticks\":\"\"}}}],\"scattermapbox\":[{\"type\":\"scattermapbox\",\"marker\":{\"colorbar\":{\"outlinewidth\":0,\"ticks\":\"\"}}}],\"scatterternary\":[{\"type\":\"scatterternary\",\"marker\":{\"colorbar\":{\"outlinewidth\":0,\"ticks\":\"\"}}}],\"scattercarpet\":[{\"type\":\"scattercarpet\",\"marker\":{\"colorbar\":{\"outlinewidth\":0,\"ticks\":\"\"}}}],\"carpet\":[{\"aaxis\":{\"endlinecolor\":\"#2a3f5f\",\"gridcolor\":\"white\",\"linecolor\":\"white\",\"minorgridcolor\":\"white\",\"startlinecolor\":\"#2a3f5f\"},\"baxis\":{\"endlinecolor\":\"#2a3f5f\",\"gridcolor\":\"white\",\"linecolor\":\"white\",\"minorgridcolor\":\"white\",\"startlinecolor\":\"#2a3f5f\"},\"type\":\"carpet\"}],\"table\":[{\"cells\":{\"fill\":{\"color\":\"#EBF0F8\"},\"line\":{\"color\":\"white\"}},\"header\":{\"fill\":{\"color\":\"#C8D4E3\"},\"line\":{\"color\":\"white\"}},\"type\":\"table\"}],\"barpolar\":[{\"marker\":{\"line\":{\"color\":\"#E5ECF6\",\"width\":0.5},\"pattern\":{\"fillmode\":\"overlay\",\"size\":10,\"solidity\":0.2}},\"type\":\"barpolar\"}],\"pie\":[{\"automargin\":true,\"type\":\"pie\"}]},\"layout\":{\"autotypenumbers\":\"strict\",\"colorway\":[\"#636efa\",\"#EF553B\",\"#00cc96\",\"#ab63fa\",\"#FFA15A\",\"#19d3f3\",\"#FF6692\",\"#B6E880\",\"#FF97FF\",\"#FECB52\"],\"font\":{\"color\":\"#2a3f5f\"},\"hovermode\":\"closest\",\"hoverlabel\":{\"align\":\"left\"},\"paper_bgcolor\":\"white\",\"plot_bgcolor\":\"#E5ECF6\",\"polar\":{\"bgcolor\":\"#E5ECF6\",\"angularaxis\":{\"gridcolor\":\"white\",\"linecolor\":\"white\",\"ticks\":\"\"},\"radialaxis\":{\"gridcolor\":\"white\",\"linecolor\":\"white\",\"ticks\":\"\"}},\"ternary\":{\"bgcolor\":\"#E5ECF6\",\"aaxis\":{\"gridcolor\":\"white\",\"linecolor\":\"white\",\"ticks\":\"\"},\"baxis\":{\"gridcolor\":\"white\",\"linecolor\":\"white\",\"ticks\":\"\"},\"caxis\":{\"gridcolor\":\"white\",\"linecolor\":\"white\",\"ticks\":\"\"}},\"coloraxis\":{\"colorbar\":{\"outlinewidth\":0,\"ticks\":\"\"}},\"colorscale\":{\"sequential\":[[0.0,\"#0d0887\"],[0.1111111111111111,\"#46039f\"],[0.2222222222222222,\"#7201a8\"],[0.3333333333333333,\"#9c179e\"],[0.4444444444444444,\"#bd3786\"],[0.5555555555555556,\"#d8576b\"],[0.6666666666666666,\"#ed7953\"],[0.7777777777777778,\"#fb9f3a\"],[0.8888888888888888,\"#fdca26\"],[1.0,\"#f0f921\"]],\"sequentialminus\":[[0.0,\"#0d0887\"],[0.1111111111111111,\"#46039f\"],[0.2222222222222222,\"#7201a8\"],[0.3333333333333333,\"#9c179e\"],[0.4444444444444444,\"#bd3786\"],[0.5555555555555556,\"#d8576b\"],[0.6666666666666666,\"#ed7953\"],[0.7777777777777778,\"#fb9f3a\"],[0.8888888888888888,\"#fdca26\"],[1.0,\"#f0f921\"]],\"diverging\":[[0,\"#8e0152\"],[0.1,\"#c51b7d\"],[0.2,\"#de77ae\"],[0.3,\"#f1b6da\"],[0.4,\"#fde0ef\"],[0.5,\"#f7f7f7\"],[0.6,\"#e6f5d0\"],[0.7,\"#b8e186\"],[0.8,\"#7fbc41\"],[0.9,\"#4d9221\"],[1,\"#276419\"]]},\"xaxis\":{\"gridcolor\":\"white\",\"linecolor\":\"white\",\"ticks\":\"\",\"title\":{\"standoff\":15},\"zerolinecolor\":\"white\",\"automargin\":true,\"zerolinewidth\":2},\"yaxis\":{\"gridcolor\":\"white\",\"linecolor\":\"white\",\"ticks\":\"\",\"title\":{\"standoff\":15},\"zerolinecolor\":\"white\",\"automargin\":true,\"zerolinewidth\":2},\"scene\":{\"xaxis\":{\"backgroundcolor\":\"#E5ECF6\",\"gridcolor\":\"white\",\"linecolor\":\"white\",\"showbackground\":true,\"ticks\":\"\",\"zerolinecolor\":\"white\",\"gridwidth\":2},\"yaxis\":{\"backgroundcolor\":\"#E5ECF6\",\"gridcolor\":\"white\",\"linecolor\":\"white\",\"showbackground\":true,\"ticks\":\"\",\"zerolinecolor\":\"white\",\"gridwidth\":2},\"zaxis\":{\"backgroundcolor\":\"#E5ECF6\",\"gridcolor\":\"white\",\"linecolor\":\"white\",\"showbackground\":true,\"ticks\":\"\",\"zerolinecolor\":\"white\",\"gridwidth\":2}},\"shapedefaults\":{\"line\":{\"color\":\"#2a3f5f\"}},\"annotationdefaults\":{\"arrowcolor\":\"#2a3f5f\",\"arrowhead\":0,\"arrowwidth\":1},\"geo\":{\"bgcolor\":\"white\",\"landcolor\":\"#E5ECF6\",\"subunitcolor\":\"white\",\"showland\":true,\"showlakes\":true,\"lakecolor\":\"white\"},\"title\":{\"x\":0.05},\"mapbox\":{\"style\":\"light\"}}},\"xaxis\":{\"anchor\":\"y\",\"domain\":[0.0,1.0],\"title\":{\"text\":\"Year\"}},\"yaxis\":{\"anchor\":\"x\",\"domain\":[0.0,1.0],\"title\":{\"text\":\"Bird Diversity (Shannon Index) \"},\"range\":[6,8],\"dtick\":0.2},\"legend\":{\"tracegroupgap\":0},\"title\":{\"text\":\"Bar Plot of Year vs.Bird Diversity\"},\"barmode\":\"relative\",\"height\":600,\"width\":800},                        {\"responsive\": true}                    ).then(function(){\n",
       "                            \n",
       "var gd = document.getElementById('5e834aa2-037b-4043-bdba-d7327ad5b7fb');\n",
       "var x = new MutationObserver(function (mutations, observer) {{\n",
       "        var display = window.getComputedStyle(gd).display;\n",
       "        if (!display || display === 'none') {{\n",
       "            console.log([gd, 'removed!']);\n",
       "            Plotly.purge(gd);\n",
       "            observer.disconnect();\n",
       "        }}\n",
       "}});\n",
       "\n",
       "// Listen for the removal of the full notebook cells\n",
       "var notebookContainer = gd.closest('#notebook-container');\n",
       "if (notebookContainer) {{\n",
       "    x.observe(notebookContainer, {childList: true});\n",
       "}}\n",
       "\n",
       "// Listen for the clearing of the current output cell\n",
       "var outputEl = gd.closest('.output');\n",
       "if (outputEl) {{\n",
       "    x.observe(outputEl, {childList: true});\n",
       "}}\n",
       "\n",
       "                        })                };                });            </script>        </div>"
      ]
     },
     "metadata": {},
     "output_type": "display_data"
    }
   ],
   "source": [
    "def agg_comm(series):\n",
    "    return list(series)\n",
    "grouped_bybird = ebird_gdf.groupby(['COUNTY','SCIENTIFIC NAME','OBSERVATION MONTH','OBSERVATION YEAR']).agg(agg_comm).reset_index()\n",
    "grouped_bybird['COUNT'] = grouped_bybird['COUNT'].apply(lambda x: sum(x))\n",
    "grouped_bybird['NATIVE'] = grouped_bybird['NATIVE'].apply(lambda x: max(x))\n",
    "\n",
    "grouped = grouped_bybird.groupby(['OBSERVATION YEAR']).agg(agg_comm).reset_index()\n",
    "grouped['NATIVE'] = grouped['NATIVE'].apply(lambda x: sum(x))\n",
    "grouped[\"shannon_index\"] = grouped[\"COUNT\"].apply(shannon_index)\n",
    "grouped_bybird = grouped_bybird.drop(columns=['geometry','OBSERVATION DAY'])\n",
    "\n",
    "required_cols =  [\"OBSERVATION YEAR\", \"shannon_index\"]\n",
    "\n",
    "# Extract the required columns\n",
    "vis_df = grouped[required_cols]\n",
    "\n",
    "# Create a scatter plot with tooltips using Plotly Express\n",
    "fig = px.bar(vis_df, x='OBSERVATION YEAR', y='shannon_index',\n",
    "                 title=\"Bar Plot of Year vs.Bird Diversity\",\n",
    "                 labels={\"OBSERVATION YEAR\": \"Year\",\n",
    "                        \"shannon_index\": \"Bird Diversity (Shannon Index) \"},\n",
    "                 width=800, height=600)\n",
    "fig.update_yaxes(range=[6, 8], dtick=0.2)\n",
    "\n",
    "# Show the interactive plot\n",
    "fig.show()"
>>>>>>> abeb75099dee86ea4162e81b07d506264f2bda99
   ]
  },
  {
   "cell_type": "code",
<<<<<<< HEAD
   "execution_count": 99,
   "id": "4a1acb40-8b20-4a75-8000-04efb355ae79",
=======
   "execution_count": 50,
   "id": "11187003-62bf-4aaa-913b-e92bd3af3df5",
>>>>>>> abeb75099dee86ea4162e81b07d506264f2bda99
   "metadata": {},
   "outputs": [
    {
     "data": {
      "application/vnd.plotly.v1+json": {
       "config": {
        "plotlyServerURL": "https://plot.ly"
       },
       "data": [
        {
<<<<<<< HEAD
         "alignmentgroup": "True",
         "hovertemplate": "Year=%{x}<br>Bird Diversity (Shannon Index) =%{y}<extra></extra>",
         "legendgroup": "",
         "marker": {
          "color": "#636efa",
          "pattern": {
           "shape": ""
          }
         },
         "name": "",
         "offsetgroup": "",
         "orientation": "v",
         "showlegend": false,
         "textposition": "auto",
         "type": "bar",
=======
         "hovertemplate": "Observation Year=%{x}<br>Unique Bird Species Observed=%{y}<extra></extra>",
         "legendgroup": "",
         "line": {
          "color": "#636efa",
          "dash": "solid"
         },
         "marker": {
          "color": "orange",
          "symbol": "circle"
         },
         "mode": "markers+lines",
         "name": "",
         "orientation": "v",
         "showlegend": false,
         "type": "scatter",
>>>>>>> abeb75099dee86ea4162e81b07d506264f2bda99
         "x": [
          2008,
          2009,
          2010,
          2011,
          2012
         ],
         "xaxis": "x",
         "y": [
<<<<<<< HEAD
          6.2317978711318425,
          7.061334254978072,
          7.5473045026147805,
          7.6645586507260655,
          7.595814149259401
=======
          333,
          353,
          358,
          375,
          395
>>>>>>> abeb75099dee86ea4162e81b07d506264f2bda99
         ],
         "yaxis": "y"
        }
       ],
       "layout": {
<<<<<<< HEAD
        "barmode": "relative",
        "height": 600,
=======
        "autosize": true,
>>>>>>> abeb75099dee86ea4162e81b07d506264f2bda99
        "legend": {
         "tracegroupgap": 0
        },
        "template": {
         "data": {
          "bar": [
           {
            "error_x": {
             "color": "#2a3f5f"
            },
            "error_y": {
             "color": "#2a3f5f"
            },
            "marker": {
             "line": {
              "color": "#E5ECF6",
              "width": 0.5
             },
             "pattern": {
              "fillmode": "overlay",
              "size": 10,
              "solidity": 0.2
             }
            },
            "type": "bar"
           }
          ],
          "barpolar": [
           {
            "marker": {
             "line": {
              "color": "#E5ECF6",
              "width": 0.5
             },
             "pattern": {
              "fillmode": "overlay",
              "size": 10,
              "solidity": 0.2
             }
            },
            "type": "barpolar"
           }
          ],
          "carpet": [
           {
            "aaxis": {
             "endlinecolor": "#2a3f5f",
             "gridcolor": "white",
             "linecolor": "white",
             "minorgridcolor": "white",
             "startlinecolor": "#2a3f5f"
            },
            "baxis": {
             "endlinecolor": "#2a3f5f",
             "gridcolor": "white",
             "linecolor": "white",
             "minorgridcolor": "white",
             "startlinecolor": "#2a3f5f"
            },
            "type": "carpet"
           }
          ],
          "choropleth": [
           {
            "colorbar": {
             "outlinewidth": 0,
             "ticks": ""
            },
            "type": "choropleth"
           }
          ],
          "contour": [
           {
            "colorbar": {
             "outlinewidth": 0,
             "ticks": ""
            },
            "colorscale": [
             [
              0,
              "#0d0887"
             ],
             [
              0.1111111111111111,
              "#46039f"
             ],
             [
              0.2222222222222222,
              "#7201a8"
             ],
             [
              0.3333333333333333,
              "#9c179e"
             ],
             [
              0.4444444444444444,
              "#bd3786"
             ],
             [
              0.5555555555555556,
              "#d8576b"
             ],
             [
              0.6666666666666666,
              "#ed7953"
             ],
             [
              0.7777777777777778,
              "#fb9f3a"
             ],
             [
              0.8888888888888888,
              "#fdca26"
             ],
             [
              1,
              "#f0f921"
             ]
            ],
            "type": "contour"
           }
          ],
          "contourcarpet": [
           {
            "colorbar": {
             "outlinewidth": 0,
             "ticks": ""
            },
            "type": "contourcarpet"
           }
          ],
          "heatmap": [
           {
            "colorbar": {
             "outlinewidth": 0,
             "ticks": ""
            },
            "colorscale": [
             [
              0,
              "#0d0887"
             ],
             [
              0.1111111111111111,
              "#46039f"
             ],
             [
              0.2222222222222222,
              "#7201a8"
             ],
             [
              0.3333333333333333,
              "#9c179e"
             ],
             [
              0.4444444444444444,
              "#bd3786"
             ],
             [
              0.5555555555555556,
              "#d8576b"
             ],
             [
              0.6666666666666666,
              "#ed7953"
             ],
             [
              0.7777777777777778,
              "#fb9f3a"
             ],
             [
              0.8888888888888888,
              "#fdca26"
             ],
             [
              1,
              "#f0f921"
             ]
            ],
            "type": "heatmap"
           }
          ],
          "heatmapgl": [
           {
            "colorbar": {
             "outlinewidth": 0,
             "ticks": ""
            },
            "colorscale": [
             [
              0,
              "#0d0887"
             ],
             [
              0.1111111111111111,
              "#46039f"
             ],
             [
              0.2222222222222222,
              "#7201a8"
             ],
             [
              0.3333333333333333,
              "#9c179e"
             ],
             [
              0.4444444444444444,
              "#bd3786"
             ],
             [
              0.5555555555555556,
              "#d8576b"
             ],
             [
              0.6666666666666666,
              "#ed7953"
             ],
             [
              0.7777777777777778,
              "#fb9f3a"
             ],
             [
              0.8888888888888888,
              "#fdca26"
             ],
             [
              1,
              "#f0f921"
             ]
            ],
            "type": "heatmapgl"
           }
          ],
          "histogram": [
           {
            "marker": {
             "pattern": {
              "fillmode": "overlay",
              "size": 10,
              "solidity": 0.2
             }
            },
            "type": "histogram"
           }
          ],
          "histogram2d": [
           {
            "colorbar": {
             "outlinewidth": 0,
             "ticks": ""
            },
            "colorscale": [
             [
              0,
              "#0d0887"
             ],
             [
              0.1111111111111111,
              "#46039f"
             ],
             [
              0.2222222222222222,
              "#7201a8"
             ],
             [
              0.3333333333333333,
              "#9c179e"
             ],
             [
              0.4444444444444444,
              "#bd3786"
             ],
             [
              0.5555555555555556,
              "#d8576b"
             ],
             [
              0.6666666666666666,
              "#ed7953"
             ],
             [
              0.7777777777777778,
              "#fb9f3a"
             ],
             [
              0.8888888888888888,
              "#fdca26"
             ],
             [
              1,
              "#f0f921"
             ]
            ],
            "type": "histogram2d"
           }
          ],
          "histogram2dcontour": [
           {
            "colorbar": {
             "outlinewidth": 0,
             "ticks": ""
            },
            "colorscale": [
             [
              0,
              "#0d0887"
             ],
             [
              0.1111111111111111,
              "#46039f"
             ],
             [
              0.2222222222222222,
              "#7201a8"
             ],
             [
              0.3333333333333333,
              "#9c179e"
             ],
             [
              0.4444444444444444,
              "#bd3786"
             ],
             [
              0.5555555555555556,
              "#d8576b"
             ],
             [
              0.6666666666666666,
              "#ed7953"
             ],
             [
              0.7777777777777778,
              "#fb9f3a"
             ],
             [
              0.8888888888888888,
              "#fdca26"
             ],
             [
              1,
              "#f0f921"
             ]
            ],
            "type": "histogram2dcontour"
           }
          ],
          "mesh3d": [
           {
            "colorbar": {
             "outlinewidth": 0,
             "ticks": ""
            },
            "type": "mesh3d"
           }
          ],
          "parcoords": [
           {
            "line": {
             "colorbar": {
              "outlinewidth": 0,
              "ticks": ""
             }
            },
            "type": "parcoords"
           }
          ],
          "pie": [
           {
            "automargin": true,
            "type": "pie"
           }
          ],
          "scatter": [
           {
            "fillpattern": {
             "fillmode": "overlay",
             "size": 10,
             "solidity": 0.2
            },
            "type": "scatter"
           }
          ],
          "scatter3d": [
           {
            "line": {
             "colorbar": {
              "outlinewidth": 0,
              "ticks": ""
             }
            },
            "marker": {
             "colorbar": {
              "outlinewidth": 0,
              "ticks": ""
             }
            },
            "type": "scatter3d"
           }
          ],
          "scattercarpet": [
           {
            "marker": {
             "colorbar": {
              "outlinewidth": 0,
              "ticks": ""
             }
            },
            "type": "scattercarpet"
           }
          ],
          "scattergeo": [
           {
            "marker": {
             "colorbar": {
              "outlinewidth": 0,
              "ticks": ""
             }
            },
            "type": "scattergeo"
           }
          ],
          "scattergl": [
           {
            "marker": {
             "colorbar": {
              "outlinewidth": 0,
              "ticks": ""
             }
            },
            "type": "scattergl"
           }
          ],
          "scattermapbox": [
           {
            "marker": {
             "colorbar": {
              "outlinewidth": 0,
              "ticks": ""
             }
            },
            "type": "scattermapbox"
           }
          ],
          "scatterpolar": [
           {
            "marker": {
             "colorbar": {
              "outlinewidth": 0,
              "ticks": ""
             }
            },
            "type": "scatterpolar"
           }
          ],
          "scatterpolargl": [
           {
            "marker": {
             "colorbar": {
              "outlinewidth": 0,
              "ticks": ""
             }
            },
            "type": "scatterpolargl"
           }
          ],
          "scatterternary": [
           {
            "marker": {
             "colorbar": {
              "outlinewidth": 0,
              "ticks": ""
             }
            },
            "type": "scatterternary"
           }
          ],
          "surface": [
           {
            "colorbar": {
             "outlinewidth": 0,
             "ticks": ""
            },
            "colorscale": [
             [
              0,
              "#0d0887"
             ],
             [
              0.1111111111111111,
              "#46039f"
             ],
             [
              0.2222222222222222,
              "#7201a8"
             ],
             [
              0.3333333333333333,
              "#9c179e"
             ],
             [
              0.4444444444444444,
              "#bd3786"
             ],
             [
              0.5555555555555556,
              "#d8576b"
             ],
             [
              0.6666666666666666,
              "#ed7953"
             ],
             [
              0.7777777777777778,
              "#fb9f3a"
             ],
             [
              0.8888888888888888,
              "#fdca26"
             ],
             [
              1,
              "#f0f921"
             ]
            ],
            "type": "surface"
           }
          ],
          "table": [
           {
            "cells": {
             "fill": {
              "color": "#EBF0F8"
             },
             "line": {
              "color": "white"
             }
            },
            "header": {
             "fill": {
              "color": "#C8D4E3"
             },
             "line": {
              "color": "white"
             }
            },
            "type": "table"
           }
          ]
         },
         "layout": {
          "annotationdefaults": {
           "arrowcolor": "#2a3f5f",
           "arrowhead": 0,
           "arrowwidth": 1
          },
          "autotypenumbers": "strict",
          "coloraxis": {
           "colorbar": {
            "outlinewidth": 0,
            "ticks": ""
           }
          },
          "colorscale": {
           "diverging": [
            [
             0,
             "#8e0152"
            ],
            [
             0.1,
             "#c51b7d"
            ],
            [
             0.2,
             "#de77ae"
            ],
            [
             0.3,
             "#f1b6da"
            ],
            [
             0.4,
             "#fde0ef"
            ],
            [
             0.5,
             "#f7f7f7"
            ],
            [
             0.6,
             "#e6f5d0"
            ],
            [
             0.7,
             "#b8e186"
            ],
            [
             0.8,
             "#7fbc41"
            ],
            [
             0.9,
             "#4d9221"
            ],
            [
             1,
             "#276419"
            ]
           ],
           "sequential": [
            [
             0,
             "#0d0887"
            ],
            [
             0.1111111111111111,
             "#46039f"
            ],
            [
             0.2222222222222222,
             "#7201a8"
            ],
            [
             0.3333333333333333,
             "#9c179e"
            ],
            [
             0.4444444444444444,
             "#bd3786"
            ],
            [
             0.5555555555555556,
             "#d8576b"
            ],
            [
             0.6666666666666666,
             "#ed7953"
            ],
            [
             0.7777777777777778,
             "#fb9f3a"
            ],
            [
             0.8888888888888888,
             "#fdca26"
            ],
            [
             1,
             "#f0f921"
            ]
           ],
           "sequentialminus": [
            [
             0,
             "#0d0887"
            ],
            [
             0.1111111111111111,
             "#46039f"
            ],
            [
             0.2222222222222222,
             "#7201a8"
            ],
            [
             0.3333333333333333,
             "#9c179e"
            ],
            [
             0.4444444444444444,
             "#bd3786"
            ],
            [
             0.5555555555555556,
             "#d8576b"
            ],
            [
             0.6666666666666666,
             "#ed7953"
            ],
            [
             0.7777777777777778,
             "#fb9f3a"
            ],
            [
             0.8888888888888888,
             "#fdca26"
            ],
            [
             1,
             "#f0f921"
            ]
           ]
          },
          "colorway": [
           "#636efa",
           "#EF553B",
           "#00cc96",
           "#ab63fa",
           "#FFA15A",
           "#19d3f3",
           "#FF6692",
           "#B6E880",
           "#FF97FF",
           "#FECB52"
          ],
          "font": {
           "color": "#2a3f5f"
          },
          "geo": {
           "bgcolor": "white",
           "lakecolor": "white",
           "landcolor": "#E5ECF6",
           "showlakes": true,
           "showland": true,
           "subunitcolor": "white"
          },
          "hoverlabel": {
           "align": "left"
          },
          "hovermode": "closest",
          "mapbox": {
           "style": "light"
          },
          "paper_bgcolor": "white",
          "plot_bgcolor": "#E5ECF6",
          "polar": {
           "angularaxis": {
            "gridcolor": "white",
            "linecolor": "white",
            "ticks": ""
           },
           "bgcolor": "#E5ECF6",
           "radialaxis": {
            "gridcolor": "white",
            "linecolor": "white",
            "ticks": ""
           }
          },
          "scene": {
           "xaxis": {
            "backgroundcolor": "#E5ECF6",
            "gridcolor": "white",
            "gridwidth": 2,
            "linecolor": "white",
            "showbackground": true,
            "ticks": "",
            "zerolinecolor": "white"
           },
           "yaxis": {
            "backgroundcolor": "#E5ECF6",
            "gridcolor": "white",
            "gridwidth": 2,
            "linecolor": "white",
            "showbackground": true,
            "ticks": "",
            "zerolinecolor": "white"
           },
           "zaxis": {
            "backgroundcolor": "#E5ECF6",
            "gridcolor": "white",
            "gridwidth": 2,
            "linecolor": "white",
            "showbackground": true,
            "ticks": "",
            "zerolinecolor": "white"
           }
          },
          "shapedefaults": {
           "line": {
            "color": "#2a3f5f"
           }
          },
          "ternary": {
           "aaxis": {
            "gridcolor": "white",
            "linecolor": "white",
            "ticks": ""
           },
           "baxis": {
            "gridcolor": "white",
            "linecolor": "white",
            "ticks": ""
           },
           "bgcolor": "#E5ECF6",
           "caxis": {
            "gridcolor": "white",
            "linecolor": "white",
            "ticks": ""
           }
          },
          "title": {
           "x": 0.05
          },
          "xaxis": {
           "automargin": true,
           "gridcolor": "white",
           "linecolor": "white",
           "ticks": "",
           "title": {
            "standoff": 15
           },
           "zerolinecolor": "white",
           "zerolinewidth": 2
          },
          "yaxis": {
           "automargin": true,
           "gridcolor": "white",
           "linecolor": "white",
           "ticks": "",
           "title": {
            "standoff": 15
           },
           "zerolinecolor": "white",
           "zerolinewidth": 2
          }
         }
        },
        "title": {
<<<<<<< HEAD
         "text": "Temporal Trends in Bird Diversity Across Illinois"
        },
        "width": 800,
=======
         "text": "Trend of Bird Diversity Over Time"
        },
>>>>>>> abeb75099dee86ea4162e81b07d506264f2bda99
        "xaxis": {
         "anchor": "y",
         "autorange": true,
         "domain": [
          0,
          1
         ],
         "range": [
<<<<<<< HEAD
          2007.5,
          2012.5
         ],
         "title": {
          "text": "Year"
=======
          2007.7582777582777,
          2012.2417222417223
         ],
         "ticktext": [
          "2008",
          "2009",
          "2010",
          "2011",
          "2012"
         ],
         "tickvals": [
          2008,
          2009,
          2010,
          2011,
          2012
         ],
         "title": {
          "text": "Observation Year"
>>>>>>> abeb75099dee86ea4162e81b07d506264f2bda99
         },
         "type": "linear"
        },
        "yaxis": {
         "anchor": "x",
<<<<<<< HEAD
=======
         "autorange": true,
>>>>>>> abeb75099dee86ea4162e81b07d506264f2bda99
         "domain": [
          0,
          1
         ],
<<<<<<< HEAD
         "dtick": 0.2,
         "range": [
          6,
          8
         ],
         "title": {
          "text": "Bird Diversity (Shannon Index) "
=======
         "range": [
          327.88349514563106,
          400.11650485436894
         ],
         "title": {
          "text": "Unique Bird Species Observed"
>>>>>>> abeb75099dee86ea4162e81b07d506264f2bda99
         },
         "type": "linear"
        }
       }
      },
<<<<<<< HEAD
      "image/png": "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",
      "text/html": [
       "<div>                            <div id=\"ca635917-30d4-4587-8ac3-1d4f7b3837f1\" class=\"plotly-graph-div\" style=\"height:600px; width:800px;\"></div>            <script type=\"text/javascript\">                require([\"plotly\"], function(Plotly) {                    window.PLOTLYENV=window.PLOTLYENV || {};                                    if (document.getElementById(\"ca635917-30d4-4587-8ac3-1d4f7b3837f1\")) {                    Plotly.newPlot(                        \"ca635917-30d4-4587-8ac3-1d4f7b3837f1\",                        [{\"alignmentgroup\":\"True\",\"hovertemplate\":\"Year=%{x}<br>Bird Diversity (Shannon Index) =%{y}<extra></extra>\",\"legendgroup\":\"\",\"marker\":{\"color\":\"#636efa\",\"pattern\":{\"shape\":\"\"}},\"name\":\"\",\"offsetgroup\":\"\",\"orientation\":\"v\",\"showlegend\":false,\"textposition\":\"auto\",\"x\":[2008,2009,2010,2011,2012],\"xaxis\":\"x\",\"y\":[6.2317978711318425,7.061334254978072,7.5473045026147805,7.6645586507260655,7.595814149259401],\"yaxis\":\"y\",\"type\":\"bar\"}],                        {\"template\":{\"data\":{\"histogram2dcontour\":[{\"type\":\"histogram2dcontour\",\"colorbar\":{\"outlinewidth\":0,\"ticks\":\"\"},\"colorscale\":[[0.0,\"#0d0887\"],[0.1111111111111111,\"#46039f\"],[0.2222222222222222,\"#7201a8\"],[0.3333333333333333,\"#9c179e\"],[0.4444444444444444,\"#bd3786\"],[0.5555555555555556,\"#d8576b\"],[0.6666666666666666,\"#ed7953\"],[0.7777777777777778,\"#fb9f3a\"],[0.8888888888888888,\"#fdca26\"],[1.0,\"#f0f921\"]]}],\"choropleth\":[{\"type\":\"choropleth\",\"colorbar\":{\"outlinewidth\":0,\"ticks\":\"\"}}],\"histogram2d\":[{\"type\":\"histogram2d\",\"colorbar\":{\"outlinewidth\":0,\"ticks\":\"\"},\"colorscale\":[[0.0,\"#0d0887\"],[0.1111111111111111,\"#46039f\"],[0.2222222222222222,\"#7201a8\"],[0.3333333333333333,\"#9c179e\"],[0.4444444444444444,\"#bd3786\"],[0.5555555555555556,\"#d8576b\"],[0.6666666666666666,\"#ed7953\"],[0.7777777777777778,\"#fb9f3a\"],[0.8888888888888888,\"#fdca26\"],[1.0,\"#f0f921\"]]}],\"heatmap\":[{\"type\":\"heatmap\",\"colorbar\":{\"outlinewidth\":0,\"ticks\":\"\"},\"colorscale\":[[0.0,\"#0d0887\"],[0.1111111111111111,\"#46039f\"],[0.2222222222222222,\"#7201a8\"],[0.3333333333333333,\"#9c179e\"],[0.4444444444444444,\"#bd3786\"],[0.5555555555555556,\"#d8576b\"],[0.6666666666666666,\"#ed7953\"],[0.7777777777777778,\"#fb9f3a\"],[0.8888888888888888,\"#fdca26\"],[1.0,\"#f0f921\"]]}],\"heatmapgl\":[{\"type\":\"heatmapgl\",\"colorbar\":{\"outlinewidth\":0,\"ticks\":\"\"},\"colorscale\":[[0.0,\"#0d0887\"],[0.1111111111111111,\"#46039f\"],[0.2222222222222222,\"#7201a8\"],[0.3333333333333333,\"#9c179e\"],[0.4444444444444444,\"#bd3786\"],[0.5555555555555556,\"#d8576b\"],[0.6666666666666666,\"#ed7953\"],[0.7777777777777778,\"#fb9f3a\"],[0.8888888888888888,\"#fdca26\"],[1.0,\"#f0f921\"]]}],\"contourcarpet\":[{\"type\":\"contourcarpet\",\"colorbar\":{\"outlinewidth\":0,\"ticks\":\"\"}}],\"contour\":[{\"type\":\"contour\",\"colorbar\":{\"outlinewidth\":0,\"ticks\":\"\"},\"colorscale\":[[0.0,\"#0d0887\"],[0.1111111111111111,\"#46039f\"],[0.2222222222222222,\"#7201a8\"],[0.3333333333333333,\"#9c179e\"],[0.4444444444444444,\"#bd3786\"],[0.5555555555555556,\"#d8576b\"],[0.6666666666666666,\"#ed7953\"],[0.7777777777777778,\"#fb9f3a\"],[0.8888888888888888,\"#fdca26\"],[1.0,\"#f0f921\"]]}],\"surface\":[{\"type\":\"surface\",\"colorbar\":{\"outlinewidth\":0,\"ticks\":\"\"},\"colorscale\":[[0.0,\"#0d0887\"],[0.1111111111111111,\"#46039f\"],[0.2222222222222222,\"#7201a8\"],[0.3333333333333333,\"#9c179e\"],[0.4444444444444444,\"#bd3786\"],[0.5555555555555556,\"#d8576b\"],[0.6666666666666666,\"#ed7953\"],[0.7777777777777778,\"#fb9f3a\"],[0.8888888888888888,\"#fdca26\"],[1.0,\"#f0f921\"]]}],\"mesh3d\":[{\"type\":\"mesh3d\",\"colorbar\":{\"outlinewidth\":0,\"ticks\":\"\"}}],\"scatter\":[{\"fillpattern\":{\"fillmode\":\"overlay\",\"size\":10,\"solidity\":0.2},\"type\":\"scatter\"}],\"parcoords\":[{\"type\":\"parcoords\",\"line\":{\"colorbar\":{\"outlinewidth\":0,\"ticks\":\"\"}}}],\"scatterpolargl\":[{\"type\":\"scatterpolargl\",\"marker\":{\"colorbar\":{\"outlinewidth\":0,\"ticks\":\"\"}}}],\"bar\":[{\"error_x\":{\"color\":\"#2a3f5f\"},\"error_y\":{\"color\":\"#2a3f5f\"},\"marker\":{\"line\":{\"color\":\"#E5ECF6\",\"width\":0.5},\"pattern\":{\"fillmode\":\"overlay\",\"size\":10,\"solidity\":0.2}},\"type\":\"bar\"}],\"scattergeo\":[{\"type\":\"scattergeo\",\"marker\":{\"colorbar\":{\"outlinewidth\":0,\"ticks\":\"\"}}}],\"scatterpolar\":[{\"type\":\"scatterpolar\",\"marker\":{\"colorbar\":{\"outlinewidth\":0,\"ticks\":\"\"}}}],\"histogram\":[{\"marker\":{\"pattern\":{\"fillmode\":\"overlay\",\"size\":10,\"solidity\":0.2}},\"type\":\"histogram\"}],\"scattergl\":[{\"type\":\"scattergl\",\"marker\":{\"colorbar\":{\"outlinewidth\":0,\"ticks\":\"\"}}}],\"scatter3d\":[{\"type\":\"scatter3d\",\"line\":{\"colorbar\":{\"outlinewidth\":0,\"ticks\":\"\"}},\"marker\":{\"colorbar\":{\"outlinewidth\":0,\"ticks\":\"\"}}}],\"scattermapbox\":[{\"type\":\"scattermapbox\",\"marker\":{\"colorbar\":{\"outlinewidth\":0,\"ticks\":\"\"}}}],\"scatterternary\":[{\"type\":\"scatterternary\",\"marker\":{\"colorbar\":{\"outlinewidth\":0,\"ticks\":\"\"}}}],\"scattercarpet\":[{\"type\":\"scattercarpet\",\"marker\":{\"colorbar\":{\"outlinewidth\":0,\"ticks\":\"\"}}}],\"carpet\":[{\"aaxis\":{\"endlinecolor\":\"#2a3f5f\",\"gridcolor\":\"white\",\"linecolor\":\"white\",\"minorgridcolor\":\"white\",\"startlinecolor\":\"#2a3f5f\"},\"baxis\":{\"endlinecolor\":\"#2a3f5f\",\"gridcolor\":\"white\",\"linecolor\":\"white\",\"minorgridcolor\":\"white\",\"startlinecolor\":\"#2a3f5f\"},\"type\":\"carpet\"}],\"table\":[{\"cells\":{\"fill\":{\"color\":\"#EBF0F8\"},\"line\":{\"color\":\"white\"}},\"header\":{\"fill\":{\"color\":\"#C8D4E3\"},\"line\":{\"color\":\"white\"}},\"type\":\"table\"}],\"barpolar\":[{\"marker\":{\"line\":{\"color\":\"#E5ECF6\",\"width\":0.5},\"pattern\":{\"fillmode\":\"overlay\",\"size\":10,\"solidity\":0.2}},\"type\":\"barpolar\"}],\"pie\":[{\"automargin\":true,\"type\":\"pie\"}]},\"layout\":{\"autotypenumbers\":\"strict\",\"colorway\":[\"#636efa\",\"#EF553B\",\"#00cc96\",\"#ab63fa\",\"#FFA15A\",\"#19d3f3\",\"#FF6692\",\"#B6E880\",\"#FF97FF\",\"#FECB52\"],\"font\":{\"color\":\"#2a3f5f\"},\"hovermode\":\"closest\",\"hoverlabel\":{\"align\":\"left\"},\"paper_bgcolor\":\"white\",\"plot_bgcolor\":\"#E5ECF6\",\"polar\":{\"bgcolor\":\"#E5ECF6\",\"angularaxis\":{\"gridcolor\":\"white\",\"linecolor\":\"white\",\"ticks\":\"\"},\"radialaxis\":{\"gridcolor\":\"white\",\"linecolor\":\"white\",\"ticks\":\"\"}},\"ternary\":{\"bgcolor\":\"#E5ECF6\",\"aaxis\":{\"gridcolor\":\"white\",\"linecolor\":\"white\",\"ticks\":\"\"},\"baxis\":{\"gridcolor\":\"white\",\"linecolor\":\"white\",\"ticks\":\"\"},\"caxis\":{\"gridcolor\":\"white\",\"linecolor\":\"white\",\"ticks\":\"\"}},\"coloraxis\":{\"colorbar\":{\"outlinewidth\":0,\"ticks\":\"\"}},\"colorscale\":{\"sequential\":[[0.0,\"#0d0887\"],[0.1111111111111111,\"#46039f\"],[0.2222222222222222,\"#7201a8\"],[0.3333333333333333,\"#9c179e\"],[0.4444444444444444,\"#bd3786\"],[0.5555555555555556,\"#d8576b\"],[0.6666666666666666,\"#ed7953\"],[0.7777777777777778,\"#fb9f3a\"],[0.8888888888888888,\"#fdca26\"],[1.0,\"#f0f921\"]],\"sequentialminus\":[[0.0,\"#0d0887\"],[0.1111111111111111,\"#46039f\"],[0.2222222222222222,\"#7201a8\"],[0.3333333333333333,\"#9c179e\"],[0.4444444444444444,\"#bd3786\"],[0.5555555555555556,\"#d8576b\"],[0.6666666666666666,\"#ed7953\"],[0.7777777777777778,\"#fb9f3a\"],[0.8888888888888888,\"#fdca26\"],[1.0,\"#f0f921\"]],\"diverging\":[[0,\"#8e0152\"],[0.1,\"#c51b7d\"],[0.2,\"#de77ae\"],[0.3,\"#f1b6da\"],[0.4,\"#fde0ef\"],[0.5,\"#f7f7f7\"],[0.6,\"#e6f5d0\"],[0.7,\"#b8e186\"],[0.8,\"#7fbc41\"],[0.9,\"#4d9221\"],[1,\"#276419\"]]},\"xaxis\":{\"gridcolor\":\"white\",\"linecolor\":\"white\",\"ticks\":\"\",\"title\":{\"standoff\":15},\"zerolinecolor\":\"white\",\"automargin\":true,\"zerolinewidth\":2},\"yaxis\":{\"gridcolor\":\"white\",\"linecolor\":\"white\",\"ticks\":\"\",\"title\":{\"standoff\":15},\"zerolinecolor\":\"white\",\"automargin\":true,\"zerolinewidth\":2},\"scene\":{\"xaxis\":{\"backgroundcolor\":\"#E5ECF6\",\"gridcolor\":\"white\",\"linecolor\":\"white\",\"showbackground\":true,\"ticks\":\"\",\"zerolinecolor\":\"white\",\"gridwidth\":2},\"yaxis\":{\"backgroundcolor\":\"#E5ECF6\",\"gridcolor\":\"white\",\"linecolor\":\"white\",\"showbackground\":true,\"ticks\":\"\",\"zerolinecolor\":\"white\",\"gridwidth\":2},\"zaxis\":{\"backgroundcolor\":\"#E5ECF6\",\"gridcolor\":\"white\",\"linecolor\":\"white\",\"showbackground\":true,\"ticks\":\"\",\"zerolinecolor\":\"white\",\"gridwidth\":2}},\"shapedefaults\":{\"line\":{\"color\":\"#2a3f5f\"}},\"annotationdefaults\":{\"arrowcolor\":\"#2a3f5f\",\"arrowhead\":0,\"arrowwidth\":1},\"geo\":{\"bgcolor\":\"white\",\"landcolor\":\"#E5ECF6\",\"subunitcolor\":\"white\",\"showland\":true,\"showlakes\":true,\"lakecolor\":\"white\"},\"title\":{\"x\":0.05},\"mapbox\":{\"style\":\"light\"}}},\"xaxis\":{\"anchor\":\"y\",\"domain\":[0.0,1.0],\"title\":{\"text\":\"Year\"}},\"yaxis\":{\"anchor\":\"x\",\"domain\":[0.0,1.0],\"title\":{\"text\":\"Bird Diversity (Shannon Index) \"},\"range\":[6,8],\"dtick\":0.2},\"legend\":{\"tracegroupgap\":0},\"title\":{\"text\":\"Temporal Trends in Bird Diversity Across Illinois\"},\"barmode\":\"relative\",\"height\":600,\"width\":800},                        {\"responsive\": true}                    ).then(function(){\n",
       "                            \n",
       "var gd = document.getElementById('ca635917-30d4-4587-8ac3-1d4f7b3837f1');\n",
=======
      "image/png": "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",
      "text/html": [
       "<div>                            <div id=\"467029f2-acd5-4667-aeea-c4754c5e5140\" class=\"plotly-graph-div\" style=\"height:525px; width:100%;\"></div>            <script type=\"text/javascript\">                require([\"plotly\"], function(Plotly) {                    window.PLOTLYENV=window.PLOTLYENV || {};                                    if (document.getElementById(\"467029f2-acd5-4667-aeea-c4754c5e5140\")) {                    Plotly.newPlot(                        \"467029f2-acd5-4667-aeea-c4754c5e5140\",                        [{\"hovertemplate\":\"Observation Year=%{x}<br>Unique Bird Species Observed=%{y}<extra></extra>\",\"legendgroup\":\"\",\"line\":{\"color\":\"#636efa\",\"dash\":\"solid\"},\"marker\":{\"symbol\":\"circle\",\"color\":\"orange\"},\"mode\":\"markers+lines\",\"name\":\"\",\"orientation\":\"v\",\"showlegend\":false,\"x\":[2008,2009,2010,2011,2012],\"xaxis\":\"x\",\"y\":[333,353,358,375,395],\"yaxis\":\"y\",\"type\":\"scatter\"}],                        {\"template\":{\"data\":{\"histogram2dcontour\":[{\"type\":\"histogram2dcontour\",\"colorbar\":{\"outlinewidth\":0,\"ticks\":\"\"},\"colorscale\":[[0.0,\"#0d0887\"],[0.1111111111111111,\"#46039f\"],[0.2222222222222222,\"#7201a8\"],[0.3333333333333333,\"#9c179e\"],[0.4444444444444444,\"#bd3786\"],[0.5555555555555556,\"#d8576b\"],[0.6666666666666666,\"#ed7953\"],[0.7777777777777778,\"#fb9f3a\"],[0.8888888888888888,\"#fdca26\"],[1.0,\"#f0f921\"]]}],\"choropleth\":[{\"type\":\"choropleth\",\"colorbar\":{\"outlinewidth\":0,\"ticks\":\"\"}}],\"histogram2d\":[{\"type\":\"histogram2d\",\"colorbar\":{\"outlinewidth\":0,\"ticks\":\"\"},\"colorscale\":[[0.0,\"#0d0887\"],[0.1111111111111111,\"#46039f\"],[0.2222222222222222,\"#7201a8\"],[0.3333333333333333,\"#9c179e\"],[0.4444444444444444,\"#bd3786\"],[0.5555555555555556,\"#d8576b\"],[0.6666666666666666,\"#ed7953\"],[0.7777777777777778,\"#fb9f3a\"],[0.8888888888888888,\"#fdca26\"],[1.0,\"#f0f921\"]]}],\"heatmap\":[{\"type\":\"heatmap\",\"colorbar\":{\"outlinewidth\":0,\"ticks\":\"\"},\"colorscale\":[[0.0,\"#0d0887\"],[0.1111111111111111,\"#46039f\"],[0.2222222222222222,\"#7201a8\"],[0.3333333333333333,\"#9c179e\"],[0.4444444444444444,\"#bd3786\"],[0.5555555555555556,\"#d8576b\"],[0.6666666666666666,\"#ed7953\"],[0.7777777777777778,\"#fb9f3a\"],[0.8888888888888888,\"#fdca26\"],[1.0,\"#f0f921\"]]}],\"heatmapgl\":[{\"type\":\"heatmapgl\",\"colorbar\":{\"outlinewidth\":0,\"ticks\":\"\"},\"colorscale\":[[0.0,\"#0d0887\"],[0.1111111111111111,\"#46039f\"],[0.2222222222222222,\"#7201a8\"],[0.3333333333333333,\"#9c179e\"],[0.4444444444444444,\"#bd3786\"],[0.5555555555555556,\"#d8576b\"],[0.6666666666666666,\"#ed7953\"],[0.7777777777777778,\"#fb9f3a\"],[0.8888888888888888,\"#fdca26\"],[1.0,\"#f0f921\"]]}],\"contourcarpet\":[{\"type\":\"contourcarpet\",\"colorbar\":{\"outlinewidth\":0,\"ticks\":\"\"}}],\"contour\":[{\"type\":\"contour\",\"colorbar\":{\"outlinewidth\":0,\"ticks\":\"\"},\"colorscale\":[[0.0,\"#0d0887\"],[0.1111111111111111,\"#46039f\"],[0.2222222222222222,\"#7201a8\"],[0.3333333333333333,\"#9c179e\"],[0.4444444444444444,\"#bd3786\"],[0.5555555555555556,\"#d8576b\"],[0.6666666666666666,\"#ed7953\"],[0.7777777777777778,\"#fb9f3a\"],[0.8888888888888888,\"#fdca26\"],[1.0,\"#f0f921\"]]}],\"surface\":[{\"type\":\"surface\",\"colorbar\":{\"outlinewidth\":0,\"ticks\":\"\"},\"colorscale\":[[0.0,\"#0d0887\"],[0.1111111111111111,\"#46039f\"],[0.2222222222222222,\"#7201a8\"],[0.3333333333333333,\"#9c179e\"],[0.4444444444444444,\"#bd3786\"],[0.5555555555555556,\"#d8576b\"],[0.6666666666666666,\"#ed7953\"],[0.7777777777777778,\"#fb9f3a\"],[0.8888888888888888,\"#fdca26\"],[1.0,\"#f0f921\"]]}],\"mesh3d\":[{\"type\":\"mesh3d\",\"colorbar\":{\"outlinewidth\":0,\"ticks\":\"\"}}],\"scatter\":[{\"fillpattern\":{\"fillmode\":\"overlay\",\"size\":10,\"solidity\":0.2},\"type\":\"scatter\"}],\"parcoords\":[{\"type\":\"parcoords\",\"line\":{\"colorbar\":{\"outlinewidth\":0,\"ticks\":\"\"}}}],\"scatterpolargl\":[{\"type\":\"scatterpolargl\",\"marker\":{\"colorbar\":{\"outlinewidth\":0,\"ticks\":\"\"}}}],\"bar\":[{\"error_x\":{\"color\":\"#2a3f5f\"},\"error_y\":{\"color\":\"#2a3f5f\"},\"marker\":{\"line\":{\"color\":\"#E5ECF6\",\"width\":0.5},\"pattern\":{\"fillmode\":\"overlay\",\"size\":10,\"solidity\":0.2}},\"type\":\"bar\"}],\"scattergeo\":[{\"type\":\"scattergeo\",\"marker\":{\"colorbar\":{\"outlinewidth\":0,\"ticks\":\"\"}}}],\"scatterpolar\":[{\"type\":\"scatterpolar\",\"marker\":{\"colorbar\":{\"outlinewidth\":0,\"ticks\":\"\"}}}],\"histogram\":[{\"marker\":{\"pattern\":{\"fillmode\":\"overlay\",\"size\":10,\"solidity\":0.2}},\"type\":\"histogram\"}],\"scattergl\":[{\"type\":\"scattergl\",\"marker\":{\"colorbar\":{\"outlinewidth\":0,\"ticks\":\"\"}}}],\"scatter3d\":[{\"type\":\"scatter3d\",\"line\":{\"colorbar\":{\"outlinewidth\":0,\"ticks\":\"\"}},\"marker\":{\"colorbar\":{\"outlinewidth\":0,\"ticks\":\"\"}}}],\"scattermapbox\":[{\"type\":\"scattermapbox\",\"marker\":{\"colorbar\":{\"outlinewidth\":0,\"ticks\":\"\"}}}],\"scatterternary\":[{\"type\":\"scatterternary\",\"marker\":{\"colorbar\":{\"outlinewidth\":0,\"ticks\":\"\"}}}],\"scattercarpet\":[{\"type\":\"scattercarpet\",\"marker\":{\"colorbar\":{\"outlinewidth\":0,\"ticks\":\"\"}}}],\"carpet\":[{\"aaxis\":{\"endlinecolor\":\"#2a3f5f\",\"gridcolor\":\"white\",\"linecolor\":\"white\",\"minorgridcolor\":\"white\",\"startlinecolor\":\"#2a3f5f\"},\"baxis\":{\"endlinecolor\":\"#2a3f5f\",\"gridcolor\":\"white\",\"linecolor\":\"white\",\"minorgridcolor\":\"white\",\"startlinecolor\":\"#2a3f5f\"},\"type\":\"carpet\"}],\"table\":[{\"cells\":{\"fill\":{\"color\":\"#EBF0F8\"},\"line\":{\"color\":\"white\"}},\"header\":{\"fill\":{\"color\":\"#C8D4E3\"},\"line\":{\"color\":\"white\"}},\"type\":\"table\"}],\"barpolar\":[{\"marker\":{\"line\":{\"color\":\"#E5ECF6\",\"width\":0.5},\"pattern\":{\"fillmode\":\"overlay\",\"size\":10,\"solidity\":0.2}},\"type\":\"barpolar\"}],\"pie\":[{\"automargin\":true,\"type\":\"pie\"}]},\"layout\":{\"autotypenumbers\":\"strict\",\"colorway\":[\"#636efa\",\"#EF553B\",\"#00cc96\",\"#ab63fa\",\"#FFA15A\",\"#19d3f3\",\"#FF6692\",\"#B6E880\",\"#FF97FF\",\"#FECB52\"],\"font\":{\"color\":\"#2a3f5f\"},\"hovermode\":\"closest\",\"hoverlabel\":{\"align\":\"left\"},\"paper_bgcolor\":\"white\",\"plot_bgcolor\":\"#E5ECF6\",\"polar\":{\"bgcolor\":\"#E5ECF6\",\"angularaxis\":{\"gridcolor\":\"white\",\"linecolor\":\"white\",\"ticks\":\"\"},\"radialaxis\":{\"gridcolor\":\"white\",\"linecolor\":\"white\",\"ticks\":\"\"}},\"ternary\":{\"bgcolor\":\"#E5ECF6\",\"aaxis\":{\"gridcolor\":\"white\",\"linecolor\":\"white\",\"ticks\":\"\"},\"baxis\":{\"gridcolor\":\"white\",\"linecolor\":\"white\",\"ticks\":\"\"},\"caxis\":{\"gridcolor\":\"white\",\"linecolor\":\"white\",\"ticks\":\"\"}},\"coloraxis\":{\"colorbar\":{\"outlinewidth\":0,\"ticks\":\"\"}},\"colorscale\":{\"sequential\":[[0.0,\"#0d0887\"],[0.1111111111111111,\"#46039f\"],[0.2222222222222222,\"#7201a8\"],[0.3333333333333333,\"#9c179e\"],[0.4444444444444444,\"#bd3786\"],[0.5555555555555556,\"#d8576b\"],[0.6666666666666666,\"#ed7953\"],[0.7777777777777778,\"#fb9f3a\"],[0.8888888888888888,\"#fdca26\"],[1.0,\"#f0f921\"]],\"sequentialminus\":[[0.0,\"#0d0887\"],[0.1111111111111111,\"#46039f\"],[0.2222222222222222,\"#7201a8\"],[0.3333333333333333,\"#9c179e\"],[0.4444444444444444,\"#bd3786\"],[0.5555555555555556,\"#d8576b\"],[0.6666666666666666,\"#ed7953\"],[0.7777777777777778,\"#fb9f3a\"],[0.8888888888888888,\"#fdca26\"],[1.0,\"#f0f921\"]],\"diverging\":[[0,\"#8e0152\"],[0.1,\"#c51b7d\"],[0.2,\"#de77ae\"],[0.3,\"#f1b6da\"],[0.4,\"#fde0ef\"],[0.5,\"#f7f7f7\"],[0.6,\"#e6f5d0\"],[0.7,\"#b8e186\"],[0.8,\"#7fbc41\"],[0.9,\"#4d9221\"],[1,\"#276419\"]]},\"xaxis\":{\"gridcolor\":\"white\",\"linecolor\":\"white\",\"ticks\":\"\",\"title\":{\"standoff\":15},\"zerolinecolor\":\"white\",\"automargin\":true,\"zerolinewidth\":2},\"yaxis\":{\"gridcolor\":\"white\",\"linecolor\":\"white\",\"ticks\":\"\",\"title\":{\"standoff\":15},\"zerolinecolor\":\"white\",\"automargin\":true,\"zerolinewidth\":2},\"scene\":{\"xaxis\":{\"backgroundcolor\":\"#E5ECF6\",\"gridcolor\":\"white\",\"linecolor\":\"white\",\"showbackground\":true,\"ticks\":\"\",\"zerolinecolor\":\"white\",\"gridwidth\":2},\"yaxis\":{\"backgroundcolor\":\"#E5ECF6\",\"gridcolor\":\"white\",\"linecolor\":\"white\",\"showbackground\":true,\"ticks\":\"\",\"zerolinecolor\":\"white\",\"gridwidth\":2},\"zaxis\":{\"backgroundcolor\":\"#E5ECF6\",\"gridcolor\":\"white\",\"linecolor\":\"white\",\"showbackground\":true,\"ticks\":\"\",\"zerolinecolor\":\"white\",\"gridwidth\":2}},\"shapedefaults\":{\"line\":{\"color\":\"#2a3f5f\"}},\"annotationdefaults\":{\"arrowcolor\":\"#2a3f5f\",\"arrowhead\":0,\"arrowwidth\":1},\"geo\":{\"bgcolor\":\"white\",\"landcolor\":\"#E5ECF6\",\"subunitcolor\":\"white\",\"showland\":true,\"showlakes\":true,\"lakecolor\":\"white\"},\"title\":{\"x\":0.05},\"mapbox\":{\"style\":\"light\"}}},\"xaxis\":{\"anchor\":\"y\",\"domain\":[0.0,1.0],\"title\":{\"text\":\"Observation Year\"},\"tickvals\":[2008,2009,2010,2011,2012],\"ticktext\":[\"2008\",\"2009\",\"2010\",\"2011\",\"2012\"]},\"yaxis\":{\"anchor\":\"x\",\"domain\":[0.0,1.0],\"title\":{\"text\":\"Unique Bird Species Observed\"}},\"legend\":{\"tracegroupgap\":0},\"title\":{\"text\":\"Trend of Bird Diversity Over Time\"}},                        {\"responsive\": true}                    ).then(function(){\n",
       "                            \n",
       "var gd = document.getElementById('467029f2-acd5-4667-aeea-c4754c5e5140');\n",
>>>>>>> abeb75099dee86ea4162e81b07d506264f2bda99
       "var x = new MutationObserver(function (mutations, observer) {{\n",
       "        var display = window.getComputedStyle(gd).display;\n",
       "        if (!display || display === 'none') {{\n",
       "            console.log([gd, 'removed!']);\n",
       "            Plotly.purge(gd);\n",
       "            observer.disconnect();\n",
       "        }}\n",
       "}});\n",
       "\n",
       "// Listen for the removal of the full notebook cells\n",
       "var notebookContainer = gd.closest('#notebook-container');\n",
       "if (notebookContainer) {{\n",
       "    x.observe(notebookContainer, {childList: true});\n",
       "}}\n",
       "\n",
       "// Listen for the clearing of the current output cell\n",
       "var outputEl = gd.closest('.output');\n",
       "if (outputEl) {{\n",
       "    x.observe(outputEl, {childList: true});\n",
       "}}\n",
       "\n",
       "                        })                };                });            </script>        </div>"
      ]
     },
     "metadata": {},
     "output_type": "display_data"
    }
   ],
   "source": [
<<<<<<< HEAD
    "def agg_comm(series):\n",
    "    return list(series)\n",
    "grouped_bybird = ebird_gdf.groupby(['COUNTY','SCIENTIFIC NAME','OBSERVATION MONTH','OBSERVATION YEAR']).agg(agg_comm).reset_index()\n",
    "grouped_bybird['COUNT'] = grouped_bybird['COUNT'].apply(lambda x: sum(x))\n",
    "grouped_bybird['NATIVE'] = grouped_bybird['NATIVE'].apply(lambda x: max(x))\n",
    "\n",
    "grouped = grouped_bybird.groupby(['OBSERVATION YEAR']).agg(agg_comm).reset_index()\n",
    "grouped['NATIVE'] = grouped['NATIVE'].apply(lambda x: sum(x))\n",
    "grouped[\"shannon_index\"] = grouped[\"COUNT\"].apply(shannon_index)\n",
    "grouped_bybird = grouped_bybird.drop(columns=['geometry','OBSERVATION DAY'])\n",
    "\n",
    "required_cols =  [\"OBSERVATION YEAR\", \"shannon_index\"]\n",
    "\n",
    "# Extract the required columns\n",
    "vis_df = grouped[required_cols]\n",
    "\n",
    "# Create a scatter plot with tooltips using Plotly Express\n",
    "fig = px.bar(vis_df, x='OBSERVATION YEAR', y='shannon_index',\n",
    "                 title=\"Rising Bird Diversity in Illinois\",\n",
    "                 labels={\"OBSERVATION YEAR\": \"Year\",\n",
    "                        \"shannon_index\": \"Bird Diversity (Shannon Index) \"},\n",
    "                 width=800, height=600)\n",
    "fig.update_yaxes(range=[6, 8], dtick=0.2)\n",
    "\n",
    "# Show the interactive plot\n",
    "fig.show()"
   ]
  },
  {
   "cell_type": "markdown",
   "id": "81e1ac99-c58c-4549-a34f-338de02b8895",
   "metadata": {},
   "source": [
    "## Section 5: Machine Leanring Analysis"
   ]
  },
  {
   "cell_type": "markdown",
   "id": "70a8068f-3635-4fd1-a75e-203bb6ae3a06",
   "metadata": {},
=======
    "import plotly.express as px\n",
    "\n",
    "unique_species_per_year = df.groupby('OBSERVATION YEAR')['SCIENTIFIC NAME'].nunique().reset_index()\n",
    "\n",
    "fig = px.line(unique_species_per_year, x='OBSERVATION YEAR', y='SCIENTIFIC NAME', \n",
    "              title='Trend of Bird Diversity Over Time', \n",
    "              labels={'OBSERVATION YEAR': 'Observation Year', 'SCIENTIFIC NAME': 'Unique Bird Species Observed'})\n",
    "\n",
    "fig.update_traces(mode='markers+lines', marker=dict(color='orange', symbol='circle'))\n",
    "custom_tickvals = [2008, 2009, 2010, 2011, 2012]\n",
    "custom_ticktext = [str(year) for year in custom_tickvals]\n",
    "fig.update_xaxes(tickvals=custom_tickvals, ticktext=custom_ticktext)\n",
    "\n",
    "fig.show()\n"
   ]
  },
  {
   "cell_type": "code",
   "execution_count": null,
   "id": "ae5261dc-9cd5-4df7-a47b-4881f2a17166",
   "metadata": {},
   "outputs": [],
   "source": []
  },
  {
   "cell_type": "markdown",
   "id": "70a8068f-3635-4fd1-a75e-203bb6ae3a06",
   "metadata": {},
>>>>>>> abeb75099dee86ea4162e81b07d506264f2bda99
   "source": [
    "## Section 6: Reflection\n",
    "### What is hardest part of the project that you’ve encountered so far?\n",
    " Identifying county of a bird observation using the bird coordinates and the county boundaries.\n",
    "### What are your initial insights?\n",
    " The overall bird diversity in the Illinois state has increased every year from 2008 to 2011 and dropped slightly the next year even though more unique bird species have been observed in the year 2012."
   ]
  }
 ],
 "metadata": {
  "kernelspec": {
   "display_name": "Python 3 (ipykernel)",
   "language": "python",
   "name": "python3"
  },
  "language_info": {
   "codemirror_mode": {
    "name": "ipython",
    "version": 3
   },
   "file_extension": ".py",
   "mimetype": "text/x-python",
   "name": "python",
   "nbconvert_exporter": "python",
   "pygments_lexer": "ipython3",
   "version": "3.11.5"
  }
 },
 "nbformat": 4,
 "nbformat_minor": 5
}
