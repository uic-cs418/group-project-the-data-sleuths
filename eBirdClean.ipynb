{
 "cells": [
  {
   "cell_type": "code",
   "execution_count": 62,
   "id": "c7c293bd-a080-460e-8f35-c6b93891e883",
   "metadata": {},
   "outputs": [],
   "source": [
    "#pip install geopandas"
   ]
  },
  {
   "cell_type": "code",
   "execution_count": 63,
   "id": "1a44ee38-bb94-41af-86f6-1c02ddba63f2",
   "metadata": {},
   "outputs": [],
   "source": [
    "import pandas as pd\n",
    "import numpy as np\n",
    "import geopandas as gpd\n",
    "import warnings\n",
    "warnings.filterwarnings(\"ignore\")"
   ]
  },
  {
   "cell_type": "code",
   "execution_count": 64,
   "id": "8533c7ed-0c4f-4145-a35c-aafa7b3b5625",
   "metadata": {},
   "outputs": [],
   "source": [
    "df = pd.read_csv('data/ebd_US-IL_200801_201212_relJan-2024.txt',sep='\\t')"
   ]
  },
  {
   "cell_type": "code",
   "execution_count": 65,
   "id": "547f421c-59fa-4b1e-9eaf-881dc3c9d8c9",
   "metadata": {},
   "outputs": [
    {
     "data": {
      "text/html": [
       "<div>\n",
       "<style scoped>\n",
       "    .dataframe tbody tr th:only-of-type {\n",
       "        vertical-align: middle;\n",
       "    }\n",
       "\n",
       "    .dataframe tbody tr th {\n",
       "        vertical-align: top;\n",
       "    }\n",
       "\n",
       "    .dataframe thead th {\n",
       "        text-align: right;\n",
       "    }\n",
       "</style>\n",
       "<table border=\"1\" class=\"dataframe\">\n",
       "  <thead>\n",
       "    <tr style=\"text-align: right;\">\n",
       "      <th></th>\n",
       "      <th>CATEGORY</th>\n",
       "      <th>COMMON NAME</th>\n",
       "      <th>SCIENTIFIC NAME</th>\n",
       "      <th>OBSERVATION COUNT</th>\n",
       "      <th>EXOTIC CODE</th>\n",
       "      <th>LATITUDE</th>\n",
       "      <th>LONGITUDE</th>\n",
       "      <th>OBSERVATION DATE</th>\n",
       "      <th>PROTOCOL TYPE</th>\n",
       "      <th>ALL SPECIES REPORTED</th>\n",
       "    </tr>\n",
       "  </thead>\n",
       "  <tbody>\n",
       "    <tr>\n",
       "      <th>0</th>\n",
       "      <td>species</td>\n",
       "      <td>American White Pelican</td>\n",
       "      <td>Pelecanus erythrorhynchos</td>\n",
       "      <td>49</td>\n",
       "      <td>NaN</td>\n",
       "      <td>37.104636</td>\n",
       "      <td>-89.370953</td>\n",
       "      <td>2008-01-12</td>\n",
       "      <td>Historical</td>\n",
       "      <td>0</td>\n",
       "    </tr>\n",
       "    <tr>\n",
       "      <th>1</th>\n",
       "      <td>species</td>\n",
       "      <td>American Crow</td>\n",
       "      <td>Corvus brachyrhynchos</td>\n",
       "      <td>X</td>\n",
       "      <td>NaN</td>\n",
       "      <td>38.850907</td>\n",
       "      <td>-89.256706</td>\n",
       "      <td>2008-01-01</td>\n",
       "      <td>Traveling</td>\n",
       "      <td>1</td>\n",
       "    </tr>\n",
       "    <tr>\n",
       "      <th>2</th>\n",
       "      <td>species</td>\n",
       "      <td>American Goldfinch</td>\n",
       "      <td>Spinus tristis</td>\n",
       "      <td>X</td>\n",
       "      <td>NaN</td>\n",
       "      <td>38.850907</td>\n",
       "      <td>-89.256706</td>\n",
       "      <td>2008-01-01</td>\n",
       "      <td>Traveling</td>\n",
       "      <td>1</td>\n",
       "    </tr>\n",
       "    <tr>\n",
       "      <th>3</th>\n",
       "      <td>species</td>\n",
       "      <td>American Kestrel</td>\n",
       "      <td>Falco sparverius</td>\n",
       "      <td>X</td>\n",
       "      <td>NaN</td>\n",
       "      <td>38.850907</td>\n",
       "      <td>-89.256706</td>\n",
       "      <td>2008-01-01</td>\n",
       "      <td>Traveling</td>\n",
       "      <td>1</td>\n",
       "    </tr>\n",
       "    <tr>\n",
       "      <th>4</th>\n",
       "      <td>species</td>\n",
       "      <td>Bald Eagle</td>\n",
       "      <td>Haliaeetus leucocephalus</td>\n",
       "      <td>X</td>\n",
       "      <td>NaN</td>\n",
       "      <td>38.850907</td>\n",
       "      <td>-89.256706</td>\n",
       "      <td>2008-01-01</td>\n",
       "      <td>Traveling</td>\n",
       "      <td>1</td>\n",
       "    </tr>\n",
       "  </tbody>\n",
       "</table>\n",
       "</div>"
      ],
      "text/plain": [
       "  CATEGORY             COMMON NAME            SCIENTIFIC NAME  \\\n",
       "0  species  American White Pelican  Pelecanus erythrorhynchos   \n",
       "1  species           American Crow      Corvus brachyrhynchos   \n",
       "2  species      American Goldfinch             Spinus tristis   \n",
       "3  species        American Kestrel           Falco sparverius   \n",
       "4  species              Bald Eagle   Haliaeetus leucocephalus   \n",
       "\n",
       "  OBSERVATION COUNT EXOTIC CODE   LATITUDE  LONGITUDE OBSERVATION DATE  \\\n",
       "0                49         NaN  37.104636 -89.370953       2008-01-12   \n",
       "1                 X         NaN  38.850907 -89.256706       2008-01-01   \n",
       "2                 X         NaN  38.850907 -89.256706       2008-01-01   \n",
       "3                 X         NaN  38.850907 -89.256706       2008-01-01   \n",
       "4                 X         NaN  38.850907 -89.256706       2008-01-01   \n",
       "\n",
       "  PROTOCOL TYPE  ALL SPECIES REPORTED  \n",
       "0    Historical                     0  \n",
       "1     Traveling                     1  \n",
       "2     Traveling                     1  \n",
       "3     Traveling                     1  \n",
       "4     Traveling                     1  "
      ]
     },
     "execution_count": 65,
     "metadata": {},
     "output_type": "execute_result"
    }
   ],
   "source": [
    "df = df.loc[:, ['CATEGORY', 'COMMON NAME', 'SCIENTIFIC NAME', 'OBSERVATION COUNT', 'EXOTIC CODE', 'LATITUDE', 'LONGITUDE', 'OBSERVATION DATE', 'PROTOCOL TYPE', 'ALL SPECIES REPORTED']]\n",
    "df.head()"
   ]
  },
  {
   "cell_type": "markdown",
   "id": "970fd878-679a-4b09-a0b5-da28031e918b",
   "metadata": {},
   "source": [
    "## Filtering eBird Dataset"
   ]
  },
  {
   "cell_type": "code",
   "execution_count": 66,
   "id": "587235c1-d561-4632-bc2f-57f4040bb047",
   "metadata": {},
   "outputs": [
    {
     "data": {
      "text/plain": [
       "array(['species', 'issf', 'domestic', 'slash', 'form', 'spuh', 'hybrid',\n",
       "       'intergrade'], dtype=object)"
      ]
     },
     "execution_count": 66,
     "metadata": {},
     "output_type": "execute_result"
    }
   ],
   "source": [
    "df['CATEGORY'].unique()"
   ]
  },
  {
   "cell_type": "code",
   "execution_count": 67,
   "id": "c585f4a6-f80e-4f95-871f-44ed32e9cdd3",
   "metadata": {},
   "outputs": [
    {
     "data": {
      "text/plain": [
       "array(['Historical', 'Traveling', 'Incidental', 'Stationary', 'Area',\n",
       "       'International Shorebird Survey (ISS)', 'Banding',\n",
       "       'Rusty Blackbird Spring Migration Blitz',\n",
       "       'Standardized Yard Count', 'Greater Gulf Refuge Waterbird Count',\n",
       "       'Nocturnal Flight Call Count'], dtype=object)"
      ]
     },
     "execution_count": 67,
     "metadata": {},
     "output_type": "execute_result"
    }
   ],
   "source": [
    "df['PROTOCOL TYPE'].unique()"
   ]
  },
  {
   "cell_type": "markdown",
   "id": "245bc35e-aa58-44ae-a352-e1f62dbed579",
   "metadata": {},
   "source": [
    "We will keep only species level observations (removing subspecies and genus level observations). We will also filter out incomplete checklists and incidental observations to manage bias towards specific species. "
   ]
  },
  {
   "cell_type": "code",
   "execution_count": 68,
   "id": "3d643334-f168-4062-a4f8-880b81dbb3a9",
   "metadata": {},
   "outputs": [],
   "source": [
    "# Applying filters\n",
    "df = df[(df['CATEGORY']=='species') & (df['PROTOCOL TYPE']=='Traveling') | (df['PROTOCOL TYPE']=='Stationary') & (df['ALL SPECIES REPORTED']==1)]"
   ]
  },
  {
   "cell_type": "code",
   "execution_count": 69,
   "id": "20a591d8-bcb4-47b4-8bdc-22a2358fe6ec",
   "metadata": {},
   "outputs": [
    {
     "data": {
      "text/html": [
       "<div>\n",
       "<style scoped>\n",
       "    .dataframe tbody tr th:only-of-type {\n",
       "        vertical-align: middle;\n",
       "    }\n",
       "\n",
       "    .dataframe tbody tr th {\n",
       "        vertical-align: top;\n",
       "    }\n",
       "\n",
       "    .dataframe thead th {\n",
       "        text-align: right;\n",
       "    }\n",
       "</style>\n",
       "<table border=\"1\" class=\"dataframe\">\n",
       "  <thead>\n",
       "    <tr style=\"text-align: right;\">\n",
       "      <th></th>\n",
       "      <th>CATEGORY</th>\n",
       "      <th>COMMON NAME</th>\n",
       "      <th>SCIENTIFIC NAME</th>\n",
       "      <th>OBSERVATION COUNT</th>\n",
       "      <th>EXOTIC CODE</th>\n",
       "      <th>LATITUDE</th>\n",
       "      <th>LONGITUDE</th>\n",
       "      <th>OBSERVATION DATE</th>\n",
       "      <th>PROTOCOL TYPE</th>\n",
       "      <th>ALL SPECIES REPORTED</th>\n",
       "    </tr>\n",
       "  </thead>\n",
       "  <tbody>\n",
       "    <tr>\n",
       "      <th>1</th>\n",
       "      <td>species</td>\n",
       "      <td>American Crow</td>\n",
       "      <td>Corvus brachyrhynchos</td>\n",
       "      <td>X</td>\n",
       "      <td>NaN</td>\n",
       "      <td>38.850907</td>\n",
       "      <td>-89.256706</td>\n",
       "      <td>2008-01-01</td>\n",
       "      <td>Traveling</td>\n",
       "      <td>1</td>\n",
       "    </tr>\n",
       "    <tr>\n",
       "      <th>2</th>\n",
       "      <td>species</td>\n",
       "      <td>American Goldfinch</td>\n",
       "      <td>Spinus tristis</td>\n",
       "      <td>X</td>\n",
       "      <td>NaN</td>\n",
       "      <td>38.850907</td>\n",
       "      <td>-89.256706</td>\n",
       "      <td>2008-01-01</td>\n",
       "      <td>Traveling</td>\n",
       "      <td>1</td>\n",
       "    </tr>\n",
       "    <tr>\n",
       "      <th>3</th>\n",
       "      <td>species</td>\n",
       "      <td>American Kestrel</td>\n",
       "      <td>Falco sparverius</td>\n",
       "      <td>X</td>\n",
       "      <td>NaN</td>\n",
       "      <td>38.850907</td>\n",
       "      <td>-89.256706</td>\n",
       "      <td>2008-01-01</td>\n",
       "      <td>Traveling</td>\n",
       "      <td>1</td>\n",
       "    </tr>\n",
       "    <tr>\n",
       "      <th>4</th>\n",
       "      <td>species</td>\n",
       "      <td>Bald Eagle</td>\n",
       "      <td>Haliaeetus leucocephalus</td>\n",
       "      <td>X</td>\n",
       "      <td>NaN</td>\n",
       "      <td>38.850907</td>\n",
       "      <td>-89.256706</td>\n",
       "      <td>2008-01-01</td>\n",
       "      <td>Traveling</td>\n",
       "      <td>1</td>\n",
       "    </tr>\n",
       "    <tr>\n",
       "      <th>5</th>\n",
       "      <td>species</td>\n",
       "      <td>Blue Jay</td>\n",
       "      <td>Cyanocitta cristata</td>\n",
       "      <td>X</td>\n",
       "      <td>NaN</td>\n",
       "      <td>38.850907</td>\n",
       "      <td>-89.256706</td>\n",
       "      <td>2008-01-01</td>\n",
       "      <td>Traveling</td>\n",
       "      <td>1</td>\n",
       "    </tr>\n",
       "  </tbody>\n",
       "</table>\n",
       "</div>"
      ],
      "text/plain": [
       "  CATEGORY         COMMON NAME           SCIENTIFIC NAME OBSERVATION COUNT  \\\n",
       "1  species       American Crow     Corvus brachyrhynchos                 X   \n",
       "2  species  American Goldfinch            Spinus tristis                 X   \n",
       "3  species    American Kestrel          Falco sparverius                 X   \n",
       "4  species          Bald Eagle  Haliaeetus leucocephalus                 X   \n",
       "5  species            Blue Jay       Cyanocitta cristata                 X   \n",
       "\n",
       "  EXOTIC CODE   LATITUDE  LONGITUDE OBSERVATION DATE PROTOCOL TYPE  \\\n",
       "1         NaN  38.850907 -89.256706       2008-01-01     Traveling   \n",
       "2         NaN  38.850907 -89.256706       2008-01-01     Traveling   \n",
       "3         NaN  38.850907 -89.256706       2008-01-01     Traveling   \n",
       "4         NaN  38.850907 -89.256706       2008-01-01     Traveling   \n",
       "5         NaN  38.850907 -89.256706       2008-01-01     Traveling   \n",
       "\n",
       "   ALL SPECIES REPORTED  \n",
       "1                     1  \n",
       "2                     1  \n",
       "3                     1  \n",
       "4                     1  \n",
       "5                     1  "
      ]
     },
     "execution_count": 69,
     "metadata": {},
     "output_type": "execute_result"
    }
   ],
   "source": [
    "df.head()"
   ]
  },
  {
   "cell_type": "markdown",
   "id": "5d93eae8-b16f-4e5f-bcab-418418f7941f",
   "metadata": {},
   "source": [
    "## ebird Dataset Transformation"
   ]
  },
  {
   "cell_type": "code",
   "execution_count": 70,
   "id": "3ff8efc8-bf5c-4292-8527-638e414913bb",
   "metadata": {},
   "outputs": [],
   "source": [
    "# Native column: 1 = is native to chicago, 0 = not native to chicago\n",
    "def exotic_trans(row):\n",
    "    if row == np.nan:\n",
    "        return 0\n",
    "    else:\n",
    "        return 1\n",
    "\n",
    "df['NATIVE'] = df['EXOTIC CODE'].apply(exotic_trans)"
   ]
  },
  {
   "cell_type": "code",
   "execution_count": 71,
   "id": "e18901f7-9015-45a4-a6f3-27a7caabc10e",
   "metadata": {},
   "outputs": [],
   "source": [
    "# Assume all 'X' observations have a count of 1 bird\n",
    "def obs_trans(row):\n",
    "    if row == 'X':\n",
    "        return 1\n",
    "    else:\n",
    "        return row\n",
    "\n",
    "df['COUNT'] = df['OBSERVATION COUNT'].apply(obs_trans)"
   ]
  },
  {
   "cell_type": "code",
   "execution_count": 72,
   "id": "f0e32455-bd5b-475d-b318-359218437479",
   "metadata": {},
   "outputs": [
    {
     "data": {
      "text/html": [
       "<div>\n",
       "<style scoped>\n",
       "    .dataframe tbody tr th:only-of-type {\n",
       "        vertical-align: middle;\n",
       "    }\n",
       "\n",
       "    .dataframe tbody tr th {\n",
       "        vertical-align: top;\n",
       "    }\n",
       "\n",
       "    .dataframe thead th {\n",
       "        text-align: right;\n",
       "    }\n",
       "</style>\n",
       "<table border=\"1\" class=\"dataframe\">\n",
       "  <thead>\n",
       "    <tr style=\"text-align: right;\">\n",
       "      <th></th>\n",
       "      <th>COMMON NAME</th>\n",
       "      <th>SCIENTIFIC NAME</th>\n",
       "      <th>NATIVE</th>\n",
       "      <th>COUNT</th>\n",
       "      <th>LATITUDE</th>\n",
       "      <th>LONGITUDE</th>\n",
       "      <th>OBSERVATION DATE</th>\n",
       "    </tr>\n",
       "  </thead>\n",
       "  <tbody>\n",
       "    <tr>\n",
       "      <th>1</th>\n",
       "      <td>American Crow</td>\n",
       "      <td>Corvus brachyrhynchos</td>\n",
       "      <td>1</td>\n",
       "      <td>1</td>\n",
       "      <td>38.850907</td>\n",
       "      <td>-89.256706</td>\n",
       "      <td>2008-01-01</td>\n",
       "    </tr>\n",
       "    <tr>\n",
       "      <th>2</th>\n",
       "      <td>American Goldfinch</td>\n",
       "      <td>Spinus tristis</td>\n",
       "      <td>1</td>\n",
       "      <td>1</td>\n",
       "      <td>38.850907</td>\n",
       "      <td>-89.256706</td>\n",
       "      <td>2008-01-01</td>\n",
       "    </tr>\n",
       "    <tr>\n",
       "      <th>3</th>\n",
       "      <td>American Kestrel</td>\n",
       "      <td>Falco sparverius</td>\n",
       "      <td>1</td>\n",
       "      <td>1</td>\n",
       "      <td>38.850907</td>\n",
       "      <td>-89.256706</td>\n",
       "      <td>2008-01-01</td>\n",
       "    </tr>\n",
       "    <tr>\n",
       "      <th>4</th>\n",
       "      <td>Bald Eagle</td>\n",
       "      <td>Haliaeetus leucocephalus</td>\n",
       "      <td>1</td>\n",
       "      <td>1</td>\n",
       "      <td>38.850907</td>\n",
       "      <td>-89.256706</td>\n",
       "      <td>2008-01-01</td>\n",
       "    </tr>\n",
       "    <tr>\n",
       "      <th>5</th>\n",
       "      <td>Blue Jay</td>\n",
       "      <td>Cyanocitta cristata</td>\n",
       "      <td>1</td>\n",
       "      <td>1</td>\n",
       "      <td>38.850907</td>\n",
       "      <td>-89.256706</td>\n",
       "      <td>2008-01-01</td>\n",
       "    </tr>\n",
       "  </tbody>\n",
       "</table>\n",
       "</div>"
      ],
      "text/plain": [
       "          COMMON NAME           SCIENTIFIC NAME  NATIVE COUNT   LATITUDE  \\\n",
       "1       American Crow     Corvus brachyrhynchos       1     1  38.850907   \n",
       "2  American Goldfinch            Spinus tristis       1     1  38.850907   \n",
       "3    American Kestrel          Falco sparverius       1     1  38.850907   \n",
       "4          Bald Eagle  Haliaeetus leucocephalus       1     1  38.850907   \n",
       "5            Blue Jay       Cyanocitta cristata       1     1  38.850907   \n",
       "\n",
       "   LONGITUDE OBSERVATION DATE  \n",
       "1 -89.256706       2008-01-01  \n",
       "2 -89.256706       2008-01-01  \n",
       "3 -89.256706       2008-01-01  \n",
       "4 -89.256706       2008-01-01  \n",
       "5 -89.256706       2008-01-01  "
      ]
     },
     "execution_count": 72,
     "metadata": {},
     "output_type": "execute_result"
    }
   ],
   "source": [
    "# remove unnecessary columns\n",
    "df = df.loc[:, ['COMMON NAME', 'SCIENTIFIC NAME', 'NATIVE', 'COUNT', 'LATITUDE', 'LONGITUDE', 'OBSERVATION DATE']]\n",
    "df.head()"
   ]
  },
  {
   "cell_type": "markdown",
   "id": "8399ed44-de96-4c08-9a0b-30f56ed29e6e",
   "metadata": {},
   "source": [
    "## Aggregate eBird data based on neighborhood"
   ]
  },
  {
   "cell_type": "code",
   "execution_count": 73,
   "id": "81890d20-3813-4c9b-bd1b-5c1ddbceadab",
   "metadata": {},
   "outputs": [],
   "source": [
    "com_areas = gpd.read_file('data/neighborhoods/geo_export_f5325bf0-9c6d-49a5-a5d9-0e5bf24fa856.shp')"
   ]
  },
  {
   "cell_type": "code",
   "execution_count": 74,
   "id": "52308051-69d2-4953-bac8-2535c7e0b856",
   "metadata": {},
   "outputs": [
    {
     "data": {
      "text/html": [
       "<div>\n",
       "<style scoped>\n",
       "    .dataframe tbody tr th:only-of-type {\n",
       "        vertical-align: middle;\n",
       "    }\n",
       "\n",
       "    .dataframe tbody tr th {\n",
       "        vertical-align: top;\n",
       "    }\n",
       "\n",
       "    .dataframe thead th {\n",
       "        text-align: right;\n",
       "    }\n",
       "</style>\n",
       "<table border=\"1\" class=\"dataframe\">\n",
       "  <thead>\n",
       "    <tr style=\"text-align: right;\">\n",
       "      <th></th>\n",
       "      <th>community</th>\n",
       "      <th>geometry</th>\n",
       "    </tr>\n",
       "  </thead>\n",
       "  <tbody>\n",
       "    <tr>\n",
       "      <th>0</th>\n",
       "      <td>DOUGLAS</td>\n",
       "      <td>POLYGON ((-87.60914 41.84469, -87.60915 41.844...</td>\n",
       "    </tr>\n",
       "    <tr>\n",
       "      <th>1</th>\n",
       "      <td>OAKLAND</td>\n",
       "      <td>POLYGON ((-87.59215 41.81693, -87.59231 41.816...</td>\n",
       "    </tr>\n",
       "    <tr>\n",
       "      <th>2</th>\n",
       "      <td>FULLER PARK</td>\n",
       "      <td>POLYGON ((-87.62880 41.80189, -87.62879 41.801...</td>\n",
       "    </tr>\n",
       "    <tr>\n",
       "      <th>3</th>\n",
       "      <td>GRAND BOULEVARD</td>\n",
       "      <td>POLYGON ((-87.60671 41.81681, -87.60670 41.816...</td>\n",
       "    </tr>\n",
       "    <tr>\n",
       "      <th>4</th>\n",
       "      <td>KENWOOD</td>\n",
       "      <td>POLYGON ((-87.59215 41.81693, -87.59215 41.816...</td>\n",
       "    </tr>\n",
       "  </tbody>\n",
       "</table>\n",
       "</div>"
      ],
      "text/plain": [
       "         community                                           geometry\n",
       "0          DOUGLAS  POLYGON ((-87.60914 41.84469, -87.60915 41.844...\n",
       "1          OAKLAND  POLYGON ((-87.59215 41.81693, -87.59231 41.816...\n",
       "2      FULLER PARK  POLYGON ((-87.62880 41.80189, -87.62879 41.801...\n",
       "3  GRAND BOULEVARD  POLYGON ((-87.60671 41.81681, -87.60670 41.816...\n",
       "4          KENWOOD  POLYGON ((-87.59215 41.81693, -87.59215 41.816..."
      ]
     },
     "execution_count": 74,
     "metadata": {},
     "output_type": "execute_result"
    }
   ],
   "source": [
    "com_areas = com_areas.loc[:,['community','geometry']]\n",
    "com_areas.head()"
   ]
  },
  {
   "cell_type": "code",
   "execution_count": 75,
   "id": "82a8d5e4-fa95-49b8-b678-ad1aaff77645",
   "metadata": {},
   "outputs": [
    {
     "data": {
      "text/plain": [
       "77"
      ]
     },
     "execution_count": 75,
     "metadata": {},
     "output_type": "execute_result"
    }
   ],
   "source": [
    "len(com_areas)"
   ]
  },
  {
   "cell_type": "code",
   "execution_count": 76,
   "id": "8721706a-7b2a-4e02-bc82-d678470dd46f",
   "metadata": {},
   "outputs": [],
   "source": [
    "from shapely.geometry import Point\n",
    "\n",
    "geometry = [Point(xy) for xy in zip(df['LONGITUDE'], df['LATITUDE'])]\n",
    "geo_df = gpd.GeoDataFrame(df, geometry=geometry)"
   ]
  },
  {
   "cell_type": "code",
   "execution_count": 77,
   "id": "51dca33d-805c-4108-88d0-6be79ac49c47",
   "metadata": {
    "scrolled": true
   },
   "outputs": [
    {
     "data": {
      "text/html": [
       "<div>\n",
       "<style scoped>\n",
       "    .dataframe tbody tr th:only-of-type {\n",
       "        vertical-align: middle;\n",
       "    }\n",
       "\n",
       "    .dataframe tbody tr th {\n",
       "        vertical-align: top;\n",
       "    }\n",
       "\n",
       "    .dataframe thead th {\n",
       "        text-align: right;\n",
       "    }\n",
       "</style>\n",
       "<table border=\"1\" class=\"dataframe\">\n",
       "  <thead>\n",
       "    <tr style=\"text-align: right;\">\n",
       "      <th></th>\n",
       "      <th>COMMON NAME</th>\n",
       "      <th>SCIENTIFIC NAME</th>\n",
       "      <th>NATIVE</th>\n",
       "      <th>COUNT</th>\n",
       "      <th>LATITUDE</th>\n",
       "      <th>LONGITUDE</th>\n",
       "      <th>OBSERVATION DATE</th>\n",
       "      <th>geometry</th>\n",
       "    </tr>\n",
       "  </thead>\n",
       "  <tbody>\n",
       "    <tr>\n",
       "      <th>1</th>\n",
       "      <td>American Crow</td>\n",
       "      <td>Corvus brachyrhynchos</td>\n",
       "      <td>1</td>\n",
       "      <td>1</td>\n",
       "      <td>38.850907</td>\n",
       "      <td>-89.256706</td>\n",
       "      <td>2008-01-01</td>\n",
       "      <td>POINT (-89.25671 38.85091)</td>\n",
       "    </tr>\n",
       "    <tr>\n",
       "      <th>2</th>\n",
       "      <td>American Goldfinch</td>\n",
       "      <td>Spinus tristis</td>\n",
       "      <td>1</td>\n",
       "      <td>1</td>\n",
       "      <td>38.850907</td>\n",
       "      <td>-89.256706</td>\n",
       "      <td>2008-01-01</td>\n",
       "      <td>POINT (-89.25671 38.85091)</td>\n",
       "    </tr>\n",
       "    <tr>\n",
       "      <th>3</th>\n",
       "      <td>American Kestrel</td>\n",
       "      <td>Falco sparverius</td>\n",
       "      <td>1</td>\n",
       "      <td>1</td>\n",
       "      <td>38.850907</td>\n",
       "      <td>-89.256706</td>\n",
       "      <td>2008-01-01</td>\n",
       "      <td>POINT (-89.25671 38.85091)</td>\n",
       "    </tr>\n",
       "    <tr>\n",
       "      <th>4</th>\n",
       "      <td>Bald Eagle</td>\n",
       "      <td>Haliaeetus leucocephalus</td>\n",
       "      <td>1</td>\n",
       "      <td>1</td>\n",
       "      <td>38.850907</td>\n",
       "      <td>-89.256706</td>\n",
       "      <td>2008-01-01</td>\n",
       "      <td>POINT (-89.25671 38.85091)</td>\n",
       "    </tr>\n",
       "    <tr>\n",
       "      <th>5</th>\n",
       "      <td>Blue Jay</td>\n",
       "      <td>Cyanocitta cristata</td>\n",
       "      <td>1</td>\n",
       "      <td>1</td>\n",
       "      <td>38.850907</td>\n",
       "      <td>-89.256706</td>\n",
       "      <td>2008-01-01</td>\n",
       "      <td>POINT (-89.25671 38.85091)</td>\n",
       "    </tr>\n",
       "  </tbody>\n",
       "</table>\n",
       "</div>"
      ],
      "text/plain": [
       "          COMMON NAME           SCIENTIFIC NAME  NATIVE COUNT   LATITUDE  \\\n",
       "1       American Crow     Corvus brachyrhynchos       1     1  38.850907   \n",
       "2  American Goldfinch            Spinus tristis       1     1  38.850907   \n",
       "3    American Kestrel          Falco sparverius       1     1  38.850907   \n",
       "4          Bald Eagle  Haliaeetus leucocephalus       1     1  38.850907   \n",
       "5            Blue Jay       Cyanocitta cristata       1     1  38.850907   \n",
       "\n",
       "   LONGITUDE OBSERVATION DATE                    geometry  \n",
       "1 -89.256706       2008-01-01  POINT (-89.25671 38.85091)  \n",
       "2 -89.256706       2008-01-01  POINT (-89.25671 38.85091)  \n",
       "3 -89.256706       2008-01-01  POINT (-89.25671 38.85091)  \n",
       "4 -89.256706       2008-01-01  POINT (-89.25671 38.85091)  \n",
       "5 -89.256706       2008-01-01  POINT (-89.25671 38.85091)  "
      ]
     },
     "execution_count": 77,
     "metadata": {},
     "output_type": "execute_result"
    }
   ],
   "source": [
    "geo_df.head()"
   ]
  },
  {
   "cell_type": "code",
   "execution_count": 78,
   "id": "a6aa46cf-f005-4c0d-9db5-b34a8a8e4362",
   "metadata": {},
   "outputs": [],
   "source": [
    "ebird_gdf = gpd.sjoin(geo_df, com_areas, how='left', op='within')"
   ]
  },
  {
   "cell_type": "code",
   "execution_count": 79,
   "id": "8c9ebcc9-7e8c-4f85-8c5d-01d723b92f91",
   "metadata": {},
   "outputs": [
    {
     "name": "stdout",
     "output_type": "stream",
     "text": [
      "<class 'geopandas.geodataframe.GeoDataFrame'>\n",
      "Int64Index: 1435454 entries, 1 to 2056230\n",
      "Data columns (total 10 columns):\n",
      " #   Column            Non-Null Count    Dtype   \n",
      "---  ------            --------------    -----   \n",
      " 0   COMMON NAME       1435454 non-null  object  \n",
      " 1   SCIENTIFIC NAME   1435454 non-null  object  \n",
      " 2   NATIVE            1435454 non-null  int64   \n",
      " 3   COUNT             1435454 non-null  object  \n",
      " 4   LATITUDE          1435454 non-null  float64 \n",
      " 5   LONGITUDE         1435454 non-null  float64 \n",
      " 6   OBSERVATION DATE  1435454 non-null  object  \n",
      " 7   geometry          1435454 non-null  geometry\n",
      " 8   index_right       277170 non-null   float64 \n",
      " 9   community         277170 non-null   object  \n",
      "dtypes: float64(3), geometry(1), int64(1), object(5)\n",
      "memory usage: 120.5+ MB\n"
     ]
    }
   ],
   "source": [
    "ebird_gdf.info()"
   ]
  },
  {
   "cell_type": "code",
   "execution_count": 80,
   "id": "d976b0a1-5485-469b-bd74-e049e1c6c804",
   "metadata": {
    "scrolled": true
   },
   "outputs": [
    {
     "data": {
      "text/html": [
       "<div>\n",
       "<style scoped>\n",
       "    .dataframe tbody tr th:only-of-type {\n",
       "        vertical-align: middle;\n",
       "    }\n",
       "\n",
       "    .dataframe tbody tr th {\n",
       "        vertical-align: top;\n",
       "    }\n",
       "\n",
       "    .dataframe thead th {\n",
       "        text-align: right;\n",
       "    }\n",
       "</style>\n",
       "<table border=\"1\" class=\"dataframe\">\n",
       "  <thead>\n",
       "    <tr style=\"text-align: right;\">\n",
       "      <th></th>\n",
       "      <th>COMMON NAME</th>\n",
       "      <th>SCIENTIFIC NAME</th>\n",
       "      <th>NATIVE</th>\n",
       "      <th>COUNT</th>\n",
       "      <th>LATITUDE</th>\n",
       "      <th>LONGITUDE</th>\n",
       "      <th>OBSERVATION DATE</th>\n",
       "      <th>geometry</th>\n",
       "      <th>index_right</th>\n",
       "      <th>community</th>\n",
       "    </tr>\n",
       "  </thead>\n",
       "  <tbody>\n",
       "    <tr>\n",
       "      <th>1</th>\n",
       "      <td>American Crow</td>\n",
       "      <td>Corvus brachyrhynchos</td>\n",
       "      <td>1</td>\n",
       "      <td>1</td>\n",
       "      <td>38.850907</td>\n",
       "      <td>-89.256706</td>\n",
       "      <td>2008-01-01</td>\n",
       "      <td>POINT (-89.25671 38.85091)</td>\n",
       "      <td>NaN</td>\n",
       "      <td>NaN</td>\n",
       "    </tr>\n",
       "    <tr>\n",
       "      <th>2</th>\n",
       "      <td>American Goldfinch</td>\n",
       "      <td>Spinus tristis</td>\n",
       "      <td>1</td>\n",
       "      <td>1</td>\n",
       "      <td>38.850907</td>\n",
       "      <td>-89.256706</td>\n",
       "      <td>2008-01-01</td>\n",
       "      <td>POINT (-89.25671 38.85091)</td>\n",
       "      <td>NaN</td>\n",
       "      <td>NaN</td>\n",
       "    </tr>\n",
       "    <tr>\n",
       "      <th>3</th>\n",
       "      <td>American Kestrel</td>\n",
       "      <td>Falco sparverius</td>\n",
       "      <td>1</td>\n",
       "      <td>1</td>\n",
       "      <td>38.850907</td>\n",
       "      <td>-89.256706</td>\n",
       "      <td>2008-01-01</td>\n",
       "      <td>POINT (-89.25671 38.85091)</td>\n",
       "      <td>NaN</td>\n",
       "      <td>NaN</td>\n",
       "    </tr>\n",
       "    <tr>\n",
       "      <th>4</th>\n",
       "      <td>Bald Eagle</td>\n",
       "      <td>Haliaeetus leucocephalus</td>\n",
       "      <td>1</td>\n",
       "      <td>1</td>\n",
       "      <td>38.850907</td>\n",
       "      <td>-89.256706</td>\n",
       "      <td>2008-01-01</td>\n",
       "      <td>POINT (-89.25671 38.85091)</td>\n",
       "      <td>NaN</td>\n",
       "      <td>NaN</td>\n",
       "    </tr>\n",
       "    <tr>\n",
       "      <th>5</th>\n",
       "      <td>Blue Jay</td>\n",
       "      <td>Cyanocitta cristata</td>\n",
       "      <td>1</td>\n",
       "      <td>1</td>\n",
       "      <td>38.850907</td>\n",
       "      <td>-89.256706</td>\n",
       "      <td>2008-01-01</td>\n",
       "      <td>POINT (-89.25671 38.85091)</td>\n",
       "      <td>NaN</td>\n",
       "      <td>NaN</td>\n",
       "    </tr>\n",
       "  </tbody>\n",
       "</table>\n",
       "</div>"
      ],
      "text/plain": [
       "          COMMON NAME           SCIENTIFIC NAME  NATIVE COUNT   LATITUDE  \\\n",
       "1       American Crow     Corvus brachyrhynchos       1     1  38.850907   \n",
       "2  American Goldfinch            Spinus tristis       1     1  38.850907   \n",
       "3    American Kestrel          Falco sparverius       1     1  38.850907   \n",
       "4          Bald Eagle  Haliaeetus leucocephalus       1     1  38.850907   \n",
       "5            Blue Jay       Cyanocitta cristata       1     1  38.850907   \n",
       "\n",
       "   LONGITUDE OBSERVATION DATE                    geometry  index_right  \\\n",
       "1 -89.256706       2008-01-01  POINT (-89.25671 38.85091)          NaN   \n",
       "2 -89.256706       2008-01-01  POINT (-89.25671 38.85091)          NaN   \n",
       "3 -89.256706       2008-01-01  POINT (-89.25671 38.85091)          NaN   \n",
       "4 -89.256706       2008-01-01  POINT (-89.25671 38.85091)          NaN   \n",
       "5 -89.256706       2008-01-01  POINT (-89.25671 38.85091)          NaN   \n",
       "\n",
       "  community  \n",
       "1       NaN  \n",
       "2       NaN  \n",
       "3       NaN  \n",
       "4       NaN  \n",
       "5       NaN  "
      ]
     },
     "execution_count": 80,
     "metadata": {},
     "output_type": "execute_result"
    }
   ],
   "source": [
    "ebird_gdf.head()"
   ]
  },
  {
   "cell_type": "code",
   "execution_count": 81,
   "id": "49c1dec1-5885-4615-bfe7-5a13f06401ea",
   "metadata": {},
   "outputs": [],
   "source": [
    "# remove observations outside of Chicago\n",
    "ebird_gdf = ebird_gdf[ebird_gdf['community'].notna()]"
   ]
  },
  {
   "cell_type": "code",
   "execution_count": 82,
   "id": "e728d162-de74-4b41-b196-2ea45dc2088f",
   "metadata": {
    "scrolled": true
   },
   "outputs": [],
   "source": [
    "# also remove more unnecessary columns\n",
    "ebird_gdf = ebird_gdf.drop(columns=[\"index_right\",\"LATITUDE\",\"LONGITUDE\",\"OBSERVATION DATE\", \"COMMON NAME\"])"
   ]
  },
  {
   "cell_type": "code",
   "execution_count": 83,
   "id": "98f75c62-a363-4235-bb28-f4bb750b5c20",
   "metadata": {
    "scrolled": true
   },
   "outputs": [
    {
     "data": {
      "text/plain": [
       "SCIENTIFIC NAME      object\n",
       "NATIVE                int64\n",
       "COUNT                object\n",
       "geometry           geometry\n",
       "community            object\n",
       "dtype: object"
      ]
     },
     "execution_count": 83,
     "metadata": {},
     "output_type": "execute_result"
    }
   ],
   "source": [
    "ebird_gdf.dtypes"
   ]
  },
  {
   "cell_type": "code",
   "execution_count": 84,
   "id": "5d478667-7ff1-42b7-a9e1-9d11179d703d",
   "metadata": {},
   "outputs": [],
   "source": [
    "ebird_gdf['COUNT'] = ebird_gdf['COUNT'].astype(int)"
   ]
  },
  {
   "cell_type": "code",
   "execution_count": 85,
   "id": "97b53756-9b5a-43e7-a33a-523c9793eb24",
   "metadata": {
    "scrolled": true
   },
   "outputs": [],
   "source": [
    "# aggregate \n",
    "def agg_comm(series):\n",
    "    return list(series)\n",
    "\n",
    "grouped = ebird_gdf.groupby('community').agg(agg_comm)\n",
    "grouped['NATIVE'] = grouped['NATIVE'].apply(lambda x: sum(x))"
   ]
  },
  {
   "cell_type": "code",
   "execution_count": 86,
   "id": "88098d0c-073c-440a-b489-ff21af665604",
   "metadata": {},
   "outputs": [
    {
     "name": "stdout",
     "output_type": "stream",
     "text": [
      "<class 'pandas.core.frame.DataFrame'>\n",
      "Index: 53 entries, ALBANY PARK to WOODLAWN\n",
      "Data columns (total 4 columns):\n",
      " #   Column           Non-Null Count  Dtype \n",
      "---  ------           --------------  ----- \n",
      " 0   SCIENTIFIC NAME  53 non-null     object\n",
      " 1   NATIVE           53 non-null     int64 \n",
      " 2   COUNT            53 non-null     object\n",
      " 3   geometry         53 non-null     object\n",
      "dtypes: int64(1), object(3)\n",
      "memory usage: 2.1+ KB\n"
     ]
    }
   ],
   "source": [
    "grouped.info()"
   ]
  },
  {
   "cell_type": "code",
   "execution_count": 87,
   "id": "c85021d3-1267-4a89-be5e-f0bc5cb3cce2",
   "metadata": {},
   "outputs": [],
   "source": [
    "grouped = grouped.drop(columns=['geometry'])"
   ]
  },
  {
   "cell_type": "code",
   "execution_count": 88,
   "id": "16202b17-b919-458e-83a8-be74d9e7bc10",
   "metadata": {},
   "outputs": [
    {
     "data": {
      "text/html": [
       "<div>\n",
       "<style scoped>\n",
       "    .dataframe tbody tr th:only-of-type {\n",
       "        vertical-align: middle;\n",
       "    }\n",
       "\n",
       "    .dataframe tbody tr th {\n",
       "        vertical-align: top;\n",
       "    }\n",
       "\n",
       "    .dataframe thead th {\n",
       "        text-align: right;\n",
       "    }\n",
       "</style>\n",
       "<table border=\"1\" class=\"dataframe\">\n",
       "  <thead>\n",
       "    <tr style=\"text-align: right;\">\n",
       "      <th></th>\n",
       "      <th>SCIENTIFIC NAME</th>\n",
       "      <th>NATIVE</th>\n",
       "      <th>COUNT</th>\n",
       "    </tr>\n",
       "    <tr>\n",
       "      <th>community</th>\n",
       "      <th></th>\n",
       "      <th></th>\n",
       "      <th></th>\n",
       "    </tr>\n",
       "  </thead>\n",
       "  <tbody>\n",
       "    <tr>\n",
       "      <th>ALBANY PARK</th>\n",
       "      <td>[Spinus tristis, Megaceryle alcyon, Cyanocitta...</td>\n",
       "      <td>1281</td>\n",
       "      <td>[1, 1, 1, 1, 1, 1, 1, 1, 1, 1, 1, 1, 3, 1, 2, ...</td>\n",
       "    </tr>\n",
       "    <tr>\n",
       "      <th>ARMOUR SQUARE</th>\n",
       "      <td>[Turdus migratorius, Branta canadensis, Aegoli...</td>\n",
       "      <td>35</td>\n",
       "      <td>[1, 1, 1, 1, 6, 3, 1, 1, 5, 2, 5, 1, 1, 1, 1, ...</td>\n",
       "    </tr>\n",
       "    <tr>\n",
       "      <th>AUSTIN</th>\n",
       "      <td>[Branta canadensis, Branta canadensis, Dryobat...</td>\n",
       "      <td>16232</td>\n",
       "      <td>[375, 380, 1, 19, 2, 1, 6, 7, 1, 1, 48, 6, 1, ...</td>\n",
       "    </tr>\n",
       "    <tr>\n",
       "      <th>AVONDALE</th>\n",
       "      <td>[Corvus brachyrhynchos, Branta canadensis, Buc...</td>\n",
       "      <td>97</td>\n",
       "      <td>[1, 45, 1, 12, 1, 1, 7, 3, 1, 1, 2, 34, 1, 77,...</td>\n",
       "    </tr>\n",
       "    <tr>\n",
       "      <th>BELMONT CRAGIN</th>\n",
       "      <td>[Setophaga ruticilla, Setophaga ruticilla, Tur...</td>\n",
       "      <td>123</td>\n",
       "      <td>[2, 2, 10, 10, 1, 1, 2, 2, 1, 1, 2, 2, 10, 10,...</td>\n",
       "    </tr>\n",
       "  </tbody>\n",
       "</table>\n",
       "</div>"
      ],
      "text/plain": [
       "                                                  SCIENTIFIC NAME  NATIVE  \\\n",
       "community                                                                   \n",
       "ALBANY PARK     [Spinus tristis, Megaceryle alcyon, Cyanocitta...    1281   \n",
       "ARMOUR SQUARE   [Turdus migratorius, Branta canadensis, Aegoli...      35   \n",
       "AUSTIN          [Branta canadensis, Branta canadensis, Dryobat...   16232   \n",
       "AVONDALE        [Corvus brachyrhynchos, Branta canadensis, Buc...      97   \n",
       "BELMONT CRAGIN  [Setophaga ruticilla, Setophaga ruticilla, Tur...     123   \n",
       "\n",
       "                                                            COUNT  \n",
       "community                                                          \n",
       "ALBANY PARK     [1, 1, 1, 1, 1, 1, 1, 1, 1, 1, 1, 1, 3, 1, 2, ...  \n",
       "ARMOUR SQUARE   [1, 1, 1, 1, 6, 3, 1, 1, 5, 2, 5, 1, 1, 1, 1, ...  \n",
       "AUSTIN          [375, 380, 1, 19, 2, 1, 6, 7, 1, 1, 48, 6, 1, ...  \n",
       "AVONDALE        [1, 45, 1, 12, 1, 1, 7, 3, 1, 1, 2, 34, 1, 77,...  \n",
       "BELMONT CRAGIN  [2, 2, 10, 10, 1, 1, 2, 2, 1, 1, 2, 2, 10, 10,...  "
      ]
     },
     "execution_count": 88,
     "metadata": {},
     "output_type": "execute_result"
    }
   ],
   "source": [
    "grouped.head()"
   ]
  },
  {
   "cell_type": "code",
   "execution_count": 89,
   "id": "22763786-2ada-40ff-ba66-ba290d532367",
   "metadata": {},
   "outputs": [
    {
     "name": "stdout",
     "output_type": "stream",
     "text": [
      "0      7.704645\n",
      "1      2.831664\n",
      "2      3.332879\n",
      "3      8.115722\n",
      "4      4.864822\n",
      "        ...    \n",
      "72    12.603975\n",
      "73    15.318321\n",
      "74    62.549480\n",
      "75     8.152617\n",
      "76     5.327034\n",
      "Name: Area, Length: 77, dtype: float64\n"
     ]
    }
   ],
   "source": [
    "com_areas = com_areas.to_crs(epsg=3857)\n",
    "com_areas[\"Area\"] = com_areas['geometry'].area / 10 ** 6\n",
    "print(com_areas['Area'])"
   ]
  },
  {
   "cell_type": "code",
   "execution_count": 90,
   "id": "79028ca1-6c80-4fd8-9672-ba23ab39e531",
   "metadata": {},
   "outputs": [],
   "source": [
    "com_area_size = com_areas[[\"community\",\"Area\"]]\n",
    "grouped = grouped.merge(com_area_size,on=\"community\",how=\"left\")"
   ]
  },
  {
   "cell_type": "code",
   "execution_count": 91,
   "id": "8cc115a6-93c0-4945-9c1a-efac44f723e5",
   "metadata": {},
   "outputs": [
    {
     "data": {
      "text/html": [
       "<div>\n",
       "<style scoped>\n",
       "    .dataframe tbody tr th:only-of-type {\n",
       "        vertical-align: middle;\n",
       "    }\n",
       "\n",
       "    .dataframe tbody tr th {\n",
       "        vertical-align: top;\n",
       "    }\n",
       "\n",
       "    .dataframe thead th {\n",
       "        text-align: right;\n",
       "    }\n",
       "</style>\n",
       "<table border=\"1\" class=\"dataframe\">\n",
       "  <thead>\n",
       "    <tr style=\"text-align: right;\">\n",
       "      <th></th>\n",
       "      <th>community</th>\n",
       "      <th>SCIENTIFIC NAME</th>\n",
       "      <th>NATIVE</th>\n",
       "      <th>COUNT</th>\n",
       "      <th>Area</th>\n",
       "    </tr>\n",
       "  </thead>\n",
       "  <tbody>\n",
       "    <tr>\n",
       "      <th>0</th>\n",
       "      <td>ALBANY PARK</td>\n",
       "      <td>[Spinus tristis, Megaceryle alcyon, Cyanocitta...</td>\n",
       "      <td>1281</td>\n",
       "      <td>[1, 1, 1, 1, 1, 1, 1, 1, 1, 1, 1, 1, 3, 1, 2, ...</td>\n",
       "      <td>9.004359</td>\n",
       "    </tr>\n",
       "    <tr>\n",
       "      <th>1</th>\n",
       "      <td>ARMOUR SQUARE</td>\n",
       "      <td>[Turdus migratorius, Branta canadensis, Aegoli...</td>\n",
       "      <td>35</td>\n",
       "      <td>[1, 1, 1, 1, 6, 3, 1, 1, 5, 2, 5, 1, 1, 1, 1, ...</td>\n",
       "      <td>4.651178</td>\n",
       "    </tr>\n",
       "    <tr>\n",
       "      <th>2</th>\n",
       "      <td>AUSTIN</td>\n",
       "      <td>[Branta canadensis, Branta canadensis, Dryobat...</td>\n",
       "      <td>16232</td>\n",
       "      <td>[375, 380, 1, 19, 2, 1, 6, 7, 1, 1, 48, 6, 1, ...</td>\n",
       "      <td>33.432414</td>\n",
       "    </tr>\n",
       "    <tr>\n",
       "      <th>3</th>\n",
       "      <td>AVONDALE</td>\n",
       "      <td>[Corvus brachyrhynchos, Branta canadensis, Buc...</td>\n",
       "      <td>97</td>\n",
       "      <td>[1, 45, 1, 12, 1, 1, 7, 3, 1, 1, 2, 34, 1, 77,...</td>\n",
       "      <td>9.289855</td>\n",
       "    </tr>\n",
       "    <tr>\n",
       "      <th>4</th>\n",
       "      <td>BELMONT CRAGIN</td>\n",
       "      <td>[Setophaga ruticilla, Setophaga ruticilla, Tur...</td>\n",
       "      <td>123</td>\n",
       "      <td>[2, 2, 10, 10, 1, 1, 2, 2, 1, 1, 2, 2, 10, 10,...</td>\n",
       "      <td>18.324439</td>\n",
       "    </tr>\n",
       "  </tbody>\n",
       "</table>\n",
       "</div>"
      ],
      "text/plain": [
       "        community                                    SCIENTIFIC NAME  NATIVE  \\\n",
       "0     ALBANY PARK  [Spinus tristis, Megaceryle alcyon, Cyanocitta...    1281   \n",
       "1   ARMOUR SQUARE  [Turdus migratorius, Branta canadensis, Aegoli...      35   \n",
       "2          AUSTIN  [Branta canadensis, Branta canadensis, Dryobat...   16232   \n",
       "3        AVONDALE  [Corvus brachyrhynchos, Branta canadensis, Buc...      97   \n",
       "4  BELMONT CRAGIN  [Setophaga ruticilla, Setophaga ruticilla, Tur...     123   \n",
       "\n",
       "                                               COUNT       Area  \n",
       "0  [1, 1, 1, 1, 1, 1, 1, 1, 1, 1, 1, 1, 3, 1, 2, ...   9.004359  \n",
       "1  [1, 1, 1, 1, 6, 3, 1, 1, 5, 2, 5, 1, 1, 1, 1, ...   4.651178  \n",
       "2  [375, 380, 1, 19, 2, 1, 6, 7, 1, 1, 48, 6, 1, ...  33.432414  \n",
       "3  [1, 45, 1, 12, 1, 1, 7, 3, 1, 1, 2, 34, 1, 77,...   9.289855  \n",
       "4  [2, 2, 10, 10, 1, 1, 2, 2, 1, 1, 2, 2, 10, 10,...  18.324439  "
      ]
     },
     "execution_count": 91,
     "metadata": {},
     "output_type": "execute_result"
    }
   ],
   "source": [
    "grouped.head(5)"
   ]
  },
  {
   "cell_type": "markdown",
   "id": "5a147ad7-284f-45db-b083-6a5ecfafcee5",
   "metadata": {},
   "source": [
    "## Join eBird and census datasets"
   ]
  },
  {
   "cell_type": "code",
   "execution_count": 92,
   "id": "6535c2fe-df18-420e-bbe4-57e73be99067",
   "metadata": {},
   "outputs": [],
   "source": [
    "census_df = pd.read_csv(\"data/Census_Data_-_Selected_socioeconomic_indicators_in_Chicago__2008___2012_20240228.csv\")"
   ]
  },
  {
   "cell_type": "code",
   "execution_count": 93,
   "id": "ab9833ce-2135-4b47-a0d8-dce1f6fd2a87",
   "metadata": {},
   "outputs": [
    {
     "data": {
      "text/html": [
       "<div>\n",
       "<style scoped>\n",
       "    .dataframe tbody tr th:only-of-type {\n",
       "        vertical-align: middle;\n",
       "    }\n",
       "\n",
       "    .dataframe tbody tr th {\n",
       "        vertical-align: top;\n",
       "    }\n",
       "\n",
       "    .dataframe thead th {\n",
       "        text-align: right;\n",
       "    }\n",
       "</style>\n",
       "<table border=\"1\" class=\"dataframe\">\n",
       "  <thead>\n",
       "    <tr style=\"text-align: right;\">\n",
       "      <th></th>\n",
       "      <th>Community Area Number</th>\n",
       "      <th>COMMUNITY AREA NAME</th>\n",
       "      <th>PERCENT OF HOUSING CROWDED</th>\n",
       "      <th>PERCENT HOUSEHOLDS BELOW POVERTY</th>\n",
       "      <th>PERCENT AGED 16+ UNEMPLOYED</th>\n",
       "      <th>PERCENT AGED 25+ WITHOUT HIGH SCHOOL DIPLOMA</th>\n",
       "      <th>PERCENT AGED UNDER 18 OR OVER 64</th>\n",
       "      <th>PER CAPITA INCOME</th>\n",
       "      <th>HARDSHIP INDEX</th>\n",
       "    </tr>\n",
       "  </thead>\n",
       "  <tbody>\n",
       "    <tr>\n",
       "      <th>0</th>\n",
       "      <td>1.0</td>\n",
       "      <td>Rogers Park</td>\n",
       "      <td>7.7</td>\n",
       "      <td>23.6</td>\n",
       "      <td>8.7</td>\n",
       "      <td>18.2</td>\n",
       "      <td>27.5</td>\n",
       "      <td>23939</td>\n",
       "      <td>39.0</td>\n",
       "    </tr>\n",
       "    <tr>\n",
       "      <th>1</th>\n",
       "      <td>2.0</td>\n",
       "      <td>West Ridge</td>\n",
       "      <td>7.8</td>\n",
       "      <td>17.2</td>\n",
       "      <td>8.8</td>\n",
       "      <td>20.8</td>\n",
       "      <td>38.5</td>\n",
       "      <td>23040</td>\n",
       "      <td>46.0</td>\n",
       "    </tr>\n",
       "    <tr>\n",
       "      <th>2</th>\n",
       "      <td>3.0</td>\n",
       "      <td>Uptown</td>\n",
       "      <td>3.8</td>\n",
       "      <td>24.0</td>\n",
       "      <td>8.9</td>\n",
       "      <td>11.8</td>\n",
       "      <td>22.2</td>\n",
       "      <td>35787</td>\n",
       "      <td>20.0</td>\n",
       "    </tr>\n",
       "    <tr>\n",
       "      <th>3</th>\n",
       "      <td>4.0</td>\n",
       "      <td>Lincoln Square</td>\n",
       "      <td>3.4</td>\n",
       "      <td>10.9</td>\n",
       "      <td>8.2</td>\n",
       "      <td>13.4</td>\n",
       "      <td>25.5</td>\n",
       "      <td>37524</td>\n",
       "      <td>17.0</td>\n",
       "    </tr>\n",
       "    <tr>\n",
       "      <th>4</th>\n",
       "      <td>5.0</td>\n",
       "      <td>North Center</td>\n",
       "      <td>0.3</td>\n",
       "      <td>7.5</td>\n",
       "      <td>5.2</td>\n",
       "      <td>4.5</td>\n",
       "      <td>26.2</td>\n",
       "      <td>57123</td>\n",
       "      <td>6.0</td>\n",
       "    </tr>\n",
       "  </tbody>\n",
       "</table>\n",
       "</div>"
      ],
      "text/plain": [
       "   Community Area Number COMMUNITY AREA NAME  PERCENT OF HOUSING CROWDED  \\\n",
       "0                    1.0         Rogers Park                         7.7   \n",
       "1                    2.0          West Ridge                         7.8   \n",
       "2                    3.0              Uptown                         3.8   \n",
       "3                    4.0      Lincoln Square                         3.4   \n",
       "4                    5.0        North Center                         0.3   \n",
       "\n",
       "   PERCENT HOUSEHOLDS BELOW POVERTY  PERCENT AGED 16+ UNEMPLOYED  \\\n",
       "0                              23.6                          8.7   \n",
       "1                              17.2                          8.8   \n",
       "2                              24.0                          8.9   \n",
       "3                              10.9                          8.2   \n",
       "4                               7.5                          5.2   \n",
       "\n",
       "   PERCENT AGED 25+ WITHOUT HIGH SCHOOL DIPLOMA  \\\n",
       "0                                          18.2   \n",
       "1                                          20.8   \n",
       "2                                          11.8   \n",
       "3                                          13.4   \n",
       "4                                           4.5   \n",
       "\n",
       "   PERCENT AGED UNDER 18 OR OVER 64  PER CAPITA INCOME   HARDSHIP INDEX  \n",
       "0                              27.5               23939            39.0  \n",
       "1                              38.5               23040            46.0  \n",
       "2                              22.2               35787            20.0  \n",
       "3                              25.5               37524            17.0  \n",
       "4                              26.2               57123             6.0  "
      ]
     },
     "execution_count": 93,
     "metadata": {},
     "output_type": "execute_result"
    }
   ],
   "source": [
    "census_df.head()"
   ]
  },
  {
   "cell_type": "code",
   "execution_count": 94,
   "id": "615bc596-f97f-4833-8319-efe66597aad0",
   "metadata": {},
   "outputs": [],
   "source": [
    "census_df['COMMUNITY AREA NAME'] = census_df['COMMUNITY AREA NAME'].str.upper()"
   ]
  },
  {
   "cell_type": "code",
   "execution_count": 95,
   "id": "f55a6f31-61e4-4811-9598-a561cc4365db",
   "metadata": {},
   "outputs": [
    {
     "data": {
      "text/html": [
       "<div>\n",
       "<style scoped>\n",
       "    .dataframe tbody tr th:only-of-type {\n",
       "        vertical-align: middle;\n",
       "    }\n",
       "\n",
       "    .dataframe tbody tr th {\n",
       "        vertical-align: top;\n",
       "    }\n",
       "\n",
       "    .dataframe thead th {\n",
       "        text-align: right;\n",
       "    }\n",
       "</style>\n",
       "<table border=\"1\" class=\"dataframe\">\n",
       "  <thead>\n",
       "    <tr style=\"text-align: right;\">\n",
       "      <th></th>\n",
       "      <th>Community Area Number</th>\n",
       "      <th>COMMUNITY AREA NAME</th>\n",
       "      <th>PERCENT OF HOUSING CROWDED</th>\n",
       "      <th>PERCENT HOUSEHOLDS BELOW POVERTY</th>\n",
       "      <th>PERCENT AGED 16+ UNEMPLOYED</th>\n",
       "      <th>PERCENT AGED 25+ WITHOUT HIGH SCHOOL DIPLOMA</th>\n",
       "      <th>PERCENT AGED UNDER 18 OR OVER 64</th>\n",
       "      <th>PER CAPITA INCOME</th>\n",
       "      <th>HARDSHIP INDEX</th>\n",
       "      <th>community</th>\n",
       "      <th>SCIENTIFIC NAME</th>\n",
       "      <th>NATIVE</th>\n",
       "      <th>COUNT</th>\n",
       "      <th>Area</th>\n",
       "    </tr>\n",
       "  </thead>\n",
       "  <tbody>\n",
       "    <tr>\n",
       "      <th>0</th>\n",
       "      <td>1.0</td>\n",
       "      <td>ROGERS PARK</td>\n",
       "      <td>7.7</td>\n",
       "      <td>23.6</td>\n",
       "      <td>8.7</td>\n",
       "      <td>18.2</td>\n",
       "      <td>27.5</td>\n",
       "      <td>23939</td>\n",
       "      <td>39.0</td>\n",
       "      <td>ROGERS PARK</td>\n",
       "      <td>[Spinus tristis, Turdus migratorius, Turdus mi...</td>\n",
       "      <td>676</td>\n",
       "      <td>[1, 46, 4, 9, 1, 3, 1, 9, 12, 1, 2, 1, 2, 1, 7...</td>\n",
       "      <td>8.631616</td>\n",
       "    </tr>\n",
       "    <tr>\n",
       "      <th>1</th>\n",
       "      <td>2.0</td>\n",
       "      <td>WEST RIDGE</td>\n",
       "      <td>7.8</td>\n",
       "      <td>17.2</td>\n",
       "      <td>8.8</td>\n",
       "      <td>20.8</td>\n",
       "      <td>38.5</td>\n",
       "      <td>23040</td>\n",
       "      <td>46.0</td>\n",
       "      <td>WEST RIDGE</td>\n",
       "      <td>[Sturnus vulgaris, Aquila chrysaetos, Passer d...</td>\n",
       "      <td>255</td>\n",
       "      <td>[7, 1, 5, 4, 100, 2, 2, 2, 1, 1, 1, 25, 25, 25...</td>\n",
       "      <td>16.570330</td>\n",
       "    </tr>\n",
       "    <tr>\n",
       "      <th>2</th>\n",
       "      <td>3.0</td>\n",
       "      <td>UPTOWN</td>\n",
       "      <td>3.8</td>\n",
       "      <td>24.0</td>\n",
       "      <td>8.9</td>\n",
       "      <td>11.8</td>\n",
       "      <td>22.2</td>\n",
       "      <td>35787</td>\n",
       "      <td>20.0</td>\n",
       "      <td>UPTOWN</td>\n",
       "      <td>[Corvus brachyrhynchos, Corvus brachyrhynchos,...</td>\n",
       "      <td>75132</td>\n",
       "      <td>[5, 7, 3, 3, 1, 1, 2, 1, 1, 1, 1, 1, 1, 1, 1, ...</td>\n",
       "      <td>10.946406</td>\n",
       "    </tr>\n",
       "    <tr>\n",
       "      <th>3</th>\n",
       "      <td>4.0</td>\n",
       "      <td>LINCOLN SQUARE</td>\n",
       "      <td>3.4</td>\n",
       "      <td>10.9</td>\n",
       "      <td>8.2</td>\n",
       "      <td>13.4</td>\n",
       "      <td>25.5</td>\n",
       "      <td>37524</td>\n",
       "      <td>17.0</td>\n",
       "      <td>LINCOLN SQUARE</td>\n",
       "      <td>[Spinus tristis, Acanthis flammea, Junco hyema...</td>\n",
       "      <td>3751</td>\n",
       "      <td>[1, 4, 1, 1, 1, 1, 1, 1, 1, 1, 1, 1, 1, 1, 1, ...</td>\n",
       "      <td>12.002108</td>\n",
       "    </tr>\n",
       "    <tr>\n",
       "      <th>4</th>\n",
       "      <td>5.0</td>\n",
       "      <td>NORTH CENTER</td>\n",
       "      <td>0.3</td>\n",
       "      <td>7.5</td>\n",
       "      <td>5.2</td>\n",
       "      <td>4.5</td>\n",
       "      <td>26.2</td>\n",
       "      <td>57123</td>\n",
       "      <td>6.0</td>\n",
       "      <td>NORTH CENTER</td>\n",
       "      <td>[Corvus brachyrhynchos, Spinus tristis, Setoph...</td>\n",
       "      <td>1432</td>\n",
       "      <td>[1, 7, 1, 28, 22, 4, 2, 5, 2, 1, 3, 2, 6, 2, 1...</td>\n",
       "      <td>9.588837</td>\n",
       "    </tr>\n",
       "  </tbody>\n",
       "</table>\n",
       "</div>"
      ],
      "text/plain": [
       "   Community Area Number COMMUNITY AREA NAME  PERCENT OF HOUSING CROWDED  \\\n",
       "0                    1.0         ROGERS PARK                         7.7   \n",
       "1                    2.0          WEST RIDGE                         7.8   \n",
       "2                    3.0              UPTOWN                         3.8   \n",
       "3                    4.0      LINCOLN SQUARE                         3.4   \n",
       "4                    5.0        NORTH CENTER                         0.3   \n",
       "\n",
       "   PERCENT HOUSEHOLDS BELOW POVERTY  PERCENT AGED 16+ UNEMPLOYED  \\\n",
       "0                              23.6                          8.7   \n",
       "1                              17.2                          8.8   \n",
       "2                              24.0                          8.9   \n",
       "3                              10.9                          8.2   \n",
       "4                               7.5                          5.2   \n",
       "\n",
       "   PERCENT AGED 25+ WITHOUT HIGH SCHOOL DIPLOMA  \\\n",
       "0                                          18.2   \n",
       "1                                          20.8   \n",
       "2                                          11.8   \n",
       "3                                          13.4   \n",
       "4                                           4.5   \n",
       "\n",
       "   PERCENT AGED UNDER 18 OR OVER 64  PER CAPITA INCOME   HARDSHIP INDEX  \\\n",
       "0                              27.5               23939            39.0   \n",
       "1                              38.5               23040            46.0   \n",
       "2                              22.2               35787            20.0   \n",
       "3                              25.5               37524            17.0   \n",
       "4                              26.2               57123             6.0   \n",
       "\n",
       "        community                                    SCIENTIFIC NAME  NATIVE  \\\n",
       "0     ROGERS PARK  [Spinus tristis, Turdus migratorius, Turdus mi...     676   \n",
       "1      WEST RIDGE  [Sturnus vulgaris, Aquila chrysaetos, Passer d...     255   \n",
       "2          UPTOWN  [Corvus brachyrhynchos, Corvus brachyrhynchos,...   75132   \n",
       "3  LINCOLN SQUARE  [Spinus tristis, Acanthis flammea, Junco hyema...    3751   \n",
       "4    NORTH CENTER  [Corvus brachyrhynchos, Spinus tristis, Setoph...    1432   \n",
       "\n",
       "                                               COUNT       Area  \n",
       "0  [1, 46, 4, 9, 1, 3, 1, 9, 12, 1, 2, 1, 2, 1, 7...   8.631616  \n",
       "1  [7, 1, 5, 4, 100, 2, 2, 2, 1, 1, 1, 25, 25, 25...  16.570330  \n",
       "2  [5, 7, 3, 3, 1, 1, 2, 1, 1, 1, 1, 1, 1, 1, 1, ...  10.946406  \n",
       "3  [1, 4, 1, 1, 1, 1, 1, 1, 1, 1, 1, 1, 1, 1, 1, ...  12.002108  \n",
       "4  [1, 7, 1, 28, 22, 4, 2, 5, 2, 1, 3, 2, 6, 2, 1...   9.588837  "
      ]
     },
     "execution_count": 95,
     "metadata": {},
     "output_type": "execute_result"
    }
   ],
   "source": [
    "final_df = census_df.merge(grouped, left_on='COMMUNITY AREA NAME', right_on='community')\n",
    "final_df.head()"
   ]
  },
  {
   "cell_type": "code",
   "execution_count": 96,
   "id": "fb75211c-7678-425b-8ca2-71d9e0360552",
   "metadata": {},
   "outputs": [],
   "source": [
    "final_df = final_df.rename(columns={'PER CAPITA INCOME ': 'PER CAPITA INCOME'})"
   ]
  },
  {
   "cell_type": "code",
   "execution_count": 97,
   "id": "37082bb1-ef3d-48ef-955f-08c7a30557b2",
   "metadata": {},
   "outputs": [],
   "source": [
    "final_df[\"PER CAPITA INCOME IN K\"] = final_df.apply(lambda x: x[\"PER CAPITA INCOME\"] / 1000, axis=1)"
   ]
  },
  {
   "cell_type": "code",
   "execution_count": 98,
   "id": "41678086-4078-47d9-adf6-5f0f2fe67703",
   "metadata": {},
   "outputs": [],
   "source": [
    "final_df[\"CountPerSqkm\"] = final_df.apply(lambda x: x[\"NATIVE\"] / x[\"Area\"],axis=1)"
   ]
  },
  {
   "cell_type": "code",
   "execution_count": 99,
   "id": "64cd0e86-f14e-4809-9a0a-17a8d9103eda",
   "metadata": {},
   "outputs": [],
   "source": [
    "final_df[\"PovertyFlag\"] = final_df.apply(lambda x: \"Poor\" if x[\"PER CAPITA INCOME\"] < 40000 else \"Rich\", axis=1)"
   ]
  },
  {
   "cell_type": "code",
   "execution_count": 100,
   "id": "90c675a5-9792-4f54-ba7a-bc8bcaecf053",
   "metadata": {},
   "outputs": [
    {
     "name": "stdout",
     "output_type": "stream",
     "text": [
      "<class 'pandas.core.frame.DataFrame'>\n",
      "Int64Index: 52 entries, 0 to 51\n",
      "Data columns (total 17 columns):\n",
      " #   Column                                        Non-Null Count  Dtype  \n",
      "---  ------                                        --------------  -----  \n",
      " 0   Community Area Number                         52 non-null     float64\n",
      " 1   COMMUNITY AREA NAME                           52 non-null     object \n",
      " 2   PERCENT OF HOUSING CROWDED                    52 non-null     float64\n",
      " 3   PERCENT HOUSEHOLDS BELOW POVERTY              52 non-null     float64\n",
      " 4   PERCENT AGED 16+ UNEMPLOYED                   52 non-null     float64\n",
      " 5   PERCENT AGED 25+ WITHOUT HIGH SCHOOL DIPLOMA  52 non-null     float64\n",
      " 6   PERCENT AGED UNDER 18 OR OVER 64              52 non-null     float64\n",
      " 7   PER CAPITA INCOME                             52 non-null     int64  \n",
      " 8   HARDSHIP INDEX                                52 non-null     float64\n",
      " 9   community                                     52 non-null     object \n",
      " 10  SCIENTIFIC NAME                               52 non-null     object \n",
      " 11  NATIVE                                        52 non-null     int64  \n",
      " 12  COUNT                                         52 non-null     object \n",
      " 13  Area                                          52 non-null     float64\n",
      " 14  PER CAPITA INCOME IN K                        52 non-null     float64\n",
      " 15  CountPerSqkm                                  52 non-null     float64\n",
      " 16  PovertyFlag                                   52 non-null     object \n",
      "dtypes: float64(10), int64(2), object(5)\n",
      "memory usage: 7.3+ KB\n"
     ]
    }
   ],
   "source": [
    "final_df.info()"
   ]
  },
  {
   "cell_type": "code",
   "execution_count": 101,
   "id": "f65cc09f-9e59-4df2-8872-c8eb5d0b6bfe",
   "metadata": {},
   "outputs": [],
   "source": [
    "import seaborn as sns\n",
    "%matplotlib inline\n",
    "import matplotlib.pyplot as plt\n",
    "import plotly.express as px"
   ]
  },
  {
   "cell_type": "code",
   "execution_count": 102,
   "id": "b4ebe1da-a39c-47f9-85b2-08873e805d76",
   "metadata": {},
   "outputs": [
    {
     "data": {
      "image/png": "[encoded data removed]",
      "text/plain": [
       "<Figure size 640x480 with 1 Axes>"
      ]
     },
     "metadata": {},
     "output_type": "display_data"
    }
   ],
   "source": [
    "required_cols = [\"COMMUNITY AREA NAME\", \"HARDSHIP INDEX\"]\n",
    "\n",
    "vis_df = final_df[required_cols].sort_values(by=[\"HARDSHIP INDEX\"])\n",
    "\n",
    "sns.barplot(data=vis_df, x=vis_df[\"COMMUNITY AREA NAME\"], y=vis_df[\"HARDSHIP INDEX\"])\n",
    "plt.xticks(rotation=90,fontsize=6)\n",
    "plt.show()"
   ]
  },
  {
   "cell_type": "code",
   "execution_count": 103,
   "id": "9db0ed7e-e972-47d9-b751-7441b3619585",
   "metadata": {},
   "outputs": [
    {
     "data": {
      "application/vnd.plotly.v1+json": {
       "config": {
        "plotlyServerURL": "https://plot.ly"
       },
       "data": [
        {
         "hovertemplate": "PovertyFlag=Poor<br>PER CAPITA INCOME IN K=%{x}<br>CountPerSqkm=%{y}<extra></extra>",
         "legendgroup": "Poor",
         "marker": {
          "color": "#00cc96",
          "symbol": "circle"
         },
         "mode": "markers",
         "name": "Poor",
         "orientation": "v",
         "showlegend": true,
         "type": "scatter",
         "x": [
          23.939,
          23.04,
          35.787,
          37.524,
          32.875,
          27.751,
          26.576,
          21.323,
          24.336,
          27.249,
          26.282,
          15.461,
          20.039,
          31.908,
          13.781,
          15.957,
          12.961,
          12.034,
          10.402,
          16.444,
          16.148,
          23.791,
          19.252,
          35.911,
          13.785,
          39.056,
          18.672,
          19.398,
          20.588,
          14.685,
          17.104,
          16.563,
          8.201,
          22.677,
          26.353,
          16.954,
          22.694,
          12.765,
          25.113,
          17.285,
          39.523,
          34.381,
          33.385
         ],
         "xaxis": "x",
         "y": [
          78.31673476689012,
          15.3889509692829,
          6863.622751912499,
          312.5284430843805,
          7.455582529547083,
          4.765027938387511,
          418.3011589273208,
          142.2644230498022,
          3.2930141891233236,
          358.88254771340047,
          1.952847611780359,
          6.712347330941074,
          10.441497249225092,
          18.924987755700894,
          0.17791014479749243,
          485.51684520440404,
          39.174146328223564,
          457.3655366038814,
          0.7462800007567184,
          19.905855438150393,
          7.524975991759002,
          82.67739934816001,
          271.9249115667072,
          156.6347064863795,
          2.116496417086132,
          798.3410998414785,
          1996.0259570064,
          176.44108789192694,
          1.219277341660007,
          247.49754279955937,
          241.4009111874796,
          138.23729718636147,
          311.85847442027426,
          781.4961722149347,
          0.15212431206622742,
          105.1056982269926,
          13.315879867964405,
          2.7962266737545876,
          0.9247673381078239,
          0.2421505586429877,
          17.080130548919815,
          16.661410374706925,
          6.3783202031423825
         ],
         "yaxis": "y"
        },
        {
         "hovertemplate": "PovertyFlag=Rich<br>PER CAPITA INCOME IN K=%{x}<br>CountPerSqkm=%{y}<extra></extra>",
         "legendgroup": "Rich",
         "marker": {
          "color": "#ab63fa",
          "symbol": "circle"
         },
         "mode": "markers",
         "name": "Rich",
         "orientation": "v",
         "showlegend": true,
         "type": "scatter",
         "x": [
          57.123,
          60.058,
          71.551,
          88.669,
          44.164,
          43.198,
          44.689,
          65.526,
          59.077
         ],
         "xaxis": "x",
         "y": [
          149.34032168028625,
          909.7931326589625,
          2098.275219298008,
          128.5447489348715,
          46.92827945926598,
          105.75568736125453,
          53.808075935534745,
          716.2870717948343,
          3321.8216992269604
         ],
         "yaxis": "y"
        }
       ],
       "layout": {
        "height": 480,
        "legend": {
         "title": {},
         "tracegroupgap": 0
        },
        "margin": {
         "t": 60
        },
        "template": {
         "data": {
          "bar": [
           {
            "error_x": {
             "color": "#2a3f5f"
            },
            "error_y": {
             "color": "#2a3f5f"
            },
            "marker": {
             "line": {
              "color": "#E5ECF6",
              "width": 0.5
             },
             "pattern": {
              "fillmode": "overlay",
              "size": 10,
              "solidity": 0.2
             }
            },
            "type": "bar"
           }
          ],
          "barpolar": [
           {
            "marker": {
             "line": {
              "color": "#E5ECF6",
              "width": 0.5
             },
             "pattern": {
              "fillmode": "overlay",
              "size": 10,
              "solidity": 0.2
             }
            },
            "type": "barpolar"
           }
          ],
          "carpet": [
           {
            "aaxis": {
             "endlinecolor": "#2a3f5f",
             "gridcolor": "white",
             "linecolor": "white",
             "minorgridcolor": "white",
             "startlinecolor": "#2a3f5f"
            },
            "baxis": {
             "endlinecolor": "#2a3f5f",
             "gridcolor": "white",
             "linecolor": "white",
             "minorgridcolor": "white",
             "startlinecolor": "#2a3f5f"
            },
            "type": "carpet"
           }
          ],
          "choropleth": [
           {
            "colorbar": {
             "outlinewidth": 0,
             "ticks": ""
            },
            "type": "choropleth"
           }
          ],
          "contour": [
           {
            "colorbar": {
             "outlinewidth": 0,
             "ticks": ""
            },
            "colorscale": [
             [
              0,
              "#0d0887"
             ],
             [
              0.1111111111111111,
              "#46039f"
             ],
             [
              0.2222222222222222,
              "#7201a8"
             ],
             [
              0.3333333333333333,
              "#9c179e"
             ],
             [
              0.4444444444444444,
              "#bd3786"
             ],
             [
              0.5555555555555556,
              "#d8576b"
             ],
             [
              0.6666666666666666,
              "#ed7953"
             ],
             [
              0.7777777777777778,
              "#fb9f3a"
             ],
             [
              0.8888888888888888,
              "#fdca26"
             ],
             [
              1,
              "#f0f921"
             ]
            ],
            "type": "contour"
           }
          ],
          "contourcarpet": [
           {
            "colorbar": {
             "outlinewidth": 0,
             "ticks": ""
            },
            "type": "contourcarpet"
           }
          ],
          "heatmap": [
           {
            "colorbar": {
             "outlinewidth": 0,
             "ticks": ""
            },
            "colorscale": [
             [
              0,
              "#0d0887"
             ],
             [
              0.1111111111111111,
              "#46039f"
             ],
             [
              0.2222222222222222,
              "#7201a8"
             ],
             [
              0.3333333333333333,
              "#9c179e"
             ],
             [
              0.4444444444444444,
              "#bd3786"
             ],
             [
              0.5555555555555556,
              "#d8576b"
             ],
             [
              0.6666666666666666,
              "#ed7953"
             ],
             [
              0.7777777777777778,
              "#fb9f3a"
             ],
             [
              0.8888888888888888,
              "#fdca26"
             ],
             [
              1,
              "#f0f921"
             ]
            ],
            "type": "heatmap"
           }
          ],
          "heatmapgl": [
           {
            "colorbar": {
             "outlinewidth": 0,
             "ticks": ""
            },
            "colorscale": [
             [
              0,
              "#0d0887"
             ],
             [
              0.1111111111111111,
              "#46039f"
             ],
             [
              0.2222222222222222,
              "#7201a8"
             ],
             [
              0.3333333333333333,
              "#9c179e"
             ],
             [
              0.4444444444444444,
              "#bd3786"
             ],
             [
              0.5555555555555556,
              "#d8576b"
             ],
             [
              0.6666666666666666,
              "#ed7953"
             ],
             [
              0.7777777777777778,
              "#fb9f3a"
             ],
             [
              0.8888888888888888,
              "#fdca26"
             ],
             [
              1,
              "#f0f921"
             ]
            ],
            "type": "heatmapgl"
           }
          ],
          "histogram": [
           {
            "marker": {
             "pattern": {
              "fillmode": "overlay",
              "size": 10,
              "solidity": 0.2
             }
            },
            "type": "histogram"
           }
          ],
          "histogram2d": [
           {
            "colorbar": {
             "outlinewidth": 0,
             "ticks": ""
            },
            "colorscale": [
             [
              0,
              "#0d0887"
             ],
             [
              0.1111111111111111,
              "#46039f"
             ],
             [
              0.2222222222222222,
              "#7201a8"
             ],
             [
              0.3333333333333333,
              "#9c179e"
             ],
             [
              0.4444444444444444,
              "#bd3786"
             ],
             [
              0.5555555555555556,
              "#d8576b"
             ],
             [
              0.6666666666666666,
              "#ed7953"
             ],
             [
              0.7777777777777778,
              "#fb9f3a"
             ],
             [
              0.8888888888888888,
              "#fdca26"
             ],
             [
              1,
              "#f0f921"
             ]
            ],
            "type": "histogram2d"
           }
          ],
          "histogram2dcontour": [
           {
            "colorbar": {
             "outlinewidth": 0,
             "ticks": ""
            },
            "colorscale": [
             [
              0,
              "#0d0887"
             ],
             [
              0.1111111111111111,
              "#46039f"
             ],
             [
              0.2222222222222222,
              "#7201a8"
             ],
             [
              0.3333333333333333,
              "#9c179e"
             ],
             [
              0.4444444444444444,
              "#bd3786"
             ],
             [
              0.5555555555555556,
              "#d8576b"
             ],
             [
              0.6666666666666666,
              "#ed7953"
             ],
             [
              0.7777777777777778,
              "#fb9f3a"
             ],
             [
              0.8888888888888888,
              "#fdca26"
             ],
             [
              1,
              "#f0f921"
             ]
            ],
            "type": "histogram2dcontour"
           }
          ],
          "mesh3d": [
           {
            "colorbar": {
             "outlinewidth": 0,
             "ticks": ""
            },
            "type": "mesh3d"
           }
          ],
          "parcoords": [
           {
            "line": {
             "colorbar": {
              "outlinewidth": 0,
              "ticks": ""
             }
            },
            "type": "parcoords"
           }
          ],
          "pie": [
           {
            "automargin": true,
            "type": "pie"
           }
          ],
          "scatter": [
           {
            "marker": {
             "colorbar": {
              "outlinewidth": 0,
              "ticks": ""
             }
            },
            "type": "scatter"
           }
          ],
          "scatter3d": [
           {
            "line": {
             "colorbar": {
              "outlinewidth": 0,
              "ticks": ""
             }
            },
            "marker": {
             "colorbar": {
              "outlinewidth": 0,
              "ticks": ""
             }
            },
            "type": "scatter3d"
           }
          ],
          "scattercarpet": [
           {
            "marker": {
             "colorbar": {
              "outlinewidth": 0,
              "ticks": ""
             }
            },
            "type": "scattercarpet"
           }
          ],
          "scattergeo": [
           {
            "marker": {
             "colorbar": {
              "outlinewidth": 0,
              "ticks": ""
             }
            },
            "type": "scattergeo"
           }
          ],
          "scattergl": [
           {
            "marker": {
             "colorbar": {
              "outlinewidth": 0,
              "ticks": ""
             }
            },
            "type": "scattergl"
           }
          ],
          "scattermapbox": [
           {
            "marker": {
             "colorbar": {
              "outlinewidth": 0,
              "ticks": ""
             }
            },
            "type": "scattermapbox"
           }
          ],
          "scatterpolar": [
           {
            "marker": {
             "colorbar": {
              "outlinewidth": 0,
              "ticks": ""
             }
            },
            "type": "scatterpolar"
           }
          ],
          "scatterpolargl": [
           {
            "marker": {
             "colorbar": {
              "outlinewidth": 0,
              "ticks": ""
             }
            },
            "type": "scatterpolargl"
           }
          ],
          "scatterternary": [
           {
            "marker": {
             "colorbar": {
              "outlinewidth": 0,
              "ticks": ""
             }
            },
            "type": "scatterternary"
           }
          ],
          "surface": [
           {
            "colorbar": {
             "outlinewidth": 0,
             "ticks": ""
            },
            "colorscale": [
             [
              0,
              "#0d0887"
             ],
             [
              0.1111111111111111,
              "#46039f"
             ],
             [
              0.2222222222222222,
              "#7201a8"
             ],
             [
              0.3333333333333333,
              "#9c179e"
             ],
             [
              0.4444444444444444,
              "#bd3786"
             ],
             [
              0.5555555555555556,
              "#d8576b"
             ],
             [
              0.6666666666666666,
              "#ed7953"
             ],
             [
              0.7777777777777778,
              "#fb9f3a"
             ],
             [
              0.8888888888888888,
              "#fdca26"
             ],
             [
              1,
              "#f0f921"
             ]
            ],
            "type": "surface"
           }
          ],
          "table": [
           {
            "cells": {
             "fill": {
              "color": "#EBF0F8"
             },
             "line": {
              "color": "white"
             }
            },
            "header": {
             "fill": {
              "color": "#C8D4E3"
             },
             "line": {
              "color": "white"
             }
            },
            "type": "table"
           }
          ]
         },
         "layout": {
          "annotationdefaults": {
           "arrowcolor": "#2a3f5f",
           "arrowhead": 0,
           "arrowwidth": 1
          },
          "autotypenumbers": "strict",
          "coloraxis": {
           "colorbar": {
            "outlinewidth": 0,
            "ticks": ""
           }
          },
          "colorscale": {
           "diverging": [
            [
             0,
             "#8e0152"
            ],
            [
             0.1,
             "#c51b7d"
            ],
            [
             0.2,
             "#de77ae"
            ],
            [
             0.3,
             "#f1b6da"
            ],
            [
             0.4,
             "#fde0ef"
            ],
            [
             0.5,
             "#f7f7f7"
            ],
            [
             0.6,
             "#e6f5d0"
            ],
            [
             0.7,
             "#b8e186"
            ],
            [
             0.8,
             "#7fbc41"
            ],
            [
             0.9,
             "#4d9221"
            ],
            [
             1,
             "#276419"
            ]
           ],
           "sequential": [
            [
             0,
             "#0d0887"
            ],
            [
             0.1111111111111111,
             "#46039f"
            ],
            [
             0.2222222222222222,
             "#7201a8"
            ],
            [
             0.3333333333333333,
             "#9c179e"
            ],
            [
             0.4444444444444444,
             "#bd3786"
            ],
            [
             0.5555555555555556,
             "#d8576b"
            ],
            [
             0.6666666666666666,
             "#ed7953"
            ],
            [
             0.7777777777777778,
             "#fb9f3a"
            ],
            [
             0.8888888888888888,
             "#fdca26"
            ],
            [
             1,
             "#f0f921"
            ]
           ],
           "sequentialminus": [
            [
             0,
             "#0d0887"
            ],
            [
             0.1111111111111111,
             "#46039f"
            ],
            [
             0.2222222222222222,
             "#7201a8"
            ],
            [
             0.3333333333333333,
             "#9c179e"
            ],
            [
             0.4444444444444444,
             "#bd3786"
            ],
            [
             0.5555555555555556,
             "#d8576b"
            ],
            [
             0.6666666666666666,
             "#ed7953"
            ],
            [
             0.7777777777777778,
             "#fb9f3a"
            ],
            [
             0.8888888888888888,
             "#fdca26"
            ],
            [
             1,
             "#f0f921"
            ]
           ]
          },
          "colorway": [
           "#636efa",
           "#EF553B",
           "#00cc96",
           "#ab63fa",
           "#FFA15A",
           "#19d3f3",
           "#FF6692",
           "#B6E880",
           "#FF97FF",
           "#FECB52"
          ],
          "font": {
           "color": "#2a3f5f"
          },
          "geo": {
           "bgcolor": "white",
           "lakecolor": "white",
           "landcolor": "#E5ECF6",
           "showlakes": true,
           "showland": true,
           "subunitcolor": "white"
          },
          "hoverlabel": {
           "align": "left"
          },
          "hovermode": "closest",
          "mapbox": {
           "style": "light"
          },
          "paper_bgcolor": "white",
          "plot_bgcolor": "#E5ECF6",
          "polar": {
           "angularaxis": {
            "gridcolor": "white",
            "linecolor": "white",
            "ticks": ""
           },
           "bgcolor": "#E5ECF6",
           "radialaxis": {
            "gridcolor": "white",
            "linecolor": "white",
            "ticks": ""
           }
          },
          "scene": {
           "xaxis": {
            "backgroundcolor": "#E5ECF6",
            "gridcolor": "white",
            "gridwidth": 2,
            "linecolor": "white",
            "showbackground": true,
            "ticks": "",
            "zerolinecolor": "white"
           },
           "yaxis": {
            "backgroundcolor": "#E5ECF6",
            "gridcolor": "white",
            "gridwidth": 2,
            "linecolor": "white",
            "showbackground": true,
            "ticks": "",
            "zerolinecolor": "white"
           },
           "zaxis": {
            "backgroundcolor": "#E5ECF6",
            "gridcolor": "white",
            "gridwidth": 2,
            "linecolor": "white",
            "showbackground": true,
            "ticks": "",
            "zerolinecolor": "white"
           }
          },
          "shapedefaults": {
           "line": {
            "color": "#2a3f5f"
           }
          },
          "ternary": {
           "aaxis": {
            "gridcolor": "white",
            "linecolor": "white",
            "ticks": ""
           },
           "baxis": {
            "gridcolor": "white",
            "linecolor": "white",
            "ticks": ""
           },
           "bgcolor": "#E5ECF6",
           "caxis": {
            "gridcolor": "white",
            "linecolor": "white",
            "ticks": ""
           }
          },
          "title": {
           "x": 0.05
          },
          "xaxis": {
           "automargin": true,
           "gridcolor": "white",
           "linecolor": "white",
           "ticks": "",
           "title": {
            "standoff": 15
           },
           "zerolinecolor": "white",
           "zerolinewidth": 2
          },
          "yaxis": {
           "automargin": true,
           "gridcolor": "white",
           "linecolor": "white",
           "ticks": "",
           "title": {
            "standoff": 15
           },
           "zerolinecolor": "white",
           "zerolinewidth": 2
          }
         }
        },
        "width": 640,
        "xaxis": {
         "anchor": "y",
         "domain": [
          0,
          1
         ],
         "title": {
          "text": "PER CAPITA INCOME IN K"
         }
        },
        "yaxis": {
         "anchor": "x",
         "domain": [
          0,
          1
         ],
         "title": {
          "text": "CountPerSqkm"
         },
         "type": "log"
        }
       }
      },
      "text/html": [
       "<div>                            <div id=\"4bd8694c-5832-4b55-b4b5-06a31f274943\" class=\"plotly-graph-div\" style=\"height:480px; width:640px;\"></div>            <script type=\"text/javascript\">                require([\"plotly\"], function(Plotly) {                    window.PLOTLYENV=window.PLOTLYENV || {};                                    if (document.getElementById(\"4bd8694c-5832-4b55-b4b5-06a31f274943\")) {                    Plotly.newPlot(                        \"4bd8694c-5832-4b55-b4b5-06a31f274943\",                        [{\"hovertemplate\":\"PovertyFlag=Poor<br>PER CAPITA INCOME IN K=%{x}<br>CountPerSqkm=%{y}<extra></extra>\",\"legendgroup\":\"Poor\",\"marker\":{\"color\":\"#00cc96\",\"symbol\":\"circle\"},\"mode\":\"markers\",\"name\":\"Poor\",\"orientation\":\"v\",\"showlegend\":true,\"x\":[23.939,23.04,35.787,37.524,32.875,27.751,26.576,21.323,24.336,27.249,26.282,15.461,20.039,31.908,13.781,15.957,12.961,12.034,10.402,16.444,16.148,23.791,19.252,35.911,13.785,39.056,18.672,19.398,20.588,14.685,17.104,16.563,8.201,22.677,26.353,16.954,22.694,12.765,25.113,17.285,39.523,34.381,33.385],\"xaxis\":\"x\",\"y\":[78.31673476689012,15.3889509692829,6863.622751912499,312.5284430843805,7.455582529547083,4.765027938387511,418.3011589273208,142.2644230498022,3.2930141891233236,358.88254771340047,1.952847611780359,6.712347330941074,10.441497249225092,18.924987755700894,0.17791014479749243,485.51684520440404,39.174146328223564,457.3655366038814,0.7462800007567184,19.905855438150393,7.524975991759002,82.67739934816001,271.9249115667072,156.6347064863795,2.116496417086132,798.3410998414785,1996.0259570064,176.44108789192694,1.219277341660007,247.49754279955937,241.4009111874796,138.23729718636147,311.85847442027426,781.4961722149347,0.15212431206622742,105.1056982269926,13.315879867964405,2.7962266737545876,0.9247673381078239,0.2421505586429877,17.080130548919815,16.661410374706925,6.3783202031423825],\"yaxis\":\"y\",\"type\":\"scatter\"},{\"hovertemplate\":\"PovertyFlag=Rich<br>PER CAPITA INCOME IN K=%{x}<br>CountPerSqkm=%{y}<extra></extra>\",\"legendgroup\":\"Rich\",\"marker\":{\"color\":\"#ab63fa\",\"symbol\":\"circle\"},\"mode\":\"markers\",\"name\":\"Rich\",\"orientation\":\"v\",\"showlegend\":true,\"x\":[57.123,60.058,71.551,88.669,44.164,43.198,44.689,65.526,59.077],\"xaxis\":\"x\",\"y\":[149.34032168028625,909.7931326589625,2098.275219298008,128.5447489348715,46.92827945926598,105.75568736125453,53.808075935534745,716.2870717948343,3321.8216992269604],\"yaxis\":\"y\",\"type\":\"scatter\"}],                        {\"template\":{\"data\":{\"bar\":[{\"error_x\":{\"color\":\"#2a3f5f\"},\"error_y\":{\"color\":\"#2a3f5f\"},\"marker\":{\"line\":{\"color\":\"#E5ECF6\",\"width\":0.5},\"pattern\":{\"fillmode\":\"overlay\",\"size\":10,\"solidity\":0.2}},\"type\":\"bar\"}],\"barpolar\":[{\"marker\":{\"line\":{\"color\":\"#E5ECF6\",\"width\":0.5},\"pattern\":{\"fillmode\":\"overlay\",\"size\":10,\"solidity\":0.2}},\"type\":\"barpolar\"}],\"carpet\":[{\"aaxis\":{\"endlinecolor\":\"#2a3f5f\",\"gridcolor\":\"white\",\"linecolor\":\"white\",\"minorgridcolor\":\"white\",\"startlinecolor\":\"#2a3f5f\"},\"baxis\":{\"endlinecolor\":\"#2a3f5f\",\"gridcolor\":\"white\",\"linecolor\":\"white\",\"minorgridcolor\":\"white\",\"startlinecolor\":\"#2a3f5f\"},\"type\":\"carpet\"}],\"choropleth\":[{\"colorbar\":{\"outlinewidth\":0,\"ticks\":\"\"},\"type\":\"choropleth\"}],\"contour\":[{\"colorbar\":{\"outlinewidth\":0,\"ticks\":\"\"},\"colorscale\":[[0.0,\"#0d0887\"],[0.1111111111111111,\"#46039f\"],[0.2222222222222222,\"#7201a8\"],[0.3333333333333333,\"#9c179e\"],[0.4444444444444444,\"#bd3786\"],[0.5555555555555556,\"#d8576b\"],[0.6666666666666666,\"#ed7953\"],[0.7777777777777778,\"#fb9f3a\"],[0.8888888888888888,\"#fdca26\"],[1.0,\"#f0f921\"]],\"type\":\"contour\"}],\"contourcarpet\":[{\"colorbar\":{\"outlinewidth\":0,\"ticks\":\"\"},\"type\":\"contourcarpet\"}],\"heatmap\":[{\"colorbar\":{\"outlinewidth\":0,\"ticks\":\"\"},\"colorscale\":[[0.0,\"#0d0887\"],[0.1111111111111111,\"#46039f\"],[0.2222222222222222,\"#7201a8\"],[0.3333333333333333,\"#9c179e\"],[0.4444444444444444,\"#bd3786\"],[0.5555555555555556,\"#d8576b\"],[0.6666666666666666,\"#ed7953\"],[0.7777777777777778,\"#fb9f3a\"],[0.8888888888888888,\"#fdca26\"],[1.0,\"#f0f921\"]],\"type\":\"heatmap\"}],\"heatmapgl\":[{\"colorbar\":{\"outlinewidth\":0,\"ticks\":\"\"},\"colorscale\":[[0.0,\"#0d0887\"],[0.1111111111111111,\"#46039f\"],[0.2222222222222222,\"#7201a8\"],[0.3333333333333333,\"#9c179e\"],[0.4444444444444444,\"#bd3786\"],[0.5555555555555556,\"#d8576b\"],[0.6666666666666666,\"#ed7953\"],[0.7777777777777778,\"#fb9f3a\"],[0.8888888888888888,\"#fdca26\"],[1.0,\"#f0f921\"]],\"type\":\"heatmapgl\"}],\"histogram\":[{\"marker\":{\"pattern\":{\"fillmode\":\"overlay\",\"size\":10,\"solidity\":0.2}},\"type\":\"histogram\"}],\"histogram2d\":[{\"colorbar\":{\"outlinewidth\":0,\"ticks\":\"\"},\"colorscale\":[[0.0,\"#0d0887\"],[0.1111111111111111,\"#46039f\"],[0.2222222222222222,\"#7201a8\"],[0.3333333333333333,\"#9c179e\"],[0.4444444444444444,\"#bd3786\"],[0.5555555555555556,\"#d8576b\"],[0.6666666666666666,\"#ed7953\"],[0.7777777777777778,\"#fb9f3a\"],[0.8888888888888888,\"#fdca26\"],[1.0,\"#f0f921\"]],\"type\":\"histogram2d\"}],\"histogram2dcontour\":[{\"colorbar\":{\"outlinewidth\":0,\"ticks\":\"\"},\"colorscale\":[[0.0,\"#0d0887\"],[0.1111111111111111,\"#46039f\"],[0.2222222222222222,\"#7201a8\"],[0.3333333333333333,\"#9c179e\"],[0.4444444444444444,\"#bd3786\"],[0.5555555555555556,\"#d8576b\"],[0.6666666666666666,\"#ed7953\"],[0.7777777777777778,\"#fb9f3a\"],[0.8888888888888888,\"#fdca26\"],[1.0,\"#f0f921\"]],\"type\":\"histogram2dcontour\"}],\"mesh3d\":[{\"colorbar\":{\"outlinewidth\":0,\"ticks\":\"\"},\"type\":\"mesh3d\"}],\"parcoords\":[{\"line\":{\"colorbar\":{\"outlinewidth\":0,\"ticks\":\"\"}},\"type\":\"parcoords\"}],\"pie\":[{\"automargin\":true,\"type\":\"pie\"}],\"scatter\":[{\"marker\":{\"colorbar\":{\"outlinewidth\":0,\"ticks\":\"\"}},\"type\":\"scatter\"}],\"scatter3d\":[{\"line\":{\"colorbar\":{\"outlinewidth\":0,\"ticks\":\"\"}},\"marker\":{\"colorbar\":{\"outlinewidth\":0,\"ticks\":\"\"}},\"type\":\"scatter3d\"}],\"scattercarpet\":[{\"marker\":{\"colorbar\":{\"outlinewidth\":0,\"ticks\":\"\"}},\"type\":\"scattercarpet\"}],\"scattergeo\":[{\"marker\":{\"colorbar\":{\"outlinewidth\":0,\"ticks\":\"\"}},\"type\":\"scattergeo\"}],\"scattergl\":[{\"marker\":{\"colorbar\":{\"outlinewidth\":0,\"ticks\":\"\"}},\"type\":\"scattergl\"}],\"scattermapbox\":[{\"marker\":{\"colorbar\":{\"outlinewidth\":0,\"ticks\":\"\"}},\"type\":\"scattermapbox\"}],\"scatterpolar\":[{\"marker\":{\"colorbar\":{\"outlinewidth\":0,\"ticks\":\"\"}},\"type\":\"scatterpolar\"}],\"scatterpolargl\":[{\"marker\":{\"colorbar\":{\"outlinewidth\":0,\"ticks\":\"\"}},\"type\":\"scatterpolargl\"}],\"scatterternary\":[{\"marker\":{\"colorbar\":{\"outlinewidth\":0,\"ticks\":\"\"}},\"type\":\"scatterternary\"}],\"surface\":[{\"colorbar\":{\"outlinewidth\":0,\"ticks\":\"\"},\"colorscale\":[[0.0,\"#0d0887\"],[0.1111111111111111,\"#46039f\"],[0.2222222222222222,\"#7201a8\"],[0.3333333333333333,\"#9c179e\"],[0.4444444444444444,\"#bd3786\"],[0.5555555555555556,\"#d8576b\"],[0.6666666666666666,\"#ed7953\"],[0.7777777777777778,\"#fb9f3a\"],[0.8888888888888888,\"#fdca26\"],[1.0,\"#f0f921\"]],\"type\":\"surface\"}],\"table\":[{\"cells\":{\"fill\":{\"color\":\"#EBF0F8\"},\"line\":{\"color\":\"white\"}},\"header\":{\"fill\":{\"color\":\"#C8D4E3\"},\"line\":{\"color\":\"white\"}},\"type\":\"table\"}]},\"layout\":{\"annotationdefaults\":{\"arrowcolor\":\"#2a3f5f\",\"arrowhead\":0,\"arrowwidth\":1},\"autotypenumbers\":\"strict\",\"coloraxis\":{\"colorbar\":{\"outlinewidth\":0,\"ticks\":\"\"}},\"colorscale\":{\"diverging\":[[0,\"#8e0152\"],[0.1,\"#c51b7d\"],[0.2,\"#de77ae\"],[0.3,\"#f1b6da\"],[0.4,\"#fde0ef\"],[0.5,\"#f7f7f7\"],[0.6,\"#e6f5d0\"],[0.7,\"#b8e186\"],[0.8,\"#7fbc41\"],[0.9,\"#4d9221\"],[1,\"#276419\"]],\"sequential\":[[0.0,\"#0d0887\"],[0.1111111111111111,\"#46039f\"],[0.2222222222222222,\"#7201a8\"],[0.3333333333333333,\"#9c179e\"],[0.4444444444444444,\"#bd3786\"],[0.5555555555555556,\"#d8576b\"],[0.6666666666666666,\"#ed7953\"],[0.7777777777777778,\"#fb9f3a\"],[0.8888888888888888,\"#fdca26\"],[1.0,\"#f0f921\"]],\"sequentialminus\":[[0.0,\"#0d0887\"],[0.1111111111111111,\"#46039f\"],[0.2222222222222222,\"#7201a8\"],[0.3333333333333333,\"#9c179e\"],[0.4444444444444444,\"#bd3786\"],[0.5555555555555556,\"#d8576b\"],[0.6666666666666666,\"#ed7953\"],[0.7777777777777778,\"#fb9f3a\"],[0.8888888888888888,\"#fdca26\"],[1.0,\"#f0f921\"]]},\"colorway\":[\"#636efa\",\"#EF553B\",\"#00cc96\",\"#ab63fa\",\"#FFA15A\",\"#19d3f3\",\"#FF6692\",\"#B6E880\",\"#FF97FF\",\"#FECB52\"],\"font\":{\"color\":\"#2a3f5f\"},\"geo\":{\"bgcolor\":\"white\",\"lakecolor\":\"white\",\"landcolor\":\"#E5ECF6\",\"showlakes\":true,\"showland\":true,\"subunitcolor\":\"white\"},\"hoverlabel\":{\"align\":\"left\"},\"hovermode\":\"closest\",\"mapbox\":{\"style\":\"light\"},\"paper_bgcolor\":\"white\",\"plot_bgcolor\":\"#E5ECF6\",\"polar\":{\"angularaxis\":{\"gridcolor\":\"white\",\"linecolor\":\"white\",\"ticks\":\"\"},\"bgcolor\":\"#E5ECF6\",\"radialaxis\":{\"gridcolor\":\"white\",\"linecolor\":\"white\",\"ticks\":\"\"}},\"scene\":{\"xaxis\":{\"backgroundcolor\":\"#E5ECF6\",\"gridcolor\":\"white\",\"gridwidth\":2,\"linecolor\":\"white\",\"showbackground\":true,\"ticks\":\"\",\"zerolinecolor\":\"white\"},\"yaxis\":{\"backgroundcolor\":\"#E5ECF6\",\"gridcolor\":\"white\",\"gridwidth\":2,\"linecolor\":\"white\",\"showbackground\":true,\"ticks\":\"\",\"zerolinecolor\":\"white\"},\"zaxis\":{\"backgroundcolor\":\"#E5ECF6\",\"gridcolor\":\"white\",\"gridwidth\":2,\"linecolor\":\"white\",\"showbackground\":true,\"ticks\":\"\",\"zerolinecolor\":\"white\"}},\"shapedefaults\":{\"line\":{\"color\":\"#2a3f5f\"}},\"ternary\":{\"aaxis\":{\"gridcolor\":\"white\",\"linecolor\":\"white\",\"ticks\":\"\"},\"baxis\":{\"gridcolor\":\"white\",\"linecolor\":\"white\",\"ticks\":\"\"},\"bgcolor\":\"#E5ECF6\",\"caxis\":{\"gridcolor\":\"white\",\"linecolor\":\"white\",\"ticks\":\"\"}},\"title\":{\"x\":0.05},\"xaxis\":{\"automargin\":true,\"gridcolor\":\"white\",\"linecolor\":\"white\",\"ticks\":\"\",\"title\":{\"standoff\":15},\"zerolinecolor\":\"white\",\"zerolinewidth\":2},\"yaxis\":{\"automargin\":true,\"gridcolor\":\"white\",\"linecolor\":\"white\",\"ticks\":\"\",\"title\":{\"standoff\":15},\"zerolinecolor\":\"white\",\"zerolinewidth\":2}}},\"xaxis\":{\"anchor\":\"y\",\"domain\":[0.0,1.0],\"title\":{\"text\":\"PER CAPITA INCOME IN K\"}},\"yaxis\":{\"anchor\":\"x\",\"domain\":[0.0,1.0],\"title\":{\"text\":\"CountPerSqkm\"},\"type\":\"log\"},\"legend\":{\"title\":{},\"tracegroupgap\":0},\"margin\":{\"t\":60},\"width\":640,\"height\":480},                        {\"responsive\": true}                    ).then(function(){\n",
       "                            \n",
       "var gd = document.getElementById('4bd8694c-5832-4b55-b4b5-06a31f274943');\n",
       "var x = new MutationObserver(function (mutations, observer) {{\n",
       "        var display = window.getComputedStyle(gd).display;\n",
       "        if (!display || display === 'none') {{\n",
       "            console.log([gd, 'removed!']);\n",
       "            Plotly.purge(gd);\n",
       "            observer.disconnect();\n",
       "        }}\n",
       "}});\n",
       "\n",
       "// Listen for the removal of the full notebook cells\n",
       "var notebookContainer = gd.closest('#notebook-container');\n",
       "if (notebookContainer) {{\n",
       "    x.observe(notebookContainer, {childList: true});\n",
       "}}\n",
       "\n",
       "// Listen for the clearing of the current output cell\n",
       "var outputEl = gd.closest('.output');\n",
       "if (outputEl) {{\n",
       "    x.observe(outputEl, {childList: true});\n",
       "}}\n",
       "\n",
       "                        })                };                });            </script>        </div>"
      ]
     },
     "metadata": {},
     "output_type": "display_data"
    }
   ],
   "source": [
    "required_cols = [\"CountPerSqkm\",\"PER CAPITA INCOME IN K\",\"PovertyFlag\"]\n",
    "\n",
    "vis_df = final_df[required_cols]\n",
    "fig = px.scatter(vis_df,x='PER CAPITA INCOME IN K',y='CountPerSqkm',color='PovertyFlag',color_discrete_map = {0:'#636EFA',1: '#FFA15A'})\n",
    "fig.update_layout(width=640,height=480,legend_title_text=None,yaxis_type=\"log\")\n",
    "fig.show()"
   ]
  },
  {
   "cell_type": "code",
   "execution_count": 104,
   "id": "53ae211a-9edc-4555-80c3-f097168083c3",
   "metadata": {},
   "outputs": [],
   "source": [
    "def shannon_index(species_abundance):\n",
    "    total_count = sum(species_abundance)\n",
    "    proportions = [count / total_count for count in species_abundance]\n",
    "    shannon_index = -sum(p * np.log(p) for p in proportions if p != 0)\n",
    "    return shannon_index"
   ]
  },
  {
   "cell_type": "code",
   "execution_count": 105,
   "id": "f245514f-b802-444a-afdc-76e541849d6d",
   "metadata": {},
   "outputs": [
    {
     "data": {
      "text/html": [
       "<div>\n",
       "<style scoped>\n",
       "    .dataframe tbody tr th:only-of-type {\n",
       "        vertical-align: middle;\n",
       "    }\n",
       "\n",
       "    .dataframe tbody tr th {\n",
       "        vertical-align: top;\n",
       "    }\n",
       "\n",
       "    .dataframe thead th {\n",
       "        text-align: right;\n",
       "    }\n",
       "</style>\n",
       "<table border=\"1\" class=\"dataframe\">\n",
       "  <thead>\n",
       "    <tr style=\"text-align: right;\">\n",
       "      <th></th>\n",
       "      <th>Community Area Number</th>\n",
       "      <th>COMMUNITY AREA NAME</th>\n",
       "      <th>PERCENT OF HOUSING CROWDED</th>\n",
       "      <th>PERCENT HOUSEHOLDS BELOW POVERTY</th>\n",
       "      <th>PERCENT AGED 16+ UNEMPLOYED</th>\n",
       "      <th>PERCENT AGED 25+ WITHOUT HIGH SCHOOL DIPLOMA</th>\n",
       "      <th>PERCENT AGED UNDER 18 OR OVER 64</th>\n",
       "      <th>PER CAPITA INCOME</th>\n",
       "      <th>HARDSHIP INDEX</th>\n",
       "      <th>community</th>\n",
       "      <th>SCIENTIFIC NAME</th>\n",
       "      <th>NATIVE</th>\n",
       "      <th>COUNT</th>\n",
       "      <th>Area</th>\n",
       "      <th>PER CAPITA INCOME IN K</th>\n",
       "      <th>CountPerSqkm</th>\n",
       "      <th>PovertyFlag</th>\n",
       "      <th>shannon_index</th>\n",
       "    </tr>\n",
       "  </thead>\n",
       "  <tbody>\n",
       "    <tr>\n",
       "      <th>0</th>\n",
       "      <td>1.0</td>\n",
       "      <td>ROGERS PARK</td>\n",
       "      <td>7.7</td>\n",
       "      <td>23.6</td>\n",
       "      <td>8.7</td>\n",
       "      <td>18.2</td>\n",
       "      <td>27.5</td>\n",
       "      <td>23939</td>\n",
       "      <td>39.0</td>\n",
       "      <td>ROGERS PARK</td>\n",
       "      <td>[Spinus tristis, Turdus migratorius, Turdus mi...</td>\n",
       "      <td>676</td>\n",
       "      <td>[1, 46, 4, 9, 1, 3, 1, 9, 12, 1, 2, 1, 2, 1, 7...</td>\n",
       "      <td>8.631616</td>\n",
       "      <td>23.939</td>\n",
       "      <td>78.316735</td>\n",
       "      <td>Poor</td>\n",
       "      <td>5.498251</td>\n",
       "    </tr>\n",
       "    <tr>\n",
       "      <th>1</th>\n",
       "      <td>2.0</td>\n",
       "      <td>WEST RIDGE</td>\n",
       "      <td>7.8</td>\n",
       "      <td>17.2</td>\n",
       "      <td>8.8</td>\n",
       "      <td>20.8</td>\n",
       "      <td>38.5</td>\n",
       "      <td>23040</td>\n",
       "      <td>46.0</td>\n",
       "      <td>WEST RIDGE</td>\n",
       "      <td>[Sturnus vulgaris, Aquila chrysaetos, Passer d...</td>\n",
       "      <td>255</td>\n",
       "      <td>[7, 1, 5, 4, 100, 2, 2, 2, 1, 1, 1, 25, 25, 25...</td>\n",
       "      <td>16.570330</td>\n",
       "      <td>23.040</td>\n",
       "      <td>15.388951</td>\n",
       "      <td>Poor</td>\n",
       "      <td>4.148305</td>\n",
       "    </tr>\n",
       "    <tr>\n",
       "      <th>2</th>\n",
       "      <td>3.0</td>\n",
       "      <td>UPTOWN</td>\n",
       "      <td>3.8</td>\n",
       "      <td>24.0</td>\n",
       "      <td>8.9</td>\n",
       "      <td>11.8</td>\n",
       "      <td>22.2</td>\n",
       "      <td>35787</td>\n",
       "      <td>20.0</td>\n",
       "      <td>UPTOWN</td>\n",
       "      <td>[Corvus brachyrhynchos, Corvus brachyrhynchos,...</td>\n",
       "      <td>75132</td>\n",
       "      <td>[5, 7, 3, 3, 1, 1, 2, 1, 1, 1, 1, 1, 1, 1, 1, ...</td>\n",
       "      <td>10.946406</td>\n",
       "      <td>35.787</td>\n",
       "      <td>6863.622752</td>\n",
       "      <td>Poor</td>\n",
       "      <td>9.626278</td>\n",
       "    </tr>\n",
       "    <tr>\n",
       "      <th>3</th>\n",
       "      <td>4.0</td>\n",
       "      <td>LINCOLN SQUARE</td>\n",
       "      <td>3.4</td>\n",
       "      <td>10.9</td>\n",
       "      <td>8.2</td>\n",
       "      <td>13.4</td>\n",
       "      <td>25.5</td>\n",
       "      <td>37524</td>\n",
       "      <td>17.0</td>\n",
       "      <td>LINCOLN SQUARE</td>\n",
       "      <td>[Spinus tristis, Acanthis flammea, Junco hyema...</td>\n",
       "      <td>3751</td>\n",
       "      <td>[1, 4, 1, 1, 1, 1, 1, 1, 1, 1, 1, 1, 1, 1, 1, ...</td>\n",
       "      <td>12.002108</td>\n",
       "      <td>37.524</td>\n",
       "      <td>312.528443</td>\n",
       "      <td>Poor</td>\n",
       "      <td>7.116321</td>\n",
       "    </tr>\n",
       "    <tr>\n",
       "      <th>4</th>\n",
       "      <td>5.0</td>\n",
       "      <td>NORTH CENTER</td>\n",
       "      <td>0.3</td>\n",
       "      <td>7.5</td>\n",
       "      <td>5.2</td>\n",
       "      <td>4.5</td>\n",
       "      <td>26.2</td>\n",
       "      <td>57123</td>\n",
       "      <td>6.0</td>\n",
       "      <td>NORTH CENTER</td>\n",
       "      <td>[Corvus brachyrhynchos, Spinus tristis, Setoph...</td>\n",
       "      <td>1432</td>\n",
       "      <td>[1, 7, 1, 28, 22, 4, 2, 5, 2, 1, 3, 2, 6, 2, 1...</td>\n",
       "      <td>9.588837</td>\n",
       "      <td>57.123</td>\n",
       "      <td>149.340322</td>\n",
       "      <td>Rich</td>\n",
       "      <td>6.540097</td>\n",
       "    </tr>\n",
       "  </tbody>\n",
       "</table>\n",
       "</div>"
      ],
      "text/plain": [
       "   Community Area Number COMMUNITY AREA NAME  PERCENT OF HOUSING CROWDED  \\\n",
       "0                    1.0         ROGERS PARK                         7.7   \n",
       "1                    2.0          WEST RIDGE                         7.8   \n",
       "2                    3.0              UPTOWN                         3.8   \n",
       "3                    4.0      LINCOLN SQUARE                         3.4   \n",
       "4                    5.0        NORTH CENTER                         0.3   \n",
       "\n",
       "   PERCENT HOUSEHOLDS BELOW POVERTY  PERCENT AGED 16+ UNEMPLOYED  \\\n",
       "0                              23.6                          8.7   \n",
       "1                              17.2                          8.8   \n",
       "2                              24.0                          8.9   \n",
       "3                              10.9                          8.2   \n",
       "4                               7.5                          5.2   \n",
       "\n",
       "   PERCENT AGED 25+ WITHOUT HIGH SCHOOL DIPLOMA  \\\n",
       "0                                          18.2   \n",
       "1                                          20.8   \n",
       "2                                          11.8   \n",
       "3                                          13.4   \n",
       "4                                           4.5   \n",
       "\n",
       "   PERCENT AGED UNDER 18 OR OVER 64  PER CAPITA INCOME  HARDSHIP INDEX  \\\n",
       "0                              27.5              23939            39.0   \n",
       "1                              38.5              23040            46.0   \n",
       "2                              22.2              35787            20.0   \n",
       "3                              25.5              37524            17.0   \n",
       "4                              26.2              57123             6.0   \n",
       "\n",
       "        community                                    SCIENTIFIC NAME  NATIVE  \\\n",
       "0     ROGERS PARK  [Spinus tristis, Turdus migratorius, Turdus mi...     676   \n",
       "1      WEST RIDGE  [Sturnus vulgaris, Aquila chrysaetos, Passer d...     255   \n",
       "2          UPTOWN  [Corvus brachyrhynchos, Corvus brachyrhynchos,...   75132   \n",
       "3  LINCOLN SQUARE  [Spinus tristis, Acanthis flammea, Junco hyema...    3751   \n",
       "4    NORTH CENTER  [Corvus brachyrhynchos, Spinus tristis, Setoph...    1432   \n",
       "\n",
       "                                               COUNT       Area  \\\n",
       "0  [1, 46, 4, 9, 1, 3, 1, 9, 12, 1, 2, 1, 2, 1, 7...   8.631616   \n",
       "1  [7, 1, 5, 4, 100, 2, 2, 2, 1, 1, 1, 25, 25, 25...  16.570330   \n",
       "2  [5, 7, 3, 3, 1, 1, 2, 1, 1, 1, 1, 1, 1, 1, 1, ...  10.946406   \n",
       "3  [1, 4, 1, 1, 1, 1, 1, 1, 1, 1, 1, 1, 1, 1, 1, ...  12.002108   \n",
       "4  [1, 7, 1, 28, 22, 4, 2, 5, 2, 1, 3, 2, 6, 2, 1...   9.588837   \n",
       "\n",
       "   PER CAPITA INCOME IN K  CountPerSqkm PovertyFlag  shannon_index  \n",
       "0                  23.939     78.316735        Poor       5.498251  \n",
       "1                  23.040     15.388951        Poor       4.148305  \n",
       "2                  35.787   6863.622752        Poor       9.626278  \n",
       "3                  37.524    312.528443        Poor       7.116321  \n",
       "4                  57.123    149.340322        Rich       6.540097  "
      ]
     },
     "execution_count": 105,
     "metadata": {},
     "output_type": "execute_result"
    }
   ],
   "source": [
    "final_df[\"shannon_index\"] = final_df[\"COUNT\"].apply(shannon_index)\n",
    "final_df.head(5)"
   ]
  },
  {
   "cell_type": "code",
   "execution_count": 106,
   "id": "819d49a2",
   "metadata": {},
   "outputs": [],
   "source": [
    "# json_data = final_df.to_json(orient='records', indent=4)\n",
    "# # print(json_data)\n",
    "\n",
    "# # Write JSON data to a file\n",
    "# with open('final_data.json', 'w') as f:\n",
    "#     f.write(json_data)"
   ]
  },
  {
   "cell_type": "code",
   "execution_count": 107,
   "id": "c820e210-ca00-4759-b322-1ef8cdaf81fb",
   "metadata": {},
   "outputs": [
    {
     "data": {
      "application/vnd.plotly.v1+json": {
       "config": {
        "plotlyServerURL": "https://plot.ly"
       },
       "data": [
        {
         "hovertemplate": "PovertyFlag=Poor<br>PER CAPITA INCOME IN K=%{x}<br>shannon_index=%{y}<extra></extra>",
         "legendgroup": "Poor",
         "marker": {
          "color": "#00cc96",
          "symbol": "circle"
         },
         "mode": "markers",
         "name": "Poor",
         "orientation": "v",
         "showlegend": true,
         "type": "scatter",
         "x": [
          23.939,
          23.04,
          35.787,
          37.524,
          32.875,
          27.751,
          26.576,
          21.323,
          24.336,
          27.249,
          26.282,
          15.461,
          20.039,
          31.908,
          13.781,
          15.957,
          12.961,
          12.034,
          10.402,
          16.444,
          16.148,
          23.791,
          19.252,
          35.911,
          13.785,
          39.056,
          18.672,
          19.398,
          20.588,
          14.685,
          17.104,
          16.563,
          8.201,
          22.677,
          26.353,
          16.954,
          22.694,
          12.765,
          25.113,
          17.285,
          39.523,
          34.381,
          33.385
         ],
         "xaxis": "x",
         "y": [
          5.498250890741741,
          4.148304992713281,
          9.626278060658763,
          7.116321256137552,
          3.9153514486576757,
          3.2306552081901403,
          7.685654440615552,
          6.303148587128158,
          3.2199066974014308,
          7.564594567988713,
          1.9832049531029248,
          4.313047762239837,
          3.6939685760916166,
          5.369094335565102,
          1.0986122886681096,
          8.175104203683162,
          4.81589287805863,
          7.42385123421606,
          2.2809369026289956,
          4.07194649913427,
          2.6530793717777166,
          5.947795013347923,
          5.0508446101811035,
          5.341765777619535,
          2.4499119632014286,
          7.572882955586853,
          8.057085031441177,
          6.132057244471824,
          2.364846178214263,
          7.5815977952628755,
          6.565295609119808,
          6.265919106847263,
          7.056429149637764,
          8.551901564638195,
          1.0397207708399179,
          5.678240105185059,
          4.254697773361497,
          2.233261435925072,
          2.3693821196946767,
          1.040839837423239,
          4.925730798652334,
          4.33952307102356,
          2.470602399227253
         ],
         "yaxis": "y"
        },
        {
         "hovertemplate": "PovertyFlag=Rich<br>PER CAPITA INCOME IN K=%{x}<br>shannon_index=%{y}<extra></extra>",
         "legendgroup": "Rich",
         "marker": {
          "color": "#ab63fa",
          "symbol": "circle"
         },
         "mode": "markers",
         "name": "Rich",
         "orientation": "v",
         "showlegend": true,
         "type": "scatter",
         "x": [
          57.123,
          60.058,
          71.551,
          88.669,
          44.164,
          43.198,
          44.689,
          65.526,
          59.077
         ],
         "xaxis": "x",
         "y": [
          6.540096699830579,
          7.465086829778779,
          9.101899831523921,
          5.314265960002226,
          5.778297523841608,
          6.729630810771817,
          6.537283453679603,
          6.839295885282256,
          8.841776022409961
         ],
         "yaxis": "y"
        }
       ],
       "layout": {
        "height": 480,
        "legend": {
         "title": {},
         "tracegroupgap": 0
        },
        "margin": {
         "t": 60
        },
        "template": {
         "data": {
          "bar": [
           {
            "error_x": {
             "color": "#2a3f5f"
            },
            "error_y": {
             "color": "#2a3f5f"
            },
            "marker": {
             "line": {
              "color": "#E5ECF6",
              "width": 0.5
             },
             "pattern": {
              "fillmode": "overlay",
              "size": 10,
              "solidity": 0.2
             }
            },
            "type": "bar"
           }
          ],
          "barpolar": [
           {
            "marker": {
             "line": {
              "color": "#E5ECF6",
              "width": 0.5
             },
             "pattern": {
              "fillmode": "overlay",
              "size": 10,
              "solidity": 0.2
             }
            },
            "type": "barpolar"
           }
          ],
          "carpet": [
           {
            "aaxis": {
             "endlinecolor": "#2a3f5f",
             "gridcolor": "white",
             "linecolor": "white",
             "minorgridcolor": "white",
             "startlinecolor": "#2a3f5f"
            },
            "baxis": {
             "endlinecolor": "#2a3f5f",
             "gridcolor": "white",
             "linecolor": "white",
             "minorgridcolor": "white",
             "startlinecolor": "#2a3f5f"
            },
            "type": "carpet"
           }
          ],
          "choropleth": [
           {
            "colorbar": {
             "outlinewidth": 0,
             "ticks": ""
            },
            "type": "choropleth"
           }
          ],
          "contour": [
           {
            "colorbar": {
             "outlinewidth": 0,
             "ticks": ""
            },
            "colorscale": [
             [
              0,
              "#0d0887"
             ],
             [
              0.1111111111111111,
              "#46039f"
             ],
             [
              0.2222222222222222,
              "#7201a8"
             ],
             [
              0.3333333333333333,
              "#9c179e"
             ],
             [
              0.4444444444444444,
              "#bd3786"
             ],
             [
              0.5555555555555556,
              "#d8576b"
             ],
             [
              0.6666666666666666,
              "#ed7953"
             ],
             [
              0.7777777777777778,
              "#fb9f3a"
             ],
             [
              0.8888888888888888,
              "#fdca26"
             ],
             [
              1,
              "#f0f921"
             ]
            ],
            "type": "contour"
           }
          ],
          "contourcarpet": [
           {
            "colorbar": {
             "outlinewidth": 0,
             "ticks": ""
            },
            "type": "contourcarpet"
           }
          ],
          "heatmap": [
           {
            "colorbar": {
             "outlinewidth": 0,
             "ticks": ""
            },
            "colorscale": [
             [
              0,
              "#0d0887"
             ],
             [
              0.1111111111111111,
              "#46039f"
             ],
             [
              0.2222222222222222,
              "#7201a8"
             ],
             [
              0.3333333333333333,
              "#9c179e"
             ],
             [
              0.4444444444444444,
              "#bd3786"
             ],
             [
              0.5555555555555556,
              "#d8576b"
             ],
             [
              0.6666666666666666,
              "#ed7953"
             ],
             [
              0.7777777777777778,
              "#fb9f3a"
             ],
             [
              0.8888888888888888,
              "#fdca26"
             ],
             [
              1,
              "#f0f921"
             ]
            ],
            "type": "heatmap"
           }
          ],
          "heatmapgl": [
           {
            "colorbar": {
             "outlinewidth": 0,
             "ticks": ""
            },
            "colorscale": [
             [
              0,
              "#0d0887"
             ],
             [
              0.1111111111111111,
              "#46039f"
             ],
             [
              0.2222222222222222,
              "#7201a8"
             ],
             [
              0.3333333333333333,
              "#9c179e"
             ],
             [
              0.4444444444444444,
              "#bd3786"
             ],
             [
              0.5555555555555556,
              "#d8576b"
             ],
             [
              0.6666666666666666,
              "#ed7953"
             ],
             [
              0.7777777777777778,
              "#fb9f3a"
             ],
             [
              0.8888888888888888,
              "#fdca26"
             ],
             [
              1,
              "#f0f921"
             ]
            ],
            "type": "heatmapgl"
           }
          ],
          "histogram": [
           {
            "marker": {
             "pattern": {
              "fillmode": "overlay",
              "size": 10,
              "solidity": 0.2
             }
            },
            "type": "histogram"
           }
          ],
          "histogram2d": [
           {
            "colorbar": {
             "outlinewidth": 0,
             "ticks": ""
            },
            "colorscale": [
             [
              0,
              "#0d0887"
             ],
             [
              0.1111111111111111,
              "#46039f"
             ],
             [
              0.2222222222222222,
              "#7201a8"
             ],
             [
              0.3333333333333333,
              "#9c179e"
             ],
             [
              0.4444444444444444,
              "#bd3786"
             ],
             [
              0.5555555555555556,
              "#d8576b"
             ],
             [
              0.6666666666666666,
              "#ed7953"
             ],
             [
              0.7777777777777778,
              "#fb9f3a"
             ],
             [
              0.8888888888888888,
              "#fdca26"
             ],
             [
              1,
              "#f0f921"
             ]
            ],
            "type": "histogram2d"
           }
          ],
          "histogram2dcontour": [
           {
            "colorbar": {
             "outlinewidth": 0,
             "ticks": ""
            },
            "colorscale": [
             [
              0,
              "#0d0887"
             ],
             [
              0.1111111111111111,
              "#46039f"
             ],
             [
              0.2222222222222222,
              "#7201a8"
             ],
             [
              0.3333333333333333,
              "#9c179e"
             ],
             [
              0.4444444444444444,
              "#bd3786"
             ],
             [
              0.5555555555555556,
              "#d8576b"
             ],
             [
              0.6666666666666666,
              "#ed7953"
             ],
             [
              0.7777777777777778,
              "#fb9f3a"
             ],
             [
              0.8888888888888888,
              "#fdca26"
             ],
             [
              1,
              "#f0f921"
             ]
            ],
            "type": "histogram2dcontour"
           }
          ],
          "mesh3d": [
           {
            "colorbar": {
             "outlinewidth": 0,
             "ticks": ""
            },
            "type": "mesh3d"
           }
          ],
          "parcoords": [
           {
            "line": {
             "colorbar": {
              "outlinewidth": 0,
              "ticks": ""
             }
            },
            "type": "parcoords"
           }
          ],
          "pie": [
           {
            "automargin": true,
            "type": "pie"
           }
          ],
          "scatter": [
           {
            "marker": {
             "colorbar": {
              "outlinewidth": 0,
              "ticks": ""
             }
            },
            "type": "scatter"
           }
          ],
          "scatter3d": [
           {
            "line": {
             "colorbar": {
              "outlinewidth": 0,
              "ticks": ""
             }
            },
            "marker": {
             "colorbar": {
              "outlinewidth": 0,
              "ticks": ""
             }
            },
            "type": "scatter3d"
           }
          ],
          "scattercarpet": [
           {
            "marker": {
             "colorbar": {
              "outlinewidth": 0,
              "ticks": ""
             }
            },
            "type": "scattercarpet"
           }
          ],
          "scattergeo": [
           {
            "marker": {
             "colorbar": {
              "outlinewidth": 0,
              "ticks": ""
             }
            },
            "type": "scattergeo"
           }
          ],
          "scattergl": [
           {
            "marker": {
             "colorbar": {
              "outlinewidth": 0,
              "ticks": ""
             }
            },
            "type": "scattergl"
           }
          ],
          "scattermapbox": [
           {
            "marker": {
             "colorbar": {
              "outlinewidth": 0,
              "ticks": ""
             }
            },
            "type": "scattermapbox"
           }
          ],
          "scatterpolar": [
           {
            "marker": {
             "colorbar": {
              "outlinewidth": 0,
              "ticks": ""
             }
            },
            "type": "scatterpolar"
           }
          ],
          "scatterpolargl": [
           {
            "marker": {
             "colorbar": {
              "outlinewidth": 0,
              "ticks": ""
             }
            },
            "type": "scatterpolargl"
           }
          ],
          "scatterternary": [
           {
            "marker": {
             "colorbar": {
              "outlinewidth": 0,
              "ticks": ""
             }
            },
            "type": "scatterternary"
           }
          ],
          "surface": [
           {
            "colorbar": {
             "outlinewidth": 0,
             "ticks": ""
            },
            "colorscale": [
             [
              0,
              "#0d0887"
             ],
             [
              0.1111111111111111,
              "#46039f"
             ],
             [
              0.2222222222222222,
              "#7201a8"
             ],
             [
              0.3333333333333333,
              "#9c179e"
             ],
             [
              0.4444444444444444,
              "#bd3786"
             ],
             [
              0.5555555555555556,
              "#d8576b"
             ],
             [
              0.6666666666666666,
              "#ed7953"
             ],
             [
              0.7777777777777778,
              "#fb9f3a"
             ],
             [
              0.8888888888888888,
              "#fdca26"
             ],
             [
              1,
              "#f0f921"
             ]
            ],
            "type": "surface"
           }
          ],
          "table": [
           {
            "cells": {
             "fill": {
              "color": "#EBF0F8"
             },
             "line": {
              "color": "white"
             }
            },
            "header": {
             "fill": {
              "color": "#C8D4E3"
             },
             "line": {
              "color": "white"
             }
            },
            "type": "table"
           }
          ]
         },
         "layout": {
          "annotationdefaults": {
           "arrowcolor": "#2a3f5f",
           "arrowhead": 0,
           "arrowwidth": 1
          },
          "autotypenumbers": "strict",
          "coloraxis": {
           "colorbar": {
            "outlinewidth": 0,
            "ticks": ""
           }
          },
          "colorscale": {
           "diverging": [
            [
             0,
             "#8e0152"
            ],
            [
             0.1,
             "#c51b7d"
            ],
            [
             0.2,
             "#de77ae"
            ],
            [
             0.3,
             "#f1b6da"
            ],
            [
             0.4,
             "#fde0ef"
            ],
            [
             0.5,
             "#f7f7f7"
            ],
            [
             0.6,
             "#e6f5d0"
            ],
            [
             0.7,
             "#b8e186"
            ],
            [
             0.8,
             "#7fbc41"
            ],
            [
             0.9,
             "#4d9221"
            ],
            [
             1,
             "#276419"
            ]
           ],
           "sequential": [
            [
             0,
             "#0d0887"
            ],
            [
             0.1111111111111111,
             "#46039f"
            ],
            [
             0.2222222222222222,
             "#7201a8"
            ],
            [
             0.3333333333333333,
             "#9c179e"
            ],
            [
             0.4444444444444444,
             "#bd3786"
            ],
            [
             0.5555555555555556,
             "#d8576b"
            ],
            [
             0.6666666666666666,
             "#ed7953"
            ],
            [
             0.7777777777777778,
             "#fb9f3a"
            ],
            [
             0.8888888888888888,
             "#fdca26"
            ],
            [
             1,
             "#f0f921"
            ]
           ],
           "sequentialminus": [
            [
             0,
             "#0d0887"
            ],
            [
             0.1111111111111111,
             "#46039f"
            ],
            [
             0.2222222222222222,
             "#7201a8"
            ],
            [
             0.3333333333333333,
             "#9c179e"
            ],
            [
             0.4444444444444444,
             "#bd3786"
            ],
            [
             0.5555555555555556,
             "#d8576b"
            ],
            [
             0.6666666666666666,
             "#ed7953"
            ],
            [
             0.7777777777777778,
             "#fb9f3a"
            ],
            [
             0.8888888888888888,
             "#fdca26"
            ],
            [
             1,
             "#f0f921"
            ]
           ]
          },
          "colorway": [
           "#636efa",
           "#EF553B",
           "#00cc96",
           "#ab63fa",
           "#FFA15A",
           "#19d3f3",
           "#FF6692",
           "#B6E880",
           "#FF97FF",
           "#FECB52"
          ],
          "font": {
           "color": "#2a3f5f"
          },
          "geo": {
           "bgcolor": "white",
           "lakecolor": "white",
           "landcolor": "#E5ECF6",
           "showlakes": true,
           "showland": true,
           "subunitcolor": "white"
          },
          "hoverlabel": {
           "align": "left"
          },
          "hovermode": "closest",
          "mapbox": {
           "style": "light"
          },
          "paper_bgcolor": "white",
          "plot_bgcolor": "#E5ECF6",
          "polar": {
           "angularaxis": {
            "gridcolor": "white",
            "linecolor": "white",
            "ticks": ""
           },
           "bgcolor": "#E5ECF6",
           "radialaxis": {
            "gridcolor": "white",
            "linecolor": "white",
            "ticks": ""
           }
          },
          "scene": {
           "xaxis": {
            "backgroundcolor": "#E5ECF6",
            "gridcolor": "white",
            "gridwidth": 2,
            "linecolor": "white",
            "showbackground": true,
            "ticks": "",
            "zerolinecolor": "white"
           },
           "yaxis": {
            "backgroundcolor": "#E5ECF6",
            "gridcolor": "white",
            "gridwidth": 2,
            "linecolor": "white",
            "showbackground": true,
            "ticks": "",
            "zerolinecolor": "white"
           },
           "zaxis": {
            "backgroundcolor": "#E5ECF6",
            "gridcolor": "white",
            "gridwidth": 2,
            "linecolor": "white",
            "showbackground": true,
            "ticks": "",
            "zerolinecolor": "white"
           }
          },
          "shapedefaults": {
           "line": {
            "color": "#2a3f5f"
           }
          },
          "ternary": {
           "aaxis": {
            "gridcolor": "white",
            "linecolor": "white",
            "ticks": ""
           },
           "baxis": {
            "gridcolor": "white",
            "linecolor": "white",
            "ticks": ""
           },
           "bgcolor": "#E5ECF6",
           "caxis": {
            "gridcolor": "white",
            "linecolor": "white",
            "ticks": ""
           }
          },
          "title": {
           "x": 0.05
          },
          "xaxis": {
           "automargin": true,
           "gridcolor": "white",
           "linecolor": "white",
           "ticks": "",
           "title": {
            "standoff": 15
           },
           "zerolinecolor": "white",
           "zerolinewidth": 2
          },
          "yaxis": {
           "automargin": true,
           "gridcolor": "white",
           "linecolor": "white",
           "ticks": "",
           "title": {
            "standoff": 15
           },
           "zerolinecolor": "white",
           "zerolinewidth": 2
          }
         }
        },
        "width": 640,
        "xaxis": {
         "anchor": "y",
         "domain": [
          0,
          1
         ],
         "title": {
          "text": "PER CAPITA INCOME IN K"
         }
        },
        "yaxis": {
         "anchor": "x",
         "domain": [
          0,
          1
         ],
         "title": {
          "text": "shannon_index"
         }
        }
       }
      },
      "text/html": [
       "<div>                            <div id=\"ebceba98-8dde-4787-bc0a-686d36c55dcf\" class=\"plotly-graph-div\" style=\"height:480px; width:640px;\"></div>            <script type=\"text/javascript\">                require([\"plotly\"], function(Plotly) {                    window.PLOTLYENV=window.PLOTLYENV || {};                                    if (document.getElementById(\"ebceba98-8dde-4787-bc0a-686d36c55dcf\")) {                    Plotly.newPlot(                        \"ebceba98-8dde-4787-bc0a-686d36c55dcf\",                        [{\"hovertemplate\":\"PovertyFlag=Poor<br>PER CAPITA INCOME IN K=%{x}<br>shannon_index=%{y}<extra></extra>\",\"legendgroup\":\"Poor\",\"marker\":{\"color\":\"#00cc96\",\"symbol\":\"circle\"},\"mode\":\"markers\",\"name\":\"Poor\",\"orientation\":\"v\",\"showlegend\":true,\"x\":[23.939,23.04,35.787,37.524,32.875,27.751,26.576,21.323,24.336,27.249,26.282,15.461,20.039,31.908,13.781,15.957,12.961,12.034,10.402,16.444,16.148,23.791,19.252,35.911,13.785,39.056,18.672,19.398,20.588,14.685,17.104,16.563,8.201,22.677,26.353,16.954,22.694,12.765,25.113,17.285,39.523,34.381,33.385],\"xaxis\":\"x\",\"y\":[5.498250890741741,4.148304992713281,9.626278060658763,7.116321256137552,3.9153514486576757,3.2306552081901403,7.685654440615552,6.303148587128158,3.2199066974014308,7.564594567988713,1.9832049531029248,4.313047762239837,3.6939685760916166,5.369094335565102,1.0986122886681096,8.175104203683162,4.81589287805863,7.42385123421606,2.2809369026289956,4.07194649913427,2.6530793717777166,5.947795013347923,5.0508446101811035,5.341765777619535,2.4499119632014286,7.572882955586853,8.057085031441177,6.132057244471824,2.364846178214263,7.5815977952628755,6.565295609119808,6.265919106847263,7.056429149637764,8.551901564638195,1.0397207708399179,5.678240105185059,4.254697773361497,2.233261435925072,2.3693821196946767,1.040839837423239,4.925730798652334,4.33952307102356,2.470602399227253],\"yaxis\":\"y\",\"type\":\"scatter\"},{\"hovertemplate\":\"PovertyFlag=Rich<br>PER CAPITA INCOME IN K=%{x}<br>shannon_index=%{y}<extra></extra>\",\"legendgroup\":\"Rich\",\"marker\":{\"color\":\"#ab63fa\",\"symbol\":\"circle\"},\"mode\":\"markers\",\"name\":\"Rich\",\"orientation\":\"v\",\"showlegend\":true,\"x\":[57.123,60.058,71.551,88.669,44.164,43.198,44.689,65.526,59.077],\"xaxis\":\"x\",\"y\":[6.540096699830579,7.465086829778779,9.101899831523921,5.314265960002226,5.778297523841608,6.729630810771817,6.537283453679603,6.839295885282256,8.841776022409961],\"yaxis\":\"y\",\"type\":\"scatter\"}],                        {\"template\":{\"data\":{\"bar\":[{\"error_x\":{\"color\":\"#2a3f5f\"},\"error_y\":{\"color\":\"#2a3f5f\"},\"marker\":{\"line\":{\"color\":\"#E5ECF6\",\"width\":0.5},\"pattern\":{\"fillmode\":\"overlay\",\"size\":10,\"solidity\":0.2}},\"type\":\"bar\"}],\"barpolar\":[{\"marker\":{\"line\":{\"color\":\"#E5ECF6\",\"width\":0.5},\"pattern\":{\"fillmode\":\"overlay\",\"size\":10,\"solidity\":0.2}},\"type\":\"barpolar\"}],\"carpet\":[{\"aaxis\":{\"endlinecolor\":\"#2a3f5f\",\"gridcolor\":\"white\",\"linecolor\":\"white\",\"minorgridcolor\":\"white\",\"startlinecolor\":\"#2a3f5f\"},\"baxis\":{\"endlinecolor\":\"#2a3f5f\",\"gridcolor\":\"white\",\"linecolor\":\"white\",\"minorgridcolor\":\"white\",\"startlinecolor\":\"#2a3f5f\"},\"type\":\"carpet\"}],\"choropleth\":[{\"colorbar\":{\"outlinewidth\":0,\"ticks\":\"\"},\"type\":\"choropleth\"}],\"contour\":[{\"colorbar\":{\"outlinewidth\":0,\"ticks\":\"\"},\"colorscale\":[[0.0,\"#0d0887\"],[0.1111111111111111,\"#46039f\"],[0.2222222222222222,\"#7201a8\"],[0.3333333333333333,\"#9c179e\"],[0.4444444444444444,\"#bd3786\"],[0.5555555555555556,\"#d8576b\"],[0.6666666666666666,\"#ed7953\"],[0.7777777777777778,\"#fb9f3a\"],[0.8888888888888888,\"#fdca26\"],[1.0,\"#f0f921\"]],\"type\":\"contour\"}],\"contourcarpet\":[{\"colorbar\":{\"outlinewidth\":0,\"ticks\":\"\"},\"type\":\"contourcarpet\"}],\"heatmap\":[{\"colorbar\":{\"outlinewidth\":0,\"ticks\":\"\"},\"colorscale\":[[0.0,\"#0d0887\"],[0.1111111111111111,\"#46039f\"],[0.2222222222222222,\"#7201a8\"],[0.3333333333333333,\"#9c179e\"],[0.4444444444444444,\"#bd3786\"],[0.5555555555555556,\"#d8576b\"],[0.6666666666666666,\"#ed7953\"],[0.7777777777777778,\"#fb9f3a\"],[0.8888888888888888,\"#fdca26\"],[1.0,\"#f0f921\"]],\"type\":\"heatmap\"}],\"heatmapgl\":[{\"colorbar\":{\"outlinewidth\":0,\"ticks\":\"\"},\"colorscale\":[[0.0,\"#0d0887\"],[0.1111111111111111,\"#46039f\"],[0.2222222222222222,\"#7201a8\"],[0.3333333333333333,\"#9c179e\"],[0.4444444444444444,\"#bd3786\"],[0.5555555555555556,\"#d8576b\"],[0.6666666666666666,\"#ed7953\"],[0.7777777777777778,\"#fb9f3a\"],[0.8888888888888888,\"#fdca26\"],[1.0,\"#f0f921\"]],\"type\":\"heatmapgl\"}],\"histogram\":[{\"marker\":{\"pattern\":{\"fillmode\":\"overlay\",\"size\":10,\"solidity\":0.2}},\"type\":\"histogram\"}],\"histogram2d\":[{\"colorbar\":{\"outlinewidth\":0,\"ticks\":\"\"},\"colorscale\":[[0.0,\"#0d0887\"],[0.1111111111111111,\"#46039f\"],[0.2222222222222222,\"#7201a8\"],[0.3333333333333333,\"#9c179e\"],[0.4444444444444444,\"#bd3786\"],[0.5555555555555556,\"#d8576b\"],[0.6666666666666666,\"#ed7953\"],[0.7777777777777778,\"#fb9f3a\"],[0.8888888888888888,\"#fdca26\"],[1.0,\"#f0f921\"]],\"type\":\"histogram2d\"}],\"histogram2dcontour\":[{\"colorbar\":{\"outlinewidth\":0,\"ticks\":\"\"},\"colorscale\":[[0.0,\"#0d0887\"],[0.1111111111111111,\"#46039f\"],[0.2222222222222222,\"#7201a8\"],[0.3333333333333333,\"#9c179e\"],[0.4444444444444444,\"#bd3786\"],[0.5555555555555556,\"#d8576b\"],[0.6666666666666666,\"#ed7953\"],[0.7777777777777778,\"#fb9f3a\"],[0.8888888888888888,\"#fdca26\"],[1.0,\"#f0f921\"]],\"type\":\"histogram2dcontour\"}],\"mesh3d\":[{\"colorbar\":{\"outlinewidth\":0,\"ticks\":\"\"},\"type\":\"mesh3d\"}],\"parcoords\":[{\"line\":{\"colorbar\":{\"outlinewidth\":0,\"ticks\":\"\"}},\"type\":\"parcoords\"}],\"pie\":[{\"automargin\":true,\"type\":\"pie\"}],\"scatter\":[{\"marker\":{\"colorbar\":{\"outlinewidth\":0,\"ticks\":\"\"}},\"type\":\"scatter\"}],\"scatter3d\":[{\"line\":{\"colorbar\":{\"outlinewidth\":0,\"ticks\":\"\"}},\"marker\":{\"colorbar\":{\"outlinewidth\":0,\"ticks\":\"\"}},\"type\":\"scatter3d\"}],\"scattercarpet\":[{\"marker\":{\"colorbar\":{\"outlinewidth\":0,\"ticks\":\"\"}},\"type\":\"scattercarpet\"}],\"scattergeo\":[{\"marker\":{\"colorbar\":{\"outlinewidth\":0,\"ticks\":\"\"}},\"type\":\"scattergeo\"}],\"scattergl\":[{\"marker\":{\"colorbar\":{\"outlinewidth\":0,\"ticks\":\"\"}},\"type\":\"scattergl\"}],\"scattermapbox\":[{\"marker\":{\"colorbar\":{\"outlinewidth\":0,\"ticks\":\"\"}},\"type\":\"scattermapbox\"}],\"scatterpolar\":[{\"marker\":{\"colorbar\":{\"outlinewidth\":0,\"ticks\":\"\"}},\"type\":\"scatterpolar\"}],\"scatterpolargl\":[{\"marker\":{\"colorbar\":{\"outlinewidth\":0,\"ticks\":\"\"}},\"type\":\"scatterpolargl\"}],\"scatterternary\":[{\"marker\":{\"colorbar\":{\"outlinewidth\":0,\"ticks\":\"\"}},\"type\":\"scatterternary\"}],\"surface\":[{\"colorbar\":{\"outlinewidth\":0,\"ticks\":\"\"},\"colorscale\":[[0.0,\"#0d0887\"],[0.1111111111111111,\"#46039f\"],[0.2222222222222222,\"#7201a8\"],[0.3333333333333333,\"#9c179e\"],[0.4444444444444444,\"#bd3786\"],[0.5555555555555556,\"#d8576b\"],[0.6666666666666666,\"#ed7953\"],[0.7777777777777778,\"#fb9f3a\"],[0.8888888888888888,\"#fdca26\"],[1.0,\"#f0f921\"]],\"type\":\"surface\"}],\"table\":[{\"cells\":{\"fill\":{\"color\":\"#EBF0F8\"},\"line\":{\"color\":\"white\"}},\"header\":{\"fill\":{\"color\":\"#C8D4E3\"},\"line\":{\"color\":\"white\"}},\"type\":\"table\"}]},\"layout\":{\"annotationdefaults\":{\"arrowcolor\":\"#2a3f5f\",\"arrowhead\":0,\"arrowwidth\":1},\"autotypenumbers\":\"strict\",\"coloraxis\":{\"colorbar\":{\"outlinewidth\":0,\"ticks\":\"\"}},\"colorscale\":{\"diverging\":[[0,\"#8e0152\"],[0.1,\"#c51b7d\"],[0.2,\"#de77ae\"],[0.3,\"#f1b6da\"],[0.4,\"#fde0ef\"],[0.5,\"#f7f7f7\"],[0.6,\"#e6f5d0\"],[0.7,\"#b8e186\"],[0.8,\"#7fbc41\"],[0.9,\"#4d9221\"],[1,\"#276419\"]],\"sequential\":[[0.0,\"#0d0887\"],[0.1111111111111111,\"#46039f\"],[0.2222222222222222,\"#7201a8\"],[0.3333333333333333,\"#9c179e\"],[0.4444444444444444,\"#bd3786\"],[0.5555555555555556,\"#d8576b\"],[0.6666666666666666,\"#ed7953\"],[0.7777777777777778,\"#fb9f3a\"],[0.8888888888888888,\"#fdca26\"],[1.0,\"#f0f921\"]],\"sequentialminus\":[[0.0,\"#0d0887\"],[0.1111111111111111,\"#46039f\"],[0.2222222222222222,\"#7201a8\"],[0.3333333333333333,\"#9c179e\"],[0.4444444444444444,\"#bd3786\"],[0.5555555555555556,\"#d8576b\"],[0.6666666666666666,\"#ed7953\"],[0.7777777777777778,\"#fb9f3a\"],[0.8888888888888888,\"#fdca26\"],[1.0,\"#f0f921\"]]},\"colorway\":[\"#636efa\",\"#EF553B\",\"#00cc96\",\"#ab63fa\",\"#FFA15A\",\"#19d3f3\",\"#FF6692\",\"#B6E880\",\"#FF97FF\",\"#FECB52\"],\"font\":{\"color\":\"#2a3f5f\"},\"geo\":{\"bgcolor\":\"white\",\"lakecolor\":\"white\",\"landcolor\":\"#E5ECF6\",\"showlakes\":true,\"showland\":true,\"subunitcolor\":\"white\"},\"hoverlabel\":{\"align\":\"left\"},\"hovermode\":\"closest\",\"mapbox\":{\"style\":\"light\"},\"paper_bgcolor\":\"white\",\"plot_bgcolor\":\"#E5ECF6\",\"polar\":{\"angularaxis\":{\"gridcolor\":\"white\",\"linecolor\":\"white\",\"ticks\":\"\"},\"bgcolor\":\"#E5ECF6\",\"radialaxis\":{\"gridcolor\":\"white\",\"linecolor\":\"white\",\"ticks\":\"\"}},\"scene\":{\"xaxis\":{\"backgroundcolor\":\"#E5ECF6\",\"gridcolor\":\"white\",\"gridwidth\":2,\"linecolor\":\"white\",\"showbackground\":true,\"ticks\":\"\",\"zerolinecolor\":\"white\"},\"yaxis\":{\"backgroundcolor\":\"#E5ECF6\",\"gridcolor\":\"white\",\"gridwidth\":2,\"linecolor\":\"white\",\"showbackground\":true,\"ticks\":\"\",\"zerolinecolor\":\"white\"},\"zaxis\":{\"backgroundcolor\":\"#E5ECF6\",\"gridcolor\":\"white\",\"gridwidth\":2,\"linecolor\":\"white\",\"showbackground\":true,\"ticks\":\"\",\"zerolinecolor\":\"white\"}},\"shapedefaults\":{\"line\":{\"color\":\"#2a3f5f\"}},\"ternary\":{\"aaxis\":{\"gridcolor\":\"white\",\"linecolor\":\"white\",\"ticks\":\"\"},\"baxis\":{\"gridcolor\":\"white\",\"linecolor\":\"white\",\"ticks\":\"\"},\"bgcolor\":\"#E5ECF6\",\"caxis\":{\"gridcolor\":\"white\",\"linecolor\":\"white\",\"ticks\":\"\"}},\"title\":{\"x\":0.05},\"xaxis\":{\"automargin\":true,\"gridcolor\":\"white\",\"linecolor\":\"white\",\"ticks\":\"\",\"title\":{\"standoff\":15},\"zerolinecolor\":\"white\",\"zerolinewidth\":2},\"yaxis\":{\"automargin\":true,\"gridcolor\":\"white\",\"linecolor\":\"white\",\"ticks\":\"\",\"title\":{\"standoff\":15},\"zerolinecolor\":\"white\",\"zerolinewidth\":2}}},\"xaxis\":{\"anchor\":\"y\",\"domain\":[0.0,1.0],\"title\":{\"text\":\"PER CAPITA INCOME IN K\"}},\"yaxis\":{\"anchor\":\"x\",\"domain\":[0.0,1.0],\"title\":{\"text\":\"shannon_index\"}},\"legend\":{\"title\":{},\"tracegroupgap\":0},\"margin\":{\"t\":60},\"width\":640,\"height\":480},                        {\"responsive\": true}                    ).then(function(){\n",
       "                            \n",
       "var gd = document.getElementById('ebceba98-8dde-4787-bc0a-686d36c55dcf');\n",
       "var x = new MutationObserver(function (mutations, observer) {{\n",
       "        var display = window.getComputedStyle(gd).display;\n",
       "        if (!display || display === 'none') {{\n",
       "            console.log([gd, 'removed!']);\n",
       "            Plotly.purge(gd);\n",
       "            observer.disconnect();\n",
       "        }}\n",
       "}});\n",
       "\n",
       "// Listen for the removal of the full notebook cells\n",
       "var notebookContainer = gd.closest('#notebook-container');\n",
       "if (notebookContainer) {{\n",
       "    x.observe(notebookContainer, {childList: true});\n",
       "}}\n",
       "\n",
       "// Listen for the clearing of the current output cell\n",
       "var outputEl = gd.closest('.output');\n",
       "if (outputEl) {{\n",
       "    x.observe(outputEl, {childList: true});\n",
       "}}\n",
       "\n",
       "                        })                };                });            </script>        </div>"
      ]
     },
     "metadata": {},
     "output_type": "display_data"
    }
   ],
   "source": [
    "required_cols = [\"shannon_index\",\"PER CAPITA INCOME IN K\",\"PovertyFlag\"]\n",
    "\n",
    "vis_df = final_df[required_cols]\n",
    "fig = px.scatter(vis_df,x='PER CAPITA INCOME IN K',y='shannon_index',color='PovertyFlag',color_discrete_map = {0:'#636EFA',1: '#FFA15A'})\n",
    "fig.update_layout(width=640,height=480,legend_title_text=None)\n",
    "fig.show()"
   ]
  },
  {
   "cell_type": "code",
   "execution_count": 108,
   "id": "9a1d9741-8c77-4a27-a299-f664130da6f8",
   "metadata": {},
   "outputs": [],
   "source": [
    "from sklearn.linear_model import LinearRegression"
   ]
  },
  {
   "cell_type": "code",
   "execution_count": 109,
   "id": "6830c81c-6053-44b9-96e2-36e2409eab3c",
   "metadata": {},
   "outputs": [
    {
     "data": {
      "text/html": [
       "<style>#sk-container-id-3 {color: black;background-color: white;}#sk-container-id-3 pre{padding: 0;}#sk-container-id-3 div.sk-toggleable {background-color: white;}#sk-container-id-3 label.sk-toggleable__label {cursor: pointer;display: block;width: 100%;margin-bottom: 0;padding: 0.3em;box-sizing: border-box;text-align: center;}#sk-container-id-3 label.sk-toggleable__label-arrow:before {content: \"▸\";float: left;margin-right: 0.25em;color: #696969;}#sk-container-id-3 label.sk-toggleable__label-arrow:hover:before {color: black;}#sk-container-id-3 div.sk-estimator:hover label.sk-toggleable__label-arrow:before {color: black;}#sk-container-id-3 div.sk-toggleable__content {max-height: 0;max-width: 0;overflow: hidden;text-align: left;background-color: #f0f8ff;}#sk-container-id-3 div.sk-toggleable__content pre {margin: 0.2em;color: black;border-radius: 0.25em;background-color: #f0f8ff;}#sk-container-id-3 input.sk-toggleable__control:checked~div.sk-toggleable__content {max-height: 200px;max-width: 100%;overflow: auto;}#sk-container-id-3 input.sk-toggleable__control:checked~label.sk-toggleable__label-arrow:before {content: \"▾\";}#sk-container-id-3 div.sk-estimator input.sk-toggleable__control:checked~label.sk-toggleable__label {background-color: #d4ebff;}#sk-container-id-3 div.sk-label input.sk-toggleable__control:checked~label.sk-toggleable__label {background-color: #d4ebff;}#sk-container-id-3 input.sk-hidden--visually {border: 0;clip: rect(1px 1px 1px 1px);clip: rect(1px, 1px, 1px, 1px);height: 1px;margin: -1px;overflow: hidden;padding: 0;position: absolute;width: 1px;}#sk-container-id-3 div.sk-estimator {font-family: monospace;background-color: #f0f8ff;border: 1px dotted black;border-radius: 0.25em;box-sizing: border-box;margin-bottom: 0.5em;}#sk-container-id-3 div.sk-estimator:hover {background-color: #d4ebff;}#sk-container-id-3 div.sk-parallel-item::after {content: \"\";width: 100%;border-bottom: 1px solid gray;flex-grow: 1;}#sk-container-id-3 div.sk-label:hover label.sk-toggleable__label {background-color: #d4ebff;}#sk-container-id-3 div.sk-serial::before {content: \"\";position: absolute;border-left: 1px solid gray;box-sizing: border-box;top: 0;bottom: 0;left: 50%;z-index: 0;}#sk-container-id-3 div.sk-serial {display: flex;flex-direction: column;align-items: center;background-color: white;padding-right: 0.2em;padding-left: 0.2em;position: relative;}#sk-container-id-3 div.sk-item {position: relative;z-index: 1;}#sk-container-id-3 div.sk-parallel {display: flex;align-items: stretch;justify-content: center;background-color: white;position: relative;}#sk-container-id-3 div.sk-item::before, #sk-container-id-3 div.sk-parallel-item::before {content: \"\";position: absolute;border-left: 1px solid gray;box-sizing: border-box;top: 0;bottom: 0;left: 50%;z-index: -1;}#sk-container-id-3 div.sk-parallel-item {display: flex;flex-direction: column;z-index: 1;position: relative;background-color: white;}#sk-container-id-3 div.sk-parallel-item:first-child::after {align-self: flex-end;width: 50%;}#sk-container-id-3 div.sk-parallel-item:last-child::after {align-self: flex-start;width: 50%;}#sk-container-id-3 div.sk-parallel-item:only-child::after {width: 0;}#sk-container-id-3 div.sk-dashed-wrapped {border: 1px dashed gray;margin: 0 0.4em 0.5em 0.4em;box-sizing: border-box;padding-bottom: 0.4em;background-color: white;}#sk-container-id-3 div.sk-label label {font-family: monospace;font-weight: bold;display: inline-block;line-height: 1.2em;}#sk-container-id-3 div.sk-label-container {text-align: center;}#sk-container-id-3 div.sk-container {/* jupyter's `normalize.less` sets `[hidden] { display: none; }` but bootstrap.min.css set `[hidden] { display: none !important; }` so we also need the `!important` here to be able to override the default hidden behavior on the sphinx rendered scikit-learn.org. See: https://github.com/scikit-learn/scikit-learn/issues/21755 */display: inline-block !important;position: relative;}#sk-container-id-3 div.sk-text-repr-fallback {display: none;}</style><div id=\"sk-container-id-3\" class=\"sk-top-container\"><div class=\"sk-text-repr-fallback\"><pre>LinearRegression()</pre><b>In a Jupyter environment, please rerun this cell to show the HTML representation or trust the notebook. <br />On GitHub, the HTML representation is unable to render, please try loading this page with nbviewer.org.</b></div><div class=\"sk-container\" hidden><div class=\"sk-item\"><div class=\"sk-estimator sk-toggleable\"><input class=\"sk-toggleable__control sk-hidden--visually\" id=\"sk-estimator-id-3\" type=\"checkbox\" checked><label for=\"sk-estimator-id-3\" class=\"sk-toggleable__label sk-toggleable__label-arrow\">LinearRegression</label><div class=\"sk-toggleable__content\"><pre>LinearRegression()</pre></div></div></div></div></div>"
      ],
      "text/plain": [
       "LinearRegression()"
      ]
     },
     "execution_count": 109,
     "metadata": {},
     "output_type": "execute_result"
    }
   ],
   "source": [
    "model = LinearRegression()\n",
    "model.fit(final_df[['PER CAPITA INCOME']], final_df['shannon_index'])"
   ]
  },
  {
   "cell_type": "code",
   "execution_count": 110,
   "id": "dcf9720c-66c0-4d1b-a067-32b88b9fa95c",
   "metadata": {},
   "outputs": [
    {
     "name": "stdout",
     "output_type": "stream",
     "text": [
      "Prediction for X_new: [6.27547626]\n"
     ]
    }
   ],
   "source": [
    "# Predict\n",
    "per_capita_income = np.array([[50000]])\n",
    "prediction = model.predict(per_capita_income)\n",
    "print(\"Prediction for X_new:\", prediction)"
   ]
  }
 ],
 "metadata": {
  "kernelspec": {
   "display_name": "Python 3 (ipykernel)",
   "language": "python",
   "name": "python3"
  },
  "language_info": {
   "codemirror_mode": {
    "name": "ipython",
    "version": 3
   },
   "file_extension": ".py",
   "mimetype": "text/x-python",
   "name": "python",
   "nbconvert_exporter": "python",
   "pygments_lexer": "ipython3",
   "version": "3.11.2"
  }
 },
 "nbformat": 4,
 "nbformat_minor": 5
}
