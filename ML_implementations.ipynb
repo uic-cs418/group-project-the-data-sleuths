{
 "cells": [
  {
   "cell_type": "code",
   "execution_count": 36,
   "metadata": {},
   "outputs": [],
   "source": [
    "import pandas as pd\n",
    "from sklearn.model_selection import train_test_split\n",
    "from sklearn.metrics import mean_squared_error\n",
    "import numpy as np\n",
    "import eda, ml, data_cleaning,constants,pandas as pd, numpy as np, geopandas as gpd, warnings, textwrap; warnings.filterwarnings(\"ignore\")"
   ]
  },
  {
   "cell_type": "code",
   "execution_count": 32,
   "metadata": {},
   "outputs": [
    {
     "name": "stdout",
     "output_type": "stream",
     "text": [
      "Mean Squared Error (Baseline - Mean Prediction): 6.226041012195832\n"
     ]
    }
   ],
   "source": [
    "# Calculate the mean value of the target variable\n",
    "mean_target = np.mean(y_train)\n",
    "\n",
    "# Create a baseline predictions array with the mean value repeated for the length of the test set\n",
    "y_baseline = np.full_like(y_test, fill_value=mean_target)\n",
    "\n",
    "# Calculate the mean squared error for the baseline model\n",
    "mse_baseline = mean_squared_error(y_test, y_baseline)\n",
    "print(\"Mean Squared Error (Baseline - Mean Prediction):\", mse_baseline)"
   ]
  },
  {
   "cell_type": "code",
   "execution_count": 33,
   "metadata": {},
   "outputs": [
    {
     "name": "stdout",
     "output_type": "stream",
     "text": [
      "Mean Squared Error (Decision Trees): 13.741316951922567\n"
     ]
    }
   ],
   "source": [
    "from sklearn.tree import DecisionTreeRegressor\n",
    "\n",
    "# Initializing and training the Decision Tree Regressor model\n",
    "tree_model = DecisionTreeRegressor(random_state=42)\n",
    "tree_model.fit(X_train, y_train)\n",
    "\n",
    "# Predicting on the test set\n",
    "y_pred = tree_model.predict(X_test)\n",
    "\n",
    "# Evaluating the model\n",
    "mse = mean_squared_error(y_test, y_pred)\n",
    "print(\"Mean Squared Error (Decision Trees):\", mse)"
   ]
  },
  {
   "cell_type": "markdown",
   "metadata": {},
   "source": [
    "# Decision Tree Regressor vs Baseline\n",
    "\n",
    "1. Decision Tree Regressor's MSE of 13.741 indicates substantial prediction errors.\n",
    "2. Baseline MSE of 6.226 shows the model's performance is worse than a simple mean predictor.\n",
    "3. Possible overfitting is suggested by the high MSE of the baseline model, might need for model refinement."
   ]
  },
  {
   "cell_type": "code",
   "execution_count": 35,
   "metadata": {},
   "outputs": [
    {
     "name": "stdout",
     "output_type": "stream",
     "text": [
      "Mean Squared Error (Random Forest): 4.296747682439488\n"
     ]
    }
   ],
   "source": [
    "from sklearn.ensemble import RandomForestRegressor\n",
    "from sklearn.metrics import classification_report\n",
    "\n",
    "# Initializing and training the Random Forest classifier\n",
    "rf_classifier = RandomForestRegressor(n_estimators=100, random_state=42)\n",
    "rf_classifier.fit(X_train, y_train)\n",
    "\n",
    "# Making predictions on the testing data\n",
    "y_pred = rf_classifier.predict(X_test)\n",
    "\n",
    "# Evaluating the model\n",
    "mse_random = mean_squared_error(y_test, y_pred)\n",
    "print(\"Mean Squared Error (Random Forest):\", mse_random)"
   ]
  },
  {
   "cell_type": "code",
   "execution_count": 37,
   "metadata": {},
   "outputs": [],
   "source": [
    "ebird_gdf=pd.read_csv('data/final_dataset.tsv', sep='\\t')\n",
    "ebird_gdf = ebird_gdf[(ebird_gdf[\"OBSERVATION YEAR\"] >= 2014) & (ebird_gdf[\"OBSERVATION YEAR\"] <= 2023)]"
   ]
  },
  {
   "cell_type": "markdown",
   "metadata": {},
   "source": [
    "### 3.1 Aggregate data by month and community"
   ]
  },
  {
   "cell_type": "code",
   "execution_count": 38,
   "metadata": {},
   "outputs": [],
   "source": [
    "final_df = eda.aggregate_data(ebird_gdf,[\"OBSERVATION MONTH\", \"OBSERVATION YEAR\", \"community\",\"COMMON NAME\"])\n",
    "final_df[\"COUNT\"] =  final_df[\"COUNT\"].apply(lambda x: sum(x))\n",
    "final_df = eda.aggregate_data(final_df,[\"OBSERVATION MONTH\", \"OBSERVATION YEAR\", \"community\"])\n",
    "final_df[\"shannon_index\"] = final_df[\"COUNT\"].apply(eda.shannon_index)"
   ]
  },
  {
   "cell_type": "code",
   "execution_count": 39,
   "metadata": {},
   "outputs": [],
   "source": [
    "community_counts = final_df['community'].value_counts()\n",
    "communities_to_remove = community_counts[community_counts == 1].index.tolist()\n",
    "final_df = final_df[~final_df['community'].isin(communities_to_remove)]"
   ]
  },
  {
   "cell_type": "markdown",
   "metadata": {},
   "source": [
    "### 3.2 Set features and output for ML analysis"
   ]
  },
  {
   "cell_type": "code",
   "execution_count": 40,
   "metadata": {},
   "outputs": [],
   "source": [
    "features = ['OBSERVATION MONTH', 'OBSERVATION YEAR', 'community']\n",
    "target = 'shannon_index'\n",
    "X = final_df[features]\n",
    "y = final_df[target]\n",
    "X_train, X_test, y_train, y_test = train_test_split(X, y, test_size=0.2, random_state=42)\n",
    "ml_results = pd.DataFrame(columns=[\"Algorithm\",\"MSE\",\"RMSE\",\"MAE\",\"R^2\"])"
   ]
  },
  {
   "cell_type": "markdown",
   "metadata": {},
   "source": [
    "### 3.3 Run ML models and Store the Metrics"
   ]
  },
  {
   "cell_type": "code",
   "execution_count": 41,
   "metadata": {},
   "outputs": [],
   "source": [
    "def run_model(str):\n",
    "    model = ml.MLFactory.get_instance(str)\n",
    "    model.fit(X_train,y_train)\n",
    "    y_pred = model.predict(X_test)\n",
    "    mse,rmse,mae,r2 = model.calulate_metrics(y_test,y_pred)\n",
    "    ml_results.loc[len(ml_results.index)] = [str, mse,rmse,mae,r2]"
   ]
  },
  {
   "cell_type": "code",
   "execution_count": 42,
   "metadata": {},
   "outputs": [],
   "source": [
    "# Baseline with Mean as the prediction value\n",
    "run_model(\"Baseline\")"
   ]
  },
  {
   "cell_type": "code",
   "execution_count": 43,
   "metadata": {},
   "outputs": [],
   "source": [
    "# Decision Tree Regressor\n",
    "run_model(\"DecisionTree\")"
   ]
  },
  {
   "cell_type": "code",
   "execution_count": 44,
   "metadata": {},
   "outputs": [],
   "source": [
    "# Random forest regressor\n",
    "run_model(\"RandomForest\")"
   ]
  },
  {
   "cell_type": "code",
   "execution_count": 45,
   "metadata": {},
   "outputs": [],
   "source": [
    "# Support Vector regressor Linear Kernel\n",
    "run_model(\"SVR\")"
   ]
  },
  {
   "cell_type": "code",
   "execution_count": 46,
   "metadata": {},
   "outputs": [],
   "source": [
    "# Gradient Boosting Regressor\n",
    "run_model(\"GradientBoosting\")"
   ]
  },
  {
   "cell_type": "code",
   "execution_count": 47,
   "metadata": {},
   "outputs": [],
   "source": [
    "# MLPRegressor(Neural Network) with hidden_layer_sizes=(100, 50) and activation function activation='relu'\n",
    "run_model('NeuralNetwork')"
   ]
  },
  {
   "cell_type": "code",
   "execution_count": 48,
   "metadata": {},
   "outputs": [
    {
     "data": {
      "text/html": [
       "<div>\n",
       "<style scoped>\n",
       "    .dataframe tbody tr th:only-of-type {\n",
       "        vertical-align: middle;\n",
       "    }\n",
       "\n",
       "    .dataframe tbody tr th {\n",
       "        vertical-align: top;\n",
       "    }\n",
       "\n",
       "    .dataframe thead th {\n",
       "        text-align: right;\n",
       "    }\n",
       "</style>\n",
       "<table border=\"1\" class=\"dataframe\">\n",
       "  <thead>\n",
       "    <tr style=\"text-align: right;\">\n",
       "      <th></th>\n",
       "      <th>Algorithm</th>\n",
       "      <th>MSE</th>\n",
       "      <th>RMSE</th>\n",
       "      <th>MAE</th>\n",
       "      <th>R^2</th>\n",
       "    </tr>\n",
       "  </thead>\n",
       "  <tbody>\n",
       "    <tr>\n",
       "      <th>0</th>\n",
       "      <td>Baseline</td>\n",
       "      <td>0.717444</td>\n",
       "      <td>0.847020</td>\n",
       "      <td>0.680178</td>\n",
       "      <td>-0.001866</td>\n",
       "    </tr>\n",
       "    <tr>\n",
       "      <th>1</th>\n",
       "      <td>DecisionTree</td>\n",
       "      <td>0.533931</td>\n",
       "      <td>0.730706</td>\n",
       "      <td>0.498759</td>\n",
       "      <td>0.254399</td>\n",
       "    </tr>\n",
       "    <tr>\n",
       "      <th>2</th>\n",
       "      <td>RandomForest</td>\n",
       "      <td>0.343841</td>\n",
       "      <td>0.586380</td>\n",
       "      <td>0.408073</td>\n",
       "      <td>0.519847</td>\n",
       "    </tr>\n",
       "    <tr>\n",
       "      <th>3</th>\n",
       "      <td>SVR</td>\n",
       "      <td>0.720204</td>\n",
       "      <td>0.848648</td>\n",
       "      <td>0.673786</td>\n",
       "      <td>-0.005720</td>\n",
       "    </tr>\n",
       "    <tr>\n",
       "      <th>4</th>\n",
       "      <td>GradientBoosting</td>\n",
       "      <td>0.398172</td>\n",
       "      <td>0.631009</td>\n",
       "      <td>0.479947</td>\n",
       "      <td>0.443977</td>\n",
       "    </tr>\n",
       "    <tr>\n",
       "      <th>5</th>\n",
       "      <td>NeuralNetwork</td>\n",
       "      <td>0.438946</td>\n",
       "      <td>0.662530</td>\n",
       "      <td>0.533919</td>\n",
       "      <td>0.387039</td>\n",
       "    </tr>\n",
       "  </tbody>\n",
       "</table>\n",
       "</div>"
      ],
      "text/plain": [
       "          Algorithm       MSE      RMSE       MAE       R^2\n",
       "0          Baseline  0.717444  0.847020  0.680178 -0.001866\n",
       "1      DecisionTree  0.533931  0.730706  0.498759  0.254399\n",
       "2      RandomForest  0.343841  0.586380  0.408073  0.519847\n",
       "3               SVR  0.720204  0.848648  0.673786 -0.005720\n",
       "4  GradientBoosting  0.398172  0.631009  0.479947  0.443977\n",
       "5     NeuralNetwork  0.438946  0.662530  0.533919  0.387039"
      ]
     },
     "execution_count": 48,
     "metadata": {},
     "output_type": "execute_result"
    }
   ],
   "source": [
    "ml_results"
   ]
  },
  {
   "cell_type": "markdown",
   "metadata": {},
   "source": [
    "# Random forest regressor vs baseline\n",
    "\n",
    "1. Random Forest leverages ensemble learning, combining multiple decision trees for improved accuracy.\n",
    "2. It captures non-linear relationships in data, unlike the Baseline, which predicts a constant mean.\n",
    "3. Random Forest automatically assesses feature importance, focusing on relevant predictors, reducing prediction errors."
   ]
  },
  {
   "cell_type": "code",
   "execution_count": 27,
   "metadata": {},
   "outputs": [],
   "source": [
    "# features = ['PERCENT OF HOUSING CROWDED', \n",
    "#             'PERCENT HOUSEHOLDS BELOW POVERTY', \n",
    "#             'PERCENT AGED 16+ UNEMPLOYED', \n",
    "#             'PERCENT AGED 25+ WITHOUT HIGH SCHOOL DIPLOMA', \n",
    "#             'PERCENT AGED UNDER 18 OR OVER 64',\n",
    "#             'HARDSHIP INDEX',\n",
    "#             'PER CAPITA INCOME']\n",
    "#Mean Squared Error (Decision Trees): 14.384432122771436\n",
    "#Mean Squared Error (KNN): 4.139463044176787\n",
    "#Mean Squared Error (Linear Regression): 5.303329023877021\n",
    "#Mean Squared Error (Random Forest): 4.368482085574034"
   ]
  },
  {
   "cell_type": "code",
   "execution_count": 28,
   "metadata": {},
   "outputs": [],
   "source": [
    "# features = ['PERCENT OF HOUSING CROWDED', \n",
    "#             'PERCENT HOUSEHOLDS BELOW POVERTY', \n",
    "#             'PERCENT AGED 25+ WITHOUT HIGH SCHOOL DIPLOMA', \n",
    "#             'PERCENT AGED UNDER 18 OR OVER 64',\n",
    "#             'HARDSHIP INDEX',\n",
    "#             'PER CAPITA INCOME']\n",
    "#Mean Squared Error (Decision Trees): 12.213353087465187\n",
    "#Mean Squared Error (KNN): 4.117839844458724\n",
    "#Mean Squared Error (Linear Regression): 4.763298189159179\n",
    "#Mean Squared Error (Random Forest): 4.2496426590700525"
   ]
  },
  {
   "cell_type": "code",
   "execution_count": 29,
   "metadata": {},
   "outputs": [],
   "source": [
    "# features = ['PERCENT OF HOUSING CROWDED', \n",
    "#             'PERCENT HOUSEHOLDS BELOW POVERTY', \n",
    "#             'PERCENT AGED 25+ WITHOUT HIGH SCHOOL DIPLOMA', \n",
    "#             'HARDSHIP INDEX',\n",
    "#             'PER CAPITA INCOME']\n",
    "#Mean Squared Error (Decision Trees): 7.32619548931322\n",
    "#Mean Squared Error (KNN): 4.9332521262880284\n",
    "#Mean Squared Error (Linear Regression): 4.4638652250276145\n",
    "#Mean Squared Error (Random Forest): 4.830146615875486"
   ]
  },
  {
   "cell_type": "code",
   "execution_count": 30,
   "metadata": {},
   "outputs": [],
   "source": [
    "# features = ['PERCENT OF HOUSING CROWDED', \n",
    "#             'PERCENT HOUSEHOLDS BELOW POVERTY', \n",
    "#             'PERCENT AGED 25+ WITHOUT HIGH SCHOOL DIPLOMA', \n",
    "#             'HARDSHIP INDEX',\n",
    "#             'PER CAPITA INCOME']\n",
    "#Mean Squared Error (Decision Trees): 13.741316951922567\n",
    "#Mean Squared Error (KNN): 4.415633525599799\n",
    "#Mean Squared Error (Linear Regression): 4.346668043530402\n",
    "#Mean Squared Error (Random Forest): 4.290840329025155"
   ]
  }
 ],
 "metadata": {
  "kernelspec": {
   "display_name": "Python 3 (ipykernel)",
   "language": "python",
   "name": "python3"
  },
  "language_info": {
   "codemirror_mode": {
    "name": "ipython",
    "version": 3
   },
   "file_extension": ".py",
   "mimetype": "text/x-python",
   "name": "python",
   "nbconvert_exporter": "python",
   "pygments_lexer": "ipython3",
   "version": "3.11.7"
  }
 },
 "nbformat": 4,
 "nbformat_minor": 4
}
