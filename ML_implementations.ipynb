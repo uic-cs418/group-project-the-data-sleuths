{
 "cells": [
  {
   "cell_type": "code",
   "execution_count": 1,
   "metadata": {},
   "outputs": [],
   "source": [
    "import pandas as pd"
   ]
  },
  {
   "cell_type": "code",
   "execution_count": 2,
   "metadata": {},
   "outputs": [],
   "source": [
    "final_df = pd.read_json('data/final_data.json')"
   ]
  },
  {
   "cell_type": "code",
   "execution_count": 3,
   "metadata": {},
   "outputs": [
    {
     "name": "stdout",
     "output_type": "stream",
     "text": [
      "    Community Area Number COMMUNITY AREA NAME  PERCENT OF HOUSING CROWDED  \\\n",
      "0                       1         ROGERS PARK                         7.7   \n",
      "1                       2          WEST RIDGE                         7.8   \n",
      "2                       3              UPTOWN                         3.8   \n",
      "3                       4      LINCOLN SQUARE                         3.4   \n",
      "4                       5        NORTH CENTER                         0.3   \n",
      "5                       6           LAKE VIEW                         1.1   \n",
      "6                       7        LINCOLN PARK                         0.8   \n",
      "7                       8     NEAR NORTH SIDE                         1.9   \n",
      "8                      10        NORWOOD PARK                         2.0   \n",
      "9                      11      JEFFERSON PARK                         2.7   \n",
      "10                     12         FOREST GLEN                         1.1   \n",
      "11                     13          NORTH PARK                         3.9   \n",
      "12                     14         ALBANY PARK                        11.3   \n",
      "13                     15        PORTAGE PARK                         4.1   \n",
      "14                     16         IRVING PARK                         6.3   \n",
      "\n",
      "    PERCENT HOUSEHOLDS BELOW POVERTY  PERCENT AGED 16+ UNEMPLOYED  \\\n",
      "0                               23.6                          8.7   \n",
      "1                               17.2                          8.8   \n",
      "2                               24.0                          8.9   \n",
      "3                               10.9                          8.2   \n",
      "4                                7.5                          5.2   \n",
      "5                               11.4                          4.7   \n",
      "6                               12.3                          5.1   \n",
      "7                               12.9                          7.0   \n",
      "8                                5.4                          9.0   \n",
      "9                                8.6                         12.4   \n",
      "10                               7.5                          6.8   \n",
      "11                              13.2                          9.9   \n",
      "12                              19.2                         10.0   \n",
      "13                              11.6                         12.6   \n",
      "14                              13.1                         10.0   \n",
      "\n",
      "    PERCENT AGED 25+ WITHOUT HIGH SCHOOL DIPLOMA  \\\n",
      "0                                           18.2   \n",
      "1                                           20.8   \n",
      "2                                           11.8   \n",
      "3                                           13.4   \n",
      "4                                            4.5   \n",
      "5                                            2.6   \n",
      "6                                            3.6   \n",
      "7                                            2.5   \n",
      "8                                           11.5   \n",
      "9                                           13.4   \n",
      "10                                           4.9   \n",
      "11                                          14.4   \n",
      "12                                          32.9   \n",
      "13                                          19.3   \n",
      "14                                          22.4   \n",
      "\n",
      "    PERCENT AGED UNDER 18 OR OVER 64  PER CAPITA INCOME  HARDSHIP INDEX  \\\n",
      "0                               27.5              23939              39   \n",
      "1                               38.5              23040              46   \n",
      "2                               22.2              35787              20   \n",
      "3                               25.5              37524              17   \n",
      "4                               26.2              57123               6   \n",
      "5                               17.0              60058               5   \n",
      "6                               21.5              71551               2   \n",
      "7                               22.6              88669               1   \n",
      "8                               39.5              32875              21   \n",
      "9                               35.5              27751              25   \n",
      "10                              40.5              44164              11   \n",
      "11                              39.0              26576              33   \n",
      "12                              32.0              21323              53   \n",
      "13                              34.0              24336              35   \n",
      "14                              31.6              27249              34   \n",
      "\n",
      "          community                                    SCIENTIFIC NAME  \\\n",
      "0       ROGERS PARK  [Spinus tristis, Turdus migratorius, Turdus mi...   \n",
      "1        WEST RIDGE  [Sturnus vulgaris, Aquila chrysaetos, Passer d...   \n",
      "2            UPTOWN  [Corvus brachyrhynchos, Corvus brachyrhynchos,...   \n",
      "3    LINCOLN SQUARE  [Spinus tristis, Acanthis flammea, Junco hyema...   \n",
      "4      NORTH CENTER  [Corvus brachyrhynchos, Spinus tristis, Setoph...   \n",
      "5         LAKE VIEW  [Corvus brachyrhynchos, Corvus brachyrhynchos,...   \n",
      "6      LINCOLN PARK  [Corvus brachyrhynchos, Corvus brachyrhynchos,...   \n",
      "7   NEAR NORTH SIDE  [Corvus brachyrhynchos, Toxostoma rufum, Brant...   \n",
      "8      NORWOOD PARK  [Loxia leucoptera, Spinus tristis, Sturnus vul...   \n",
      "9    JEFFERSON PARK  [Spinus tristis, Poecile atricapillus, Dryobat...   \n",
      "10      FOREST GLEN  [Corvus brachyrhynchos, Spinus tristis, Spinus...   \n",
      "11       NORTH PARK  [Botaurus lentiginosus, Corvus brachyrhynchos,...   \n",
      "12      ALBANY PARK  [Spinus tristis, Megaceryle alcyon, Cyanocitta...   \n",
      "13     PORTAGE PARK  [Sturnus vulgaris, Passer domesticus, Columba ...   \n",
      "14      IRVING PARK  [Falco sparverius, Turdus migratorius, Chaetur...   \n",
      "\n",
      "    NATIVE                                              COUNT       Area  \\\n",
      "0      676  [1, 46, 4, 9, 1, 3, 1, 9, 12, 1, 2, 1, 2, 1, 7...   8.631616   \n",
      "1      255  [7, 1, 5, 4, 100, 2, 2, 2, 1, 1, 1, 25, 25, 25...  16.570330   \n",
      "2    75132  [5, 7, 3, 3, 1, 1, 2, 1, 1, 1, 1, 1, 1, 1, 1, ...  10.946406   \n",
      "3     3751  [1, 4, 1, 1, 1, 1, 1, 1, 1, 1, 1, 1, 1, 1, 1, ...  12.002108   \n",
      "4     1432  [1, 7, 1, 28, 22, 4, 2, 5, 2, 1, 3, 2, 6, 2, 1...   9.588837   \n",
      "5    13334  [1, 2, 1, 1, 1, 1, 1, 1, 7, 100, 8, 1, 1, 42, ...  14.656079   \n",
      "6    31120  [6, 20, 11, 2, 2, 3, 1, 8, 4, 291, 5, 1, 39, 1...  14.831229   \n",
      "7     1654  [1, 1, 1, 1, 1, 1, 1, 1, 2, 1, 1, 1, 1, 1, 4, ...  12.867114   \n",
      "8      153  [15, 3, 2, 1, 20, 3, 1, 1, 1, 1, 1, 1, 1, 1, 1...  20.521535   \n",
      "9       52  [2, 4, 1, 9, 1, 5, 2, 8, 2, 1, 2, 2, 2, 2, 25,...  10.912843   \n",
      "10     704  [1, 2, 2, 2, 1, 1, 1, 1, 1, 2, 1, 1, 2, 1, 1, ...  15.001615   \n",
      "11    4947  [1, 1, 1, 8, 7, 3, 1, 22, 1, 20, 25, 1, 1, 1, ...  11.826408   \n",
      "12    1281  [1, 1, 1, 1, 1, 1, 1, 1, 1, 1, 1, 1, 3, 1, 2, ...   9.004359   \n",
      "13      61  [22, 12, 100, 1, 4, 4, 1, 2, 1, 1, 1, 14, 38, ...  18.524062   \n",
      "14    5406  [2, 3, 5, 2, 2, 2, 6, 5, 1, 1, 4, 13, 1, 1, 7,...  15.063424   \n",
      "\n",
      "    PER CAPITA INCOME IN K  CountPerSqkm PovertyFlag  shannon_index  \n",
      "0                   23.939     78.316735        Poor       5.498251  \n",
      "1                   23.040     15.388951        Poor       4.148305  \n",
      "2                   35.787   6863.622752        Poor       9.626278  \n",
      "3                   37.524    312.528443        Poor       7.116321  \n",
      "4                   57.123    149.340322        Rich       6.540097  \n",
      "5                   60.058    909.793133        Rich       7.465087  \n",
      "6                   71.551   2098.275219        Rich       9.101900  \n",
      "7                   88.669    128.544749        Rich       5.314266  \n",
      "8                   32.875      7.455583        Poor       3.915351  \n",
      "9                   27.751      4.765028        Poor       3.230655  \n",
      "10                  44.164     46.928279        Rich       5.778298  \n",
      "11                  26.576    418.301159        Poor       7.685654  \n",
      "12                  21.323    142.264423        Poor       6.303149  \n",
      "13                  24.336      3.293014        Poor       3.219907  \n",
      "14                  27.249    358.882548        Poor       7.564595  \n"
     ]
    }
   ],
   "source": [
    "# print(final_df.head(15))"
   ]
  },
  {
   "cell_type": "code",
   "execution_count": 24,
   "metadata": {},
   "outputs": [
    {
     "name": "stdout",
     "output_type": "stream",
     "text": [
      "Mean Squared Error (Decision Trees): 22.51976618181818\n"
     ]
    }
   ],
   "source": [
    "from sklearn.model_selection import train_test_split\n",
    "from sklearn.tree import DecisionTreeRegressor\n",
    "from sklearn.metrics import mean_squared_error\n",
    "\n",
    "# Selecting features and target variable\n",
    "features = ['PERCENT OF HOUSING CROWDED', \n",
    "            'PERCENT HOUSEHOLDS BELOW POVERTY', \n",
    "            'PERCENT AGED 16+ UNEMPLOYED', \n",
    "            'PERCENT AGED 25+ WITHOUT HIGH SCHOOL DIPLOMA', \n",
    "            'PERCENT AGED UNDER 18 OR OVER 64',\n",
    "            'HARDSHIP INDEX']\n",
    "\n",
    "target = 'PER CAPITA INCOME IN K'\n",
    "\n",
    "# Splitting the data into training and testing sets\n",
    "X = final_df[features]\n",
    "y = final_df[target]\n",
    "X_train, X_test, y_train, y_test = train_test_split(X, y, test_size=0.2, random_state=42)\n",
    "\n",
    "# Initializing and training the Decision Tree Regressor model\n",
    "tree_model = DecisionTreeRegressor(random_state=42)\n",
    "tree_model.fit(X_train, y_train)\n",
    "\n",
    "# Predicting on the test set\n",
    "y_pred = tree_model.predict(X_test)\n",
    "\n",
    "# Evaluating the model\n",
    "mse = mean_squared_error(y_test, y_pred)\n",
    "print(\"Mean Squared Error (Decision Trees):\", mse)"
   ]
  },
  {
   "cell_type": "code",
   "execution_count": 23,
   "metadata": {},
   "outputs": [
    {
     "name": "stdout",
     "output_type": "stream",
     "text": [
      "Mean Squared Error (KNN): 27.59012854909088\n"
     ]
    }
   ],
   "source": [
    "from sklearn.preprocessing import StandardScaler\n",
    "from sklearn.neighbors import KNeighborsRegressor\n",
    "\n",
    "# Feature scaling\n",
    "scaler = StandardScaler()\n",
    "X_train_scaled = scaler.fit_transform(X_train)\n",
    "X_test_scaled = scaler.transform(X_test)\n",
    "\n",
    "# Initializing and training the KNN regressor model\n",
    "knn_model = KNeighborsRegressor(n_neighbors=5)  # You can adjust the number of neighbors as needed\n",
    "knn_model.fit(X_train_scaled, y_train)\n",
    "\n",
    "# Predicting on the test set\n",
    "y_pred_knn = knn_model.predict(X_test_scaled)\n",
    "\n",
    "# Evaluating the model\n",
    "mse_knn = mean_squared_error(y_test, y_pred_knn)\n",
    "print(\"Mean Squared Error (KNN):\", mse_knn)"
   ]
  }
 ],
 "metadata": {
  "kernelspec": {
   "display_name": "Python 3",
   "language": "python",
   "name": "python3"
  },
  "language_info": {
   "codemirror_mode": {
    "name": "ipython",
    "version": 3
   },
   "file_extension": ".py",
   "mimetype": "text/x-python",
   "name": "python",
   "nbconvert_exporter": "python",
   "pygments_lexer": "ipython3",
   "version": "3.11.2"
  }
 },
 "nbformat": 4,
 "nbformat_minor": 2
}
